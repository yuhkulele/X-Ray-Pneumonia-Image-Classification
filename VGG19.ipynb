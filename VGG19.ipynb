{
 "cells": [
  {
   "cell_type": "code",
   "execution_count": 182,
   "metadata": {},
   "outputs": [],
   "source": [
    "#imports \n",
    "\n",
    "import numpy as np\n",
    "import os, tempfile\n",
    "import matplotlib.pyplot as plt\n",
    "import seaborn as sns\n",
    "\n",
    "import tensorflow as tf\n",
    "from tensorflow.keras import models, layers\n",
    "from tensorflow.keras.preprocessing.image import load_img\n",
    "\n",
    "from tensorflow.keras.models import Sequential\n",
    "\n",
    "from sklearn.dummy import DummyClassifier\n",
    "\n",
    "import time\n",
    "import scipy\n",
    "from scipy import ndimage\n",
    "from tensorflow.keras.preprocessing.image import ImageDataGenerator, array_to_img, img_to_array, load_img\n",
    "from PIL import Image\n",
    "from tensorflow.keras.preprocessing import image_dataset_from_directory\n",
    "\n",
    "import joblib"
   ]
  },
  {
   "cell_type": "markdown",
   "metadata": {},
   "source": [
    "## Image Load In"
   ]
  },
  {
   "cell_type": "code",
   "execution_count": 183,
   "metadata": {},
   "outputs": [
    {
     "name": "stdout",
     "output_type": "stream",
     "text": [
      "Data\n",
      "Peter.ipynb\n",
      "PeterNotebook.ipynb\n",
      "README.md\n",
      "Yuhkai_notebook_scratch.ipynb\n"
     ]
    }
   ],
   "source": [
    "!ls"
   ]
  },
  {
   "cell_type": "code",
   "execution_count": 184,
   "metadata": {},
   "outputs": [],
   "source": [
    "!cd .."
   ]
  },
  {
   "cell_type": "code",
   "execution_count": 185,
   "metadata": {},
   "outputs": [
    {
     "name": "stdout",
     "output_type": "stream",
     "text": [
      "Data\n",
      "Peter.ipynb\n",
      "PeterNotebook.ipynb\n",
      "README.md\n",
      "Yuhkai_notebook_scratch.ipynb\n"
     ]
    }
   ],
   "source": [
    "!ls"
   ]
  },
  {
   "cell_type": "code",
   "execution_count": 186,
   "metadata": {},
   "outputs": [
    {
     "name": "stdout",
     "output_type": "stream",
     "text": [
      "Data\n",
      "Peter.ipynb\n",
      "PeterNotebook.ipynb\n",
      "README.md\n",
      "Yuhkai_notebook_scratch.ipynb\n"
     ]
    }
   ],
   "source": [
    "!ls"
   ]
  },
  {
   "cell_type": "code",
   "execution_count": 187,
   "metadata": {},
   "outputs": [],
   "source": [
    "# load in the train data\n",
    "\n",
    "#starting from main project directory\n",
    "\n",
    "train_normal_dir = \"./data/chest_xray/train/NORMAL\"\n",
    "train_pneumonia_dir = \"./data/chest_xray/train/PNEUMONIA\"\n",
    "\n",
    "imgs_train_normal = [file for file in os.listdir(train_normal_dir) if file.endswith('.jpeg')]\n",
    "imgs_train_pneumonia = [file for file in os.listdir(train_pneumonia_dir) if file.endswith('.jpeg')]"
   ]
  },
  {
   "cell_type": "code",
   "execution_count": 188,
   "metadata": {},
   "outputs": [],
   "source": [
    "test_normal_dir = \"./data/chest_xray/test/NORMAL\"\n",
    "test_pneumonia_dir = \"./data/chest_xray/test/PNEUMONIA\"\n",
    "\n",
    "imgs_test_normal = [file for file in os.listdir(test_normal_dir) if file.endswith('.jpeg')]\n",
    "imgs_test_pneumonia = [file for file in os.listdir(test_pneumonia_dir) if file.endswith('.jpeg')]"
   ]
  },
  {
   "cell_type": "code",
   "execution_count": 189,
   "metadata": {},
   "outputs": [
    {
     "data": {
      "text/plain": [
       "1341"
      ]
     },
     "execution_count": 189,
     "metadata": {},
     "output_type": "execute_result"
    }
   ],
   "source": [
    "len(imgs_train_normal)"
   ]
  },
  {
   "cell_type": "code",
   "execution_count": 190,
   "metadata": {},
   "outputs": [
    {
     "data": {
      "text/plain": [
       "3875"
      ]
     },
     "execution_count": 190,
     "metadata": {},
     "output_type": "execute_result"
    }
   ],
   "source": [
    "len(imgs_train_pneumonia)"
   ]
  },
  {
   "cell_type": "code",
   "execution_count": 191,
   "metadata": {},
   "outputs": [
    {
     "data": {
      "text/plain": [
       "'IM-0115-0001.jpeg'"
      ]
     },
     "execution_count": 191,
     "metadata": {},
     "output_type": "execute_result"
    }
   ],
   "source": [
    "imgs_train_normal[0]"
   ]
  },
  {
   "cell_type": "code",
   "execution_count": 192,
   "metadata": {},
   "outputs": [
    {
     "data": {
      "text/plain": [
       "'person1000_bacteria_2931.jpeg'"
      ]
     },
     "execution_count": 192,
     "metadata": {},
     "output_type": "execute_result"
    }
   ],
   "source": [
    "imgs_train_pneumonia[0]"
   ]
  },
  {
   "cell_type": "code",
   "execution_count": 193,
   "metadata": {
    "scrolled": true
   },
   "outputs": [
    {
     "data": {
      "text/plain": [
       "234"
      ]
     },
     "execution_count": 193,
     "metadata": {},
     "output_type": "execute_result"
    }
   ],
   "source": [
    "len(imgs_test_normal)"
   ]
  },
  {
   "cell_type": "code",
   "execution_count": 194,
   "metadata": {},
   "outputs": [
    {
     "data": {
      "text/plain": [
       "390"
      ]
     },
     "execution_count": 194,
     "metadata": {},
     "output_type": "execute_result"
    }
   ],
   "source": [
    "len(imgs_test_pneumonia)"
   ]
  },
  {
   "cell_type": "code",
   "execution_count": 195,
   "metadata": {},
   "outputs": [
    {
     "data": {
      "text/plain": [
       "(5216, 624)"
      ]
     },
     "execution_count": 195,
     "metadata": {},
     "output_type": "execute_result"
    }
   ],
   "source": [
    "num_train = len(imgs_train_normal) + len(imgs_train_pneumonia)\n",
    "num_test = len(imgs_test_normal) + len(imgs_test_pneumonia)\n",
    "num_train, num_test"
   ]
  },
  {
   "cell_type": "code",
   "execution_count": 196,
   "metadata": {},
   "outputs": [],
   "source": [
    "train_datagen = ImageDataGenerator(rescale=1./255, validation_split=0.2)"
   ]
  },
  {
   "cell_type": "code",
   "execution_count": 221,
   "metadata": {},
   "outputs": [
    {
     "name": "stdout",
     "output_type": "stream",
     "text": [
      "Found 4173 images belonging to 2 classes.\n",
      "Found 1043 images belonging to 2 classes.\n",
      "Found 624 images belonging to 2 classes.\n"
     ]
    }
   ],
   "source": [
    "#rescale images to 64 by 64\n",
    "#create validation set as 20% of train set\n",
    "\n",
    "train_folder = \"./data/chest_xray/train\"\n",
    "train_gen = train_datagen.flow_from_directory(\n",
    "        train_folder, \n",
    "        target_size=(64, 64), \n",
    "       \n",
    "        class_mode='binary',\n",
    "        subset='training',\n",
    "        batch_size= num_train)\n",
    "\n",
    "validation_gen = train_datagen.flow_from_directory(\n",
    "        train_folder, \n",
    "        target_size=(64, 64), \n",
    "       \n",
    "        class_mode='binary',\n",
    "        subset='validation',\n",
    "        batch_size= num_train)\n",
    "\n",
    "test_folder = \"./data/chest_xray/test\"\n",
    "test_gen = ImageDataGenerator(rescale=1./255).flow_from_directory(\n",
    "        test_folder, \n",
    "        target_size=(64, 64), \n",
    "        class_mode='binary', \n",
    "        batch_size= num_test)"
   ]
  },
  {
   "cell_type": "code",
   "execution_count": 222,
   "metadata": {},
   "outputs": [],
   "source": [
    "train_images, train_labels = next(train_gen)\n",
    "val_images, val_labels = next(validation_gen)\n",
    "test_images, test_labels = next(test_gen)"
   ]
  },
  {
   "cell_type": "code",
   "execution_count": 223,
   "metadata": {},
   "outputs": [
    {
     "name": "stdout",
     "output_type": "stream",
     "text": [
      "(4173, 64, 64, 3)\n"
     ]
    }
   ],
   "source": [
    "print(train_images.shape)"
   ]
  },
  {
   "cell_type": "code",
   "execution_count": 224,
   "metadata": {},
   "outputs": [
    {
     "data": {
      "text/plain": [
       "array([[[0.03529412, 0.03529412, 0.03529412],\n",
       "        [0.21568629, 0.21568629, 0.21568629],\n",
       "        [0.20000002, 0.20000002, 0.20000002],\n",
       "        ...,\n",
       "        [0.1254902 , 0.1254902 , 0.1254902 ],\n",
       "        [0.10196079, 0.10196079, 0.10196079],\n",
       "        [0.09411766, 0.09411766, 0.09411766]],\n",
       "\n",
       "       [[0.2509804 , 0.2509804 , 0.2509804 ],\n",
       "        [0.21176472, 0.21176472, 0.21176472],\n",
       "        [0.10196079, 0.10196079, 0.10196079],\n",
       "        ...,\n",
       "        [0.14117648, 0.14117648, 0.14117648],\n",
       "        [0.10588236, 0.10588236, 0.10588236],\n",
       "        [0.09803922, 0.09803922, 0.09803922]],\n",
       "\n",
       "       [[0.12156864, 0.12156864, 0.12156864],\n",
       "        [0.08627451, 0.08627451, 0.08627451],\n",
       "        [0.12941177, 0.12941177, 0.12941177],\n",
       "        ...,\n",
       "        [0.1764706 , 0.1764706 , 0.1764706 ],\n",
       "        [0.10980393, 0.10980393, 0.10980393],\n",
       "        [0.10588236, 0.10588236, 0.10588236]],\n",
       "\n",
       "       ...,\n",
       "\n",
       "       [[0.09411766, 0.09411766, 0.09411766],\n",
       "        [0.05882353, 0.05882353, 0.05882353],\n",
       "        [0.05490196, 0.05490196, 0.05490196],\n",
       "        ...,\n",
       "        [0.14901961, 0.14901961, 0.14901961],\n",
       "        [0.00392157, 0.00392157, 0.00392157],\n",
       "        [0.01176471, 0.01176471, 0.01176471]],\n",
       "\n",
       "       [[0.07450981, 0.07450981, 0.07450981],\n",
       "        [0.0627451 , 0.0627451 , 0.0627451 ],\n",
       "        [0.05490196, 0.05490196, 0.05490196],\n",
       "        ...,\n",
       "        [0.14901961, 0.14901961, 0.14901961],\n",
       "        [0.04313726, 0.04313726, 0.04313726],\n",
       "        [0.00784314, 0.00784314, 0.00784314]],\n",
       "\n",
       "       [[0.06666667, 0.06666667, 0.06666667],\n",
       "        [0.05882353, 0.05882353, 0.05882353],\n",
       "        [0.05490196, 0.05490196, 0.05490196],\n",
       "        ...,\n",
       "        [0.14901961, 0.14901961, 0.14901961],\n",
       "        [0.09803922, 0.09803922, 0.09803922],\n",
       "        [0.00784314, 0.00784314, 0.00784314]]], dtype=float32)"
      ]
     },
     "execution_count": 224,
     "metadata": {},
     "output_type": "execute_result"
    }
   ],
   "source": [
    "train_images[0]"
   ]
  },
  {
   "cell_type": "code",
   "execution_count": 234,
   "metadata": {},
   "outputs": [
    {
     "data": {
      "text/plain": [
       "array([[[0.83921576, 0.83921576, 0.83921576],\n",
       "        [0.8588236 , 0.8588236 , 0.8588236 ],\n",
       "        [0.8705883 , 0.8705883 , 0.8705883 ],\n",
       "        ...,\n",
       "        [0.7960785 , 0.7960785 , 0.7960785 ],\n",
       "        [0.80392164, 0.80392164, 0.80392164],\n",
       "        [0.7803922 , 0.7803922 , 0.7803922 ]],\n",
       "\n",
       "       [[0.8470589 , 0.8470589 , 0.8470589 ],\n",
       "        [0.86274517, 0.86274517, 0.86274517],\n",
       "        [0.86274517, 0.86274517, 0.86274517],\n",
       "        ...,\n",
       "        [0.6745098 , 0.6745098 , 0.6745098 ],\n",
       "        [0.8078432 , 0.8078432 , 0.8078432 ],\n",
       "        [0.80392164, 0.80392164, 0.80392164]],\n",
       "\n",
       "       [[0.8431373 , 0.8431373 , 0.8431373 ],\n",
       "        [0.8745099 , 0.8745099 , 0.8745099 ],\n",
       "        [0.87843144, 0.87843144, 0.87843144],\n",
       "        ...,\n",
       "        [0.6666667 , 0.6666667 , 0.6666667 ],\n",
       "        [0.75294125, 0.75294125, 0.75294125],\n",
       "        [0.81568635, 0.81568635, 0.81568635]],\n",
       "\n",
       "       ...,\n",
       "\n",
       "       [[0.        , 0.        , 0.        ],\n",
       "        [0.        , 0.        , 0.        ],\n",
       "        [0.        , 0.        , 0.        ],\n",
       "        ...,\n",
       "        [0.2627451 , 0.2627451 , 0.2627451 ],\n",
       "        [0.09019608, 0.09019608, 0.09019608],\n",
       "        [0.01568628, 0.01568628, 0.01568628]],\n",
       "\n",
       "       [[0.        , 0.        , 0.        ],\n",
       "        [0.        , 0.        , 0.        ],\n",
       "        [0.        , 0.        , 0.        ],\n",
       "        ...,\n",
       "        [0.27450982, 0.27450982, 0.27450982],\n",
       "        [0.10980393, 0.10980393, 0.10980393],\n",
       "        [0.        , 0.        , 0.        ]],\n",
       "\n",
       "       [[0.        , 0.        , 0.        ],\n",
       "        [0.        , 0.        , 0.        ],\n",
       "        [0.        , 0.        , 0.        ],\n",
       "        ...,\n",
       "        [0.28627452, 0.28627452, 0.28627452],\n",
       "        [0.12156864, 0.12156864, 0.12156864],\n",
       "        [0.01960784, 0.01960784, 0.01960784]]], dtype=float32)"
      ]
     },
     "execution_count": 234,
     "metadata": {},
     "output_type": "execute_result"
    }
   ],
   "source": [
    "val_images[0]"
   ]
  },
  {
   "cell_type": "code",
   "execution_count": 236,
   "metadata": {},
   "outputs": [
    {
     "data": {
      "text/plain": [
       "(64, 64, 3)"
      ]
     },
     "execution_count": 236,
     "metadata": {},
     "output_type": "execute_result"
    }
   ],
   "source": [
    "#(image height, image width, color channels)\n",
    "train_images[0].shape"
   ]
  },
  {
   "cell_type": "code",
   "execution_count": 241,
   "metadata": {},
   "outputs": [],
   "source": [
    "#preserving shape for VGG19\n"
   ]
  },
  {
   "cell_type": "markdown",
   "metadata": {},
   "source": [
    "## VGG19"
   ]
  },
  {
   "cell_type": "code",
   "execution_count": 176,
   "metadata": {},
   "outputs": [],
   "source": [
    "from keras.applications import VGG19\n",
    "from keras import models\n",
    "from keras import layers\n",
    "from keras import optimizers\n",
    "\n",
    "\n",
    "cnn_base = VGG19(weights='imagenet', \n",
    "                 include_top=False, \n",
    "                 input_shape=(64, 64, 3))"
   ]
  },
  {
   "cell_type": "code",
   "execution_count": null,
   "metadata": {},
   "outputs": [],
   "source": [
    "transfer_model = models.Sequential()\n",
    "transfer_model.add(cnn_base)"
   ]
  },
  {
   "cell_type": "code",
   "execution_count": 177,
   "metadata": {},
   "outputs": [],
   "source": [
    "transfer_model = models.Sequential()\n",
    "transfer_model.add(cnn_base)\n",
    "transfer_model.add(layers.Flatten())\n",
    "transfer_model.add(layers.Dense(128, activation='relu'))\n",
    "transfer_model.add(layers.Dense(1, activation='sigmoid'))"
   ]
  },
  {
   "cell_type": "code",
   "execution_count": 178,
   "metadata": {
    "scrolled": false
   },
   "outputs": [
    {
     "name": "stdout",
     "output_type": "stream",
     "text": [
      "Model: \"vgg19\"\n",
      "_________________________________________________________________\n",
      "Layer (type)                 Output Shape              Param #   \n",
      "=================================================================\n",
      "input_5 (InputLayer)         [(None, 64, 64, 3)]       0         \n",
      "_________________________________________________________________\n",
      "block1_conv1 (Conv2D)        (None, 64, 64, 64)        1792      \n",
      "_________________________________________________________________\n",
      "block1_conv2 (Conv2D)        (None, 64, 64, 64)        36928     \n",
      "_________________________________________________________________\n",
      "block1_pool (MaxPooling2D)   (None, 32, 32, 64)        0         \n",
      "_________________________________________________________________\n",
      "block2_conv1 (Conv2D)        (None, 32, 32, 128)       73856     \n",
      "_________________________________________________________________\n",
      "block2_conv2 (Conv2D)        (None, 32, 32, 128)       147584    \n",
      "_________________________________________________________________\n",
      "block2_pool (MaxPooling2D)   (None, 16, 16, 128)       0         \n",
      "_________________________________________________________________\n",
      "block3_conv1 (Conv2D)        (None, 16, 16, 256)       295168    \n",
      "_________________________________________________________________\n",
      "block3_conv2 (Conv2D)        (None, 16, 16, 256)       590080    \n",
      "_________________________________________________________________\n",
      "block3_conv3 (Conv2D)        (None, 16, 16, 256)       590080    \n",
      "_________________________________________________________________\n",
      "block3_conv4 (Conv2D)        (None, 16, 16, 256)       590080    \n",
      "_________________________________________________________________\n",
      "block3_pool (MaxPooling2D)   (None, 8, 8, 256)         0         \n",
      "_________________________________________________________________\n",
      "block4_conv1 (Conv2D)        (None, 8, 8, 512)         1180160   \n",
      "_________________________________________________________________\n",
      "block4_conv2 (Conv2D)        (None, 8, 8, 512)         2359808   \n",
      "_________________________________________________________________\n",
      "block4_conv3 (Conv2D)        (None, 8, 8, 512)         2359808   \n",
      "_________________________________________________________________\n",
      "block4_conv4 (Conv2D)        (None, 8, 8, 512)         2359808   \n",
      "_________________________________________________________________\n",
      "block4_pool (MaxPooling2D)   (None, 4, 4, 512)         0         \n",
      "_________________________________________________________________\n",
      "block5_conv1 (Conv2D)        (None, 4, 4, 512)         2359808   \n",
      "_________________________________________________________________\n",
      "block5_conv2 (Conv2D)        (None, 4, 4, 512)         2359808   \n",
      "_________________________________________________________________\n",
      "block5_conv3 (Conv2D)        (None, 4, 4, 512)         2359808   \n",
      "_________________________________________________________________\n",
      "block5_conv4 (Conv2D)        (None, 4, 4, 512)         2359808   \n",
      "_________________________________________________________________\n",
      "block5_pool (MaxPooling2D)   (None, 2, 2, 512)         0         \n",
      "=================================================================\n",
      "Total params: 20,024,384\n",
      "Trainable params: 20,024,384\n",
      "Non-trainable params: 0\n",
      "_________________________________________________________________\n"
     ]
    }
   ],
   "source": [
    "cnn_base.summary()"
   ]
  },
  {
   "cell_type": "code",
   "execution_count": null,
   "metadata": {},
   "outputs": [],
   "source": [
    "transfer_model.compile(loss='binary_crossentropy',\n",
    "                optimizer='RMSprop',\n",
    "                metrics=['accuracy', tf.keras.metrics.Precision(),  tf.keras.metrics.Recall()])"
   ]
  },
  {
   "cell_type": "code",
   "execution_count": 271,
   "metadata": {
    "scrolled": true
   },
   "outputs": [
    {
     "name": "stdout",
     "output_type": "stream",
     "text": [
      "(4173, 64, 64, 3)\n"
     ]
    }
   ],
   "source": [
    "print(train_images.shape)"
   ]
  },
  {
   "cell_type": "code",
   "execution_count": 274,
   "metadata": {},
   "outputs": [],
   "source": [
    "from tensorflow.keras.callbacks import ModelCheckpoint, EarlyStopping \n",
    "from tensorflow.keras.applications import VGG16, VGG19"
   ]
  },
  {
   "cell_type": "code",
   "execution_count": 278,
   "metadata": {},
   "outputs": [],
   "source": [
    "stop = EarlyStopping(monitor='loss', mode='min', patience=3)\n",
    "callbacks = [stop]"
   ]
  },
  {
   "cell_type": "code",
   "execution_count": null,
   "metadata": {},
   "outputs": [
    {
     "name": "stdout",
     "output_type": "stream",
     "text": [
      "Epoch 1/10\n",
      "140/140 [==============================] - 181s 1s/step - loss: 0.8163 - accuracy: 0.7376 - precision_7: 0.7420\n",
      "Epoch 2/10\n",
      " 48/140 [=========>....................] - ETA: 2:01 - loss: 0.6010 - accuracy: 0.7208 - precision_7: 0.7208"
     ]
    }
   ],
   "source": [
    "transfer_model.fit(train_images, train_labels, epochs=10, batch_size=30, callbacks = [stop])"
   ]
  },
  {
   "cell_type": "code",
   "execution_count": null,
   "metadata": {},
   "outputs": [],
   "source": []
  },
  {
   "cell_type": "code",
   "execution_count": null,
   "metadata": {},
   "outputs": [],
   "source": []
  }
 ],
 "metadata": {
  "kernelspec": {
   "display_name": "python (learn-env)",
   "language": "python",
   "name": "learn-env"
  },
  "language_info": {
   "codemirror_mode": {
    "name": "ipython",
    "version": 3
   },
   "file_extension": ".py",
   "mimetype": "text/x-python",
   "name": "python",
   "nbconvert_exporter": "python",
   "pygments_lexer": "ipython3",
   "version": "3.8.5"
  }
 },
 "nbformat": 4,
 "nbformat_minor": 5
}
