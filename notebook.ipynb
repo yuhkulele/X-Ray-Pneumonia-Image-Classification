{
 "cells": [
  {
   "cell_type": "markdown",
   "id": "fed65fa8",
   "metadata": {},
   "source": [
    "# Detecting Pediatric Pneumonia in Chest X-Rays Using Convolutional Neural Networks"
   ]
  },
  {
   "cell_type": "markdown",
   "id": "b257d2ea",
   "metadata": {},
   "source": [
    "## Overview"
   ]
  },
  {
   "cell_type": "markdown",
   "id": "389f102d",
   "metadata": {},
   "source": [
    "This project uses Convolutional Neural Network (CNN) models to diagnose pediatric pneumonia by classifying chest X-rays of patients. Pneumonia poses a major health risk to children so the need for timely treatment and intervention is critical. The model could be used to provide a 'second' opinion to doctors in diagnosing pneumonia. We produced a CNN with 86% diagnosis accuracy with high sensitivty to pneumonia, correctly identifying 98% of penumonia-positive patients in the testing data. "
   ]
  },
  {
   "cell_type": "markdown",
   "id": "5a8282d2",
   "metadata": {},
   "source": [
    "## Business Understanding"
   ]
  },
  {
   "cell_type": "markdown",
   "id": "65b7250d",
   "metadata": {},
   "source": [
    "Pneumonia is responsible for more childhood deaths than any other infectious disease worldwide, and early diagnosis and treatment are critical for short-term and long-term health outcomes for patients. We are given the task of using X-Ray data from pediatric patients to create a model that can assist medical professionals in diagnosing and evaluating chest X-rays. Correctly identifying and diagnosing pneumonia and beginning treatment sooner can lead to faster recovery and better patient results. Providing a “second opinion” to medical professionals after initial diagnosis can help prevent patients from being misdiagnosed and untreated."
   ]
  },
  {
   "cell_type": "markdown",
   "id": "50bbbef5",
   "metadata": {},
   "source": [
    "## Data Understanding"
   ]
  },
  {
   "cell_type": "markdown",
   "id": "1e6eae4a",
   "metadata": {},
   "source": [
    "We used a dataset of pediatric chest X-ray images downloaded from Kaggle. These anterior-posterior chest X-ray images were collected from Guangzhou Women and Children's Medical Center, Guangzhou. The patients ranged from one to five years old with X-ray imaging performed during routine clinical care. The pneumonia X-ray images contained examples of bacterial and viral pneumonia.\n",
    "\n",
    "Due to the size of the dataset, we did not upload the data to this project's GitHub repository. The dataset can be downloaded from Kaggle [here](https://www.kaggle.com/datasets/paultimothymooney/chest-xray-pneumonia).\n",
    "\n",
    "The data was downloaded as a zipped folder \"chest_xray\", in which there were 3 folders \"test\", \"train\", and \"val\". Each of these 3 folders contained 2 subfolders for the image categories \"PNEUMONIA\" and \"NORMAL\". In total, there were 5,863 X-Ray images (JPEG). \n",
    "\n",
    "One limitation of this data was the low number of images in the 'val' folder. There are only 16 images in 'val' which was not enough to provide a proper validation or test set."
   ]
  },
  {
   "cell_type": "markdown",
   "id": "b5e1fb73",
   "metadata": {},
   "source": [
    "### Data Preparation"
   ]
  },
  {
   "cell_type": "markdown",
   "id": "7b3c3d9f",
   "metadata": {},
   "source": [
    "We prepared our data for a binary classification problem using Convolutional Neural Networks (CNNs) to predict the class of chest X-ray images."
   ]
  },
  {
   "cell_type": "markdown",
   "id": "0c9040a7",
   "metadata": {},
   "source": [
    "The \"val\" folder contained only 16 X-ray images: 8 for normal and 8 for pneumonia. Since the size of this data subset was too small to use in our model validation process, we chose to split a portion of the training data into a validation set. The images in the \"test\" folder were used as our final holdout test set to evaluate our model's performance on unseen data. "
   ]
  },
  {
   "cell_type": "code",
   "execution_count": 132,
   "id": "487b0cc7",
   "metadata": {},
   "outputs": [],
   "source": [
    "#import statements\n",
    "import numpy as np\n",
    "import os, tempfile\n",
    "import matplotlib.pyplot as plt\n",
    "import seaborn as sns\n",
    "\n",
    "import tensorflow as tf\n",
    "from tensorflow.keras import models, layers\n",
    "from tensorflow.keras.preprocessing.image import load_img\n",
    "from tensorflow.keras.utils import image_dataset_from_directory \n",
    "from tensorflow.keras.models import Sequential, load_model\n",
    "from tensorflow.keras.callbacks import EarlyStopping\n",
    "from tensorflow.keras.regularizers import l2\n",
    "\n",
    "from sklearn.dummy import DummyClassifier\n",
    "from sklearn.metrics import confusion_matrix, ConfusionMatrixDisplay\n",
    "\n",
    "import time\n",
    "import scipy\n",
    "from scipy import ndimage\n",
    "from tensorflow.keras.preprocessing.image import ImageDataGenerator, array_to_img, img_to_array, load_img\n",
    "from PIL import Image\n",
    "import pickle"
   ]
  },
  {
   "cell_type": "code",
   "execution_count": 2,
   "id": "e4d28eba",
   "metadata": {},
   "outputs": [],
   "source": [
    "#load in the train data\n",
    "#\"chest_xray\" folder was placed in a separate 'data' directory within local repositories\n",
    "\n",
    "train_normal_dir = \"./data/chest_xray/train/NORMAL\"\n",
    "train_pneumonia_dir = \"./data/chest_xray/train/PNEUMONIA\"\n",
    "\n",
    "#from the subfolders, extract a list of all jpeg files\n",
    "#separate X-rays by category: normal and pneumonia\n",
    "imgs_train_normal = [file for file in os.listdir(train_normal_dir) if file.endswith('.jpeg')]\n",
    "imgs_train_pneumonia = [file for file in os.listdir(train_pneumonia_dir) if file.endswith('.jpeg')]"
   ]
  },
  {
   "cell_type": "code",
   "execution_count": 3,
   "id": "38d31aff",
   "metadata": {},
   "outputs": [],
   "source": [
    "#load in the train data\n",
    "test_normal_dir = \"./data/chest_xray/test/NORMAL\"\n",
    "test_pneumonia_dir = \"./data/chest_xray/test/PNEUMONIA\"\n",
    "\n",
    "#from the subfolders, extract a list of all jpeg files\n",
    "#separate X-rays by category: normal and pneumonia\n",
    "imgs_test_normal = [file for file in os.listdir(test_normal_dir) if file.endswith('.jpeg')]\n",
    "imgs_test_pneumonia = [file for file in os.listdir(test_pneumonia_dir) if file.endswith('.jpeg')]"
   ]
  },
  {
   "cell_type": "code",
   "execution_count": 4,
   "id": "0b42a8be",
   "metadata": {},
   "outputs": [
    {
     "name": "stdout",
     "output_type": "stream",
     "text": [
      "Training set: there are 1341 normal images and 3875 pneumonia images.\n",
      "Test set: there are 234 normal images and 390 pneumonia images.\n"
     ]
    }
   ],
   "source": [
    "print(f'Training set: there are {len(imgs_train_normal)} normal images and {len(imgs_train_pneumonia)} pneumonia images.')\n",
    "print(f'Test set: there are {len(imgs_test_normal)} normal images and {len(imgs_test_pneumonia)} pneumonia images.')"
   ]
  },
  {
   "cell_type": "code",
   "execution_count": 5,
   "id": "1235ace2",
   "metadata": {
    "scrolled": true
   },
   "outputs": [
    {
     "name": "stdout",
     "output_type": "stream",
     "text": [
      "The training set has 5216 images, 74.3% of which are categorized as pneumonia.\n",
      "The test set has 624 images, 62.5% of which are categorized as pneumonia.\n"
     ]
    }
   ],
   "source": [
    "#breakdown of the class distributions for training and test sets\n",
    "num_train = len(imgs_train_normal) + len(imgs_train_pneumonia)\n",
    "num_test = len(imgs_test_normal) + len(imgs_test_pneumonia)\n",
    "train_percent_pneumonia = round( (len(imgs_train_pneumonia)/num_train) * 100, 1)\n",
    "test_percent_pneumonia = round( (len(imgs_test_pneumonia)/num_test) * 100, 1)\n",
    "\n",
    "print(f'The training set has {num_train} images, {train_percent_pneumonia}% of which are categorized as pneumonia.')\n",
    "print(f'The test set has {num_test} images, {test_percent_pneumonia}% of which are categorized as pneumonia.')"
   ]
  },
  {
   "cell_type": "markdown",
   "id": "5fe25e15",
   "metadata": {},
   "source": [
    "We used ImageDataGenerator from Keras to process our jpeg images into tensors to feed into our neural network models. The images were rescaled to 64 x 64 size, with 20% of the training set separated into a validation set. We also performed data augmentation to provide our model with varied images to improve performance on unseen data. "
   ]
  },
  {
   "cell_type": "code",
   "execution_count": 6,
   "id": "e3667063",
   "metadata": {},
   "outputs": [],
   "source": [
    "#create image data generator for train data\n",
    "#80% train/20% validation split \n",
    "train_datagen = ImageDataGenerator(rescale=1./255, \n",
    "                                   rotation_range = 30,\n",
    "                                   shear_range = 0.2, \n",
    "                                   zoom_range = 0.2,\n",
    "                                   validation_split=0.2)"
   ]
  },
  {
   "cell_type": "code",
   "execution_count": 7,
   "id": "0e5f2b12",
   "metadata": {
    "scrolled": true
   },
   "outputs": [
    {
     "name": "stdout",
     "output_type": "stream",
     "text": [
      "Found 4173 images belonging to 2 classes.\n",
      "Found 1043 images belonging to 2 classes.\n",
      "Found 624 images belonging to 2 classes.\n"
     ]
    }
   ],
   "source": [
    "#rescale images to 64 by 64\n",
    "#create validation set as 20% of train set\n",
    "#random seed set for reproducibility in validation split\n",
    "\n",
    "train_folder = \"./data/chest_xray/train\"\n",
    "train_gen = train_datagen.flow_from_directory(\n",
    "        train_folder, \n",
    "        target_size=(64, 64), \n",
    "        color_mode='grayscale', \n",
    "        class_mode='binary',\n",
    "        subset='training',\n",
    "        batch_size= num_train, seed=42)\n",
    "\n",
    "validation_gen = train_datagen.flow_from_directory(\n",
    "        train_folder, \n",
    "        target_size=(64, 64), \n",
    "        color_mode='grayscale', \n",
    "        class_mode='binary',\n",
    "        subset='validation',\n",
    "        batch_size= num_train, seed=42)\n",
    "\n",
    "test_folder = \"./data/chest_xray/test\"\n",
    "test_gen = ImageDataGenerator(rescale=1./255).flow_from_directory(\n",
    "        test_folder, \n",
    "        target_size=(64, 64), color_mode='grayscale', \n",
    "        class_mode='binary', \n",
    "        batch_size= num_test)"
   ]
  },
  {
   "cell_type": "code",
   "execution_count": 8,
   "id": "70883ba2",
   "metadata": {},
   "outputs": [],
   "source": [
    "#create images and labels arrays from DirectoryIterator objects\n",
    "train_images, train_labels = next(train_gen)\n",
    "val_images, val_labels = next(validation_gen)\n",
    "test_images, test_labels = next(test_gen)"
   ]
  },
  {
   "cell_type": "code",
   "execution_count": 9,
   "id": "f54bee6d",
   "metadata": {},
   "outputs": [
    {
     "data": {
      "text/plain": [
       "3875.0"
      ]
     },
     "execution_count": 9,
     "metadata": {},
     "output_type": "execute_result"
    }
   ],
   "source": [
    "#sum should match number of pneumonia cases in the pre-split training set\n",
    "#indicates that class 1 = pneumonia\n",
    "sum(train_labels) + sum(val_labels)"
   ]
  },
  {
   "cell_type": "markdown",
   "id": "855e2419",
   "metadata": {},
   "source": [
    "Our class labels were 0 corresponding with 'normal' and 1 corresponding with 'pneumonia'."
   ]
  },
  {
   "cell_type": "code",
   "execution_count": 10,
   "id": "b9cbd4e1",
   "metadata": {},
   "outputs": [
    {
     "name": "stdout",
     "output_type": "stream",
     "text": [
      "Found 4173 images belonging to 2 classes.\n"
     ]
    }
   ],
   "source": [
    "#training images at their original resolution (256x256)\n",
    "train_folder = \"./data/chest_xray/train\"\n",
    "train_unaltered = train_datagen.flow_from_directory(\n",
    "        train_folder, \n",
    "        color_mode='grayscale', \n",
    "        class_mode='binary',\n",
    "        subset='training',\n",
    "        batch_size= num_train,\n",
    "        seed=42)"
   ]
  },
  {
   "cell_type": "code",
   "execution_count": 11,
   "id": "89f6f16a",
   "metadata": {},
   "outputs": [],
   "source": [
    "unaltered_images, unaltered_labels = next(train_unaltered)"
   ]
  },
  {
   "cell_type": "markdown",
   "id": "1aca4c9f",
   "metadata": {},
   "source": [
    "Here's an X-ray from the training data in its scaled down resolution (64 x 64) and in its original resolution (256 x 256):"
   ]
  },
  {
   "cell_type": "code",
   "execution_count": 12,
   "id": "c98f082b",
   "metadata": {
    "scrolled": true
   },
   "outputs": [
    {
     "data": {
      "image/png": "[encoded data removed]",
      "text/plain": [
       "<Figure size 432x288 with 1 Axes>"
      ]
     },
     "metadata": {
      "needs_background": "light"
     },
     "output_type": "display_data"
    }
   ],
   "source": [
    "plt.imshow(train_images[0], cmap='gray', vmin=0, vmax=1);"
   ]
  },
  {
   "cell_type": "code",
   "execution_count": 13,
   "id": "80c23c82",
   "metadata": {
    "scrolled": true
   },
   "outputs": [
    {
     "data": {
      "image/png": "[encoded data removed]",
      "text/plain": [
       "<Figure size 432x288 with 1 Axes>"
      ]
     },
     "metadata": {
      "needs_background": "light"
     },
     "output_type": "display_data"
    }
   ],
   "source": [
    "plt.imshow(unaltered_images[0], cmap='gray', vmin=0, vmax=1);"
   ]
  },
  {
   "cell_type": "code",
   "execution_count": 14,
   "id": "a9e503cc",
   "metadata": {},
   "outputs": [
    {
     "name": "stdout",
     "output_type": "stream",
     "text": [
      "train: (4173, 64, 64, 1)\n",
      "val: (1043, 64, 64, 1)\n",
      "test: (624, 64, 64, 1)\n"
     ]
    }
   ],
   "source": [
    "#( number of images, image height, image wideth, color channel(s) )\n",
    "print(f'train: {train_images.shape}')\n",
    "print(f'val: {val_images.shape}')\n",
    "print(f'test: {test_images.shape}')"
   ]
  },
  {
   "cell_type": "code",
   "execution_count": 15,
   "id": "a8f4bca7",
   "metadata": {},
   "outputs": [
    {
     "name": "stdout",
     "output_type": "stream",
     "text": [
      "(4173,)\n",
      "(1043,)\n",
      "(624,)\n"
     ]
    }
   ],
   "source": [
    "#confirm correct shape for labels\n",
    "print(train_labels.shape)\n",
    "print(val_labels.shape)\n",
    "print(test_labels.shape)"
   ]
  },
  {
   "cell_type": "markdown",
   "id": "0f1a1522",
   "metadata": {},
   "source": [
    "We also reshaped our features and labels to be passed into dense layers in our CNN models."
   ]
  },
  {
   "cell_type": "code",
   "execution_count": 16,
   "id": "435c7faf",
   "metadata": {},
   "outputs": [
    {
     "name": "stdout",
     "output_type": "stream",
     "text": [
      "Reshaped images:\n",
      "(4173, 4096)\n",
      "(1043, 4096)\n",
      "(624, 4096)\n",
      "\n",
      "Reshaped labels:\n",
      "(4173, 1)\n",
      "(1043, 1)\n",
      "(624, 1)\n"
     ]
    }
   ],
   "source": [
    "#reshaping features for dense layers\n",
    "train_reshape = train_images.reshape(train_images.shape[0], -1)\n",
    "val_reshape = val_images.reshape(val_images.shape[0], -1)\n",
    "test_reshape = test_images.reshape(test_images.shape[0], -1)\n",
    "\n",
    "train_y = np.reshape(train_labels, (4173,1))\n",
    "val_y = np.reshape(val_labels, (1043,1))\n",
    "test_y = np.reshape(test_labels, (624,1))\n",
    "\n",
    "print('Reshaped images:')\n",
    "print(train_reshape.shape)\n",
    "print(val_reshape.shape)\n",
    "print(test_reshape.shape)\n",
    "\n",
    "print('\\nReshaped labels:')\n",
    "print(train_y.shape)\n",
    "print(val_y.shape)\n",
    "print(test_y.shape)"
   ]
  },
  {
   "cell_type": "markdown",
   "id": "c564abb0",
   "metadata": {},
   "source": [
    "We've accomplished the following with our data preparation:\n",
    "* Transformed image data into tensors\n",
    "* Performed data augmentation for our training data\n",
    "* Split 20% of our training data into a validation set\n",
    "* Prepared a holdout test set for final model evaluation\n",
    "* Reshaped data into the right shapes for our CNN layers"
   ]
  },
  {
   "cell_type": "markdown",
   "id": "c8908c1d",
   "metadata": {},
   "source": [
    "## Modeling"
   ]
  },
  {
   "cell_type": "markdown",
   "id": "32e4bba0",
   "metadata": {},
   "source": [
    "The metrics we used in evaluating our model were accuracy and recall. Accuracy was important as a measure of our model's ability to correctly diagnose a patient based on their X-ray. Recall represented the model's sensitivity to the pneumonia class. Our model was designed to provide a second opinion on X-rays to ensure that patients with pneumonia are detected. We wanted our model to provide a red flag for when a doctor might have overlooked signs of pneumonia in the X-rays. Therefore, we wanted to minimize false-negative rate, meaning recall was a critical metric in determining our best model."
   ]
  },
  {
   "cell_type": "code",
   "execution_count": 17,
   "id": "62cf1a82",
   "metadata": {},
   "outputs": [],
   "source": [
    "#helper function to store metrics in a dictionary format for easy recall\n",
    "def metrics_to_dict(model_name, metrics, metrics_dict):\n",
    "    '''\n",
    "    Returns a dictionary with model name as key and dictionaries of metrics\n",
    "    as values.\n",
    "    Nested dictionary has metric names as keys and the scores as values.\n",
    "    \n",
    "    Takes the following arguments:\n",
    "    model_name: String of model name\n",
    "    metrics: list of metric scores from model.evaluate(), must match metric_names\n",
    "    metrics_dict: dictionary to be added to\n",
    "    '''\n",
    "    metrics_dict[model_name]={}\n",
    "    metric_names = ['loss', 'accuracy', 'recall']\n",
    "    for i,metric in enumerate(metric_names):\n",
    "        metrics_dict[model_name][metric] = metrics[i]\n",
    "    return metrics_dict"
   ]
  },
  {
   "cell_type": "code",
   "execution_count": 18,
   "id": "08ff8fa4",
   "metadata": {},
   "outputs": [],
   "source": [
    "#initialize an empty metrics dictionary\n",
    "metrics_dict = {}"
   ]
  },
  {
   "cell_type": "markdown",
   "id": "8d6dcbeb",
   "metadata": {},
   "source": [
    "### Dummy Classifier"
   ]
  },
  {
   "cell_type": "markdown",
   "id": "1e41bc96",
   "metadata": {},
   "source": [
    "We used sklearn's DummyClassifier to establish a baseline for model performance. This DummyClassifier predicts the majority class (pneumonia) for every instance and has an accuracy of 74.3% and a recall of 1.0."
   ]
  },
  {
   "cell_type": "code",
   "execution_count": 19,
   "id": "95de2ff7",
   "metadata": {},
   "outputs": [
    {
     "data": {
      "text/plain": [
       "0.7428708363287803"
      ]
     },
     "execution_count": 19,
     "metadata": {},
     "output_type": "execute_result"
    }
   ],
   "source": [
    "dummy_clf = DummyClassifier()\n",
    "dummy_clf.fit(train_images, train_labels)\n",
    "dummy_clf.score(train_images, train_labels)"
   ]
  },
  {
   "cell_type": "code",
   "execution_count": 20,
   "id": "e615dc28",
   "metadata": {},
   "outputs": [
    {
     "data": {
      "text/plain": [
       "0.7430488974113135"
      ]
     },
     "execution_count": 20,
     "metadata": {},
     "output_type": "execute_result"
    }
   ],
   "source": [
    "dummy_clf.score(val_images, val_labels)"
   ]
  },
  {
   "cell_type": "markdown",
   "id": "837b9088",
   "metadata": {},
   "source": [
    "### Dense Neural Network"
   ]
  },
  {
   "cell_type": "markdown",
   "id": "81e4125d",
   "metadata": {},
   "source": [
    "Our first modeling iteration was a neural network with several dense layers. This was created to give us a comparison to CNN models which are generally better suited for image recognition tasks."
   ]
  },
  {
   "cell_type": "code",
   "execution_count": 55,
   "id": "1535348a",
   "metadata": {},
   "outputs": [
    {
     "name": "stdout",
     "output_type": "stream",
     "text": [
      "Model: \"sequential_6\"\n",
      "_________________________________________________________________\n",
      "Layer (type)                 Output Shape              Param #   \n",
      "=================================================================\n",
      "dense_18 (Dense)             (None, 20)                81940     \n",
      "_________________________________________________________________\n",
      "dense_19 (Dense)             (None, 7)                 147       \n",
      "_________________________________________________________________\n",
      "dense_20 (Dense)             (None, 5)                 40        \n",
      "_________________________________________________________________\n",
      "dense_21 (Dense)             (None, 1)                 6         \n",
      "=================================================================\n",
      "Total params: 82,133\n",
      "Trainable params: 82,133\n",
      "Non-trainable params: 0\n",
      "_________________________________________________________________\n"
     ]
    }
   ],
   "source": [
    "dense_model = models.Sequential()\n",
    "dense_model.add(layers.Dense(20, activation='relu', input_shape=(4096,)))\n",
    "dense_model.add(layers.Dense(7, activation='relu'))\n",
    "dense_model.add(layers.Dense(5, activation='relu'))\n",
    "dense_model.add(layers.Dense(1, activation='sigmoid'))\n",
    "\n",
    "dense_model.summary()"
   ]
  },
  {
   "cell_type": "code",
   "execution_count": 56,
   "id": "7571d3b1",
   "metadata": {},
   "outputs": [],
   "source": [
    "dense_model.compile(optimizer='sgd', \n",
    "                      loss='binary_crossentropy', \n",
    "                      metrics=['accuracy', tf.keras.metrics.Recall()])"
   ]
  },
  {
   "cell_type": "code",
   "execution_count": 57,
   "id": "a92c64d2",
   "metadata": {
    "scrolled": true
   },
   "outputs": [
    {
     "name": "stdout",
     "output_type": "stream",
     "text": [
      "Epoch 1/30\n",
      "84/84 [==============================] - 2s 12ms/step - loss: 0.5509 - accuracy: 0.7429 - recall_6: 1.0000 - val_loss: 0.5100 - val_accuracy: 0.7430 - val_recall_6: 1.0000\n",
      "Epoch 2/30\n",
      "84/84 [==============================] - 1s 9ms/step - loss: 0.4970 - accuracy: 0.7434 - recall_6: 1.0000 - val_loss: 0.4799 - val_accuracy: 0.7430 - val_recall_6: 1.0000\n",
      "Epoch 3/30\n",
      "84/84 [==============================] - 1s 9ms/step - loss: 0.4473 - accuracy: 0.7577 - recall_6: 0.9981 - val_loss: 0.4375 - val_accuracy: 0.7584 - val_recall_6: 0.9987\n",
      "Epoch 4/30\n",
      "84/84 [==============================] - 1s 6ms/step - loss: 0.4284 - accuracy: 0.8057 - recall_6: 0.9481 - val_loss: 0.5417 - val_accuracy: 0.7277 - val_recall_6: 0.6697\n",
      "Epoch 5/30\n",
      "84/84 [==============================] - 1s 9ms/step - loss: 0.4051 - accuracy: 0.8248 - recall_6: 0.9290 - val_loss: 0.3596 - val_accuracy: 0.8485 - val_recall_6: 0.9265\n",
      "Epoch 6/30\n",
      "84/84 [==============================] - 1s 6ms/step - loss: 0.3893 - accuracy: 0.8306 - recall_6: 0.9277 - val_loss: 0.3674 - val_accuracy: 0.8418 - val_recall_6: 0.8697\n",
      "Epoch 7/30\n",
      "84/84 [==============================] - 1s 7ms/step - loss: 0.3802 - accuracy: 0.8347 - recall_6: 0.9213 - val_loss: 0.8832 - val_accuracy: 0.4420 - val_recall_6: 0.2490\n",
      "Epoch 8/30\n",
      "84/84 [==============================] - 1s 10ms/step - loss: 0.3379 - accuracy: 0.8493 - recall_6: 0.9274 - val_loss: 0.3338 - val_accuracy: 0.8581 - val_recall_6: 0.8968\n",
      "Epoch 9/30\n",
      "84/84 [==============================] - 1s 6ms/step - loss: 0.3710 - accuracy: 0.8390 - recall_6: 0.9184 - val_loss: 0.3683 - val_accuracy: 0.8255 - val_recall_6: 0.9832\n",
      "Epoch 10/30\n",
      "84/84 [==============================] - 1s 9ms/step - loss: 0.3191 - accuracy: 0.8672 - recall_6: 0.9400 - val_loss: 0.3879 - val_accuracy: 0.8198 - val_recall_6: 0.9832\n",
      "Epoch 11/30\n",
      "84/84 [==============================] - 1s 10ms/step - loss: 0.3139 - accuracy: 0.8680 - recall_6: 0.9323 - val_loss: 0.3195 - val_accuracy: 0.8591 - val_recall_6: 0.9587\n",
      "Epoch 12/30\n",
      "84/84 [==============================] - 1s 10ms/step - loss: 0.3273 - accuracy: 0.8586 - recall_6: 0.9261 - val_loss: 0.3550 - val_accuracy: 0.8360 - val_recall_6: 0.8400\n",
      "Epoch 13/30\n",
      "84/84 [==============================] - 1s 7ms/step - loss: 0.3033 - accuracy: 0.8682 - recall_6: 0.9290 - val_loss: 0.3061 - val_accuracy: 0.8629 - val_recall_6: 0.9019\n",
      "Epoch 14/30\n",
      "84/84 [==============================] - 1s 8ms/step - loss: 0.2948 - accuracy: 0.8718 - recall_6: 0.9348 - val_loss: 0.5300 - val_accuracy: 0.7891 - val_recall_6: 0.9923\n",
      "Epoch 15/30\n",
      "84/84 [==============================] - 1s 7ms/step - loss: 0.3157 - accuracy: 0.8687 - recall_6: 0.9284 - val_loss: 0.4407 - val_accuracy: 0.8130 - val_recall_6: 0.9884\n",
      "Epoch 16/30\n",
      "84/84 [==============================] - 1s 9ms/step - loss: 0.3037 - accuracy: 0.8711 - recall_6: 0.9335 - val_loss: 0.2990 - val_accuracy: 0.8706 - val_recall_6: 0.9148\n",
      "Epoch 17/30\n",
      "84/84 [==============================] - 1s 7ms/step - loss: 0.2834 - accuracy: 0.8778 - recall_6: 0.9377 - val_loss: 0.3329 - val_accuracy: 0.8543 - val_recall_6: 0.9742\n",
      "Epoch 18/30\n",
      "84/84 [==============================] - 1s 8ms/step - loss: 0.3004 - accuracy: 0.8747 - recall_6: 0.9313 - val_loss: 0.3690 - val_accuracy: 0.8370 - val_recall_6: 0.9806\n",
      "Epoch 19/30\n",
      "84/84 [==============================] - 1s 6ms/step - loss: 0.2849 - accuracy: 0.8809 - recall_6: 0.9400 - val_loss: 0.2898 - val_accuracy: 0.8725 - val_recall_6: 0.9303\n",
      "Epoch 20/30\n",
      "84/84 [==============================] - 1s 7ms/step - loss: 0.2771 - accuracy: 0.8843 - recall_6: 0.9426 - val_loss: 0.5204 - val_accuracy: 0.7584 - val_recall_6: 0.6929\n",
      "Epoch 21/30\n",
      "84/84 [==============================] - 1s 9ms/step - loss: 0.2748 - accuracy: 0.8816 - recall_6: 0.9374 - val_loss: 0.3438 - val_accuracy: 0.8370 - val_recall_6: 0.8361\n",
      "Epoch 22/30\n",
      "84/84 [==============================] - 1s 9ms/step - loss: 0.2573 - accuracy: 0.8914 - recall_6: 0.9419 - val_loss: 0.3359 - val_accuracy: 0.8610 - val_recall_6: 0.9781\n",
      "Epoch 23/30\n",
      "84/84 [==============================] - 1s 9ms/step - loss: 0.2716 - accuracy: 0.8816 - recall_6: 0.9345 - val_loss: 0.4385 - val_accuracy: 0.8092 - val_recall_6: 0.7690\n",
      "Epoch 24/30\n",
      "84/84 [==============================] - 1s 8ms/step - loss: 0.2689 - accuracy: 0.8835 - recall_6: 0.9384 - val_loss: 0.2877 - val_accuracy: 0.8773 - val_recall_6: 0.9161\n",
      "Epoch 25/30\n",
      "84/84 [==============================] - 0s 6ms/step - loss: 0.2763 - accuracy: 0.8850 - recall_6: 0.9384 - val_loss: 0.2836 - val_accuracy: 0.8715 - val_recall_6: 0.9303\n",
      "Epoch 26/30\n",
      "84/84 [==============================] - 1s 8ms/step - loss: 0.2681 - accuracy: 0.8869 - recall_6: 0.9377 - val_loss: 0.3330 - val_accuracy: 0.8571 - val_recall_6: 0.9716\n",
      "Epoch 27/30\n",
      "84/84 [==============================] - 1s 9ms/step - loss: 0.2764 - accuracy: 0.8797 - recall_6: 0.9316 - val_loss: 0.3480 - val_accuracy: 0.8428 - val_recall_6: 0.9794\n",
      "Epoch 28/30\n",
      "84/84 [==============================] - 1s 7ms/step - loss: 0.2546 - accuracy: 0.8922 - recall_6: 0.9445 - val_loss: 0.2867 - val_accuracy: 0.8773 - val_recall_6: 0.9071\n",
      "Epoch 29/30\n",
      "84/84 [==============================] - 1s 6ms/step - loss: 0.2435 - accuracy: 0.8970 - recall_6: 0.9442 - val_loss: 0.2907 - val_accuracy: 0.8754 - val_recall_6: 0.9032\n",
      "Epoch 30/30\n",
      "84/84 [==============================] - 1s 7ms/step - loss: 0.2509 - accuracy: 0.8941 - recall_6: 0.9400 - val_loss: 0.2784 - val_accuracy: 0.8734 - val_recall_6: 0.9187\n"
     ]
    },
    {
     "data": {
      "text/plain": [
       "<tensorflow.python.keras.callbacks.History at 0x2a934a044c0>"
      ]
     },
     "execution_count": 57,
     "metadata": {},
     "output_type": "execute_result"
    }
   ],
   "source": [
    "dense_model.fit(train_reshape, \n",
    "                train_y, \n",
    "                epochs=30, \n",
    "                batch_size=50, \n",
    "                validation_data=(val_reshape, val_y))"
   ]
  },
  {
   "cell_type": "code",
   "execution_count": 58,
   "id": "8081a766",
   "metadata": {},
   "outputs": [
    {
     "name": "stdout",
     "output_type": "stream",
     "text": [
      "131/131 [==============================] - 1s 8ms/step - loss: 0.2233 - accuracy: 0.9073 - recall_6: 0.9487\n"
     ]
    },
    {
     "data": {
      "text/plain": [
       "[0.223294198513031, 0.9072609543800354, 0.9487096667289734]"
      ]
     },
     "execution_count": 58,
     "metadata": {},
     "output_type": "execute_result"
    }
   ],
   "source": [
    "dense_train = dense_model.evaluate(train_reshape, train_y)\n",
    "dense_train"
   ]
  },
  {
   "cell_type": "code",
   "execution_count": 59,
   "id": "c50107cf",
   "metadata": {},
   "outputs": [
    {
     "name": "stdout",
     "output_type": "stream",
     "text": [
      "33/33 [==============================] - 0s 6ms/step - loss: 0.2784 - accuracy: 0.8734 - recall_6: 0.9187\n"
     ]
    },
    {
     "data": {
      "text/plain": [
       "[0.27844637632369995, 0.8734419941902161, 0.9187096953392029]"
      ]
     },
     "execution_count": 59,
     "metadata": {},
     "output_type": "execute_result"
    }
   ],
   "source": [
    "dense_val = dense_model.evaluate(val_reshape, val_y)\n",
    "dense_val"
   ]
  },
  {
   "cell_type": "markdown",
   "id": "c6d92234",
   "metadata": {},
   "source": [
    "Our first model, a neural network of dense layers, performed better on the training set than on the validation set for both accuracy and recall. There was about a 3% difference in both accuracy and recall between training metrics and validation metrics.\n",
    "\n",
    "This model had better accuracy than the Dummy Classifier with 87% accuracy on the validation data, a 13% increase in accuracy versus the Dummy Classifier. Recall on the validation data was 91%. The Dummy Classifier had a recall of 100% since it predicts pneumonia for every image. Our model evaluations during our iterative process were based on the tradeoff between increasing accuracy without sacrificing performance in recall."
   ]
  },
  {
   "cell_type": "markdown",
   "id": "ef683e0b",
   "metadata": {},
   "source": [
    "### CNNs"
   ]
  },
  {
   "cell_type": "markdown",
   "id": "de7a7492",
   "metadata": {},
   "source": [
    "CNNs are a type of neural network that perform well on computer vision problems. The convolution layers of CNNs apply a transformation filter to the image matrix to reduce portions of the image matrix into values capturing information of nearby areas of the image. Pooling layers reduce dimensionality with MaxPooling replacing n x n blocks of the matrix with the largest value in each block."
   ]
  },
  {
   "cell_type": "code",
   "execution_count": 63,
   "id": "13b0f689",
   "metadata": {},
   "outputs": [
    {
     "name": "stdout",
     "output_type": "stream",
     "text": [
      "Model: \"sequential_8\"\n",
      "_________________________________________________________________\n",
      "Layer (type)                 Output Shape              Param #   \n",
      "=================================================================\n",
      "conv2d_9 (Conv2D)            (None, 62, 62, 64)        640       \n",
      "_________________________________________________________________\n",
      "max_pooling2d_6 (MaxPooling2 (None, 31, 31, 64)        0         \n",
      "_________________________________________________________________\n",
      "conv2d_10 (Conv2D)           (None, 29, 29, 64)        36928     \n",
      "_________________________________________________________________\n",
      "flatten_4 (Flatten)          (None, 53824)             0         \n",
      "_________________________________________________________________\n",
      "dense_24 (Dense)             (None, 64)                3444800   \n",
      "_________________________________________________________________\n",
      "dense_25 (Dense)             (None, 1)                 65        \n",
      "=================================================================\n",
      "Total params: 3,482,433\n",
      "Trainable params: 3,482,433\n",
      "Non-trainable params: 0\n",
      "_________________________________________________________________\n"
     ]
    }
   ],
   "source": [
    "#setting up a simple convolutional model\n",
    "simple_cnn = models.Sequential()\n",
    "\n",
    "#model with 2 convolutional layers + 1 pooling layer\n",
    "simple_cnn.add(layers.Conv2D(filters=64, kernel_size=(3,3), activation='relu', \n",
    "          input_shape=(64, 64, 1)))\n",
    "simple_cnn.add(layers.MaxPooling2D(pool_size=(2,2)))\n",
    "simple_cnn.add(layers.Conv2D(filters=64, kernel_size=(3,3), activation='relu', \n",
    "          input_shape=(64, 64, 1)))\n",
    "\n",
    "#single dense layer\n",
    "simple_cnn.add(layers.Flatten())\n",
    "simple_cnn.add(layers.Dense(64, activation='relu'))\n",
    "\n",
    "#output layer\n",
    "simple_cnn.add(layers.Dense(1, activation='sigmoid'))\n",
    "\n",
    "simple_cnn.summary()"
   ]
  },
  {
   "cell_type": "code",
   "execution_count": 64,
   "id": "00b473ab",
   "metadata": {},
   "outputs": [],
   "source": [
    "simple_cnn.compile(optimizer='sgd', \n",
    "                   loss='binary_crossentropy', \n",
    "                   metrics=['accuracy', tf.keras.metrics.Recall()])"
   ]
  },
  {
   "cell_type": "code",
   "execution_count": 65,
   "id": "8026630f",
   "metadata": {
    "scrolled": true
   },
   "outputs": [
    {
     "name": "stdout",
     "output_type": "stream",
     "text": [
      "Epoch 1/30\n",
      "84/84 [==============================] - 10s 117ms/step - loss: 0.5654 - accuracy: 0.7429 - recall_8: 1.0000 - val_loss: 0.5372 - val_accuracy: 0.7430 - val_recall_8: 1.0000\n",
      "Epoch 2/30\n",
      "84/84 [==============================] - 10s 115ms/step - loss: 0.5092 - accuracy: 0.7549 - recall_8: 0.9971 - val_loss: 0.4707 - val_accuracy: 0.7459 - val_recall_8: 1.0000\n",
      "Epoch 3/30\n",
      "84/84 [==============================] - 10s 115ms/step - loss: 0.4527 - accuracy: 0.8013 - recall_8: 0.9552 - val_loss: 0.3897 - val_accuracy: 0.8543 - val_recall_8: 0.9497\n",
      "Epoch 4/30\n",
      "84/84 [==============================] - 10s 115ms/step - loss: 0.3807 - accuracy: 0.8380 - recall_8: 0.9432 - val_loss: 0.3670 - val_accuracy: 0.8255 - val_recall_8: 0.9832\n",
      "Epoch 5/30\n",
      "84/84 [==============================] - 10s 114ms/step - loss: 0.3383 - accuracy: 0.8543 - recall_8: 0.9355 - val_loss: 0.3351 - val_accuracy: 0.8581 - val_recall_8: 0.8955\n",
      "Epoch 6/30\n",
      "84/84 [==============================] - 10s 114ms/step - loss: 0.3083 - accuracy: 0.8701 - recall_8: 0.9371 - val_loss: 0.3879 - val_accuracy: 0.8255 - val_recall_8: 0.8168\n",
      "Epoch 7/30\n",
      "84/84 [==============================] - 10s 115ms/step - loss: 0.2875 - accuracy: 0.8768 - recall_8: 0.9368 - val_loss: 0.3067 - val_accuracy: 0.8639 - val_recall_8: 0.9484\n",
      "Epoch 8/30\n",
      "84/84 [==============================] - 9s 113ms/step - loss: 0.2809 - accuracy: 0.8809 - recall_8: 0.9377 - val_loss: 0.2920 - val_accuracy: 0.8696 - val_recall_8: 0.9419\n",
      "Epoch 9/30\n",
      "84/84 [==============================] - 10s 115ms/step - loss: 0.2713 - accuracy: 0.8886 - recall_8: 0.9432 - val_loss: 0.3301 - val_accuracy: 0.8562 - val_recall_8: 0.9806\n",
      "Epoch 10/30\n",
      "84/84 [==============================] - 10s 115ms/step - loss: 0.2676 - accuracy: 0.8895 - recall_8: 0.9442 - val_loss: 0.2916 - val_accuracy: 0.8686 - val_recall_8: 0.9148\n",
      "Epoch 11/30\n",
      "84/84 [==============================] - 10s 115ms/step - loss: 0.2587 - accuracy: 0.8931 - recall_8: 0.9410 - val_loss: 0.2886 - val_accuracy: 0.8706 - val_recall_8: 0.9419\n",
      "Epoch 12/30\n",
      "84/84 [==============================] - 10s 114ms/step - loss: 0.2559 - accuracy: 0.8946 - recall_8: 0.9465 - val_loss: 0.2886 - val_accuracy: 0.8706 - val_recall_8: 0.9058\n",
      "Epoch 13/30\n",
      "84/84 [==============================] - 10s 116ms/step - loss: 0.2520 - accuracy: 0.9001 - recall_8: 0.9458 - val_loss: 0.2816 - val_accuracy: 0.8696 - val_recall_8: 0.9329\n",
      "Epoch 14/30\n",
      "84/84 [==============================] - 10s 114ms/step - loss: 0.2488 - accuracy: 0.8977 - recall_8: 0.9461 - val_loss: 0.3325 - val_accuracy: 0.8571 - val_recall_8: 0.9781\n",
      "Epoch 15/30\n",
      "84/84 [==============================] - 10s 115ms/step - loss: 0.2507 - accuracy: 0.8982 - recall_8: 0.9458 - val_loss: 0.3208 - val_accuracy: 0.8629 - val_recall_8: 0.8645\n",
      "Epoch 16/30\n",
      "84/84 [==============================] - 10s 117ms/step - loss: 0.2420 - accuracy: 0.9034 - recall_8: 0.9503 - val_loss: 0.2740 - val_accuracy: 0.8715 - val_recall_8: 0.9329\n",
      "Epoch 17/30\n",
      "84/84 [==============================] - 10s 114ms/step - loss: 0.2382 - accuracy: 0.9041 - recall_8: 0.9481 - val_loss: 0.2757 - val_accuracy: 0.8706 - val_recall_8: 0.9471\n",
      "Epoch 18/30\n",
      "84/84 [==============================] - 10s 114ms/step - loss: 0.2299 - accuracy: 0.9089 - recall_8: 0.9535 - val_loss: 0.2787 - val_accuracy: 0.8792 - val_recall_8: 0.9123\n",
      "Epoch 19/30\n",
      "84/84 [==============================] - 10s 114ms/step - loss: 0.2322 - accuracy: 0.9008 - recall_8: 0.9439 - val_loss: 0.3174 - val_accuracy: 0.8715 - val_recall_8: 0.8723\n",
      "Epoch 20/30\n",
      "84/84 [==============================] - 9s 112ms/step - loss: 0.2278 - accuracy: 0.9049 - recall_8: 0.9484 - val_loss: 0.2668 - val_accuracy: 0.8773 - val_recall_8: 0.9406\n",
      "Epoch 21/30\n",
      "84/84 [==============================] - 10s 115ms/step - loss: 0.2279 - accuracy: 0.9046 - recall_8: 0.9490 - val_loss: 0.2646 - val_accuracy: 0.8811 - val_recall_8: 0.9432\n",
      "Epoch 22/30\n",
      "84/84 [==============================] - 10s 115ms/step - loss: 0.2213 - accuracy: 0.9073 - recall_8: 0.9506 - val_loss: 0.2795 - val_accuracy: 0.8821 - val_recall_8: 0.8994\n",
      "Epoch 23/30\n",
      "84/84 [==============================] - 10s 119ms/step - loss: 0.2192 - accuracy: 0.9111 - recall_8: 0.9494 - val_loss: 0.2622 - val_accuracy: 0.8802 - val_recall_8: 0.9484\n",
      "Epoch 24/30\n",
      "84/84 [==============================] - 10s 117ms/step - loss: 0.2172 - accuracy: 0.9101 - recall_8: 0.9503 - val_loss: 0.3452 - val_accuracy: 0.8495 - val_recall_8: 0.8335\n",
      "Epoch 25/30\n",
      "84/84 [==============================] - 10s 121ms/step - loss: 0.2145 - accuracy: 0.9152 - recall_8: 0.9526 - val_loss: 0.2560 - val_accuracy: 0.8897 - val_recall_8: 0.9329\n",
      "Epoch 26/30\n",
      "84/84 [==============================] - 10s 116ms/step - loss: 0.2128 - accuracy: 0.9106 - recall_8: 0.9490 - val_loss: 0.2517 - val_accuracy: 0.8888 - val_recall_8: 0.9381\n",
      "Epoch 27/30\n",
      "84/84 [==============================] - 10s 117ms/step - loss: 0.2105 - accuracy: 0.9121 - recall_8: 0.9526 - val_loss: 0.2560 - val_accuracy: 0.8878 - val_recall_8: 0.9174\n",
      "Epoch 28/30\n",
      "84/84 [==============================] - 10s 115ms/step - loss: 0.2100 - accuracy: 0.9142 - recall_8: 0.9529 - val_loss: 0.2491 - val_accuracy: 0.8888 - val_recall_8: 0.9368\n",
      "Epoch 29/30\n",
      "84/84 [==============================] - 10s 113ms/step - loss: 0.2060 - accuracy: 0.9152 - recall_8: 0.9523 - val_loss: 0.2590 - val_accuracy: 0.8945 - val_recall_8: 0.9187\n",
      "Epoch 30/30\n",
      "84/84 [==============================] - 10s 118ms/step - loss: 0.2006 - accuracy: 0.9192 - recall_8: 0.9565 - val_loss: 0.2532 - val_accuracy: 0.8926 - val_recall_8: 0.9252\n"
     ]
    },
    {
     "data": {
      "text/plain": [
       "<tensorflow.python.keras.callbacks.History at 0x2a9365d93d0>"
      ]
     },
     "execution_count": 65,
     "metadata": {},
     "output_type": "execute_result"
    }
   ],
   "source": [
    "simple_cnn.fit(train_images, \n",
    "               train_labels, \n",
    "               epochs=30, \n",
    "               batch_size=50, \n",
    "               validation_data=(val_images, val_labels))"
   ]
  },
  {
   "cell_type": "code",
   "execution_count": 66,
   "id": "0df3810b",
   "metadata": {},
   "outputs": [
    {
     "name": "stdout",
     "output_type": "stream",
     "text": [
      "131/131 [==============================] - 2s 15ms/step - loss: 0.1921 - accuracy: 0.9221 - recall_8: 0.9532\n"
     ]
    },
    {
     "data": {
      "text/plain": [
       "[0.19208413362503052, 0.9221183657646179, 0.9532257914543152]"
      ]
     },
     "execution_count": 66,
     "metadata": {},
     "output_type": "execute_result"
    }
   ],
   "source": [
    "simple_cnn_train = simple_cnn.evaluate(train_images, train_labels)\n",
    "simple_cnn_train"
   ]
  },
  {
   "cell_type": "code",
   "execution_count": 67,
   "id": "8a66a495",
   "metadata": {},
   "outputs": [
    {
     "name": "stdout",
     "output_type": "stream",
     "text": [
      "33/33 [==============================] - 0s 13ms/step - loss: 0.2532 - accuracy: 0.8926 - recall_8: 0.9252\n"
     ]
    },
    {
     "data": {
      "text/plain": [
       "[0.2531707286834717, 0.8926174640655518, 0.9251613020896912]"
      ]
     },
     "execution_count": 67,
     "metadata": {},
     "output_type": "execute_result"
    }
   ],
   "source": [
    "simple_cnn_val = simple_cnn.evaluate(val_images, val_labels)\n",
    "simple_cnn_val"
   ]
  },
  {
   "cell_type": "code",
   "execution_count": 68,
   "id": "a24ec29c",
   "metadata": {},
   "outputs": [],
   "source": [
    "metrics_dict = {}"
   ]
  },
  {
   "cell_type": "code",
   "execution_count": 69,
   "id": "57be3a8b",
   "metadata": {},
   "outputs": [
    {
     "data": {
      "text/plain": [
       "{'Simple CNN': {'loss': 0.2531707286834717,\n",
       "  'accuracy': 0.8926174640655518,\n",
       "  'recall': 0.9251613020896912}}"
      ]
     },
     "execution_count": 69,
     "metadata": {},
     "output_type": "execute_result"
    }
   ],
   "source": [
    "#saving validation scores to dictionary\n",
    "metrics_to_dict('Simple CNN', simple_cnn_val, metrics_dict)"
   ]
  },
  {
   "cell_type": "markdown",
   "id": "fd8c3d1a",
   "metadata": {},
   "source": [
    "This first CNN model had better accuracy and recall scores on the training data, suggesting some overfitting was occurring.\n",
    "\n",
    "Compared to the dense model, the CNN model improved on both accuracy and recall. Accuracy was higher by ~2% and recall saw a slight increase of about 0.7% on the validation data. Given the improved accuracy scores and the comparable recall scores, we concluded that this first CNN model was an improvement over our initial dense layer model and decided to iterate upon this CNN model."
   ]
  },
  {
   "cell_type": "markdown",
   "id": "be953f4d",
   "metadata": {},
   "source": [
    "### Iterating on CNN Models"
   ]
  },
  {
   "cell_type": "markdown",
   "id": "5b5275bc",
   "metadata": {},
   "source": [
    "Our first CNN model had better accuracy than the dummy model and slightly better than the dense model. We added more convolutional layers for our next model to increase model complexity and improve accuracy."
   ]
  },
  {
   "cell_type": "markdown",
   "id": "11b09f9b",
   "metadata": {},
   "source": [
    "The first CNN model also showed signs of overfitting. We employed several techniques in our modeling iterations to attempt to address this. Our first technique was adding a dropout layer before the dense layer of the CNN. We also added early stopping to prevent our model from continuing to train if there was no reduction in validation error after a certain number of epochs."
   ]
  },
  {
   "cell_type": "code",
   "execution_count": 19,
   "id": "35ff3f2a",
   "metadata": {},
   "outputs": [],
   "source": [
    "#EarlyStopping object to add to callbacks parameter in .fit\n",
    "#if there is no reduction in val_loss of at least 0.01 by 8 epochs, stop the fit\n",
    "earlystop = EarlyStopping(monitor='val_loss', min_delta=0.01, patience=8, mode = 'min')"
   ]
  },
  {
   "cell_type": "code",
   "execution_count": 22,
   "id": "6074eae8",
   "metadata": {},
   "outputs": [
    {
     "name": "stdout",
     "output_type": "stream",
     "text": [
      "Model: \"sequential_2\"\n",
      "_________________________________________________________________\n",
      "Layer (type)                 Output Shape              Param #   \n",
      "=================================================================\n",
      "conv2d_6 (Conv2D)            (None, 63, 63, 32)        160       \n",
      "_________________________________________________________________\n",
      "max_pooling2d_6 (MaxPooling2 (None, 31, 31, 32)        0         \n",
      "_________________________________________________________________\n",
      "conv2d_7 (Conv2D)            (None, 30, 30, 64)        8256      \n",
      "_________________________________________________________________\n",
      "max_pooling2d_7 (MaxPooling2 (None, 15, 15, 64)        0         \n",
      "_________________________________________________________________\n",
      "conv2d_8 (Conv2D)            (None, 14, 14, 128)       32896     \n",
      "_________________________________________________________________\n",
      "max_pooling2d_8 (MaxPooling2 (None, 7, 7, 128)         0         \n",
      "_________________________________________________________________\n",
      "flatten_2 (Flatten)          (None, 6272)              0         \n",
      "_________________________________________________________________\n",
      "dropout (Dropout)            (None, 6272)              0         \n",
      "_________________________________________________________________\n",
      "dense_4 (Dense)              (None, 64)                401472    \n",
      "_________________________________________________________________\n",
      "dense_5 (Dense)              (None, 1)                 65        \n",
      "=================================================================\n",
      "Total params: 442,849\n",
      "Trainable params: 442,849\n",
      "Non-trainable params: 0\n",
      "_________________________________________________________________\n"
     ]
    }
   ],
   "source": [
    "cnn_2 = models.Sequential()\n",
    "\n",
    "#3 pairs of convolutional and pooling layers\n",
    "#filter size changed to 2,2\n",
    "cnn_2.add(layers.Conv2D(filters=32, kernel_size=(2,2), activation='relu', \n",
    "          input_shape=(64, 64, 1)))\n",
    "cnn_2.add(layers.MaxPooling2D(pool_size=(2,2)))\n",
    "cnn_2.add(layers.Conv2D(filters=64, kernel_size=(2,2), activation='relu'))\n",
    "cnn_2.add(layers.MaxPooling2D(pool_size=(2,2)))\n",
    "cnn_2.add(layers.Conv2D(filters=128, kernel_size=(2,2), activation='relu'))\n",
    "cnn_2.add(layers.MaxPooling2D(pool_size=(2,2)))\n",
    "\n",
    "#single dense layer\n",
    "#one dropout layer\n",
    "cnn_2.add(layers.Flatten())\n",
    "cnn_2.add(layers.Dropout(0.5))\n",
    "cnn_2.add(layers.Dense(64, activation='relu'))\n",
    "\n",
    "#output layer\n",
    "cnn_2.add(layers.Dense(1, activation='sigmoid'))\n",
    "cnn_2.summary()"
   ]
  },
  {
   "cell_type": "code",
   "execution_count": 23,
   "id": "81aa9027",
   "metadata": {},
   "outputs": [],
   "source": [
    "cnn_2.compile(optimizer='sgd', \n",
    "              loss='binary_crossentropy', \n",
    "              metrics=['accuracy', tf.keras.metrics.Recall()])"
   ]
  },
  {
   "cell_type": "code",
   "execution_count": 24,
   "id": "616bd58f",
   "metadata": {
    "scrolled": true
   },
   "outputs": [
    {
     "name": "stdout",
     "output_type": "stream",
     "text": [
      "Epoch 1/20\n",
      "140/140 [==============================] - 10s 67ms/step - loss: 0.4907 - accuracy: 0.7441 - recall: 0.9910 - val_loss: 0.3523 - val_accuracy: 0.8600 - val_recall: 0.9729\n",
      "Epoch 2/20\n",
      "140/140 [==============================] - 15s 107ms/step - loss: 0.3306 - accuracy: 0.8639 - recall: 0.9748 - val_loss: 0.3211 - val_accuracy: 0.8696 - val_recall: 0.9781\n",
      "Epoch 3/20\n",
      "140/140 [==============================] - 16s 112ms/step - loss: 0.3017 - accuracy: 0.8905 - recall: 0.9552 - val_loss: 0.3302 - val_accuracy: 0.8706 - val_recall: 0.8426\n",
      "Epoch 4/20\n",
      "140/140 [==============================] - 15s 110ms/step - loss: 0.2694 - accuracy: 0.9070 - recall: 0.9526 - val_loss: 0.2382 - val_accuracy: 0.8965 - val_recall: 0.8916\n",
      "Epoch 5/20\n",
      "140/140 [==============================] - 15s 110ms/step - loss: 0.1931 - accuracy: 0.9216 - recall: 0.9487 - val_loss: 0.1890 - val_accuracy: 0.9214 - val_recall: 0.9200\n",
      "Epoch 6/20\n",
      "140/140 [==============================] - 16s 111ms/step - loss: 0.1783 - accuracy: 0.9305 - recall: 0.9519 - val_loss: 0.1763 - val_accuracy: 0.9300 - val_recall: 0.9316\n",
      "Epoch 7/20\n",
      "140/140 [==============================] - 13s 94ms/step - loss: 0.1699 - accuracy: 0.9336 - recall: 0.9561 - val_loss: 0.1763 - val_accuracy: 0.9271 - val_recall: 0.9329\n",
      "Epoch 8/20\n",
      "140/140 [==============================] - 8s 59ms/step - loss: 0.1594 - accuracy: 0.9358 - recall: 0.9558 - val_loss: 0.1536 - val_accuracy: 0.9396 - val_recall: 0.9523\n",
      "Epoch 9/20\n",
      "140/140 [==============================] - 9s 61ms/step - loss: 0.1474 - accuracy: 0.9389 - recall: 0.9603 - val_loss: 0.1758 - val_accuracy: 0.9223 - val_recall: 0.9148\n",
      "Epoch 10/20\n",
      "140/140 [==============================] - 9s 64ms/step - loss: 0.1367 - accuracy: 0.9490 - recall: 0.9635 - val_loss: 0.1437 - val_accuracy: 0.9453 - val_recall: 0.9574\n",
      "Epoch 11/20\n",
      "140/140 [==============================] - 9s 63ms/step - loss: 0.1285 - accuracy: 0.9547 - recall: 0.9681 - val_loss: 0.1588 - val_accuracy: 0.9291 - val_recall: 0.9394\n",
      "Epoch 12/20\n",
      "140/140 [==============================] - 9s 64ms/step - loss: 0.1285 - accuracy: 0.9526 - recall: 0.9665 - val_loss: 0.1662 - val_accuracy: 0.9358 - val_recall: 0.9781\n",
      "Epoch 13/20\n",
      "140/140 [==============================] - 15s 110ms/step - loss: 0.1274 - accuracy: 0.9526 - recall: 0.9674 - val_loss: 0.1546 - val_accuracy: 0.9473 - val_recall: 0.9639\n",
      "Epoch 14/20\n",
      "140/140 [==============================] - 15s 109ms/step - loss: 0.1177 - accuracy: 0.9540 - recall: 0.9706 - val_loss: 0.1724 - val_accuracy: 0.9281 - val_recall: 0.9239\n",
      "Epoch 15/20\n",
      "140/140 [==============================] - 15s 109ms/step - loss: 0.1099 - accuracy: 0.9561 - recall: 0.9703 - val_loss: 0.1477 - val_accuracy: 0.9482 - val_recall: 0.9677\n",
      "Epoch 16/20\n",
      "140/140 [==============================] - 15s 109ms/step - loss: 0.1138 - accuracy: 0.9542 - recall: 0.9687 - val_loss: 0.1735 - val_accuracy: 0.9329 - val_recall: 0.9355\n"
     ]
    },
    {
     "data": {
      "text/plain": [
       "<tensorflow.python.keras.callbacks.History at 0x1920396a340>"
      ]
     },
     "execution_count": 24,
     "metadata": {},
     "output_type": "execute_result"
    }
   ],
   "source": [
    "cnn_2.fit(train_images, \n",
    "          train_labels, \n",
    "          epochs=20, \n",
    "          batch_size=30, \n",
    "          validation_data=(val_images, val_labels), \n",
    "          callbacks=[earlystop])"
   ]
  },
  {
   "cell_type": "code",
   "execution_count": 25,
   "id": "76a7651d",
   "metadata": {},
   "outputs": [
    {
     "name": "stdout",
     "output_type": "stream",
     "text": [
      "131/131 [==============================] - 1s 7ms/step - loss: 0.0917 - accuracy: 0.9710 - recall: 0.9719\n"
     ]
    },
    {
     "data": {
      "text/plain": [
       "[0.09174741804599762, 0.971004068851471, 0.971935510635376]"
      ]
     },
     "execution_count": 25,
     "metadata": {},
     "output_type": "execute_result"
    }
   ],
   "source": [
    "cnn_2.evaluate(train_images, train_labels)"
   ]
  },
  {
   "cell_type": "code",
   "execution_count": 175,
   "id": "3c179a64",
   "metadata": {},
   "outputs": [
    {
     "name": "stdout",
     "output_type": "stream",
     "text": [
      "33/33 [==============================] - 0s 7ms/step - loss: 0.1735 - accuracy: 0.9329 - recall: 0.9355\n"
     ]
    },
    {
     "data": {
      "text/plain": [
       "[0.1734742373228073, 0.9328858852386475, 0.9354838728904724]"
      ]
     },
     "execution_count": 175,
     "metadata": {},
     "output_type": "execute_result"
    }
   ],
   "source": [
    "cnn_2_val = cnn_2.evaluate(val_images, val_labels)\n",
    "cnn_2_val"
   ]
  },
  {
   "cell_type": "code",
   "execution_count": 71,
   "id": "505bcc20",
   "metadata": {},
   "outputs": [
    {
     "data": {
      "text/plain": [
       "{'Simple CNN': {'loss': 0.2531707286834717,\n",
       "  'accuracy': 0.8926174640655518,\n",
       "  'recall': 0.9251613020896912},\n",
       " 'CNN_2': {'loss': 0.1734742373228073,\n",
       "  'accuracy': 0.9328858852386475,\n",
       "  'recall': 0.9354838728904724}}"
      ]
     },
     "execution_count": 71,
     "metadata": {},
     "output_type": "execute_result"
    }
   ],
   "source": [
    "#saving validation scores to dictionary\n",
    "metrics_to_dict('CNN_2', cnn_2_val, metrics_dict)"
   ]
  },
  {
   "cell_type": "markdown",
   "id": "6f064664",
   "metadata": {},
   "source": [
    "This second CNN model demonstrated improved accuracy and recall scores compared to previous models. Training metrics were 4% higher than validation metrics, indicating our model was overfit to the training data."
   ]
  },
  {
   "cell_type": "markdown",
   "id": "1f7f2f67",
   "metadata": {},
   "source": [
    "#### Adding Padding and Adjusting Solver"
   ]
  },
  {
   "cell_type": "markdown",
   "id": "4476418f",
   "metadata": {},
   "source": [
    "Our next model included padding in the convolutional layers. This adds additional pixels bordering the images so that a filter can evenly pass over the image without losing information at the edges. With padding, we readjusted the convolutional layer filter sizes. Additionally, the solver in the compiler was changed from 'sgd' to 'adam'. The 'sgd' solver was getting stuck during gradient descent with weights yielding 74.29% accuracy on the training set and a recall of 1.0 (matching the dummy classifier). Switching the solver allowed us to run these models in a more timely manner and continue our modeling iteraitons."
   ]
  },
  {
   "cell_type": "code",
   "execution_count": 52,
   "id": "5ffd530b",
   "metadata": {},
   "outputs": [
    {
     "name": "stdout",
     "output_type": "stream",
     "text": [
      "Model: \"sequential_10\"\n",
      "_________________________________________________________________\n",
      "Layer (type)                 Output Shape              Param #   \n",
      "=================================================================\n",
      "conv2d_30 (Conv2D)           (None, 64, 64, 32)        320       \n",
      "_________________________________________________________________\n",
      "max_pooling2d_30 (MaxPooling (None, 32, 32, 32)        0         \n",
      "_________________________________________________________________\n",
      "conv2d_31 (Conv2D)           (None, 32, 32, 64)        18496     \n",
      "_________________________________________________________________\n",
      "max_pooling2d_31 (MaxPooling (None, 16, 16, 64)        0         \n",
      "_________________________________________________________________\n",
      "conv2d_32 (Conv2D)           (None, 16, 16, 64)        36928     \n",
      "_________________________________________________________________\n",
      "max_pooling2d_32 (MaxPooling (None, 8, 8, 64)          0         \n",
      "_________________________________________________________________\n",
      "flatten_10 (Flatten)         (None, 4096)              0         \n",
      "_________________________________________________________________\n",
      "dense_27 (Dense)             (None, 64)                262208    \n",
      "_________________________________________________________________\n",
      "dropout_8 (Dropout)          (None, 64)                0         \n",
      "_________________________________________________________________\n",
      "dense_28 (Dense)             (None, 64)                4160      \n",
      "_________________________________________________________________\n",
      "dense_29 (Dense)             (None, 1)                 65        \n",
      "=================================================================\n",
      "Total params: 322,177\n",
      "Trainable params: 322,177\n",
      "Non-trainable params: 0\n",
      "_________________________________________________________________\n"
     ]
    }
   ],
   "source": [
    "cnn_3 = models.Sequential()\n",
    "\n",
    "#3 pairs of convolutional and pooling layers\n",
    "#filter size changed to 3,3 with padding of 1\n",
    "cnn_3.add(layers.Conv2D(filters=32, kernel_size=(3,3), padding='same', activation='relu', \n",
    "          input_shape=(64, 64, 1)))\n",
    "cnn_3.add(layers.MaxPooling2D(pool_size=(2,2)))\n",
    "cnn_3.add(layers.Conv2D(filters=64, kernel_size=(3,3), padding='same', activation='relu'))\n",
    "cnn_3.add(layers.MaxPooling2D(pool_size=(2,2)))\n",
    "cnn_3.add(layers.Conv2D(filters=64, kernel_size=(3,3), padding='same', activation='relu'))\n",
    "cnn_3.add(layers.MaxPooling2D(pool_size=(2,2)))\n",
    "\n",
    "#two dense layers\n",
    "#one dropout layer\n",
    "cnn_3.add(layers.Flatten())\n",
    "cnn_3.add(layers.Dense(64, activation='relu'))\n",
    "cnn_3.add(layers.Dropout(0.5))\n",
    "cnn_3.add(layers.Dense(64, activation='relu'))\n",
    "\n",
    "#output layer\n",
    "cnn_3.add(layers.Dense(1, activation='sigmoid'))\n",
    "\n",
    "cnn_3.summary()"
   ]
  },
  {
   "cell_type": "code",
   "execution_count": 53,
   "id": "158801cc",
   "metadata": {},
   "outputs": [],
   "source": [
    "cnn_3.compile(optimizer='adam', \n",
    "              loss='binary_crossentropy', \n",
    "              metrics=['accuracy', tf.keras.metrics.Recall()])"
   ]
  },
  {
   "cell_type": "code",
   "execution_count": 54,
   "id": "57dc8980",
   "metadata": {
    "scrolled": true
   },
   "outputs": [
    {
     "name": "stdout",
     "output_type": "stream",
     "text": [
      "Epoch 1/20\n",
      "42/42 [==============================] - 7s 143ms/step - loss: 0.5993 - accuracy: 0.7376 - recall_8: 0.9884 - val_loss: 0.5826 - val_accuracy: 0.7430 - val_recall_8: 1.0000\n",
      "Epoch 2/20\n",
      "42/42 [==============================] - 6s 138ms/step - loss: 0.5075 - accuracy: 0.7455 - recall_8: 0.9958 - val_loss: 0.4620 - val_accuracy: 0.7450 - val_recall_8: 1.0000\n",
      "Epoch 3/20\n",
      "42/42 [==============================] - 6s 139ms/step - loss: 0.3634 - accuracy: 0.7961 - recall_8: 0.9510 - val_loss: 0.3249 - val_accuracy: 0.8418 - val_recall_8: 0.8155\n",
      "Epoch 4/20\n",
      "42/42 [==============================] - 6s 140ms/step - loss: 0.3108 - accuracy: 0.8514 - recall_8: 0.9484 - val_loss: 0.2792 - val_accuracy: 0.8917 - val_recall_8: 0.9174\n",
      "Epoch 5/20\n",
      "42/42 [==============================] - 6s 139ms/step - loss: 0.2591 - accuracy: 0.8979 - recall_8: 0.9481 - val_loss: 0.2450 - val_accuracy: 0.9060 - val_recall_8: 0.9329\n",
      "Epoch 6/20\n",
      "42/42 [==============================] - 6s 137ms/step - loss: 0.2428 - accuracy: 0.9125 - recall_8: 0.9481 - val_loss: 0.2926 - val_accuracy: 0.8591 - val_recall_8: 0.8374\n",
      "Epoch 7/20\n",
      "42/42 [==============================] - 6s 138ms/step - loss: 0.2315 - accuracy: 0.9152 - recall_8: 0.9503 - val_loss: 0.2592 - val_accuracy: 0.8811 - val_recall_8: 0.8645\n",
      "Epoch 8/20\n",
      "42/42 [==============================] - 6s 150ms/step - loss: 0.1979 - accuracy: 0.9286 - recall_8: 0.9545 - val_loss: 0.2293 - val_accuracy: 0.9137 - val_recall_8: 0.9471\n",
      "Epoch 9/20\n",
      "42/42 [==============================] - 6s 154ms/step - loss: 0.1852 - accuracy: 0.9367 - recall_8: 0.9623 - val_loss: 0.2058 - val_accuracy: 0.9233 - val_recall_8: 0.9600\n",
      "Epoch 10/20\n",
      "42/42 [==============================] - 7s 155ms/step - loss: 0.1764 - accuracy: 0.9389 - recall_8: 0.9577 - val_loss: 0.2386 - val_accuracy: 0.8878 - val_recall_8: 0.8658\n",
      "Epoch 11/20\n",
      "42/42 [==============================] - 6s 151ms/step - loss: 0.1782 - accuracy: 0.9346 - recall_8: 0.9535 - val_loss: 0.1918 - val_accuracy: 0.9214 - val_recall_8: 0.9342\n",
      "Epoch 12/20\n",
      "42/42 [==============================] - 7s 158ms/step - loss: 0.1711 - accuracy: 0.9415 - recall_8: 0.9535 - val_loss: 0.1803 - val_accuracy: 0.9281 - val_recall_8: 0.9458\n",
      "Epoch 13/20\n",
      "42/42 [==============================] - 7s 157ms/step - loss: 0.1773 - accuracy: 0.9343 - recall_8: 0.9526 - val_loss: 0.2093 - val_accuracy: 0.9175 - val_recall_8: 0.9832\n",
      "Epoch 14/20\n",
      "42/42 [==============================] - 6s 150ms/step - loss: 0.1436 - accuracy: 0.9475 - recall_8: 0.9594 - val_loss: 0.1782 - val_accuracy: 0.9348 - val_recall_8: 0.9535\n",
      "Epoch 15/20\n",
      "42/42 [==============================] - 6s 150ms/step - loss: 0.1391 - accuracy: 0.9518 - recall_8: 0.9632 - val_loss: 0.1744 - val_accuracy: 0.9386 - val_recall_8: 0.9677\n",
      "Epoch 16/20\n",
      "42/42 [==============================] - 6s 152ms/step - loss: 0.1225 - accuracy: 0.9573 - recall_8: 0.9706 - val_loss: 0.1531 - val_accuracy: 0.9444 - val_recall_8: 0.9652\n",
      "Epoch 17/20\n",
      "42/42 [==============================] - 6s 142ms/step - loss: 0.1358 - accuracy: 0.9480 - recall_8: 0.9590 - val_loss: 0.1705 - val_accuracy: 0.9358 - val_recall_8: 0.9574\n",
      "Epoch 18/20\n",
      "42/42 [==============================] - 6s 140ms/step - loss: 0.1144 - accuracy: 0.9566 - recall_8: 0.9658 - val_loss: 0.1707 - val_accuracy: 0.9444 - val_recall_8: 0.9652\n",
      "Epoch 19/20\n",
      "42/42 [==============================] - 6s 141ms/step - loss: 0.1186 - accuracy: 0.9576 - recall_8: 0.9690 - val_loss: 0.1977 - val_accuracy: 0.9262 - val_recall_8: 0.9342\n",
      "Epoch 20/20\n",
      "42/42 [==============================] - 6s 141ms/step - loss: 0.1015 - accuracy: 0.9641 - recall_8: 0.9710 - val_loss: 0.1740 - val_accuracy: 0.9386 - val_recall_8: 0.9652\n"
     ]
    },
    {
     "data": {
      "text/plain": [
       "<tensorflow.python.keras.callbacks.History at 0x1925e6f36d0>"
      ]
     },
     "execution_count": 54,
     "metadata": {},
     "output_type": "execute_result"
    }
   ],
   "source": [
    "cnn_3.fit(train_images, \n",
    "          train_labels, \n",
    "          epochs=20, \n",
    "          batch_size=100, \n",
    "          validation_data=(val_images, val_labels), \n",
    "          callbacks=[earlystop])"
   ]
  },
  {
   "cell_type": "code",
   "execution_count": 55,
   "id": "6929b781",
   "metadata": {},
   "outputs": [
    {
     "name": "stdout",
     "output_type": "stream",
     "text": [
      "131/131 [==============================] - 1s 7ms/step - loss: 0.0840 - accuracy: 0.9727 - recall_8: 0.9884\n"
     ]
    },
    {
     "data": {
      "text/plain": [
       "[0.08403049409389496, 0.9726815223693848, 0.9883871078491211]"
      ]
     },
     "execution_count": 55,
     "metadata": {},
     "output_type": "execute_result"
    }
   ],
   "source": [
    "cnn_3.evaluate(train_images, train_labels)"
   ]
  },
  {
   "cell_type": "code",
   "execution_count": 177,
   "id": "333d27f2",
   "metadata": {},
   "outputs": [
    {
     "name": "stdout",
     "output_type": "stream",
     "text": [
      "33/33 [==============================] - 0s 7ms/step - loss: 0.1740 - accuracy: 0.9386 - recall_8: 0.9652\n"
     ]
    },
    {
     "data": {
      "text/plain": [
       "[0.1739967167377472, 0.9386385679244995, 0.9651612639427185]"
      ]
     },
     "execution_count": 177,
     "metadata": {},
     "output_type": "execute_result"
    }
   ],
   "source": [
    "cnn_3_val = cnn_3.evaluate(val_images, val_labels)\n",
    "cnn_3_val"
   ]
  },
  {
   "cell_type": "code",
   "execution_count": 73,
   "id": "41e9cc75",
   "metadata": {},
   "outputs": [
    {
     "data": {
      "text/plain": [
       "{'Simple CNN': {'loss': 0.2531707286834717,\n",
       "  'accuracy': 0.8926174640655518,\n",
       "  'recall': 0.9251613020896912},\n",
       " 'CNN_2': {'loss': 0.1734742373228073,\n",
       "  'accuracy': 0.9328858852386475,\n",
       "  'recall': 0.9354838728904724},\n",
       " 'CNN_3': {'loss': 0.1739967167377472,\n",
       "  'accuracy': 0.9386385679244995,\n",
       "  'recall': 0.9651612639427185}}"
      ]
     },
     "execution_count": 73,
     "metadata": {},
     "output_type": "execute_result"
    }
   ],
   "source": [
    "#saving validation scores to dictionary\n",
    "metrics_to_dict('CNN_3', cnn_3_val, metrics_dict)"
   ]
  },
  {
   "cell_type": "markdown",
   "id": "4120853d",
   "metadata": {},
   "source": [
    "This third CNN model had comparable accuracy scores (97.3% train, 93.9% validation) to those of the previous model (97.1% train, 93.3% validation). However, the recall scores for this third model were improved at 0.988 for train and 0.965 for validation. "
   ]
  },
  {
   "cell_type": "markdown",
   "id": "ac623fab",
   "metadata": {},
   "source": [
    "So far with our CNN iterations, we've improved the metrics on our validation set: accuracy from 89% to 94% and recall from 93% to 97%. Overfitting was our main concern as we were getting seeing a consistent decrease in our metrics between training and validation evalutations."
   ]
  },
  {
   "cell_type": "markdown",
   "id": "c0f5ba09",
   "metadata": {},
   "source": [
    "#### Adding L2 Regularization"
   ]
  },
  {
   "cell_type": "markdown",
   "id": "bce449df",
   "metadata": {},
   "source": [
    "Dropout was one technique to address overfitting. We also added L2 regularization to our convolution layers to see if that could reduce the overfitting. We tried applying different strengths of L2 regularization. "
   ]
  },
  {
   "cell_type": "code",
   "execution_count": 67,
   "id": "bda3a2c8",
   "metadata": {
    "scrolled": true
   },
   "outputs": [
    {
     "name": "stdout",
     "output_type": "stream",
     "text": [
      "Model: \"sequential_13\"\n",
      "_________________________________________________________________\n",
      "Layer (type)                 Output Shape              Param #   \n",
      "=================================================================\n",
      "conv2d_39 (Conv2D)           (None, 64, 64, 32)        320       \n",
      "_________________________________________________________________\n",
      "max_pooling2d_39 (MaxPooling (None, 32, 32, 32)        0         \n",
      "_________________________________________________________________\n",
      "conv2d_40 (Conv2D)           (None, 32, 32, 64)        18496     \n",
      "_________________________________________________________________\n",
      "max_pooling2d_40 (MaxPooling (None, 16, 16, 64)        0         \n",
      "_________________________________________________________________\n",
      "conv2d_41 (Conv2D)           (None, 16, 16, 64)        36928     \n",
      "_________________________________________________________________\n",
      "max_pooling2d_41 (MaxPooling (None, 8, 8, 64)          0         \n",
      "_________________________________________________________________\n",
      "flatten_13 (Flatten)         (None, 4096)              0         \n",
      "_________________________________________________________________\n",
      "dense_36 (Dense)             (None, 64)                262208    \n",
      "_________________________________________________________________\n",
      "dropout_11 (Dropout)         (None, 64)                0         \n",
      "_________________________________________________________________\n",
      "dense_37 (Dense)             (None, 64)                4160      \n",
      "_________________________________________________________________\n",
      "dense_38 (Dense)             (None, 1)                 65        \n",
      "=================================================================\n",
      "Total params: 322,177\n",
      "Trainable params: 322,177\n",
      "Non-trainable params: 0\n",
      "_________________________________________________________________\n"
     ]
    }
   ],
   "source": [
    "cnn_4 = models.Sequential()\n",
    "\n",
    "#3 pairs of convolutional and pooling layers\n",
    "#filter size changed to 3,3 with padding of 1\n",
    "#added L2 regularization to two convolutional layers with l2 = 0.01\n",
    "cnn_4.add(layers.Conv2D(filters=32, kernel_size=(3,3), padding='same', activation='relu', \n",
    "          input_shape=(64, 64, 1)))\n",
    "cnn_4.add(layers.MaxPooling2D(pool_size=(2,2)))\n",
    "cnn_4.add(layers.Conv2D(filters=64, kernel_size=(3,3), padding='same', activation='relu', kernel_regularizer= l2(l=0.01)))\n",
    "cnn_4.add(layers.MaxPooling2D(pool_size=(2,2)))\n",
    "cnn_4.add(layers.Conv2D(filters=64, kernel_size=(3,3), padding='same', activation='relu', kernel_regularizer= l2(l=0.01)))\n",
    "cnn_4.add(layers.MaxPooling2D(pool_size=(2,2)))\n",
    "\n",
    "#two dense layers\n",
    "#one dropout layer\n",
    "cnn_4.add(layers.Flatten())\n",
    "cnn_4.add(layers.Dense(64, activation='relu'))\n",
    "cnn_4.add(layers.Dropout(0.5))\n",
    "cnn_4.add(layers.Dense(64, activation='relu'))\n",
    "\n",
    "#output layer\n",
    "cnn_4.add(layers.Dense(1, activation='sigmoid'))\n",
    "\n",
    "cnn_4.summary()"
   ]
  },
  {
   "cell_type": "code",
   "execution_count": 68,
   "id": "74d7a2e7",
   "metadata": {},
   "outputs": [],
   "source": [
    "cnn_4.compile(optimizer='adam', \n",
    "              loss='binary_crossentropy', \n",
    "              metrics=['accuracy', tf.keras.metrics.Recall()])"
   ]
  },
  {
   "cell_type": "code",
   "execution_count": 69,
   "id": "1335140c",
   "metadata": {},
   "outputs": [
    {
     "name": "stdout",
     "output_type": "stream",
     "text": [
      "Epoch 1/20\n",
      "140/140 [==============================] - 16s 112ms/step - loss: 0.8092 - accuracy: 0.7366 - recall_11: 0.9874 - val_loss: 0.5932 - val_accuracy: 0.7430 - val_recall_11: 1.0000\n",
      "Epoch 2/20\n",
      "140/140 [==============================] - 18s 131ms/step - loss: 0.5872 - accuracy: 0.7429 - recall_11: 1.0000 - val_loss: 0.5526 - val_accuracy: 0.7430 - val_recall_11: 1.0000\n",
      "Epoch 3/20\n",
      "140/140 [==============================] - 18s 130ms/step - loss: 0.5096 - accuracy: 0.7481 - recall_11: 0.9848 - val_loss: 0.5676 - val_accuracy: 0.6683 - val_recall_11: 0.6181\n",
      "Epoch 4/20\n",
      "140/140 [==============================] - 18s 129ms/step - loss: 0.4067 - accuracy: 0.8229 - recall_11: 0.9235 - val_loss: 0.3343 - val_accuracy: 0.8639 - val_recall_11: 0.9045\n",
      "Epoch 5/20\n",
      "140/140 [==============================] - 18s 127ms/step - loss: 0.3299 - accuracy: 0.8689 - recall_11: 0.9284 - val_loss: 0.3436 - val_accuracy: 0.8629 - val_recall_11: 0.9406\n",
      "Epoch 6/20\n",
      "140/140 [==============================] - 17s 123ms/step - loss: 0.3041 - accuracy: 0.8862 - recall_11: 0.9361 - val_loss: 0.3091 - val_accuracy: 0.8744 - val_recall_11: 0.9135\n",
      "Epoch 7/20\n",
      "140/140 [==============================] - 17s 118ms/step - loss: 0.2807 - accuracy: 0.8931 - recall_11: 0.9374 - val_loss: 0.2992 - val_accuracy: 0.8792 - val_recall_11: 0.9148\n",
      "Epoch 8/20\n",
      "140/140 [==============================] - 17s 120ms/step - loss: 0.2774 - accuracy: 0.8948 - recall_11: 0.9316 - val_loss: 0.3509 - val_accuracy: 0.8734 - val_recall_11: 0.9639\n",
      "Epoch 9/20\n",
      "140/140 [==============================] - 16s 115ms/step - loss: 0.2793 - accuracy: 0.8998 - recall_11: 0.9339 - val_loss: 0.3147 - val_accuracy: 0.8667 - val_recall_11: 0.8581\n",
      "Epoch 10/20\n",
      "140/140 [==============================] - 16s 113ms/step - loss: 0.2590 - accuracy: 0.9058 - recall_11: 0.9358 - val_loss: 0.2629 - val_accuracy: 0.9032 - val_recall_11: 0.9445\n",
      "Epoch 11/20\n",
      "140/140 [==============================] - 16s 115ms/step - loss: 0.2616 - accuracy: 0.9085 - recall_11: 0.9419 - val_loss: 0.2569 - val_accuracy: 0.9032 - val_recall_11: 0.9161\n",
      "Epoch 12/20\n",
      "140/140 [==============================] - 16s 113ms/step - loss: 0.2342 - accuracy: 0.9183 - recall_11: 0.9458 - val_loss: 0.2386 - val_accuracy: 0.9099 - val_recall_11: 0.9419\n",
      "Epoch 13/20\n",
      "140/140 [==============================] - 16s 112ms/step - loss: 0.2314 - accuracy: 0.9197 - recall_11: 0.9526 - val_loss: 0.2308 - val_accuracy: 0.9128 - val_recall_11: 0.9226\n",
      "Epoch 14/20\n",
      "140/140 [==============================] - 16s 113ms/step - loss: 0.2246 - accuracy: 0.9209 - recall_11: 0.9477 - val_loss: 0.2522 - val_accuracy: 0.9156 - val_recall_11: 0.9613\n",
      "Epoch 15/20\n",
      "140/140 [==============================] - 16s 113ms/step - loss: 0.2233 - accuracy: 0.9238 - recall_11: 0.9506 - val_loss: 0.2345 - val_accuracy: 0.9099 - val_recall_11: 0.9148\n",
      "Epoch 16/20\n",
      "140/140 [==============================] - 16s 112ms/step - loss: 0.2216 - accuracy: 0.9260 - recall_11: 0.9490 - val_loss: 0.2244 - val_accuracy: 0.9223 - val_recall_11: 0.9690\n",
      "Epoch 17/20\n",
      "140/140 [==============================] - 16s 112ms/step - loss: 0.2275 - accuracy: 0.9224 - recall_11: 0.9494 - val_loss: 0.2056 - val_accuracy: 0.9358 - val_recall_11: 0.9587\n",
      "Epoch 18/20\n",
      "140/140 [==============================] - 16s 112ms/step - loss: 0.2066 - accuracy: 0.9291 - recall_11: 0.9506 - val_loss: 0.2181 - val_accuracy: 0.9147 - val_recall_11: 0.9110\n",
      "Epoch 19/20\n",
      "140/140 [==============================] - 16s 115ms/step - loss: 0.2021 - accuracy: 0.9339 - recall_11: 0.9558 - val_loss: 0.2115 - val_accuracy: 0.9195 - val_recall_11: 0.9187\n",
      "Epoch 20/20\n",
      "140/140 [==============================] - 16s 115ms/step - loss: 0.1963 - accuracy: 0.9360 - recall_11: 0.9571 - val_loss: 0.2040 - val_accuracy: 0.9310 - val_recall_11: 0.9690\n"
     ]
    },
    {
     "data": {
      "text/plain": [
       "<tensorflow.python.keras.callbacks.History at 0x19262d9a880>"
      ]
     },
     "execution_count": 69,
     "metadata": {},
     "output_type": "execute_result"
    }
   ],
   "source": [
    "cnn_4.fit(train_images, \n",
    "          train_labels, \n",
    "          epochs=20, \n",
    "          batch_size=30, \n",
    "          validation_data=(val_images, val_labels), \n",
    "          callbacks=[earlystop])"
   ]
  },
  {
   "cell_type": "code",
   "execution_count": 70,
   "id": "83f66a71",
   "metadata": {},
   "outputs": [
    {
     "name": "stdout",
     "output_type": "stream",
     "text": [
      "131/131 [==============================] - 1s 10ms/step - loss: 0.1633 - accuracy: 0.9490 - recall_11: 0.9816\n"
     ]
    },
    {
     "data": {
      "text/plain": [
       "[0.16333961486816406, 0.9489575624465942, 0.9816129207611084]"
      ]
     },
     "execution_count": 70,
     "metadata": {},
     "output_type": "execute_result"
    }
   ],
   "source": [
    "cnn_4.evaluate(train_images, train_labels)"
   ]
  },
  {
   "cell_type": "code",
   "execution_count": 71,
   "id": "929341a6",
   "metadata": {},
   "outputs": [
    {
     "name": "stdout",
     "output_type": "stream",
     "text": [
      "33/33 [==============================] - 0s 6ms/step - loss: 0.2040 - accuracy: 0.9310 - recall_11: 0.9690\n"
     ]
    },
    {
     "data": {
      "text/plain": [
       "[0.2040490359067917, 0.9309683442115784, 0.9690322875976562]"
      ]
     },
     "execution_count": 71,
     "metadata": {},
     "output_type": "execute_result"
    }
   ],
   "source": [
    "cnn_4_val = cnn_4.evaluate(val_images, val_labels)\n",
    "cnn_4_val"
   ]
  },
  {
   "cell_type": "code",
   "execution_count": 75,
   "id": "07173f5d",
   "metadata": {},
   "outputs": [
    {
     "data": {
      "text/plain": [
       "{'Simple CNN': {'loss': 0.2531707286834717,\n",
       "  'accuracy': 0.8926174640655518,\n",
       "  'recall': 0.9251613020896912},\n",
       " 'CNN_2': {'loss': 0.1734742373228073,\n",
       "  'accuracy': 0.9328858852386475,\n",
       "  'recall': 0.9354838728904724},\n",
       " 'CNN_3': {'loss': 0.1739967167377472,\n",
       "  'accuracy': 0.9386385679244995,\n",
       "  'recall': 0.9651612639427185},\n",
       " 'CNN_4': {'loss': 0.2040490359067917,\n",
       "  'accuracy': 0.9309683442115784,\n",
       "  'recall': 0.9690322875976562}}"
      ]
     },
     "execution_count": 75,
     "metadata": {},
     "output_type": "execute_result"
    }
   ],
   "source": [
    "#saving validation scores to dictionary\n",
    "metrics_to_dict('CNN_4', cnn_4_val, metrics_dict)"
   ]
  },
  {
   "cell_type": "markdown",
   "id": "f7684e64",
   "metadata": {},
   "source": [
    "With L2 regularization of 0.1, the model appeared to be less overfit at the cost of some accuracy. The difference between train and validation accuracy was 1.8%, compared to a difference of 3.4% in the previous model (cnn_3). Recall scores were very close between the model with regularization and the model without regularization. "
   ]
  },
  {
   "cell_type": "code",
   "execution_count": null,
   "id": "d19c34a3",
   "metadata": {},
   "outputs": [],
   "source": [
    "#cnn_4.save('saved_models/cnn_4')"
   ]
  },
  {
   "cell_type": "markdown",
   "id": "a00ab897",
   "metadata": {},
   "source": [
    "#### Adjusting Regularization Strength"
   ]
  },
  {
   "cell_type": "markdown",
   "id": "fd8bcab9",
   "metadata": {},
   "source": [
    "We also tested a model with the same layer structure except with L2 regularization of 0.001, a larger penalty."
   ]
  },
  {
   "cell_type": "code",
   "execution_count": 72,
   "id": "b1860ca0",
   "metadata": {
    "scrolled": true
   },
   "outputs": [
    {
     "name": "stdout",
     "output_type": "stream",
     "text": [
      "Model: \"sequential_14\"\n",
      "_________________________________________________________________\n",
      "Layer (type)                 Output Shape              Param #   \n",
      "=================================================================\n",
      "conv2d_42 (Conv2D)           (None, 64, 64, 32)        320       \n",
      "_________________________________________________________________\n",
      "max_pooling2d_42 (MaxPooling (None, 32, 32, 32)        0         \n",
      "_________________________________________________________________\n",
      "conv2d_43 (Conv2D)           (None, 32, 32, 64)        18496     \n",
      "_________________________________________________________________\n",
      "max_pooling2d_43 (MaxPooling (None, 16, 16, 64)        0         \n",
      "_________________________________________________________________\n",
      "conv2d_44 (Conv2D)           (None, 16, 16, 64)        36928     \n",
      "_________________________________________________________________\n",
      "max_pooling2d_44 (MaxPooling (None, 8, 8, 64)          0         \n",
      "_________________________________________________________________\n",
      "flatten_14 (Flatten)         (None, 4096)              0         \n",
      "_________________________________________________________________\n",
      "dense_39 (Dense)             (None, 64)                262208    \n",
      "_________________________________________________________________\n",
      "dropout_12 (Dropout)         (None, 64)                0         \n",
      "_________________________________________________________________\n",
      "dense_40 (Dense)             (None, 64)                4160      \n",
      "_________________________________________________________________\n",
      "dense_41 (Dense)             (None, 1)                 65        \n",
      "=================================================================\n",
      "Total params: 322,177\n",
      "Trainable params: 322,177\n",
      "Non-trainable params: 0\n",
      "_________________________________________________________________\n"
     ]
    }
   ],
   "source": [
    "cnn_5 = models.Sequential()\n",
    "\n",
    "#3 pairs of convolutional and pooling layers\n",
    "#filter size changed to 3,3 with padding of 1\n",
    "#added L2 regularization to two convolutional layers with l2 = 0.001\n",
    "cnn_5.add(layers.Conv2D(filters=32, kernel_size=(3,3), padding='same', activation='relu', \n",
    "          input_shape=(64, 64, 1)))\n",
    "cnn_5.add(layers.MaxPooling2D(pool_size=(2,2)))\n",
    "cnn_5.add(layers.Conv2D(filters=64, kernel_size=(3,3), padding='same', activation='relu', kernel_regularizer= l2(l=0.001)))\n",
    "cnn_5.add(layers.MaxPooling2D(pool_size=(2,2)))\n",
    "cnn_5.add(layers.Conv2D(filters=64, kernel_size=(3,3), padding='same', activation='relu', kernel_regularizer= l2(l=0.001)))\n",
    "cnn_5.add(layers.MaxPooling2D(pool_size=(2,2)))\n",
    "\n",
    "#two dense layers\n",
    "#one dropout layer\n",
    "cnn_5.add(layers.Flatten())\n",
    "cnn_5.add(layers.Dense(64, activation='relu'))\n",
    "cnn_5.add(layers.Dropout(0.5))\n",
    "cnn_5.add(layers.Dense(64, activation='relu'))\n",
    "\n",
    "#output layer\n",
    "cnn_5.add(layers.Dense(1, activation='sigmoid'))\n",
    "\n",
    "cnn_5.summary()"
   ]
  },
  {
   "cell_type": "code",
   "execution_count": 73,
   "id": "a67c6ad1",
   "metadata": {},
   "outputs": [],
   "source": [
    "cnn_5.compile(optimizer='adam', \n",
    "              loss='binary_crossentropy', \n",
    "              metrics=['accuracy', tf.keras.metrics.Recall()])"
   ]
  },
  {
   "cell_type": "code",
   "execution_count": 74,
   "id": "80c42a35",
   "metadata": {},
   "outputs": [
    {
     "name": "stdout",
     "output_type": "stream",
     "text": [
      "Epoch 1/20\n",
      "140/140 [==============================] - 16s 111ms/step - loss: 0.5682 - accuracy: 0.7584 - recall_12: 0.9761 - val_loss: 0.3436 - val_accuracy: 0.8581 - val_recall_12: 0.9187\n",
      "Epoch 2/20\n",
      "140/140 [==============================] - 8s 57ms/step - loss: 0.3546 - accuracy: 0.8548 - recall_12: 0.9161 - val_loss: 0.3827 - val_accuracy: 0.8351 - val_recall_12: 0.9871\n",
      "Epoch 3/20\n",
      "140/140 [==============================] - 11s 76ms/step - loss: 0.3024 - accuracy: 0.8845 - recall_12: 0.9332 - val_loss: 0.2961 - val_accuracy: 0.8840 - val_recall_12: 0.8852\n",
      "Epoch 4/20\n",
      "140/140 [==============================] - 10s 72ms/step - loss: 0.2565 - accuracy: 0.9041 - recall_12: 0.9365 - val_loss: 0.2817 - val_accuracy: 0.9003 - val_recall_12: 0.8994\n",
      "Epoch 5/20\n",
      "140/140 [==============================] - 10s 72ms/step - loss: 0.2343 - accuracy: 0.9202 - recall_12: 0.9442 - val_loss: 0.2700 - val_accuracy: 0.9070 - val_recall_12: 0.9652\n",
      "Epoch 6/20\n",
      "140/140 [==============================] - 12s 89ms/step - loss: 0.2145 - accuracy: 0.9245 - recall_12: 0.9503 - val_loss: 0.2346 - val_accuracy: 0.9166 - val_recall_12: 0.9729\n",
      "Epoch 7/20\n",
      "140/140 [==============================] - 16s 118ms/step - loss: 0.2013 - accuracy: 0.9348 - recall_12: 0.9577 - val_loss: 0.2878 - val_accuracy: 0.9012 - val_recall_12: 0.9677\n",
      "Epoch 8/20\n",
      "140/140 [==============================] - 16s 116ms/step - loss: 0.1918 - accuracy: 0.9365 - recall_12: 0.9584 - val_loss: 0.2184 - val_accuracy: 0.9262 - val_recall_12: 0.9394\n",
      "Epoch 9/20\n",
      "140/140 [==============================] - 16s 117ms/step - loss: 0.1785 - accuracy: 0.9463 - recall_12: 0.9639 - val_loss: 0.1820 - val_accuracy: 0.9377 - val_recall_12: 0.9471\n",
      "Epoch 10/20\n",
      "140/140 [==============================] - 16s 115ms/step - loss: 0.1780 - accuracy: 0.9418 - recall_12: 0.9590 - val_loss: 0.2538 - val_accuracy: 0.9012 - val_recall_12: 0.9071\n",
      "Epoch 11/20\n",
      "140/140 [==============================] - 16s 114ms/step - loss: 0.1689 - accuracy: 0.9437 - recall_12: 0.9606 - val_loss: 0.2110 - val_accuracy: 0.9185 - val_recall_12: 0.9097\n",
      "Epoch 12/20\n",
      "140/140 [==============================] - 10s 75ms/step - loss: 0.1682 - accuracy: 0.9494 - recall_12: 0.9642 - val_loss: 0.1791 - val_accuracy: 0.9377 - val_recall_12: 0.9394\n",
      "Epoch 13/20\n",
      "140/140 [==============================] - 9s 65ms/step - loss: 0.1518 - accuracy: 0.9540 - recall_12: 0.9674 - val_loss: 0.1804 - val_accuracy: 0.9348 - val_recall_12: 0.9381\n",
      "Epoch 14/20\n",
      "140/140 [==============================] - 7s 53ms/step - loss: 0.1441 - accuracy: 0.9581 - recall_12: 0.9697 - val_loss: 0.1800 - val_accuracy: 0.9473 - val_recall_12: 0.9510\n",
      "Epoch 15/20\n",
      "140/140 [==============================] - 8s 57ms/step - loss: 0.1414 - accuracy: 0.9583 - recall_12: 0.9710 - val_loss: 0.1838 - val_accuracy: 0.9396 - val_recall_12: 0.9303\n",
      "Epoch 16/20\n",
      "140/140 [==============================] - 8s 56ms/step - loss: 0.1416 - accuracy: 0.9581 - recall_12: 0.9723 - val_loss: 0.2092 - val_accuracy: 0.9300 - val_recall_12: 0.9897\n",
      "Epoch 17/20\n",
      "140/140 [==============================] - 11s 82ms/step - loss: 0.1297 - accuracy: 0.9619 - recall_12: 0.9752 - val_loss: 0.1951 - val_accuracy: 0.9434 - val_recall_12: 0.9587\n"
     ]
    },
    {
     "data": {
      "text/plain": [
       "<tensorflow.python.keras.callbacks.History at 0x19264677b20>"
      ]
     },
     "execution_count": 74,
     "metadata": {},
     "output_type": "execute_result"
    }
   ],
   "source": [
    "cnn_5.fit(train_images, \n",
    "          train_labels, \n",
    "          epochs=20, \n",
    "          batch_size=30, \n",
    "          validation_data=(val_images, val_labels), \n",
    "          callbacks=[earlystop])"
   ]
  },
  {
   "cell_type": "code",
   "execution_count": 75,
   "id": "50d4b7b7",
   "metadata": {},
   "outputs": [
    {
     "name": "stdout",
     "output_type": "stream",
     "text": [
      "131/131 [==============================] - 1s 10ms/step - loss: 0.0988 - accuracy: 0.9739 - recall_12: 0.9832\n"
     ]
    },
    {
     "data": {
      "text/plain": [
       "[0.0987720713019371, 0.9738796949386597, 0.9832258224487305]"
      ]
     },
     "execution_count": 75,
     "metadata": {},
     "output_type": "execute_result"
    }
   ],
   "source": [
    "cnn_5.evaluate(train_images, train_labels)"
   ]
  },
  {
   "cell_type": "code",
   "execution_count": 185,
   "id": "e1517590",
   "metadata": {},
   "outputs": [
    {
     "name": "stdout",
     "output_type": "stream",
     "text": [
      "33/33 [==============================] - 0s 9ms/step - loss: 0.1951 - accuracy: 0.9434 - recall_12: 0.9587\n"
     ]
    },
    {
     "data": {
      "text/plain": [
       "[0.19512240588665009, 0.9434323906898499, 0.9587096571922302]"
      ]
     },
     "execution_count": 185,
     "metadata": {},
     "output_type": "execute_result"
    }
   ],
   "source": [
    "cnn_5_val = cnn_5.evaluate(val_images, val_labels)\n",
    "cnn_5_val"
   ]
  },
  {
   "cell_type": "code",
   "execution_count": 77,
   "id": "13ce9b30",
   "metadata": {},
   "outputs": [
    {
     "data": {
      "text/plain": [
       "{'Simple CNN': {'loss': 0.2531707286834717,\n",
       "  'accuracy': 0.8926174640655518,\n",
       "  'recall': 0.9251613020896912},\n",
       " 'CNN_2': {'loss': 0.1734742373228073,\n",
       "  'accuracy': 0.9328858852386475,\n",
       "  'recall': 0.9354838728904724},\n",
       " 'CNN_3': {'loss': 0.1739967167377472,\n",
       "  'accuracy': 0.9386385679244995,\n",
       "  'recall': 0.9651612639427185},\n",
       " 'CNN_4': {'loss': 0.2040490359067917,\n",
       "  'accuracy': 0.9309683442115784,\n",
       "  'recall': 0.9690322875976562},\n",
       " 'CNN_5': {'loss': 0.19512240588665009,\n",
       "  'accuracy': 0.9434323906898499,\n",
       "  'recall': 0.9587096571922302}}"
      ]
     },
     "execution_count": 77,
     "metadata": {},
     "output_type": "execute_result"
    }
   ],
   "source": [
    "#saving validation scores to dictionary\n",
    "metrics_to_dict('CNN_5', cnn_5_val, metrics_dict)"
   ]
  },
  {
   "cell_type": "markdown",
   "id": "b9461bba",
   "metadata": {},
   "source": [
    "For this model with L2 regularization of 0.001, the difference in accuracy between train and validation was 3%. Adding this level of regularization did not improve overfitting compared against models with no regularization. "
   ]
  },
  {
   "cell_type": "markdown",
   "id": "1051f34a",
   "metadata": {},
   "source": [
    "#### Revisiting Previous Model with more Epochs"
   ]
  },
  {
   "cell_type": "markdown",
   "id": "63833b13",
   "metadata": {},
   "source": [
    "With regularization and dropout, we managed to reduce overfitting in one of our models at the cost of some accuracy. We tried running the regularized model with more epochs to see if we could increase model accuracy without re-introducing overfitting. Training the model for additional epochs could diminish the overfitting reduction from regularization."
   ]
  },
  {
   "cell_type": "code",
   "execution_count": 102,
   "id": "754d0a38",
   "metadata": {},
   "outputs": [
    {
     "name": "stdout",
     "output_type": "stream",
     "text": [
      "Epoch 1/10\n",
      "140/140 [==============================] - 16s 112ms/step - loss: 0.1914 - accuracy: 0.9396 - recall_11: 0.9594 - val_loss: 0.2173 - val_accuracy: 0.9223 - val_recall_11: 0.9252\n",
      "Epoch 2/10\n",
      "140/140 [==============================] - 16s 112ms/step - loss: 0.1827 - accuracy: 0.9425 - recall_11: 0.9616 - val_loss: 0.1959 - val_accuracy: 0.9329 - val_recall_11: 0.9574\n",
      "Epoch 3/10\n",
      "140/140 [==============================] - 16s 111ms/step - loss: 0.1832 - accuracy: 0.9401 - recall_11: 0.9548 - val_loss: 0.1989 - val_accuracy: 0.9319 - val_recall_11: 0.9510\n",
      "Epoch 4/10\n",
      "140/140 [==============================] - 16s 112ms/step - loss: 0.1708 - accuracy: 0.9456 - recall_11: 0.9623 - val_loss: 0.1866 - val_accuracy: 0.9348 - val_recall_11: 0.9458\n",
      "Epoch 5/10\n",
      "140/140 [==============================] - 16s 114ms/step - loss: 0.1775 - accuracy: 0.9422 - recall_11: 0.9610 - val_loss: 0.2051 - val_accuracy: 0.9223 - val_recall_11: 0.9329\n",
      "Epoch 6/10\n",
      "140/140 [==============================] - 16s 114ms/step - loss: 0.1897 - accuracy: 0.9382 - recall_11: 0.9568 - val_loss: 0.1829 - val_accuracy: 0.9338 - val_recall_11: 0.9548\n",
      "Epoch 7/10\n",
      "140/140 [==============================] - 16s 113ms/step - loss: 0.1704 - accuracy: 0.9485 - recall_11: 0.9629 - val_loss: 0.2101 - val_accuracy: 0.9214 - val_recall_11: 0.9768\n",
      "Epoch 8/10\n",
      "140/140 [==============================] - 16s 113ms/step - loss: 0.1798 - accuracy: 0.9415 - recall_11: 0.9581 - val_loss: 0.2074 - val_accuracy: 0.9223 - val_recall_11: 0.9677\n",
      "Epoch 9/10\n",
      "140/140 [==============================] - 16s 113ms/step - loss: 0.1670 - accuracy: 0.9461 - recall_11: 0.9626 - val_loss: 0.1882 - val_accuracy: 0.9329 - val_recall_11: 0.9587\n",
      "Epoch 10/10\n",
      "140/140 [==============================] - 16s 113ms/step - loss: 0.1608 - accuracy: 0.9478 - recall_11: 0.9619 - val_loss: 0.1922 - val_accuracy: 0.9338 - val_recall_11: 0.9755\n"
     ]
    },
    {
     "data": {
      "text/plain": [
       "<tensorflow.python.keras.callbacks.History at 0x19269d0baf0>"
      ]
     },
     "execution_count": 102,
     "metadata": {},
     "output_type": "execute_result"
    }
   ],
   "source": [
    "#running cnn_4 (L2 regularization = 0.1) for 10 additional epochs\n",
    "cnn_4.fit(train_images, \n",
    "          train_labels, \n",
    "          epochs=10, \n",
    "          batch_size=30, \n",
    "          validation_data=(val_images, val_labels), \n",
    "          callbacks=[earlystop])"
   ]
  },
  {
   "cell_type": "code",
   "execution_count": 105,
   "id": "fe8e1df4",
   "metadata": {},
   "outputs": [
    {
     "name": "stdout",
     "output_type": "stream",
     "text": [
      "131/131 [==============================] - 1s 10ms/step - loss: 0.1470 - accuracy: 0.9530 - recall_11: 0.9858\n"
     ]
    },
    {
     "data": {
      "text/plain": [
       "[0.14698341488838196, 0.9530314207077026, 0.9858064651489258]"
      ]
     },
     "execution_count": 105,
     "metadata": {},
     "output_type": "execute_result"
    }
   ],
   "source": [
    "cnn_4.evaluate(train_images, train_labels)"
   ]
  },
  {
   "cell_type": "code",
   "execution_count": 181,
   "id": "c6600f69",
   "metadata": {},
   "outputs": [
    {
     "name": "stdout",
     "output_type": "stream",
     "text": [
      "33/33 [==============================] - 0s 5ms/step - loss: 0.1922 - accuracy: 0.9338 - recall_11: 0.9755\n"
     ]
    },
    {
     "data": {
      "text/plain": [
       "[0.19222596287727356, 0.9338446855545044, 0.9754838943481445]"
      ]
     },
     "execution_count": 181,
     "metadata": {},
     "output_type": "execute_result"
    }
   ],
   "source": [
    "cnn_4_val = cnn_4.evaluate(val_images, val_labels)\n",
    "cnn_4_val "
   ]
  },
  {
   "cell_type": "code",
   "execution_count": 81,
   "id": "7f692163",
   "metadata": {},
   "outputs": [
    {
     "data": {
      "text/plain": [
       "{'Simple CNN': {'loss': 0.2531707286834717,\n",
       "  'accuracy': 0.8926174640655518,\n",
       "  'recall': 0.9251613020896912},\n",
       " 'CNN_2': {'loss': 0.1734742373228073,\n",
       "  'accuracy': 0.9328858852386475,\n",
       "  'recall': 0.9354838728904724},\n",
       " 'CNN_3': {'loss': 0.1739967167377472,\n",
       "  'accuracy': 0.9386385679244995,\n",
       "  'recall': 0.9651612639427185},\n",
       " 'CNN_4': {'loss': 0.19222596287727356,\n",
       "  'accuracy': 0.9338446855545044,\n",
       "  'recall': 0.9754838943481445},\n",
       " 'CNN_5': {'loss': 0.19512240588665009,\n",
       "  'accuracy': 0.9434323906898499,\n",
       "  'recall': 0.9587096571922302}}"
      ]
     },
     "execution_count": 81,
     "metadata": {},
     "output_type": "execute_result"
    }
   ],
   "source": [
    "#updating metrics of CNN_4 after running for an additional 10 epochs\n",
    "metrics_to_dict('CNN_4', cnn_4_val, metrics_dict)"
   ]
  },
  {
   "cell_type": "markdown",
   "id": "9ad8a8ab",
   "metadata": {},
   "source": [
    "After running cnn_4 (model with L2 regularization=0.01) for 10 additional epochs, the difference in train vs validation accuracy was 2%, slightly greater than the original 1.8% difference after 20 epochs. Both accuracy and recall had increased slighly after the additional training. While training for additional epochs did reintroduce some overfitting, it seemed the model might have benefitted from the additional training time."
   ]
  },
  {
   "cell_type": "code",
   "execution_count": 108,
   "id": "165d9cc6",
   "metadata": {},
   "outputs": [
    {
     "name": "stdout",
     "output_type": "stream",
     "text": [
      "INFO:tensorflow:Assets written to: saved_models/cnn_4\\assets\n"
     ]
    }
   ],
   "source": [
    "#cnn_4.save('saved_models/cnn_4')"
   ]
  },
  {
   "cell_type": "markdown",
   "id": "9b171428",
   "metadata": {},
   "source": [
    "#### Reducing Model Complexity"
   ]
  },
  {
   "cell_type": "markdown",
   "id": "cef6e62a",
   "metadata": {},
   "source": [
    "One other technique to address overfitting is to reduce model complexity. Our next modeling iteration used fewer convolutional and pooling layers along with regularization.  "
   ]
  },
  {
   "cell_type": "code",
   "execution_count": 116,
   "id": "34b43c0b",
   "metadata": {},
   "outputs": [
    {
     "name": "stdout",
     "output_type": "stream",
     "text": [
      "Model: \"sequential_21\"\n",
      "_________________________________________________________________\n",
      "Layer (type)                 Output Shape              Param #   \n",
      "=================================================================\n",
      "conv2d_61 (Conv2D)           (None, 64, 64, 64)        640       \n",
      "_________________________________________________________________\n",
      "max_pooling2d_61 (MaxPooling (None, 32, 32, 64)        0         \n",
      "_________________________________________________________________\n",
      "conv2d_62 (Conv2D)           (None, 32, 32, 64)        36928     \n",
      "_________________________________________________________________\n",
      "max_pooling2d_62 (MaxPooling (None, 16, 16, 64)        0         \n",
      "_________________________________________________________________\n",
      "flatten_21 (Flatten)         (None, 16384)             0         \n",
      "_________________________________________________________________\n",
      "dropout_19 (Dropout)         (None, 16384)             0         \n",
      "_________________________________________________________________\n",
      "dense_58 (Dense)             (None, 64)                1048640   \n",
      "_________________________________________________________________\n",
      "dense_59 (Dense)             (None, 1)                 65        \n",
      "=================================================================\n",
      "Total params: 1,086,273\n",
      "Trainable params: 1,086,273\n",
      "Non-trainable params: 0\n",
      "_________________________________________________________________\n"
     ]
    }
   ],
   "source": [
    "cnn_6 = models.Sequential()\n",
    "\n",
    "#2 pairs of convolutional and pooling layers\n",
    "#L2 regularization added to second convolutional layer, l2=0.001\n",
    "cnn_6.add(layers.Conv2D(filters=64, kernel_size=(3,3), padding='same', activation='relu', \n",
    "          input_shape=(64, 64, 1)))\n",
    "cnn_6.add(layers.MaxPooling2D(pool_size=(2,2)))\n",
    "cnn_6.add(layers.Conv2D(filters=64, kernel_size=(3,3), padding='same', activation='relu', \n",
    "                              kernel_regularizer= l2(l=0.001)))\n",
    "cnn_6.add(layers.MaxPooling2D(pool_size=(2,2)))\n",
    "\n",
    "#single dense layer\n",
    "#single dropout layer\n",
    "cnn_6.add(layers.Flatten())\n",
    "cnn_6.add(layers.Dropout(0.5))\n",
    "cnn_6.add(layers.Dense(64, activation='relu'))\n",
    "\n",
    "#output layer\n",
    "cnn_6.add(layers.Dense(1, activation='sigmoid'))\n",
    "\n",
    "cnn_6.summary()"
   ]
  },
  {
   "cell_type": "code",
   "execution_count": 117,
   "id": "5707d299",
   "metadata": {},
   "outputs": [],
   "source": [
    "cnn_6.compile(optimizer='adam', \n",
    "              loss='binary_crossentropy', \n",
    "              metrics=['accuracy', tf.keras.metrics.Recall()])"
   ]
  },
  {
   "cell_type": "code",
   "execution_count": 118,
   "id": "80a79dee",
   "metadata": {},
   "outputs": [
    {
     "name": "stdout",
     "output_type": "stream",
     "text": [
      "Epoch 1/20\n",
      "42/42 [==============================] - 6s 143ms/step - loss: 0.5980 - accuracy: 0.7388 - recall_19: 0.9906 - val_loss: 0.4999 - val_accuracy: 0.7430 - val_recall_19: 1.0000\n",
      "Epoch 2/20\n",
      "42/42 [==============================] - 5s 110ms/step - loss: 0.4102 - accuracy: 0.7699 - recall_19: 0.9887 - val_loss: 0.4079 - val_accuracy: 0.8629 - val_recall_19: 0.9226\n",
      "Epoch 3/20\n",
      "42/42 [==============================] - 5s 108ms/step - loss: 0.3674 - accuracy: 0.8629 - recall_19: 0.9713 - val_loss: 0.3668 - val_accuracy: 0.8619 - val_recall_19: 0.9768\n",
      "Epoch 4/20\n",
      "42/42 [==============================] - 5s 108ms/step - loss: 0.3302 - accuracy: 0.8883 - recall_19: 0.9684 - val_loss: 0.4107 - val_accuracy: 0.8226 - val_recall_19: 0.9948\n",
      "Epoch 5/20\n",
      "42/42 [==============================] - 5s 110ms/step - loss: 0.3203 - accuracy: 0.8924 - recall_19: 0.9597 - val_loss: 0.3464 - val_accuracy: 0.8936 - val_recall_19: 0.9187\n",
      "Epoch 6/20\n",
      "42/42 [==============================] - 6s 135ms/step - loss: 0.2988 - accuracy: 0.9068 - recall_19: 0.9648 - val_loss: 0.3411 - val_accuracy: 0.8936 - val_recall_19: 0.9058\n",
      "Epoch 7/20\n",
      "42/42 [==============================] - 6s 138ms/step - loss: 0.3019 - accuracy: 0.9068 - recall_19: 0.9555 - val_loss: 0.3283 - val_accuracy: 0.8955 - val_recall_19: 0.9626\n",
      "Epoch 8/20\n",
      "42/42 [==============================] - 6s 139ms/step - loss: 0.2782 - accuracy: 0.9176 - recall_19: 0.9668 - val_loss: 0.3100 - val_accuracy: 0.9108 - val_recall_19: 0.9368\n",
      "Epoch 9/20\n",
      "42/42 [==============================] - 6s 142ms/step - loss: 0.2764 - accuracy: 0.9236 - recall_19: 0.9639 - val_loss: 0.3419 - val_accuracy: 0.8849 - val_recall_19: 0.9832\n",
      "Epoch 10/20\n",
      "42/42 [==============================] - 6s 141ms/step - loss: 0.2678 - accuracy: 0.9221 - recall_19: 0.9590 - val_loss: 0.2924 - val_accuracy: 0.9156 - val_recall_19: 0.9458\n",
      "Epoch 11/20\n",
      "42/42 [==============================] - 6s 139ms/step - loss: 0.2553 - accuracy: 0.9291 - recall_19: 0.9639 - val_loss: 0.2884 - val_accuracy: 0.9099 - val_recall_19: 0.9755\n",
      "Epoch 12/20\n",
      "42/42 [==============================] - 6s 142ms/step - loss: 0.2440 - accuracy: 0.9339 - recall_19: 0.9655 - val_loss: 0.2830 - val_accuracy: 0.9281 - val_recall_19: 0.9458\n",
      "Epoch 13/20\n",
      "42/42 [==============================] - 6s 140ms/step - loss: 0.2424 - accuracy: 0.9375 - recall_19: 0.9642 - val_loss: 0.2738 - val_accuracy: 0.9262 - val_recall_19: 0.9574\n",
      "Epoch 14/20\n",
      "42/42 [==============================] - 6s 141ms/step - loss: 0.2277 - accuracy: 0.9418 - recall_19: 0.9668 - val_loss: 0.2816 - val_accuracy: 0.9147 - val_recall_19: 0.9226\n",
      "Epoch 15/20\n",
      "42/42 [==============================] - 6s 137ms/step - loss: 0.2269 - accuracy: 0.9406 - recall_19: 0.9652 - val_loss: 0.2651 - val_accuracy: 0.9358 - val_recall_19: 0.9665\n",
      "Epoch 16/20\n",
      "42/42 [==============================] - 6s 138ms/step - loss: 0.2221 - accuracy: 0.9444 - recall_19: 0.9687 - val_loss: 0.2755 - val_accuracy: 0.9070 - val_recall_19: 0.9032\n",
      "Epoch 17/20\n",
      "42/42 [==============================] - 6s 140ms/step - loss: 0.2171 - accuracy: 0.9444 - recall_19: 0.9674 - val_loss: 0.2719 - val_accuracy: 0.9175 - val_recall_19: 0.9213\n",
      "Epoch 18/20\n",
      "42/42 [==============================] - 6s 140ms/step - loss: 0.2084 - accuracy: 0.9492 - recall_19: 0.9723 - val_loss: 0.2713 - val_accuracy: 0.9108 - val_recall_19: 0.9110\n",
      "Epoch 19/20\n",
      "42/42 [==============================] - 6s 132ms/step - loss: 0.2141 - accuracy: 0.9449 - recall_19: 0.9655 - val_loss: 0.2857 - val_accuracy: 0.9118 - val_recall_19: 0.9832\n",
      "Epoch 20/20\n",
      "42/42 [==============================] - 5s 115ms/step - loss: 0.2002 - accuracy: 0.9576 - recall_19: 0.9774 - val_loss: 0.2694 - val_accuracy: 0.9233 - val_recall_19: 0.9819\n"
     ]
    },
    {
     "data": {
      "text/plain": [
       "<tensorflow.python.keras.callbacks.History at 0x1926b811580>"
      ]
     },
     "execution_count": 118,
     "metadata": {},
     "output_type": "execute_result"
    }
   ],
   "source": [
    "cnn_6.fit(train_images, \n",
    "          train_labels, \n",
    "          epochs=20, \n",
    "          batch_size=100, \n",
    "          validation_data=(val_images, val_labels), \n",
    "          callbacks=[earlystop])"
   ]
  },
  {
   "cell_type": "code",
   "execution_count": 119,
   "id": "43614b97",
   "metadata": {},
   "outputs": [
    {
     "name": "stdout",
     "output_type": "stream",
     "text": [
      "131/131 [==============================] - 2s 14ms/step - loss: 0.1919 - accuracy: 0.9456 - recall_19: 0.9871\n"
     ]
    },
    {
     "data": {
      "text/plain": [
       "[0.19192902743816376, 0.9456026554107666, 0.9870967864990234]"
      ]
     },
     "execution_count": 119,
     "metadata": {},
     "output_type": "execute_result"
    }
   ],
   "source": [
    "cnn_6.evaluate(train_images, train_labels)"
   ]
  },
  {
   "cell_type": "code",
   "execution_count": 191,
   "id": "a3e856d3",
   "metadata": {
    "scrolled": true
   },
   "outputs": [
    {
     "name": "stdout",
     "output_type": "stream",
     "text": [
      "33/33 [==============================] - 0s 12ms/step - loss: 0.2694 - accuracy: 0.9233 - recall_19: 0.9819\n"
     ]
    },
    {
     "data": {
      "text/plain": [
       "[0.2693845331668854, 0.923298180103302, 0.9819355010986328]"
      ]
     },
     "execution_count": 191,
     "metadata": {},
     "output_type": "execute_result"
    }
   ],
   "source": [
    "cnn_6_val = cnn_6.evaluate(val_images, val_labels)\n",
    "cnn_6_val"
   ]
  },
  {
   "cell_type": "code",
   "execution_count": 123,
   "id": "2db0eccc",
   "metadata": {},
   "outputs": [
    {
     "name": "stdout",
     "output_type": "stream",
     "text": [
      "INFO:tensorflow:Assets written to: saved_models/cnn_6\\assets\n"
     ]
    }
   ],
   "source": [
    "#cnn_6.save('saved_models/cnn_6')"
   ]
  },
  {
   "cell_type": "code",
   "execution_count": 87,
   "id": "7bbe8dfe",
   "metadata": {},
   "outputs": [
    {
     "data": {
      "text/plain": [
       "{'Simple CNN': {'loss': 0.2531707286834717,\n",
       "  'accuracy': 0.8926174640655518,\n",
       "  'recall': 0.9251613020896912},\n",
       " 'CNN_2': {'loss': 0.1734742373228073,\n",
       "  'accuracy': 0.9328858852386475,\n",
       "  'recall': 0.9354838728904724},\n",
       " 'CNN_3': {'loss': 0.1739967167377472,\n",
       "  'accuracy': 0.9386385679244995,\n",
       "  'recall': 0.9651612639427185},\n",
       " 'CNN_4': {'loss': 0.19222596287727356,\n",
       "  'accuracy': 0.9338446855545044,\n",
       "  'recall': 0.9754838943481445},\n",
       " 'CNN_5': {'loss': 0.19512240588665009,\n",
       "  'accuracy': 0.9434323906898499,\n",
       "  'recall': 0.9587096571922302},\n",
       " 'CNN_6': {'loss': 0.2693845331668854,\n",
       "  'accuracy': 0.923298180103302,\n",
       "  'recall': 0.9819355010986328}}"
      ]
     },
     "execution_count": 87,
     "metadata": {},
     "output_type": "execute_result"
    }
   ],
   "source": [
    "#saving validation scores to dictionary\n",
    "metrics_to_dict('CNN_6', cnn_6_val, metrics_dict)"
   ]
  },
  {
   "cell_type": "markdown",
   "id": "fcde3f9a",
   "metadata": {},
   "source": [
    "Our latest model had the highest validation recall score yet. This model with fewer layers had lower accuracy due to losing some complexity. It still had overfitting issues, but the strong recall metrics stood out to us."
   ]
  },
  {
   "cell_type": "markdown",
   "id": "0467a4c4",
   "metadata": {},
   "source": [
    "All of these model iterations had comparable accuracy values on the validation set, hovering around 93% (give or take a percentage). Models with higher accuracy scores also typically had lower recall scores. Employing regularization, dropout, and complexity reduction did produce some improvements in overfitting. Despite utilizing multiple techniques to address overfitting, none of our models managed to overcome that hurdle. "
   ]
  },
  {
   "cell_type": "code",
   "execution_count": 195,
   "id": "29fc8002",
   "metadata": {},
   "outputs": [],
   "source": [
    "#code for preserving metric dictionary in between Jupyter Notebook sections\n",
    "#try:\n",
    "    #dict_file = open('metrics_dict', 'wb')\n",
    "    #pickle.dump(metrics_dict, dict_file)\n",
    "    #dict_file.close()\n",
    "#except:\n",
    "    #print('Error in saving dicitonary!')"
   ]
  },
  {
   "cell_type": "markdown",
   "id": "a14339a5",
   "metadata": {},
   "source": [
    "## Results"
   ]
  },
  {
   "cell_type": "markdown",
   "id": "f951f473",
   "metadata": {},
   "source": [
    "We created barplots for accuracy and recall on validation data for each of our CNN models to determine which one is our top performer."
   ]
  },
  {
   "cell_type": "code",
   "execution_count": 143,
   "id": "002a8483",
   "metadata": {},
   "outputs": [
    {
     "name": "stdout",
     "output_type": "stream",
     "text": [
      "Accuracy scores:  [89.26, 93.29, 93.86, 93.38, 94.34, 92.33]\n",
      "Recall scores:  [0.93, 0.94, 0.97, 0.98, 0.96, 0.98]\n"
     ]
    }
   ],
   "source": [
    "val_accuracy_scores = []\n",
    "val_recall_scores = []\n",
    "for model in metrics_dict:\n",
    "    val_accuracy_scores.append( round(metrics_dict[model]['accuracy']*100, 2) )\n",
    "    val_recall_scores.append( round(metrics_dict[model]['recall'], 2))\n",
    "print('Accuracy scores: ', val_accuracy_scores)\n",
    "print('Recall scores: ', val_recall_scores)"
   ]
  },
  {
   "cell_type": "code",
   "execution_count": 112,
   "id": "d00283fb",
   "metadata": {},
   "outputs": [
    {
     "data": {
      "image/png": "[encoded data removed]",
      "text/plain": [
       "<Figure size 842.4x612 with 1 Axes>"
      ]
     },
     "metadata": {},
     "output_type": "display_data"
    }
   ],
   "source": [
    "sns.set(rc={'figure.figsize':(11.7,8.5)})\n",
    "sns.barplot(x = list(metrics_dict.keys()), y=val_accuracy_scores)\n",
    "\n",
    "plt.ylim(0, 100)\n",
    "plt.xticks(rotation='45', fontsize=14)\n",
    "plt.title('Accuracy of Different Models', fontsize=22)\n",
    "plt.ylabel('Accuracy %', fontsize=14)\n",
    "plt.xlabel('Model', fontsize=14);\n",
    "#plt.savefig('AccuracyBar.png', dpi=300)"
   ]
  },
  {
   "cell_type": "code",
   "execution_count": 146,
   "id": "3d51970c",
   "metadata": {},
   "outputs": [
    {
     "data": {
      "image/png": "[encoded data removed]",
      "text/plain": [
       "<Figure size 842.4x612 with 1 Axes>"
      ]
     },
     "metadata": {},
     "output_type": "display_data"
    }
   ],
   "source": [
    "sns.set(rc={'figure.figsize':(11.7,8.5)})\n",
    "sns.barplot(x = list(metrics_dict.keys()), y=val_recall_scores)\n",
    "\n",
    "plt.ylim(0, 1)\n",
    "plt.xticks(rotation='45', fontsize=14)\n",
    "plt.title('Recall of Different Models', fontsize=22)\n",
    "plt.ylabel('Recall', fontsize=14)\n",
    "plt.xlabel('Model', fontsize=14);\n",
    "#plt.savefig('RecallBar.png', dpi=300)"
   ]
  },
  {
   "cell_type": "markdown",
   "id": "9acc2ae3",
   "metadata": {},
   "source": [
    "The two bar plots show our model's accuracy and recall scores on the validation data. The simple CNN model had the lowest metric scores which is good news since it means our iterative modeling process improved upon the simple CNN model. Accuracy for all models was similar, hovering above and below 93%. We believed that recall was a more important metric than accuracy. Recall is an indicator of false negative rates. Our focus with this modeling project is to provide a second opinion to doctors and ensure that no child with pneumonia is overlooked. It is more costly and dangerous if pneumonia-positive patients are overlooked and aren't able to receieve treatment quickly. The model is not meant to replace a doctor's diagnosis but rather provide a red flag so that a doctor can re-evaluate their initial diagnosis. When determining our best performing models, we wanted to pick out a model with a strong performance in recall. "
   ]
  },
  {
   "cell_type": "markdown",
   "id": "f6b4f392",
   "metadata": {},
   "source": [
    "Therefore, we decided that CNN 6 is our strongest performing model. It has an accuracy of 92.3% and recall of 98.2% on the validation set. "
   ]
  },
  {
   "cell_type": "markdown",
   "id": "4c039a1e",
   "metadata": {},
   "source": [
    "Now that we have a final model chosen, let's see its performance on the holdout test set."
   ]
  },
  {
   "cell_type": "code",
   "execution_count": 193,
   "id": "31387056",
   "metadata": {},
   "outputs": [
    {
     "name": "stdout",
     "output_type": "stream",
     "text": [
      "20/20 [==============================] - 0s 10ms/step - loss: 0.4669 - accuracy: 0.8606 - recall_19: 0.9821\n"
     ]
    },
    {
     "data": {
      "text/plain": [
       "[0.46690496802330017, 0.8605769276618958, 0.9820512533187866]"
      ]
     },
     "execution_count": 193,
     "metadata": {},
     "output_type": "execute_result"
    }
   ],
   "source": [
    "test_set_metrics = cnn_6.evaluate(test_images, test_labels)\n",
    "test_set_metrics"
   ]
  },
  {
   "cell_type": "markdown",
   "id": "519776c1",
   "metadata": {},
   "source": [
    "The final model has an accuracy of 86% and a recall of 0.98. The low accuracy (compared to train and validation scores) indicated that our model does not do a great job with unseen data, particularly not with this test set. However, the recall score was still strong despite the drop in accuracy. Overfitting was a persistent issue in our modeling process and the scores on the testing data show that future iterations on the model should focus on addressing this issue."
   ]
  },
  {
   "cell_type": "code",
   "execution_count": 117,
   "id": "828d3fba",
   "metadata": {},
   "outputs": [],
   "source": [
    "#importing a pickled model\n",
    "cnn_6 = load_model('saved_models/cnn_6')"
   ]
  },
  {
   "cell_type": "code",
   "execution_count": 141,
   "id": "f1b9a9a2",
   "metadata": {},
   "outputs": [],
   "source": [
    "#getting predictions as probabilities from our final model on the test data\n",
    "preds = cnn_6.predict(test_images)"
   ]
  },
  {
   "cell_type": "code",
   "execution_count": 142,
   "id": "8bd146a9",
   "metadata": {},
   "outputs": [],
   "source": [
    "#getting predicted labels from our prediction probabilities\n",
    "pred_labels = np.where(preds >= 0.5, 1,0)"
   ]
  },
  {
   "cell_type": "code",
   "execution_count": 131,
   "id": "f150a734",
   "metadata": {
    "scrolled": true
   },
   "outputs": [
    {
     "data": {
      "text/plain": [
       "array([[154,  80],\n",
       "       [  7, 383]], dtype=int64)"
      ]
     },
     "execution_count": 131,
     "metadata": {},
     "output_type": "execute_result"
    }
   ],
   "source": [
    "model_cm = confusion_matrix(test_labels, pred_labels)\n",
    "model_cm"
   ]
  },
  {
   "cell_type": "code",
   "execution_count": 140,
   "id": "6e02d1f9",
   "metadata": {},
   "outputs": [
    {
     "data": {
      "image/png": "[encoded data removed]",
      "text/plain": [
       "<Figure size 842.4x612 with 2 Axes>"
      ]
     },
     "metadata": {},
     "output_type": "display_data"
    }
   ],
   "source": [
    "#plotting the Confusion Matrix of our final model's results on the test data\n",
    "disp = ConfusionMatrixDisplay(model_cm, display_labels=['normal', 'pneumonia'])\n",
    "disp.plot()\n",
    "plt.grid(False);\n",
    "#plt.savefig('ConfMat.png', dpi=300)"
   ]
  },
  {
   "cell_type": "markdown",
   "id": "9e3cc87f",
   "metadata": {},
   "source": [
    "Our of 390 pneumonia cases in our test X-ray images, our model correctly identified 383 images and misclassified 7 images. Out of 234 normal cases in our test X-ray images, our model correctly identified 154 and misclassified 80 images. The final model met our goal of minimizing false negative cases with a false-negative rate of 1.8%. Overall accuracy of our model is hindered by its false-positive rate.  "
   ]
  },
  {
   "cell_type": "markdown",
   "id": "00e86ed1",
   "metadata": {},
   "source": [
    "If we were to continue to improve this model, our next steps would be to address overfitting and try increasing image resolution. We could try adding more regularization or dropout layers to hopefully improve this model's ability to predict on unseen data. Additionally, we could better train our model given more data or with higher quality data. Our model is trained on images of 64 x 64 resolution. Increasing resolution could provide more details for the model to learn from at the cost of computational cost. Our training data set consisted of 4,173 images. One way to better train our model is to provide more data to our model through further image augmentation or additional X-ray images. "
   ]
  },
  {
   "cell_type": "markdown",
   "id": "0fe0ce1e",
   "metadata": {},
   "source": [
    "## Conclusion"
   ]
  },
  {
   "cell_type": "markdown",
   "id": "574b23fe",
   "metadata": {},
   "source": [
    "The goal of this project was to construct a CNN model to classify chest X-rays of pediatric patients and identify which X-rays showed indicators of pneumonia. This model could be used as a \"second opinion\" for doctors with the intent of catching all penumonia-positive patients. Since childhood pneumonia can be deadly if not treated, we focused on a model with the lowest false-negative rate.\n",
    "\n",
    "Our final model had an overall accuracy of 86% and a recall of 0.98. Overfitting was one of the major hurdles in our modeling process which we addressed but did not manage eliminate from our models. On unseen data, our model correctly diagnosed 98% of all pneumonia-labeled X-rays. This model met our goal of reducing false-negative rate while improving on accuracy over previous model iterations."
   ]
  },
  {
   "cell_type": "markdown",
   "id": "7bbf6d0b",
   "metadata": {},
   "source": [
    "Next steps:\n",
    "* Improve model with additional techniques to address overfitting\n",
    "* Test model on images of different quality\n",
    "* Identify if there are particular X-rays that doctors are consistently missing that a neural network might be able to assist with"
   ]
  }
 ],
 "metadata": {
  "kernelspec": {
   "display_name": "Python (tensor_lecture)",
   "language": "python",
   "name": "tensor_lecture"
  },
  "language_info": {
   "codemirror_mode": {
    "name": "ipython",
    "version": 3
   },
   "file_extension": ".py",
   "mimetype": "text/x-python",
   "name": "python",
   "nbconvert_exporter": "python",
   "pygments_lexer": "ipython3",
   "version": "3.9.12"
  }
 },
 "nbformat": 4,
 "nbformat_minor": 5
}
