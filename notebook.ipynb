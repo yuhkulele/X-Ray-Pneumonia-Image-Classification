{
 "cells": [
  {
   "cell_type": "markdown",
   "id": "fed65fa8",
   "metadata": {},
   "source": [
    "# Detecting Pediatric Pneumonia in Chest X-Rays Using Convolutional Neural Networks"
   ]
  },
  {
   "cell_type": "markdown",
   "id": "b257d2ea",
   "metadata": {},
   "source": [
    "## Overview"
   ]
  },
  {
   "cell_type": "markdown",
   "id": "5a8282d2",
   "metadata": {},
   "source": [
    "## Business Understanding"
   ]
  },
  {
   "cell_type": "markdown",
   "id": "50bbbef5",
   "metadata": {},
   "source": [
    "## Data Understanding"
   ]
  },
  {
   "cell_type": "markdown",
   "id": "1e6eae4a",
   "metadata": {},
   "source": [
    "We used a dataset of pediatric chest X-ray images downloaded from Kaggle. These anterior-posterior chest X-ray images were collected from Guangzhou Women and Children's Medical Center, Guangzhou. The patients ranged from one to five years old with X-ray imaging performed during routine clinical care. The pneumonia X-ray images contained examples of bacterial and viral pneumonia.\n",
    "\n",
    "Due to the size of the dataset, we did not upload the data to this project's GitHub repository. The dataset can be downloaded from Kaggle [here](https://www.kaggle.com/datasets/paultimothymooney/chest-xray-pneumonia).\n",
    "\n",
    "The data was downloaded as a zipped folder \"chest_xray\", in which there were 3 folders \"test\", \"train\", and \"val\". Each of these 3 folders contained 2 subfolders for the image categories \"PNEUMONIA\" and \"NORMAL\". In total, there were 5,863 X-Ray images (JPEG). "
   ]
  },
  {
   "cell_type": "markdown",
   "id": "b5e1fb73",
   "metadata": {},
   "source": [
    "### Data Preparation"
   ]
  },
  {
   "cell_type": "markdown",
   "id": "7b3c3d9f",
   "metadata": {},
   "source": [
    "We prepared our data for a binary classification problem using Convolutional Neural Networks (CNNs) to predict the class of chest X-ray images."
   ]
  },
  {
   "cell_type": "markdown",
   "id": "0c9040a7",
   "metadata": {},
   "source": [
    "The \"val\" folder contained only 16 X-ray images: 8 for normal and 8 for pneumonia. Since the size of this data subset was too small to use in our model validation process, we chose to split a portion of the training data into a validation set. The images in the \"test\" folder were used as our final holdout test set to evaluate our model's performance on unseen data. "
   ]
  },
  {
   "cell_type": "code",
   "execution_count": 1,
   "id": "487b0cc7",
   "metadata": {},
   "outputs": [],
   "source": [
    "#import statements\n",
    "import numpy as np\n",
    "import os, tempfile\n",
    "import matplotlib.pyplot as plt\n",
    "import seaborn as sns\n",
    "\n",
    "import tensorflow as tf\n",
    "from tensorflow.keras import models, layers\n",
    "from tensorflow.keras.preprocessing.image import load_img\n",
    "from tensorflow.keras.utils import image_dataset_from_directory \n",
    "from tensorflow.keras.models import Sequential, load_model\n",
    "from tensorflow.keras.callbacks import EarlyStopping\n",
    "from tensorflow.keras.regularizers import l2\n",
    "\n",
    "from sklearn.dummy import DummyClassifier\n",
    "\n",
    "import time\n",
    "import scipy\n",
    "from scipy import ndimage\n",
    "from tensorflow.keras.preprocessing.image import ImageDataGenerator, array_to_img, img_to_array, load_img\n",
    "from PIL import Image"
   ]
  },
  {
   "cell_type": "code",
   "execution_count": 2,
   "id": "e4d28eba",
   "metadata": {},
   "outputs": [],
   "source": [
    "#load in the train data\n",
    "#\"chest_xray\" folder was placed in a separate data directory within local repositories\n",
    "\n",
    "train_normal_dir = \"./data/chest_xray/train/NORMAL\"\n",
    "train_pneumonia_dir = \"./data/chest_xray/train/PNEUMONIA\"\n",
    "\n",
    "#from the subfolders, extract a list of all jpeg files\n",
    "#separate X-rays by category: normal and pneumonia\n",
    "imgs_train_normal = [file for file in os.listdir(train_normal_dir) if file.endswith('.jpeg')]\n",
    "imgs_train_pneumonia = [file for file in os.listdir(train_pneumonia_dir) if file.endswith('.jpeg')]"
   ]
  },
  {
   "cell_type": "code",
   "execution_count": 4,
   "id": "38d31aff",
   "metadata": {},
   "outputs": [],
   "source": [
    "#load in the train data\n",
    "test_normal_dir = \"./data/chest_xray/test/NORMAL\"\n",
    "test_pneumonia_dir = \"./data/chest_xray/test/PNEUMONIA\"\n",
    "\n",
    "#from the subfolders, extract a list of all jpeg files\n",
    "#separate X-rays by category: normal and pneumonia\n",
    "imgs_test_normal = [file for file in os.listdir(test_normal_dir) if file.endswith('.jpeg')]\n",
    "imgs_test_pneumonia = [file for file in os.listdir(test_pneumonia_dir) if file.endswith('.jpeg')]"
   ]
  },
  {
   "cell_type": "code",
   "execution_count": 6,
   "id": "0b42a8be",
   "metadata": {},
   "outputs": [
    {
     "name": "stdout",
     "output_type": "stream",
     "text": [
      "Training set: there are 1341 normal images and 3875 pneumonia images.\n",
      "Test set: there are 234 normal images and 390 pneumonia images.\n"
     ]
    }
   ],
   "source": [
    "print(f'Training set: there are {len(imgs_train_normal)} normal images and {len(imgs_train_pneumonia)} pneumonia images.')\n",
    "print(f'Test set: there are {len(imgs_test_normal)} normal images and {len(imgs_test_pneumonia)} pneumonia images.')"
   ]
  },
  {
   "cell_type": "code",
   "execution_count": 11,
   "id": "1235ace2",
   "metadata": {
    "scrolled": true
   },
   "outputs": [
    {
     "name": "stdout",
     "output_type": "stream",
     "text": [
      "The training set has 5216 images, 74.3% of which are categorized as pneumonia.\n",
      "The test set has 624 images, 62.5% of which are categorized as pneumonia.\n"
     ]
    }
   ],
   "source": [
    "#breakdown of the class distributions for training and test sets\n",
    "num_train = len(imgs_train_normal) + len(imgs_train_pneumonia)\n",
    "num_test = len(imgs_test_normal) + len(imgs_test_pneumonia)\n",
    "train_percent_pneumonia = round( (len(imgs_train_pneumonia)/num_train) * 100, 1)\n",
    "test_percent_pneumonia = round( (len(imgs_test_pneumonia)/num_test) * 100, 1)\n",
    "\n",
    "print(f'The training set has {num_train} images, {train_percent_pneumonia}% of which are categorized as pneumonia.')\n",
    "print(f'The test set has {num_test} images, {test_percent_pneumonia}% of which are categorized as pneumonia.')"
   ]
  },
  {
   "cell_type": "markdown",
   "id": "5fe25e15",
   "metadata": {},
   "source": [
    "We used ImageDataGenerator from Keras to process our jpeg images into tensors to feed into our neural network models. The images were rescaled to 64 x 64 size, with 20% of the training set separated into a validation set. We also performed data augmentation to provide our model with more varied images and improve performance on unseen data. "
   ]
  },
  {
   "cell_type": "code",
   "execution_count": 12,
   "id": "e3667063",
   "metadata": {},
   "outputs": [],
   "source": [
    "#create image data generator for train data\n",
    "#80% train/20% validation split \n",
    "train_datagen = ImageDataGenerator(rescale=1./255, \n",
    "                                   rotation_range = 30,\n",
    "                                   shear_range = 0.2, \n",
    "                                   zoom_range = 0.2,\n",
    "                                   validation_split=0.2)"
   ]
  },
  {
   "cell_type": "code",
   "execution_count": 13,
   "id": "0e5f2b12",
   "metadata": {
    "scrolled": true
   },
   "outputs": [
    {
     "name": "stdout",
     "output_type": "stream",
     "text": [
      "Found 4173 images belonging to 2 classes.\n",
      "Found 1043 images belonging to 2 classes.\n",
      "Found 624 images belonging to 2 classes.\n"
     ]
    }
   ],
   "source": [
    "#rescale images to 64 by 64\n",
    "#create validation set as 20% of train set\n",
    "#random seed set for reproducibility in validation split\n",
    "\n",
    "train_folder = \"./data/chest_xray/train\"\n",
    "train_gen = train_datagen.flow_from_directory(\n",
    "        train_folder, \n",
    "        target_size=(64, 64), \n",
    "        color_mode='grayscale', \n",
    "        class_mode='binary',\n",
    "        subset='training',\n",
    "        batch_size= num_train, seed=42)\n",
    "\n",
    "validation_gen = train_datagen.flow_from_directory(\n",
    "        train_folder, \n",
    "        target_size=(64, 64), \n",
    "        color_mode='grayscale', \n",
    "        class_mode='binary',\n",
    "        subset='validation',\n",
    "        batch_size= num_train, seed=42)\n",
    "\n",
    "test_folder = \"./data/chest_xray/test\"\n",
    "test_gen = ImageDataGenerator(rescale=1./255).flow_from_directory(\n",
    "        test_folder, \n",
    "        target_size=(64, 64), color_mode='grayscale', \n",
    "        class_mode='binary', \n",
    "        batch_size= num_test)"
   ]
  },
  {
   "cell_type": "code",
   "execution_count": 16,
   "id": "70883ba2",
   "metadata": {},
   "outputs": [],
   "source": [
    "#create images and labels arrays from DirectoryIterator objects\n",
    "train_images, train_labels = next(train_gen)\n",
    "val_images, val_labels = next(validation_gen)\n",
    "test_images, test_labels = next(test_gen)"
   ]
  },
  {
   "cell_type": "code",
   "execution_count": 37,
   "id": "f54bee6d",
   "metadata": {},
   "outputs": [
    {
     "data": {
      "text/plain": [
       "3875.0"
      ]
     },
     "execution_count": 37,
     "metadata": {},
     "output_type": "execute_result"
    }
   ],
   "source": [
    "#sum should match number of pneumonia cases in the pre-split training set\n",
    "#indicates that class 1 = pneumonia\n",
    "sum(train_labels) + sum(val_labels)"
   ]
  },
  {
   "cell_type": "markdown",
   "id": "855e2419",
   "metadata": {},
   "source": [
    "Our class labels were 0 corresponding with 'normal' and 1 corresponding with 'pneumonia'."
   ]
  },
  {
   "cell_type": "code",
   "execution_count": 19,
   "id": "b9cbd4e1",
   "metadata": {},
   "outputs": [
    {
     "name": "stdout",
     "output_type": "stream",
     "text": [
      "Found 4173 images belonging to 2 classes.\n"
     ]
    }
   ],
   "source": [
    "#training images at their original resolution (256x256)\n",
    "train_folder = \"./data/chest_xray/train\"\n",
    "train_unaltered = train_datagen.flow_from_directory(\n",
    "        train_folder, \n",
    "        color_mode='grayscale', \n",
    "        class_mode='binary',\n",
    "        subset='training',\n",
    "        batch_size= num_train,\n",
    "        seed=42)"
   ]
  },
  {
   "cell_type": "code",
   "execution_count": 20,
   "id": "89f6f16a",
   "metadata": {},
   "outputs": [],
   "source": [
    "unaltered_images, unaltered_labels = next(train_unaltered)"
   ]
  },
  {
   "cell_type": "markdown",
   "id": "1aca4c9f",
   "metadata": {},
   "source": [
    "Here's an X-ray from the training data in its scaled down resolution and in its original resolution:"
   ]
  },
  {
   "cell_type": "code",
   "execution_count": 18,
   "id": "c98f082b",
   "metadata": {
    "scrolled": true
   },
   "outputs": [
    {
     "data": {
      "image/png": "[encoded data removed]",
      "text/plain": [
       "<Figure size 432x288 with 1 Axes>"
      ]
     },
     "metadata": {
      "needs_background": "light"
     },
     "output_type": "display_data"
    }
   ],
   "source": [
    "plt.imshow(train_images[0], cmap='gray', vmin=0, vmax=1);"
   ]
  },
  {
   "cell_type": "code",
   "execution_count": 21,
   "id": "80c23c82",
   "metadata": {
    "scrolled": true
   },
   "outputs": [
    {
     "data": {
      "image/png": "[encoded data removed]",
      "text/plain": [
       "<Figure size 432x288 with 1 Axes>"
      ]
     },
     "metadata": {
      "needs_background": "light"
     },
     "output_type": "display_data"
    }
   ],
   "source": [
    "plt.imshow(unaltered_images[0], cmap='gray', vmin=0, vmax=1);"
   ]
  },
  {
   "cell_type": "code",
   "execution_count": 26,
   "id": "a9e503cc",
   "metadata": {},
   "outputs": [
    {
     "name": "stdout",
     "output_type": "stream",
     "text": [
      "train: (4173, 64, 64, 1)\n",
      "val: (1043, 64, 64, 1)\n",
      "test: (624, 64, 64, 1)\n"
     ]
    }
   ],
   "source": [
    "#( number of images, image height, image wideth, color channel(s) )\n",
    "print(f'train: {train_images.shape}')\n",
    "print(f'val: {val_images.shape}')\n",
    "print(f'test: {test_images.shape}')"
   ]
  },
  {
   "cell_type": "code",
   "execution_count": 29,
   "id": "a8f4bca7",
   "metadata": {},
   "outputs": [
    {
     "name": "stdout",
     "output_type": "stream",
     "text": [
      "(4173,)\n",
      "(1043,)\n",
      "(624,)\n"
     ]
    }
   ],
   "source": [
    "#confirm correct shape for labels\n",
    "print(train_labels.shape)\n",
    "print(val_labels.shape)\n",
    "print(test_labels.shape)"
   ]
  },
  {
   "cell_type": "markdown",
   "id": "0f1a1522",
   "metadata": {},
   "source": [
    "We also reshaped our features and labels to be passed into dense layers in our CNN models."
   ]
  },
  {
   "cell_type": "code",
   "execution_count": 32,
   "id": "435c7faf",
   "metadata": {},
   "outputs": [
    {
     "name": "stdout",
     "output_type": "stream",
     "text": [
      "Reshaped images:\n",
      "(4173, 4096)\n",
      "(1043, 4096)\n",
      "(624, 4096)\n",
      "\n",
      "Reshaped labels:\n",
      "(4173, 1)\n",
      "(1043, 1)\n",
      "(624, 1)\n"
     ]
    }
   ],
   "source": [
    "#reshaping features for dense layers\n",
    "train_reshape = train_images.reshape(train_images.shape[0], -1)\n",
    "val_reshape = val_images.reshape(val_images.shape[0], -1)\n",
    "test_reshape = test_images.reshape(test_images.shape[0], -1)\n",
    "\n",
    "train_y = np.reshape(train_labels, (4173,1))\n",
    "val_y = np.reshape(val_labels, (1043,1))\n",
    "test_y = np.reshape(test_labels, (624,1))\n",
    "\n",
    "print('Reshaped images:')\n",
    "print(train_reshape.shape)\n",
    "print(val_reshape.shape)\n",
    "print(test_reshape.shape)\n",
    "\n",
    "print('\\nReshaped labels:')\n",
    "print(train_y.shape)\n",
    "print(val_y.shape)\n",
    "print(test_y.shape)"
   ]
  },
  {
   "cell_type": "markdown",
   "id": "c564abb0",
   "metadata": {},
   "source": [
    "We've accomplished the following with our data preparation:\n",
    "* Transformed image data into tensors\n",
    "* Performed data augmentation for our training data\n",
    "* Split 20% of our training data into a validation set\n",
    "* Prepared a holdout test set for final model evaluation\n",
    "* Reshaped data into the right shapes for our CNN layers"
   ]
  },
  {
   "cell_type": "markdown",
   "id": "c8908c1d",
   "metadata": {},
   "source": [
    "## Modeling"
   ]
  },
  {
   "cell_type": "markdown",
   "id": "8d6dcbeb",
   "metadata": {},
   "source": [
    "### Dummy Classifier"
   ]
  },
  {
   "cell_type": "markdown",
   "id": "1e41bc96",
   "metadata": {},
   "source": [
    "We used sklearn's DummyClassifier to establish a baseline for model performance. This DummyClassifier predicts the majority class (pneumonia) for every instance and has an accuracy of 74.3%."
   ]
  },
  {
   "cell_type": "code",
   "execution_count": 33,
   "id": "95de2ff7",
   "metadata": {},
   "outputs": [
    {
     "data": {
      "text/plain": [
       "0.7428708363287803"
      ]
     },
     "execution_count": 33,
     "metadata": {},
     "output_type": "execute_result"
    }
   ],
   "source": [
    "dummy_clf = DummyClassifier()\n",
    "dummy_clf.fit(train_images, train_labels)\n",
    "dummy_clf.score(train_images, train_labels)"
   ]
  },
  {
   "cell_type": "markdown",
   "id": "ef683e0b",
   "metadata": {},
   "source": [
    "### CNNs"
   ]
  },
  {
   "cell_type": "markdown",
   "id": "32e4bba0",
   "metadata": {},
   "source": [
    "The three metrics we used in evaluating our models were loss, accuracy, and recall. Our model was designed to provide a second opinion for doctors."
   ]
  },
  {
   "cell_type": "markdown",
   "id": "a14339a5",
   "metadata": {},
   "source": [
    "## Results"
   ]
  },
  {
   "cell_type": "markdown",
   "id": "0fe0ce1e",
   "metadata": {},
   "source": [
    "## Conclusion"
   ]
  },
  {
   "cell_type": "code",
   "execution_count": null,
   "id": "642207a7",
   "metadata": {},
   "outputs": [],
   "source": []
  }
 ],
 "metadata": {
  "kernelspec": {
   "display_name": "Python (tensor_lecture)",
   "language": "python",
   "name": "tensor_lecture"
  },
  "language_info": {
   "codemirror_mode": {
    "name": "ipython",
    "version": 3
   },
   "file_extension": ".py",
   "mimetype": "text/x-python",
   "name": "python",
   "nbconvert_exporter": "python",
   "pygments_lexer": "ipython3",
   "version": "3.9.12"
  }
 },
 "nbformat": 4,
 "nbformat_minor": 5
}
