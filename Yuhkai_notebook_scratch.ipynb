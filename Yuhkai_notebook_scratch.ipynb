{
 "cells": [
  {
   "cell_type": "code",
   "execution_count": 1,
   "id": "d31fd703",
   "metadata": {},
   "outputs": [],
   "source": [
    "#imports \n",
    "\n",
    "import numpy as np\n",
    "import os, tempfile\n",
    "import matplotlib.pyplot as plt\n",
    "import seaborn as sns\n",
    "\n",
    "import tensorflow as tf\n",
    "from tensorflow.keras import models, layers\n",
    "from tensorflow.keras.preprocessing.image import load_img\n",
    "from tensorflow.keras.utils import image_dataset_from_directory \n",
    "from tensorflow.keras.models import Sequential, load_model\n",
    "from tensorflow.keras.callbacks import EarlyStopping\n",
    "from tensorflow.keras.regularizers import l2\n",
    "\n",
    "from sklearn.dummy import DummyClassifier\n",
    "\n",
    "import time\n",
    "import scipy\n",
    "from scipy import ndimage\n",
    "from tensorflow.keras.preprocessing.image import ImageDataGenerator, array_to_img, img_to_array, load_img\n",
    "from PIL import Image\n"
   ]
  },
  {
   "cell_type": "markdown",
   "id": "dfced05a",
   "metadata": {},
   "source": [
    "## Image Load In"
   ]
  },
  {
   "cell_type": "code",
   "execution_count": 2,
   "id": "f1bb92de",
   "metadata": {},
   "outputs": [
    {
     "name": "stdout",
     "output_type": "stream",
     "text": [
      "README.md\n",
      "Yuhkai_notebook_scratch.ipynb\n",
      "data\n",
      "data.zip\n",
      "notebooks_scratch\n",
      "saved_models\n",
      "simple_cnn.pkl\n"
     ]
    }
   ],
   "source": [
    "!ls"
   ]
  },
  {
   "cell_type": "code",
   "execution_count": 2,
   "id": "8f46f557",
   "metadata": {},
   "outputs": [],
   "source": [
    "# load in the train data\n",
    "\n",
    "#starting from main project directory\n",
    "\n",
    "train_normal_dir = \"./data/chest_xray/train/NORMAL\"\n",
    "train_pneumonia_dir = \"./data/chest_xray/train/PNEUMONIA\"\n",
    "\n",
    "imgs_train_normal = [file for file in os.listdir(train_normal_dir) if file.endswith('.jpeg')]\n",
    "imgs_train_pneumonia = [file for file in os.listdir(train_pneumonia_dir) if file.endswith('.jpeg')]"
   ]
  },
  {
   "cell_type": "code",
   "execution_count": 3,
   "id": "32233b13",
   "metadata": {},
   "outputs": [],
   "source": [
    "test_normal_dir = \"./data/chest_xray/test/NORMAL\"\n",
    "test_pneumonia_dir = \"./data/chest_xray/test/PNEUMONIA\"\n",
    "\n",
    "imgs_test_normal = [file for file in os.listdir(test_normal_dir) if file.endswith('.jpeg')]\n",
    "imgs_test_pneumonia = [file for file in os.listdir(test_pneumonia_dir) if file.endswith('.jpeg')]"
   ]
  },
  {
   "cell_type": "code",
   "execution_count": 4,
   "id": "3133a92c",
   "metadata": {},
   "outputs": [
    {
     "data": {
      "text/plain": [
       "1341"
      ]
     },
     "execution_count": 4,
     "metadata": {},
     "output_type": "execute_result"
    }
   ],
   "source": [
    "len(imgs_train_normal)"
   ]
  },
  {
   "cell_type": "code",
   "execution_count": 5,
   "id": "a4c43269",
   "metadata": {},
   "outputs": [
    {
     "data": {
      "text/plain": [
       "3875"
      ]
     },
     "execution_count": 5,
     "metadata": {},
     "output_type": "execute_result"
    }
   ],
   "source": [
    "len(imgs_train_pneumonia)"
   ]
  },
  {
   "cell_type": "code",
   "execution_count": 6,
   "id": "f738658a",
   "metadata": {},
   "outputs": [
    {
     "data": {
      "text/plain": [
       "'IM-0115-0001.jpeg'"
      ]
     },
     "execution_count": 6,
     "metadata": {},
     "output_type": "execute_result"
    }
   ],
   "source": [
    "imgs_train_normal[0]"
   ]
  },
  {
   "cell_type": "code",
   "execution_count": 7,
   "id": "7a2d404a",
   "metadata": {},
   "outputs": [
    {
     "data": {
      "text/plain": [
       "'person1000_bacteria_2931.jpeg'"
      ]
     },
     "execution_count": 7,
     "metadata": {},
     "output_type": "execute_result"
    }
   ],
   "source": [
    "imgs_train_pneumonia[0]"
   ]
  },
  {
   "cell_type": "code",
   "execution_count": 8,
   "id": "f4e25a4f",
   "metadata": {
    "scrolled": true
   },
   "outputs": [
    {
     "data": {
      "text/plain": [
       "234"
      ]
     },
     "execution_count": 8,
     "metadata": {},
     "output_type": "execute_result"
    }
   ],
   "source": [
    "len(imgs_test_normal)"
   ]
  },
  {
   "cell_type": "code",
   "execution_count": 9,
   "id": "37a8cbea",
   "metadata": {},
   "outputs": [
    {
     "data": {
      "text/plain": [
       "390"
      ]
     },
     "execution_count": 9,
     "metadata": {},
     "output_type": "execute_result"
    }
   ],
   "source": [
    "len(imgs_test_pneumonia)"
   ]
  },
  {
   "cell_type": "code",
   "execution_count": 10,
   "id": "1e04a0e5",
   "metadata": {},
   "outputs": [
    {
     "data": {
      "text/plain": [
       "(5216, 624)"
      ]
     },
     "execution_count": 10,
     "metadata": {},
     "output_type": "execute_result"
    }
   ],
   "source": [
    "num_train = len(imgs_train_normal) + len(imgs_train_pneumonia)\n",
    "num_test = len(imgs_test_normal) + len(imgs_test_pneumonia)\n",
    "num_train, num_test"
   ]
  },
  {
   "cell_type": "code",
   "execution_count": 11,
   "id": "7376249c",
   "metadata": {},
   "outputs": [
    {
     "data": {
      "text/plain": [
       "0.625"
      ]
     },
     "execution_count": 11,
     "metadata": {},
     "output_type": "execute_result"
    }
   ],
   "source": [
    "ratio_test = 390/num_test\n",
    "ratio_test"
   ]
  },
  {
   "cell_type": "code",
   "execution_count": 12,
   "id": "d4cb01f3",
   "metadata": {},
   "outputs": [
    {
     "data": {
      "text/plain": [
       "0.7429064417177914"
      ]
     },
     "execution_count": 12,
     "metadata": {},
     "output_type": "execute_result"
    }
   ],
   "source": [
    "ratio_train = 3875/num_train\n",
    "ratio_train"
   ]
  },
  {
   "cell_type": "code",
   "execution_count": 14,
   "id": "b903deab",
   "metadata": {},
   "outputs": [],
   "source": [
    "train_datagen = ImageDataGenerator(rescale=1./255, validation_split=0.2)"
   ]
  },
  {
   "cell_type": "code",
   "execution_count": 15,
   "id": "a171138d",
   "metadata": {},
   "outputs": [
    {
     "name": "stdout",
     "output_type": "stream",
     "text": [
      "Found 4173 images belonging to 2 classes.\n",
      "Found 1043 images belonging to 2 classes.\n",
      "Found 624 images belonging to 2 classes.\n"
     ]
    }
   ],
   "source": [
    "#rescale images to 64 by 64\n",
    "#create validation set as 20% of train set\n",
    "\n",
    "train_folder = \"./data/chest_xray/train\"\n",
    "train_gen = train_datagen.flow_from_directory(\n",
    "        train_folder, \n",
    "        target_size=(64, 64), \n",
    "        color_mode='grayscale', \n",
    "        class_mode='binary',\n",
    "        subset='training',\n",
    "        batch_size= num_train)\n",
    "\n",
    "validation_gen = train_datagen.flow_from_directory(\n",
    "        train_folder, \n",
    "        target_size=(64, 64), \n",
    "        color_mode='grayscale', \n",
    "        class_mode='binary',\n",
    "        subset='validation',\n",
    "        batch_size= num_train)\n",
    "\n",
    "test_folder = \"./data/chest_xray/test\"\n",
    "test_gen = ImageDataGenerator(rescale=1./255).flow_from_directory(\n",
    "        test_folder, \n",
    "        target_size=(64, 64), color_mode='grayscale', \n",
    "        class_mode='binary', \n",
    "        batch_size= num_test)"
   ]
  },
  {
   "cell_type": "code",
   "execution_count": 16,
   "id": "b5a8d874",
   "metadata": {},
   "outputs": [],
   "source": [
    "train_images, train_labels = next(train_gen)\n",
    "val_images, val_labels = next(validation_gen)\n",
    "test_images, test_labels = next(test_gen)"
   ]
  },
  {
   "cell_type": "code",
   "execution_count": 17,
   "id": "be7f9572",
   "metadata": {},
   "outputs": [
    {
     "data": {
      "text/plain": [
       "array([[[0.00392157],\n",
       "        [0.        ],\n",
       "        [0.01960784],\n",
       "        ...,\n",
       "        [0.52156866],\n",
       "        [0.47058827],\n",
       "        [0.02352941]],\n",
       "\n",
       "       [[0.        ],\n",
       "        [0.        ],\n",
       "        [0.03921569],\n",
       "        ...,\n",
       "        [0.29411766],\n",
       "        [0.03137255],\n",
       "        [0.02745098]],\n",
       "\n",
       "       [[0.        ],\n",
       "        [0.        ],\n",
       "        [0.00784314],\n",
       "        ...,\n",
       "        [0.03529412],\n",
       "        [0.427451  ],\n",
       "        [0.18823531]],\n",
       "\n",
       "       ...,\n",
       "\n",
       "       [[0.7686275 ],\n",
       "        [0.654902  ],\n",
       "        [0.04705883],\n",
       "        ...,\n",
       "        [0.03921569],\n",
       "        [0.04313726],\n",
       "        [0.04705883]],\n",
       "\n",
       "       [[0.8078432 ],\n",
       "        [0.69411767],\n",
       "        [0.04313726],\n",
       "        ...,\n",
       "        [0.03921569],\n",
       "        [0.04313726],\n",
       "        [0.04313726]],\n",
       "\n",
       "       [[0.7803922 ],\n",
       "        [0.6313726 ],\n",
       "        [0.04705883],\n",
       "        ...,\n",
       "        [0.03529412],\n",
       "        [0.03921569],\n",
       "        [0.04313726]]], dtype=float32)"
      ]
     },
     "execution_count": 17,
     "metadata": {},
     "output_type": "execute_result"
    }
   ],
   "source": [
    "train_images[0]"
   ]
  },
  {
   "cell_type": "code",
   "execution_count": 18,
   "id": "1c3f6ae2",
   "metadata": {},
   "outputs": [
    {
     "data": {
      "text/plain": [
       "<matplotlib.image.AxesImage at 0x27004cd6e50>"
      ]
     },
     "execution_count": 18,
     "metadata": {},
     "output_type": "execute_result"
    },
    {
     "data": {
      "image/png": "[encoded data removed]",
      "text/plain": [
       "<Figure size 432x288 with 1 Axes>"
      ]
     },
     "metadata": {
      "needs_background": "light"
     },
     "output_type": "display_data"
    }
   ],
   "source": [
    "plt.imshow(train_images[0], cmap='gray', vmin=0, vmax=1)"
   ]
  },
  {
   "cell_type": "code",
   "execution_count": 19,
   "id": "9807036f",
   "metadata": {},
   "outputs": [
    {
     "data": {
      "text/plain": [
       "array([[[0.2627451 ],\n",
       "        [0.20000002],\n",
       "        [0.2509804 ],\n",
       "        ...,\n",
       "        [0.05882353],\n",
       "        [0.06666667],\n",
       "        [0.06666667]],\n",
       "\n",
       "       [[0.18039216],\n",
       "        [0.22352943],\n",
       "        [0.28627452],\n",
       "        ...,\n",
       "        [0.11764707],\n",
       "        [0.04705883],\n",
       "        [0.0509804 ]],\n",
       "\n",
       "       [[0.18823531],\n",
       "        [0.27450982],\n",
       "        [0.33333334],\n",
       "        ...,\n",
       "        [0.21176472],\n",
       "        [0.14901961],\n",
       "        [0.03529412]],\n",
       "\n",
       "       ...,\n",
       "\n",
       "       [[0.25490198],\n",
       "        [0.49803925],\n",
       "        [0.5529412 ],\n",
       "        ...,\n",
       "        [0.08235294],\n",
       "        [0.09803922],\n",
       "        [0.09019608]],\n",
       "\n",
       "       [[0.2509804 ],\n",
       "        [0.49411768],\n",
       "        [0.5647059 ],\n",
       "        ...,\n",
       "        [0.08627451],\n",
       "        [0.09019608],\n",
       "        [0.09019608]],\n",
       "\n",
       "       [[0.27058825],\n",
       "        [0.4901961 ],\n",
       "        [0.5921569 ],\n",
       "        ...,\n",
       "        [0.09019608],\n",
       "        [0.10196079],\n",
       "        [0.09411766]]], dtype=float32)"
      ]
     },
     "execution_count": 19,
     "metadata": {},
     "output_type": "execute_result"
    }
   ],
   "source": [
    "val_images[0]"
   ]
  },
  {
   "cell_type": "code",
   "execution_count": 20,
   "id": "90ae77b2",
   "metadata": {},
   "outputs": [
    {
     "data": {
      "text/plain": [
       "(4173, 64, 64, 1)"
      ]
     },
     "execution_count": 20,
     "metadata": {},
     "output_type": "execute_result"
    }
   ],
   "source": [
    "train_images.shape"
   ]
  },
  {
   "cell_type": "code",
   "execution_count": 21,
   "id": "1a0c4ba3",
   "metadata": {},
   "outputs": [
    {
     "data": {
      "text/plain": [
       "(64, 64, 1)"
      ]
     },
     "execution_count": 21,
     "metadata": {},
     "output_type": "execute_result"
    }
   ],
   "source": [
    "#(image height, image width, color channels)\n",
    "train_images[0].shape"
   ]
  },
  {
   "cell_type": "code",
   "execution_count": 22,
   "id": "9440cf1c",
   "metadata": {},
   "outputs": [
    {
     "data": {
      "text/plain": [
       "1.0"
      ]
     },
     "execution_count": 22,
     "metadata": {},
     "output_type": "execute_result"
    }
   ],
   "source": [
    "train_labels[0]"
   ]
  },
  {
   "cell_type": "code",
   "execution_count": 23,
   "id": "b9654bce",
   "metadata": {},
   "outputs": [
    {
     "data": {
      "text/plain": [
       "(4173,)"
      ]
     },
     "execution_count": 23,
     "metadata": {},
     "output_type": "execute_result"
    }
   ],
   "source": [
    "train_labels.shape"
   ]
  },
  {
   "cell_type": "code",
   "execution_count": 24,
   "id": "e8f2fa1c",
   "metadata": {},
   "outputs": [
    {
     "data": {
      "text/plain": [
       "(1043, 64, 64, 1)"
      ]
     },
     "execution_count": 24,
     "metadata": {},
     "output_type": "execute_result"
    }
   ],
   "source": [
    "val_images.shape"
   ]
  },
  {
   "cell_type": "code",
   "execution_count": 25,
   "id": "8e7b57b6",
   "metadata": {},
   "outputs": [
    {
     "data": {
      "text/plain": [
       "(1043,)"
      ]
     },
     "execution_count": 25,
     "metadata": {},
     "output_type": "execute_result"
    }
   ],
   "source": [
    "val_labels.shape"
   ]
  },
  {
   "cell_type": "code",
   "execution_count": 26,
   "id": "30cdda2d",
   "metadata": {},
   "outputs": [
    {
     "name": "stdout",
     "output_type": "stream",
     "text": [
      "(4173, 4096)\n",
      "(1043, 4096)\n",
      "(624, 4096)\n"
     ]
    }
   ],
   "source": [
    "#reshaping features for dense layers\n",
    "train_reshape = train_images.reshape(train_images.shape[0], -1)\n",
    "val_reshape = val_images.reshape(val_images.shape[0], -1)\n",
    "test_reshape = test_images.reshape(test_images.shape[0], -1)\n",
    "\n",
    "print(train_reshape.shape)\n",
    "print(val_reshape.shape)\n",
    "print(test_reshape.shape)"
   ]
  },
  {
   "cell_type": "code",
   "execution_count": 27,
   "id": "5253646b",
   "metadata": {},
   "outputs": [
    {
     "data": {
      "text/plain": [
       "(4173,)"
      ]
     },
     "execution_count": 27,
     "metadata": {},
     "output_type": "execute_result"
    }
   ],
   "source": [
    "train_labels.shape"
   ]
  },
  {
   "cell_type": "code",
   "execution_count": 28,
   "id": "e0ddc391",
   "metadata": {},
   "outputs": [
    {
     "data": {
      "text/plain": [
       "(1043,)"
      ]
     },
     "execution_count": 28,
     "metadata": {},
     "output_type": "execute_result"
    }
   ],
   "source": [
    "val_labels.shape"
   ]
  },
  {
   "cell_type": "code",
   "execution_count": 29,
   "id": "cd29ad8c",
   "metadata": {},
   "outputs": [
    {
     "data": {
      "text/plain": [
       "(624,)"
      ]
     },
     "execution_count": 29,
     "metadata": {},
     "output_type": "execute_result"
    }
   ],
   "source": [
    "test_labels.shape"
   ]
  },
  {
   "cell_type": "code",
   "execution_count": 30,
   "id": "ecefd4e8",
   "metadata": {},
   "outputs": [
    {
     "name": "stdout",
     "output_type": "stream",
     "text": [
      "(4173, 1)\n",
      "(1043, 1)\n",
      "(624, 1)\n"
     ]
    }
   ],
   "source": [
    "#reshaping labels\n",
    "train_y = np.reshape(train_labels, (4173,1))\n",
    "val_y = np.reshape(val_labels, (1043,1))\n",
    "test_y = np.reshape(test_labels, (624,1))\n",
    "\n",
    "print(train_y.shape)\n",
    "print(val_y.shape)\n",
    "print(test_y.shape)"
   ]
  },
  {
   "cell_type": "markdown",
   "id": "1912cc9d",
   "metadata": {},
   "source": [
    "# Dummy Classifier"
   ]
  },
  {
   "cell_type": "code",
   "execution_count": 31,
   "id": "e332cf83",
   "metadata": {},
   "outputs": [
    {
     "data": {
      "text/plain": [
       "0.7430488974113135"
      ]
     },
     "execution_count": 31,
     "metadata": {},
     "output_type": "execute_result"
    }
   ],
   "source": [
    "dummy_clf = DummyClassifier()\n",
    "dummy_clf.fit(train_images, train_labels)\n",
    "dummy_clf.score(val_images, val_labels)"
   ]
  },
  {
   "cell_type": "markdown",
   "id": "747e3a28",
   "metadata": {},
   "source": [
    "## Baseline Model"
   ]
  },
  {
   "cell_type": "code",
   "execution_count": 32,
   "id": "5e54de5d",
   "metadata": {},
   "outputs": [],
   "source": [
    "baseline_model = models.Sequential()"
   ]
  },
  {
   "cell_type": "code",
   "execution_count": 34,
   "id": "e143cbbe",
   "metadata": {},
   "outputs": [],
   "source": [
    "baseline_model.add(layers.Dense(20, activation='relu', input_shape=(4096,)))\n",
    "baseline_model.add(layers.Dense(7, activation='relu'))\n",
    "baseline_model.add(layers.Dense(5, activation='relu'))\n",
    "baseline_model.add(layers.Dense(1, activation='sigmoid'))"
   ]
  },
  {
   "cell_type": "code",
   "execution_count": 35,
   "id": "97341217",
   "metadata": {},
   "outputs": [
    {
     "name": "stdout",
     "output_type": "stream",
     "text": [
      "Model: \"sequential\"\n",
      "_________________________________________________________________\n",
      "Layer (type)                 Output Shape              Param #   \n",
      "=================================================================\n",
      "dense (Dense)                (None, 20)                81940     \n",
      "_________________________________________________________________\n",
      "dense_1 (Dense)              (None, 7)                 147       \n",
      "_________________________________________________________________\n",
      "dense_2 (Dense)              (None, 5)                 40        \n",
      "_________________________________________________________________\n",
      "dense_3 (Dense)              (None, 1)                 6         \n",
      "=================================================================\n",
      "Total params: 82,133\n",
      "Trainable params: 82,133\n",
      "Non-trainable params: 0\n",
      "_________________________________________________________________\n"
     ]
    }
   ],
   "source": [
    "baseline_model.summary()"
   ]
  },
  {
   "cell_type": "code",
   "execution_count": 36,
   "id": "799d5fcf",
   "metadata": {},
   "outputs": [],
   "source": [
    "baseline_model.compile(optimizer='sgd', \n",
    "              loss='binary_crossentropy', \n",
    "              metrics=['accuracy'])"
   ]
  },
  {
   "cell_type": "code",
   "execution_count": 37,
   "id": "dc59e6f8",
   "metadata": {},
   "outputs": [
    {
     "data": {
      "text/plain": [
       "(4096,)"
      ]
     },
     "execution_count": 37,
     "metadata": {},
     "output_type": "execute_result"
    }
   ],
   "source": [
    "train_reshape[0].shape"
   ]
  },
  {
   "cell_type": "code",
   "execution_count": 38,
   "id": "cc5f3a7a",
   "metadata": {},
   "outputs": [
    {
     "data": {
      "text/plain": [
       "(4096,)"
      ]
     },
     "execution_count": 38,
     "metadata": {},
     "output_type": "execute_result"
    }
   ],
   "source": [
    "val_reshape[0].shape"
   ]
  },
  {
   "cell_type": "code",
   "execution_count": 39,
   "id": "477b4460",
   "metadata": {},
   "outputs": [
    {
     "name": "stdout",
     "output_type": "stream",
     "text": [
      "Epoch 1/50\n",
      "131/131 [==============================] - 4s 16ms/step - loss: 0.5611 - accuracy: 0.7388 - val_loss: 0.4850 - val_accuracy: 0.7430\n",
      "Epoch 2/50\n",
      "131/131 [==============================] - 1s 5ms/step - loss: 0.3848 - accuracy: 0.8289 - val_loss: 0.3847 - val_accuracy: 0.8015\n",
      "Epoch 3/50\n",
      "131/131 [==============================] - 1s 5ms/step - loss: 0.2970 - accuracy: 0.8740 - val_loss: 0.5450 - val_accuracy: 0.7411\n",
      "Epoch 4/50\n",
      "131/131 [==============================] - 1s 4ms/step - loss: 0.2568 - accuracy: 0.8922 - val_loss: 0.2174 - val_accuracy: 0.9070\n",
      "Epoch 5/50\n",
      "131/131 [==============================] - 1s 4ms/step - loss: 0.2270 - accuracy: 0.9092 - val_loss: 0.4529 - val_accuracy: 0.8082\n",
      "Epoch 6/50\n",
      "131/131 [==============================] - 1s 4ms/step - loss: 0.1833 - accuracy: 0.9293 - val_loss: 0.3017 - val_accuracy: 0.8744\n",
      "Epoch 7/50\n",
      "131/131 [==============================] - 1s 4ms/step - loss: 0.1941 - accuracy: 0.9195 - val_loss: 0.1840 - val_accuracy: 0.9252\n",
      "Epoch 8/50\n",
      "131/131 [==============================] - 1s 4ms/step - loss: 0.1728 - accuracy: 0.9324 - val_loss: 0.2190 - val_accuracy: 0.9070\n",
      "Epoch 9/50\n",
      "131/131 [==============================] - 1s 4ms/step - loss: 0.1591 - accuracy: 0.9406 - val_loss: 0.4745 - val_accuracy: 0.8044\n",
      "Epoch 10/50\n",
      "131/131 [==============================] - 1s 4ms/step - loss: 0.1464 - accuracy: 0.9442 - val_loss: 0.1997 - val_accuracy: 0.9175\n",
      "Epoch 11/50\n",
      "131/131 [==============================] - 1s 4ms/step - loss: 0.1371 - accuracy: 0.9466 - val_loss: 0.5077 - val_accuracy: 0.7967\n",
      "Epoch 12/50\n",
      "131/131 [==============================] - 1s 6ms/step - loss: 0.1407 - accuracy: 0.9458 - val_loss: 0.5697 - val_accuracy: 0.8150\n",
      "Epoch 13/50\n",
      "131/131 [==============================] - 1s 4ms/step - loss: 0.1507 - accuracy: 0.9394 - val_loss: 0.2964 - val_accuracy: 0.8792\n",
      "Epoch 14/50\n",
      "131/131 [==============================] - 1s 4ms/step - loss: 0.1325 - accuracy: 0.9494 - val_loss: 0.2455 - val_accuracy: 0.9070\n",
      "Epoch 15/50\n",
      "131/131 [==============================] - 1s 4ms/step - loss: 0.1256 - accuracy: 0.9526 - val_loss: 0.1472 - val_accuracy: 0.9434\n",
      "Epoch 16/50\n",
      "131/131 [==============================] - 1s 4ms/step - loss: 0.1272 - accuracy: 0.9514 - val_loss: 0.1438 - val_accuracy: 0.9444\n",
      "Epoch 17/50\n",
      "131/131 [==============================] - 1s 4ms/step - loss: 0.1186 - accuracy: 0.9540 - val_loss: 0.1840 - val_accuracy: 0.9262\n",
      "Epoch 18/50\n",
      "131/131 [==============================] - 1s 5ms/step - loss: 0.1360 - accuracy: 0.9461 - val_loss: 0.1430 - val_accuracy: 0.9463\n",
      "Epoch 19/50\n",
      "131/131 [==============================] - 1s 4ms/step - loss: 0.1186 - accuracy: 0.9545 - val_loss: 0.1734 - val_accuracy: 0.9319\n",
      "Epoch 20/50\n",
      "131/131 [==============================] - 1s 4ms/step - loss: 0.1216 - accuracy: 0.9545 - val_loss: 0.1553 - val_accuracy: 0.9396\n",
      "Epoch 21/50\n",
      "131/131 [==============================] - 1s 4ms/step - loss: 0.1071 - accuracy: 0.9593 - val_loss: 0.2306 - val_accuracy: 0.9118\n",
      "Epoch 22/50\n",
      "131/131 [==============================] - 1s 4ms/step - loss: 0.1102 - accuracy: 0.9557 - val_loss: 0.1406 - val_accuracy: 0.9473\n",
      "Epoch 23/50\n",
      "131/131 [==============================] - 1s 4ms/step - loss: 0.1206 - accuracy: 0.9561 - val_loss: 0.2257 - val_accuracy: 0.9108\n",
      "Epoch 24/50\n",
      "131/131 [==============================] - 1s 4ms/step - loss: 0.1111 - accuracy: 0.9569 - val_loss: 0.1391 - val_accuracy: 0.9453\n",
      "Epoch 25/50\n",
      "131/131 [==============================] - 1s 5ms/step - loss: 0.0994 - accuracy: 0.9636 - val_loss: 0.1442 - val_accuracy: 0.9453\n",
      "Epoch 26/50\n",
      "131/131 [==============================] - 1s 4ms/step - loss: 0.1069 - accuracy: 0.9612 - val_loss: 0.3903 - val_accuracy: 0.8562\n",
      "Epoch 27/50\n",
      "131/131 [==============================] - 1s 4ms/step - loss: 0.1117 - accuracy: 0.9588 - val_loss: 0.1536 - val_accuracy: 0.9434\n",
      "Epoch 28/50\n",
      "131/131 [==============================] - 1s 4ms/step - loss: 0.1042 - accuracy: 0.9624 - val_loss: 0.1791 - val_accuracy: 0.9300\n",
      "Epoch 29/50\n",
      "131/131 [==============================] - 1s 4ms/step - loss: 0.1217 - accuracy: 0.9547 - val_loss: 0.1516 - val_accuracy: 0.9415\n",
      "Epoch 30/50\n",
      "131/131 [==============================] - 1s 4ms/step - loss: 0.0991 - accuracy: 0.9617 - val_loss: 0.1576 - val_accuracy: 0.9396\n",
      "Epoch 31/50\n",
      "131/131 [==============================] - 1s 4ms/step - loss: 0.1049 - accuracy: 0.9607 - val_loss: 0.1372 - val_accuracy: 0.9463\n",
      "Epoch 32/50\n",
      "131/131 [==============================] - 1s 4ms/step - loss: 0.1044 - accuracy: 0.9602 - val_loss: 0.2065 - val_accuracy: 0.9195\n",
      "Epoch 33/50\n",
      "131/131 [==============================] - 1s 5ms/step - loss: 0.1029 - accuracy: 0.9619 - val_loss: 0.5356 - val_accuracy: 0.7996\n",
      "Epoch 34/50\n",
      "131/131 [==============================] - 1s 4ms/step - loss: 0.1082 - accuracy: 0.9609 - val_loss: 0.3702 - val_accuracy: 0.8686\n",
      "Epoch 35/50\n",
      "131/131 [==============================] - 1s 4ms/step - loss: 0.0967 - accuracy: 0.9645 - val_loss: 0.1414 - val_accuracy: 0.9453\n",
      "Epoch 36/50\n",
      "131/131 [==============================] - 1s 4ms/step - loss: 0.0974 - accuracy: 0.9648 - val_loss: 0.1651 - val_accuracy: 0.9367\n",
      "Epoch 37/50\n",
      "131/131 [==============================] - 1s 4ms/step - loss: 0.1008 - accuracy: 0.9602 - val_loss: 0.5427 - val_accuracy: 0.8063\n",
      "Epoch 38/50\n",
      "131/131 [==============================] - 1s 4ms/step - loss: 0.1004 - accuracy: 0.9626 - val_loss: 0.1610 - val_accuracy: 0.9396\n",
      "Epoch 39/50\n",
      "131/131 [==============================] - 1s 4ms/step - loss: 0.0933 - accuracy: 0.9669 - val_loss: 0.1526 - val_accuracy: 0.9406\n",
      "Epoch 40/50\n",
      "131/131 [==============================] - 1s 4ms/step - loss: 0.0978 - accuracy: 0.9621 - val_loss: 0.4005 - val_accuracy: 0.8571\n",
      "Epoch 41/50\n",
      "131/131 [==============================] - 1s 4ms/step - loss: 0.0950 - accuracy: 0.9641 - val_loss: 0.3299 - val_accuracy: 0.8840\n",
      "Epoch 42/50\n",
      "131/131 [==============================] - 1s 4ms/step - loss: 0.0970 - accuracy: 0.9648 - val_loss: 0.3614 - val_accuracy: 0.8734\n",
      "Epoch 43/50\n",
      "131/131 [==============================] - 1s 4ms/step - loss: 0.0886 - accuracy: 0.9691 - val_loss: 0.1739 - val_accuracy: 0.9348\n",
      "Epoch 44/50\n",
      "131/131 [==============================] - 0s 4ms/step - loss: 0.0965 - accuracy: 0.9633 - val_loss: 0.1686 - val_accuracy: 0.9358\n",
      "Epoch 45/50\n",
      "131/131 [==============================] - 1s 5ms/step - loss: 0.0888 - accuracy: 0.9662 - val_loss: 0.1551 - val_accuracy: 0.9463\n",
      "Epoch 46/50\n",
      "131/131 [==============================] - 1s 5ms/step - loss: 0.0858 - accuracy: 0.9674 - val_loss: 0.1462 - val_accuracy: 0.9434\n",
      "Epoch 47/50\n",
      "131/131 [==============================] - 1s 5ms/step - loss: 0.0879 - accuracy: 0.9676 - val_loss: 0.1490 - val_accuracy: 0.9453\n",
      "Epoch 48/50\n",
      "131/131 [==============================] - 1s 4ms/step - loss: 0.0973 - accuracy: 0.9631 - val_loss: 0.1476 - val_accuracy: 0.9434\n",
      "Epoch 49/50\n",
      "131/131 [==============================] - 1s 4ms/step - loss: 0.0803 - accuracy: 0.9703 - val_loss: 0.2091 - val_accuracy: 0.9281\n",
      "Epoch 50/50\n",
      "131/131 [==============================] - 1s 4ms/step - loss: 0.0834 - accuracy: 0.9696 - val_loss: 0.2825 - val_accuracy: 0.9003\n"
     ]
    },
    {
     "data": {
      "text/plain": [
       "<tensorflow.python.keras.callbacks.History at 0x1dfe661ffa0>"
      ]
     },
     "execution_count": 39,
     "metadata": {},
     "output_type": "execute_result"
    }
   ],
   "source": [
    "baseline_model.fit(train_reshape, \n",
    "                   train_y, \n",
    "                   epochs=50, \n",
    "                   batch_size=32, \n",
    "                   validation_data=(val_reshape, val_y))"
   ]
  },
  {
   "cell_type": "code",
   "execution_count": 40,
   "id": "c764e151",
   "metadata": {},
   "outputs": [
    {
     "name": "stdout",
     "output_type": "stream",
     "text": [
      "131/131 [==============================] - 1s 7ms/step - loss: 0.2145 - accuracy: 0.9183\n"
     ]
    },
    {
     "data": {
      "text/plain": [
       "[0.21445898711681366, 0.9182842373847961]"
      ]
     },
     "execution_count": 40,
     "metadata": {},
     "output_type": "execute_result"
    }
   ],
   "source": [
    "results_train = baseline_model.evaluate(train_reshape, train_y)\n",
    "results_train"
   ]
  },
  {
   "cell_type": "code",
   "execution_count": 42,
   "id": "87a2e79b",
   "metadata": {},
   "outputs": [
    {
     "name": "stdout",
     "output_type": "stream",
     "text": [
      "33/33 [==============================] - 0s 5ms/step - loss: 0.2825 - accuracy: 0.9003\n"
     ]
    },
    {
     "data": {
      "text/plain": [
       "[0.2825089991092682, 0.9002876281738281]"
      ]
     },
     "execution_count": 42,
     "metadata": {},
     "output_type": "execute_result"
    }
   ],
   "source": [
    "results_val = baseline_model.evaluate(val_reshape, val_y)\n",
    "results_val"
   ]
  },
  {
   "cell_type": "markdown",
   "id": "3a96bbf3",
   "metadata": {},
   "source": [
    "## Convolutional Neural Networks - CNNs"
   ]
  },
  {
   "cell_type": "code",
   "execution_count": 37,
   "id": "b892bbb4",
   "metadata": {},
   "outputs": [],
   "source": [
    "#setting up a simple convolutional model\n",
    "simple_cnn = models.Sequential()\n",
    "\n",
    "simple_cnn.add(layers.Conv2D(filters=64, kernel_size=(3,3), activation='relu', \n",
    "          input_shape=(64, 64, 1)))\n",
    "simple_cnn.add(layers.MaxPooling2D(pool_size=(2,2)))\n",
    "simple_cnn.add(layers.Conv2D(filters=64, kernel_size=(3,3), activation='relu'))\n",
    "#single dense layer\n",
    "simple_cnn.add(layers.Flatten())\n",
    "simple_cnn.add(layers.Dense(64, activation='relu'))\n",
    "#output layer\n",
    "simple_cnn.add(layers.Dense(1, activation='sigmoid'))"
   ]
  },
  {
   "cell_type": "code",
   "execution_count": 38,
   "id": "6630f27f",
   "metadata": {},
   "outputs": [
    {
     "name": "stdout",
     "output_type": "stream",
     "text": [
      "Model: \"sequential_2\"\n",
      "_________________________________________________________________\n",
      "Layer (type)                 Output Shape              Param #   \n",
      "=================================================================\n",
      "conv2d_3 (Conv2D)            (None, 62, 62, 64)        640       \n",
      "_________________________________________________________________\n",
      "max_pooling2d_2 (MaxPooling2 (None, 31, 31, 64)        0         \n",
      "_________________________________________________________________\n",
      "conv2d_4 (Conv2D)            (None, 29, 29, 64)        36928     \n",
      "_________________________________________________________________\n",
      "flatten_1 (Flatten)          (None, 53824)             0         \n",
      "_________________________________________________________________\n",
      "dense_3 (Dense)              (None, 64)                3444800   \n",
      "_________________________________________________________________\n",
      "dense_4 (Dense)              (None, 1)                 65        \n",
      "=================================================================\n",
      "Total params: 3,482,433\n",
      "Trainable params: 3,482,433\n",
      "Non-trainable params: 0\n",
      "_________________________________________________________________\n"
     ]
    }
   ],
   "source": [
    "simple_cnn.summary()"
   ]
  },
  {
   "cell_type": "code",
   "execution_count": 39,
   "id": "db8ab46d",
   "metadata": {},
   "outputs": [],
   "source": [
    "simple_cnn.compile(optimizer='sgd',\n",
    "                  loss='binary_crossentropy',\n",
    "                  metrics=['accuracy', tf.keras.metrics.Recall()])"
   ]
  },
  {
   "cell_type": "code",
   "execution_count": 47,
   "id": "3ec1b0d4",
   "metadata": {},
   "outputs": [
    {
     "name": "stdout",
     "output_type": "stream",
     "text": [
      "Epoch 1/10\n",
      "11/11 [==============================] - 4s 349ms/step - loss: 0.4689 - accuracy: 0.7985 - recall: 0.9690\n",
      "Epoch 2/10\n",
      "11/11 [==============================] - 4s 355ms/step - loss: 0.4162 - accuracy: 0.8308 - recall: 0.9829\n",
      "Epoch 3/10\n",
      "11/11 [==============================] - 4s 353ms/step - loss: 0.4301 - accuracy: 0.8160 - recall: 0.9503\n",
      "Epoch 4/10\n",
      "11/11 [==============================] - 4s 365ms/step - loss: 0.3959 - accuracy: 0.8397 - recall: 0.9703\n",
      "Epoch 5/10\n",
      "11/11 [==============================] - 4s 379ms/step - loss: 0.3704 - accuracy: 0.8519 - recall: 0.9574\n",
      "Epoch 6/10\n",
      "11/11 [==============================] - 4s 383ms/step - loss: 0.3993 - accuracy: 0.8390 - recall: 0.9403\n",
      "Epoch 7/10\n",
      "11/11 [==============================] - 4s 373ms/step - loss: 0.3415 - accuracy: 0.8622 - recall: 0.9610\n",
      "Epoch 8/10\n",
      "11/11 [==============================] - 4s 370ms/step - loss: 0.3802 - accuracy: 0.8308 - recall: 0.9297\n",
      "Epoch 9/10\n",
      "11/11 [==============================] - 4s 332ms/step - loss: 0.3094 - accuracy: 0.8807 - recall: 0.9545\n",
      "Epoch 10/10\n",
      "11/11 [==============================] - 4s 358ms/step - loss: 0.3757 - accuracy: 0.8263 - recall: 0.9232\n"
     ]
    },
    {
     "data": {
      "text/plain": [
       "<tensorflow.python.keras.callbacks.History at 0x213bccf60a0>"
      ]
     },
     "execution_count": 47,
     "metadata": {},
     "output_type": "execute_result"
    }
   ],
   "source": [
    "simple_cnn.fit(train_images, train_labels, epochs=10, batch_size=400)"
   ]
  },
  {
   "cell_type": "code",
   "execution_count": 48,
   "id": "1741b9d9",
   "metadata": {},
   "outputs": [
    {
     "name": "stdout",
     "output_type": "stream",
     "text": [
      "131/131 [==============================] - 2s 11ms/step - loss: 0.3318 - accuracy: 0.8804 - recall: 0.8710\n"
     ]
    },
    {
     "data": {
      "text/plain": [
       "[0.33183497190475464, 0.8804217576980591, 0.8709677457809448]"
      ]
     },
     "execution_count": 48,
     "metadata": {},
     "output_type": "execute_result"
    }
   ],
   "source": [
    "simple_cnn_train = simple_cnn.evaluate(train_images, train_labels)\n",
    "simple_cnn_train"
   ]
  },
  {
   "cell_type": "code",
   "execution_count": 79,
   "id": "2520d5b2",
   "metadata": {},
   "outputs": [
    {
     "name": "stdout",
     "output_type": "stream",
     "text": [
      "131/131 [==============================] - 4s 22ms/step - loss: 0.2789 - accuracy: 0.9154 - precision: 0.9467\n"
     ]
    },
    {
     "data": {
      "text/plain": [
       "[0.2788931131362915, 0.9154085516929626, 0.9466666579246521]"
      ]
     },
     "execution_count": 79,
     "metadata": {},
     "output_type": "execute_result"
    }
   ],
   "source": [
    "#this is the  model from day 1 with very good performance in terms of accuracy\n",
    "simple_cnn_train = simple_cnn.evaluate(train_images, train_labels)\n",
    "simple_cnn_train"
   ]
  },
  {
   "cell_type": "code",
   "execution_count": 80,
   "id": "ae321506",
   "metadata": {
    "scrolled": true
   },
   "outputs": [
    {
     "name": "stdout",
     "output_type": "stream",
     "text": [
      "33/33 [==============================] - 1s 25ms/step - loss: 0.3074 - accuracy: 0.8859 - precision: 0.9216\n"
     ]
    },
    {
     "data": {
      "text/plain": [
       "[0.30743056535720825, 0.8859060406684875, 0.9215938448905945]"
      ]
     },
     "execution_count": 80,
     "metadata": {},
     "output_type": "execute_result"
    }
   ],
   "source": [
    "simple_cnn_val = simple_cnn.evaluate(val_images, val_labels)\n",
    "simple_cnn_val"
   ]
  },
  {
   "cell_type": "markdown",
   "id": "09b60185",
   "metadata": {},
   "source": [
    "Our first CNN had some overfitting (91% accuracy on the train set and 89% accuracy on the validation set). Precision was also better for the train set (94%) than the validation set (92%)."
   ]
  },
  {
   "cell_type": "code",
   "execution_count": 97,
   "id": "84e630c7",
   "metadata": {},
   "outputs": [
    {
     "data": {
      "text/plain": [
       "list"
      ]
     },
     "execution_count": 97,
     "metadata": {},
     "output_type": "execute_result"
    }
   ],
   "source": [
    "type(simple_cnn_val)"
   ]
  },
  {
   "cell_type": "code",
   "execution_count": 31,
   "id": "4621f63c",
   "metadata": {},
   "outputs": [],
   "source": [
    "#helper function to store metrics in a dictionary format for easy recall\n",
    "def metrics_to_dict(model_name, metrics, metrics_dict):\n",
    "    '''\n",
    "    Returns a dictionary with model name as key and dictionaries of metrics\n",
    "    as values\n",
    "    Nested dictionary has metric names as keys and the scores as values\n",
    "    \n",
    "    Takes the following arguments:\n",
    "    model_name: String of model name\n",
    "    metrics: list of metric scores from model.evaluate(), must match metric_names\n",
    "    metrics_dict: dictionary to be added to\n",
    "    '''\n",
    "    metrics_dict[model_name]={}\n",
    "    metric_names = ['loss', 'accuracy', 'precision']\n",
    "    for i,metric in enumerate(metric_names):\n",
    "        metrics_dict[model_name][metric] = metrics[i]\n",
    "    return metrics_dict"
   ]
  },
  {
   "cell_type": "code",
   "execution_count": 103,
   "id": "866eb990",
   "metadata": {},
   "outputs": [
    {
     "data": {
      "text/plain": [
       "{'simple_cnn': {'loss': 0.30743056535720825,\n",
       "  'accuracy': 0.8859060406684875,\n",
       "  'precision': 0.9215938448905945}}"
      ]
     },
     "execution_count": 103,
     "metadata": {},
     "output_type": "execute_result"
    }
   ],
   "source": [
    "metrics_dict = {}\n",
    "metrics_to_dict('simple_cnn', simple_cnn_val, metrics_dict)\n",
    "metrics_dict"
   ]
  },
  {
   "cell_type": "code",
   "execution_count": 85,
   "id": "724da6d7",
   "metadata": {},
   "outputs": [
    {
     "name": "stdout",
     "output_type": "stream",
     "text": [
      "README.md\n",
      "Yuhkai_notebook_scratch.ipynb\n",
      "data\n",
      "data.zip\n",
      "notebooks_scratch\n",
      "simple_cnn.pkl\n"
     ]
    }
   ],
   "source": [
    "!ls"
   ]
  },
  {
   "cell_type": "code",
   "execution_count": 94,
   "id": "140cb170",
   "metadata": {},
   "outputs": [],
   "source": [
    "#!mkdir saved_models"
   ]
  },
  {
   "cell_type": "code",
   "execution_count": 95,
   "id": "ed31cb53",
   "metadata": {},
   "outputs": [
    {
     "name": "stdout",
     "output_type": "stream",
     "text": [
      "-p\n",
      "README.md\n",
      "Yuhkai_notebook_scratch.ipynb\n",
      "data\n",
      "data.zip\n",
      "notebooks_scratch\n",
      "saved_models\n",
      "simple_cnn.pkl\n"
     ]
    }
   ],
   "source": [
    "!ls"
   ]
  },
  {
   "cell_type": "code",
   "execution_count": 96,
   "id": "fb93f055",
   "metadata": {},
   "outputs": [
    {
     "name": "stdout",
     "output_type": "stream",
     "text": [
      "INFO:tensorflow:Assets written to: saved_models/simple_cnn\\assets\n"
     ]
    }
   ],
   "source": [
    "#saving off the model as pkl file\n",
    "#simple_cnn.save('saved_models/simple_cnn')"
   ]
  },
  {
   "cell_type": "code",
   "execution_count": 41,
   "id": "0066d489",
   "metadata": {},
   "outputs": [],
   "source": [
    "#loading in pkl file\n",
    "simple_cnn_loaded = load_model('saved_models/simple_cnn')"
   ]
  },
  {
   "cell_type": "code",
   "execution_count": 42,
   "id": "8842909a",
   "metadata": {},
   "outputs": [
    {
     "name": "stdout",
     "output_type": "stream",
     "text": [
      "33/33 [==============================] - 4s 29ms/step - loss: 0.3074 - accuracy: 0.8859 - precision: 0.9216\n"
     ]
    },
    {
     "data": {
      "text/plain": [
       "[0.30743053555488586, 0.8859060406684875, 0.9215938448905945]"
      ]
     },
     "execution_count": 42,
     "metadata": {},
     "output_type": "execute_result"
    }
   ],
   "source": [
    "#testing loaded pkl file\n",
    "simple_cnn_loaded.evaluate(val_images, val_labels)"
   ]
  },
  {
   "cell_type": "code",
   "execution_count": 45,
   "id": "e2242bd8",
   "metadata": {},
   "outputs": [
    {
     "data": {
      "text/plain": [
       "array([[1],\n",
       "       [0],\n",
       "       [1],\n",
       "       ...,\n",
       "       [1],\n",
       "       [1],\n",
       "       [0]])"
      ]
     },
     "execution_count": 45,
     "metadata": {},
     "output_type": "execute_result"
    }
   ],
   "source": [
    "from sklearn.metrics import recall_score\n",
    "preds = simple_cnn_loaded.predict(val_images)\n",
    "preds = np.where(preds > 0.5, 1,0)\n",
    "preds"
   ]
  },
  {
   "cell_type": "code",
   "execution_count": 46,
   "id": "bebd2060",
   "metadata": {},
   "outputs": [
    {
     "data": {
      "text/plain": [
       "0.9251612903225807"
      ]
     },
     "execution_count": 46,
     "metadata": {},
     "output_type": "execute_result"
    }
   ],
   "source": [
    "recall_score(val_labels, preds)"
   ]
  },
  {
   "cell_type": "markdown",
   "id": "121b3c5a",
   "metadata": {},
   "source": [
    "## Second CNN Model"
   ]
  },
  {
   "cell_type": "code",
   "execution_count": 33,
   "id": "12173911",
   "metadata": {},
   "outputs": [],
   "source": [
    "#second convolutional neural network\n",
    "second_cnn = models.Sequential()\n",
    "\n",
    "#adding more convolutional and pooling layers\n",
    "second_cnn.add(layers.Conv2D(filters=64, kernel_size=(4,4), activation='relu', \n",
    "          input_shape=(64, 64, 1)))\n",
    "second_cnn.add(layers.MaxPooling2D(pool_size=(2,2)))\n",
    "second_cnn.add(layers.Conv2D(filters=64, kernel_size=(3,3), activation='relu'))\n",
    "second_cnn.add(layers.MaxPooling2D(pool_size=(2,2)))\n",
    "second_cnn.add(layers.Conv2D(filters=64, kernel_size=(4,4), activation='relu'))\n",
    "\n",
    "#two dense layers\n",
    "second_cnn.add(layers.Flatten())\n",
    "second_cnn.add(layers.Dense(64, activation='relu'))\n",
    "second_cnn.add(layers.Dense(64, activation='relu'))\n",
    "#output layer\n",
    "second_cnn.add(layers.Dense(1, activation='sigmoid'))"
   ]
  },
  {
   "cell_type": "code",
   "execution_count": 34,
   "id": "35e92569",
   "metadata": {},
   "outputs": [
    {
     "name": "stdout",
     "output_type": "stream",
     "text": [
      "Model: \"sequential_1\"\n",
      "_________________________________________________________________\n",
      "Layer (type)                 Output Shape              Param #   \n",
      "=================================================================\n",
      "conv2d (Conv2D)              (None, 61, 61, 64)        1088      \n",
      "_________________________________________________________________\n",
      "max_pooling2d (MaxPooling2D) (None, 30, 30, 64)        0         \n",
      "_________________________________________________________________\n",
      "conv2d_1 (Conv2D)            (None, 28, 28, 64)        36928     \n",
      "_________________________________________________________________\n",
      "max_pooling2d_1 (MaxPooling2 (None, 14, 14, 64)        0         \n",
      "_________________________________________________________________\n",
      "conv2d_2 (Conv2D)            (None, 11, 11, 64)        65600     \n",
      "_________________________________________________________________\n",
      "flatten (Flatten)            (None, 7744)              0         \n",
      "_________________________________________________________________\n",
      "dense (Dense)                (None, 64)                495680    \n",
      "_________________________________________________________________\n",
      "dense_1 (Dense)              (None, 64)                4160      \n",
      "_________________________________________________________________\n",
      "dense_2 (Dense)              (None, 1)                 65        \n",
      "=================================================================\n",
      "Total params: 603,521\n",
      "Trainable params: 603,521\n",
      "Non-trainable params: 0\n",
      "_________________________________________________________________\n"
     ]
    }
   ],
   "source": [
    "second_cnn.summary()"
   ]
  },
  {
   "cell_type": "code",
   "execution_count": 35,
   "id": "52fdf2ff",
   "metadata": {},
   "outputs": [],
   "source": [
    "second_cnn.compile(optimizer='sgd',\n",
    "                  loss='binary_crossentropy',\n",
    "                  metrics=['accuracy', tf.keras.metrics.Precision()])"
   ]
  },
  {
   "cell_type": "code",
   "execution_count": 36,
   "id": "57daf976",
   "metadata": {},
   "outputs": [
    {
     "name": "stdout",
     "output_type": "stream",
     "text": [
      "Epoch 1/10\n",
      "11/11 [==============================] - 8s 365ms/step - loss: 0.6890 - accuracy: 0.6039 - precision: 0.7557\n",
      "Epoch 2/10\n",
      "11/11 [==============================] - 6s 523ms/step - loss: 0.6720 - accuracy: 0.7429 - precision: 0.7429\n",
      "Epoch 3/10\n",
      "11/11 [==============================] - 7s 671ms/step - loss: 0.6597 - accuracy: 0.7429 - precision: 0.7429\n",
      "Epoch 4/10\n",
      "11/11 [==============================] - 8s 735ms/step - loss: 0.6467 - accuracy: 0.7429 - precision: 0.7429\n",
      "Epoch 5/10\n",
      "11/11 [==============================] - 8s 720ms/step - loss: 0.6307 - accuracy: 0.7429 - precision: 0.7429\n",
      "Epoch 6/10\n",
      "11/11 [==============================] - 8s 684ms/step - loss: 0.6124 - accuracy: 0.7429 - precision: 0.7429\n",
      "Epoch 7/10\n",
      "11/11 [==============================] - 8s 736ms/step - loss: 0.5945 - accuracy: 0.7429 - precision: 0.7429\n",
      "Epoch 8/10\n",
      "11/11 [==============================] - 8s 721ms/step - loss: 0.5809 - accuracy: 0.7429 - precision: 0.7429\n",
      "Epoch 9/10\n",
      "11/11 [==============================] - 8s 761ms/step - loss: 0.5733 - accuracy: 0.7429 - precision: 0.7429\n",
      "Epoch 10/10\n",
      "11/11 [==============================] - 7s 675ms/step - loss: 0.5702 - accuracy: 0.7429 - precision: 0.7429\n"
     ]
    },
    {
     "data": {
      "text/plain": [
       "<tensorflow.python.keras.callbacks.History at 0x2136b6c9d30>"
      ]
     },
     "execution_count": 36,
     "metadata": {},
     "output_type": "execute_result"
    }
   ],
   "source": [
    "second_cnn.fit(train_images, train_labels, epochs=10, batch_size=400)"
   ]
  },
  {
   "cell_type": "code",
   "execution_count": null,
   "id": "ae8ddda3",
   "metadata": {},
   "outputs": [],
   "source": [
    "#ran this second model multiple times, usually got stuck around 0.7429 accuracy"
   ]
  },
  {
   "cell_type": "code",
   "execution_count": 118,
   "id": "d9b30f08",
   "metadata": {},
   "outputs": [],
   "source": [
    "second_cnn.compile(optimizer='sgd',\n",
    "                  loss='binary_crossentropy',\n",
    "                  metrics=['accuracy', tf.keras.metrics.Precision()])"
   ]
  },
  {
   "cell_type": "code",
   "execution_count": 119,
   "id": "ece1467d",
   "metadata": {},
   "outputs": [
    {
     "name": "stdout",
     "output_type": "stream",
     "text": [
      "Epoch 1/10\n",
      "11/11 [==============================] - 5s 361ms/step - loss: 0.4866 - accuracy: 0.7429 - precision_5: 0.7429\n",
      "Epoch 2/10\n",
      "11/11 [==============================] - 4s 362ms/step - loss: 0.4696 - accuracy: 0.7431 - precision_5: 0.7430\n",
      "Epoch 3/10\n",
      "11/11 [==============================] - 4s 357ms/step - loss: 0.4597 - accuracy: 0.7525 - precision_5: 0.7502\n",
      "Epoch 4/10\n",
      "11/11 [==============================] - 4s 328ms/step - loss: 0.4367 - accuracy: 0.7695 - precision_5: 0.7641\n",
      "Epoch 5/10\n",
      "11/11 [==============================] - 4s 327ms/step - loss: 0.4178 - accuracy: 0.8009 - precision_5: 0.7916\n",
      "Epoch 6/10\n",
      "11/11 [==============================] - 4s 326ms/step - loss: 0.5014 - accuracy: 0.7985 - precision_5: 0.8149\n",
      "Epoch 7/10\n",
      "11/11 [==============================] - 4s 341ms/step - loss: 0.4388 - accuracy: 0.8090 - precision_5: 0.8135\n",
      "Epoch 8/10\n",
      "11/11 [==============================] - 4s 334ms/step - loss: 0.3947 - accuracy: 0.8284 - precision_5: 0.8229\n",
      "Epoch 9/10\n",
      "11/11 [==============================] - 4s 329ms/step - loss: 0.4243 - accuracy: 0.8164 - precision_5: 0.8321\n",
      "Epoch 10/10\n",
      "11/11 [==============================] - 4s 365ms/step - loss: 0.4009 - accuracy: 0.8200 - precision_5: 0.8326\n"
     ]
    },
    {
     "data": {
      "text/plain": [
       "<tensorflow.python.keras.callbacks.History at 0x1dfcd45c2e0>"
      ]
     },
     "execution_count": 119,
     "metadata": {},
     "output_type": "execute_result"
    }
   ],
   "source": [
    "second_cnn.fit(train_images, train_labels, epochs=10, batch_size=400)"
   ]
  },
  {
   "cell_type": "code",
   "execution_count": 123,
   "id": "f7d31367",
   "metadata": {},
   "outputs": [
    {
     "name": "stdout",
     "output_type": "stream",
     "text": [
      "131/131 [==============================] - 2s 15ms/step - loss: 0.4306 - accuracy: 0.8497 - precision_5: 0.9647\n"
     ]
    },
    {
     "data": {
      "text/plain": [
       "[0.4305930435657501, 0.8497483730316162, 0.9646749496459961]"
      ]
     },
     "execution_count": 123,
     "metadata": {},
     "output_type": "execute_result"
    }
   ],
   "source": [
    "second_cnn_train = second_cnn.evaluate(train_images, train_labels)\n",
    "second_cnn_train"
   ]
  },
  {
   "cell_type": "code",
   "execution_count": 122,
   "id": "bab4c16c",
   "metadata": {},
   "outputs": [
    {
     "name": "stdout",
     "output_type": "stream",
     "text": [
      "33/33 [==============================] - 1s 16ms/step - loss: 0.4541 - accuracy: 0.8150 - precision_5: 0.9491\n"
     ]
    },
    {
     "data": {
      "text/plain": [
       "[0.45411476492881775, 0.8149568438529968, 0.9490740895271301]"
      ]
     },
     "execution_count": 122,
     "metadata": {},
     "output_type": "execute_result"
    }
   ],
   "source": [
    "second_cnn_val = second_cnn.evaluate(val_images, val_labels)\n",
    "second_cnn_val"
   ]
  },
  {
   "cell_type": "markdown",
   "id": "fe62e8e9",
   "metadata": {},
   "source": [
    "This second model has less accuracy (still overfit) but higher precision."
   ]
  },
  {
   "cell_type": "code",
   "execution_count": 125,
   "id": "2edc93e1",
   "metadata": {},
   "outputs": [
    {
     "name": "stdout",
     "output_type": "stream",
     "text": [
      "4173\n",
      "1043\n"
     ]
    }
   ],
   "source": [
    "print(len(train_images))\n",
    "print(len(val_images))"
   ]
  },
  {
   "cell_type": "markdown",
   "id": "0f3b7d97",
   "metadata": {},
   "source": [
    "## Grid Search with CNN Model"
   ]
  },
  {
   "cell_type": "code",
   "execution_count": 49,
   "id": "cda3f18f",
   "metadata": {},
   "outputs": [],
   "source": [
    "#setting up a simple convolutional model\n",
    "GS_cnn = models.Sequential()\n",
    "\n",
    "GS_cnn.add(layers.Conv2D(filters=64, kernel_size=(3,3), activation='relu', \n",
    "          input_shape=(64, 64, 1)))\n",
    "GS_cnn.add(layers.MaxPooling2D(pool_size=(2,2)))\n",
    "GS_cnn.add(layers.Conv2D(filters=64, kernel_size=(3,3), activation='relu'))\n",
    "#single dense layer\n",
    "GS_cnn.add(layers.Flatten())\n",
    "GS_cnn.add(layers.Dense(64, activation='relu'))\n",
    "#output layer\n",
    "GS_cnn.add(layers.Dense(1, activation='sigmoid'))"
   ]
  },
  {
   "cell_type": "code",
   "execution_count": 50,
   "id": "97b69946",
   "metadata": {},
   "outputs": [
    {
     "data": {
      "text/plain": [
       "tensorflow.python.keras.engine.sequential.Sequential"
      ]
     },
     "execution_count": 50,
     "metadata": {},
     "output_type": "execute_result"
    }
   ],
   "source": [
    "type(GS_cnn)"
   ]
  },
  {
   "cell_type": "code",
   "execution_count": 56,
   "id": "22a59dec",
   "metadata": {},
   "outputs": [],
   "source": [
    "GS_cnn.compile(optimizer='sgd',\n",
    "                  loss='binary_crossentropy',\n",
    "                  metrics=['accuracy', tf.keras.metrics.Recall()])"
   ]
  },
  {
   "cell_type": "code",
   "execution_count": 55,
   "id": "18d42005",
   "metadata": {},
   "outputs": [
    {
     "data": {
      "text/plain": [
       "tensorflow.python.keras.engine.sequential.Sequential"
      ]
     },
     "execution_count": 55,
     "metadata": {},
     "output_type": "execute_result"
    }
   ],
   "source": [
    "type(GS_cnn)"
   ]
  },
  {
   "cell_type": "code",
   "execution_count": 59,
   "id": "ea835aba",
   "metadata": {},
   "outputs": [],
   "source": [
    "from sklearn.model_selection import GridSearchCV\n",
    "from tensorflow.keras.wrappers.scikit_learn import KerasClassifier\n",
    "\n",
    "def build_classifier():\n",
    "    model = models.Sequential()\n",
    "    model.add(layers.Conv2D(filters=64, kernel_size=(3,3), activation='relu', \n",
    "          input_shape=(64, 64, 1)))\n",
    "    model.add(layers.MaxPooling2D(pool_size=(2,2)))\n",
    "    model.add(layers.Conv2D(filters=64, kernel_size=(3,3), activation='relu'))\n",
    "#single dense layer\n",
    "    model.add(layers.Flatten())\n",
    "    model.add(layers.Dense(64, activation='relu'))\n",
    "#output layer\n",
    "    model.add(layers.Dense(1, activation='sigmoid'))\n",
    "    model.compile(optimizer='sgd',\n",
    "                  loss='binary_crossentropy',\n",
    "                  metrics=['accuracy', tf.keras.metrics.Recall()])\n",
    "    return model"
   ]
  },
  {
   "cell_type": "code",
   "execution_count": 60,
   "id": "1889e3ae",
   "metadata": {},
   "outputs": [],
   "source": [
    "GS_cnn = KerasClassifier(build_classifier, verbose=0)"
   ]
  },
  {
   "cell_type": "code",
   "execution_count": 74,
   "id": "f2bdc3d9",
   "metadata": {},
   "outputs": [],
   "source": [
    "batch_size = [100, 200, 400, 1000]\n",
    "epochs = [10, 20, 30]\n",
    "#early_stop = [EarlyStopping(monitor='loss', min_delta=1e-3, verbose=1, mode='min')]\n",
    "\n",
    "param_grid = dict(batch_size=batch_size, epochs=epochs, callbacks=[early_stop])\n"
   ]
  },
  {
   "cell_type": "code",
   "execution_count": 75,
   "id": "9606b9c5",
   "metadata": {},
   "outputs": [],
   "source": [
    "grid = GridSearchCV(estimator=GS_cnn, param_grid=param_grid, cv=3, verbose=3)"
   ]
  },
  {
   "cell_type": "code",
   "execution_count": 76,
   "id": "75338368",
   "metadata": {},
   "outputs": [
    {
     "name": "stdout",
     "output_type": "stream",
     "text": [
      "Fitting 3 folds for each of 12 candidates, totalling 36 fits\n",
      "[CV 1/3] END batch_size=100, callbacks=[<tensorflow.python.keras.callbacks.EarlyStopping object at 0x00000213C8A00AF0>], epochs=10;, score=0.735 total time=   4.7s\n",
      "[CV 2/3] END batch_size=100, callbacks=[<tensorflow.python.keras.callbacks.EarlyStopping object at 0x00000213C8A00AF0>], epochs=10;, score=0.756 total time=   4.9s\n",
      "[CV 3/3] END batch_size=100, callbacks=[<tensorflow.python.keras.callbacks.EarlyStopping object at 0x00000213C8A00AF0>], epochs=10;, score=0.738 total time=   5.0s\n",
      "[CV 1/3] END batch_size=100, callbacks=[<tensorflow.python.keras.callbacks.EarlyStopping object at 0x00000213C8A00AF0>], epochs=20;, score=0.735 total time=   5.1s\n",
      "[CV 2/3] END batch_size=100, callbacks=[<tensorflow.python.keras.callbacks.EarlyStopping object at 0x00000213C8A00AF0>], epochs=20;, score=0.756 total time=   5.2s\n",
      "[CV 3/3] END batch_size=100, callbacks=[<tensorflow.python.keras.callbacks.EarlyStopping object at 0x00000213C8A00AF0>], epochs=20;, score=0.738 total time=   4.9s\n",
      "[CV 1/3] END batch_size=100, callbacks=[<tensorflow.python.keras.callbacks.EarlyStopping object at 0x00000213C8A00AF0>], epochs=30;, score=0.735 total time=   5.0s\n",
      "[CV 2/3] END batch_size=100, callbacks=[<tensorflow.python.keras.callbacks.EarlyStopping object at 0x00000213C8A00AF0>], epochs=30;, score=0.756 total time=   4.9s\n",
      "[CV 3/3] END batch_size=100, callbacks=[<tensorflow.python.keras.callbacks.EarlyStopping object at 0x00000213C8A00AF0>], epochs=30;, score=0.738 total time=   4.8s\n",
      "[CV 1/3] END batch_size=200, callbacks=[<tensorflow.python.keras.callbacks.EarlyStopping object at 0x00000213C8A00AF0>], epochs=10;, score=0.735 total time=   4.4s\n",
      "[CV 2/3] END batch_size=200, callbacks=[<tensorflow.python.keras.callbacks.EarlyStopping object at 0x00000213C8A00AF0>], epochs=10;, score=0.756 total time=   4.1s\n",
      "[CV 3/3] END batch_size=200, callbacks=[<tensorflow.python.keras.callbacks.EarlyStopping object at 0x00000213C8A00AF0>], epochs=10;, score=0.738 total time=   4.0s\n",
      "[CV 1/3] END batch_size=200, callbacks=[<tensorflow.python.keras.callbacks.EarlyStopping object at 0x00000213C8A00AF0>], epochs=20;, score=0.735 total time=   4.0s\n",
      "[CV 2/3] END batch_size=200, callbacks=[<tensorflow.python.keras.callbacks.EarlyStopping object at 0x00000213C8A00AF0>], epochs=20;, score=0.756 total time=   3.9s\n",
      "[CV 3/3] END batch_size=200, callbacks=[<tensorflow.python.keras.callbacks.EarlyStopping object at 0x00000213C8A00AF0>], epochs=20;, score=0.738 total time=   3.9s\n",
      "[CV 1/3] END batch_size=200, callbacks=[<tensorflow.python.keras.callbacks.EarlyStopping object at 0x00000213C8A00AF0>], epochs=30;, score=0.735 total time=   4.6s\n",
      "[CV 2/3] END batch_size=200, callbacks=[<tensorflow.python.keras.callbacks.EarlyStopping object at 0x00000213C8A00AF0>], epochs=30;, score=0.756 total time=   4.0s\n",
      "[CV 3/3] END batch_size=200, callbacks=[<tensorflow.python.keras.callbacks.EarlyStopping object at 0x00000213C8A00AF0>], epochs=30;, score=0.738 total time=   4.1s\n",
      "[CV 1/3] END batch_size=400, callbacks=[<tensorflow.python.keras.callbacks.EarlyStopping object at 0x00000213C8A00AF0>], epochs=10;, score=0.735 total time=   3.5s\n",
      "[CV 2/3] END batch_size=400, callbacks=[<tensorflow.python.keras.callbacks.EarlyStopping object at 0x00000213C8A00AF0>], epochs=10;, score=0.756 total time=   3.6s\n",
      "[CV 3/3] END batch_size=400, callbacks=[<tensorflow.python.keras.callbacks.EarlyStopping object at 0x00000213C8A00AF0>], epochs=10;, score=0.738 total time=   4.2s\n",
      "[CV 1/3] END batch_size=400, callbacks=[<tensorflow.python.keras.callbacks.EarlyStopping object at 0x00000213C8A00AF0>], epochs=20;, score=0.735 total time=   3.7s\n",
      "[CV 2/3] END batch_size=400, callbacks=[<tensorflow.python.keras.callbacks.EarlyStopping object at 0x00000213C8A00AF0>], epochs=20;, score=0.756 total time=   3.6s\n",
      "[CV 3/3] END batch_size=400, callbacks=[<tensorflow.python.keras.callbacks.EarlyStopping object at 0x00000213C8A00AF0>], epochs=20;, score=0.738 total time=   3.5s\n",
      "[CV 1/3] END batch_size=400, callbacks=[<tensorflow.python.keras.callbacks.EarlyStopping object at 0x00000213C8A00AF0>], epochs=30;, score=0.735 total time=   3.6s\n",
      "[CV 2/3] END batch_size=400, callbacks=[<tensorflow.python.keras.callbacks.EarlyStopping object at 0x00000213C8A00AF0>], epochs=30;, score=0.756 total time=   3.9s\n",
      "[CV 3/3] END batch_size=400, callbacks=[<tensorflow.python.keras.callbacks.EarlyStopping object at 0x00000213C8A00AF0>], epochs=30;, score=0.738 total time=   3.5s\n",
      "[CV 1/3] END batch_size=1000, callbacks=[<tensorflow.python.keras.callbacks.EarlyStopping object at 0x00000213C8A00AF0>], epochs=10;, score=0.735 total time=   3.3s\n",
      "[CV 2/3] END batch_size=1000, callbacks=[<tensorflow.python.keras.callbacks.EarlyStopping object at 0x00000213C8A00AF0>], epochs=10;, score=0.756 total time=   3.3s\n",
      "[CV 3/3] END batch_size=1000, callbacks=[<tensorflow.python.keras.callbacks.EarlyStopping object at 0x00000213C8A00AF0>], epochs=10;, score=0.738 total time=   3.3s\n",
      "[CV 1/3] END batch_size=1000, callbacks=[<tensorflow.python.keras.callbacks.EarlyStopping object at 0x00000213C8A00AF0>], epochs=20;, score=0.735 total time=   3.7s\n",
      "[CV 2/3] END batch_size=1000, callbacks=[<tensorflow.python.keras.callbacks.EarlyStopping object at 0x00000213C8A00AF0>], epochs=20;, score=0.756 total time=   3.3s\n",
      "[CV 3/3] END batch_size=1000, callbacks=[<tensorflow.python.keras.callbacks.EarlyStopping object at 0x00000213C8A00AF0>], epochs=20;, score=0.738 total time=   3.3s\n",
      "[CV 1/3] END batch_size=1000, callbacks=[<tensorflow.python.keras.callbacks.EarlyStopping object at 0x00000213C8A00AF0>], epochs=30;, score=0.735 total time=   3.3s\n",
      "[CV 2/3] END batch_size=1000, callbacks=[<tensorflow.python.keras.callbacks.EarlyStopping object at 0x00000213C8A00AF0>], epochs=30;, score=0.756 total time=   3.3s\n",
      "[CV 3/3] END batch_size=1000, callbacks=[<tensorflow.python.keras.callbacks.EarlyStopping object at 0x00000213C8A00AF0>], epochs=30;, score=0.738 total time=   3.7s\n"
     ]
    }
   ],
   "source": [
    "grid_results = grid.fit(train_images, train_labels)"
   ]
  },
  {
   "cell_type": "code",
   "execution_count": 77,
   "id": "6539109a",
   "metadata": {},
   "outputs": [
    {
     "data": {
      "text/plain": [
       "{'batch_size': 100,\n",
       " 'callbacks': [<tensorflow.python.keras.callbacks.EarlyStopping at 0x213c8a00af0>],\n",
       " 'epochs': 10}"
      ]
     },
     "execution_count": 77,
     "metadata": {},
     "output_type": "execute_result"
    }
   ],
   "source": [
    "grid_results.best_params_"
   ]
  },
  {
   "cell_type": "code",
   "execution_count": 78,
   "id": "4d5e9b4b",
   "metadata": {},
   "outputs": [
    {
     "data": {
      "text/plain": [
       "0.74287082751592"
      ]
     },
     "execution_count": 78,
     "metadata": {},
     "output_type": "execute_result"
    }
   ],
   "source": [
    "grid_results.best_score_"
   ]
  },
  {
   "cell_type": "code",
   "execution_count": 79,
   "id": "51f843ec",
   "metadata": {},
   "outputs": [
    {
     "data": {
      "text/plain": [
       "tensorflow.python.keras.engine.sequential.Sequential"
      ]
     },
     "execution_count": 79,
     "metadata": {},
     "output_type": "execute_result"
    }
   ],
   "source": [
    "type(simple_cnn_loaded)"
   ]
  },
  {
   "cell_type": "code",
   "execution_count": 82,
   "id": "9bddc8c1",
   "metadata": {},
   "outputs": [],
   "source": [
    "simple_cnn_loaded.compile(optimizer='sgd',\n",
    "                  loss='binary_crossentropy',\n",
    "                  metrics=['accuracy', tf.keras.metrics.Recall()])"
   ]
  },
  {
   "cell_type": "code",
   "execution_count": 83,
   "id": "2203a1bf",
   "metadata": {},
   "outputs": [
    {
     "name": "stdout",
     "output_type": "stream",
     "text": [
      "33/33 [==============================] - 1s 15ms/step - loss: 0.3074 - accuracy: 0.8859 - recall_84: 0.9252\n"
     ]
    },
    {
     "data": {
      "text/plain": [
       "[0.30743053555488586, 0.8859060406684875, 0.9251613020896912]"
      ]
     },
     "execution_count": 83,
     "metadata": {},
     "output_type": "execute_result"
    }
   ],
   "source": [
    "simple_cnn_loaded.evaluate(val_images, val_labels)"
   ]
  },
  {
   "cell_type": "markdown",
   "id": "fb3051fb",
   "metadata": {},
   "source": [
    "## More CNN modeling"
   ]
  },
  {
   "cell_type": "code",
   "execution_count": 50,
   "id": "d10cba58",
   "metadata": {},
   "outputs": [],
   "source": [
    "third_cnn = models.Sequential()\n",
    "\n",
    "third_cnn.add(layers.Conv2D(filters=32, kernel_size=(2,2), activation='relu', \n",
    "          input_shape=(64, 64, 1)))\n",
    "third_cnn.add(layers.MaxPooling2D(pool_size=(2,2)))\n",
    "third_cnn.add(layers.Conv2D(filters=64, kernel_size=(2,2), activation='relu'))\n",
    "third_cnn.add(layers.MaxPooling2D(pool_size=(2,2)))\n",
    "third_cnn.add(layers.Conv2D(filters=128, kernel_size=(2,2), activation='relu'))\n",
    "third_cnn.add(layers.MaxPooling2D(pool_size=(2,2)))\n",
    "#single dense layer\n",
    "third_cnn.add(layers.Flatten())\n",
    "third_cnn.add(layers.Dense(64, activation='relu'))\n",
    "#output layer\n",
    "third_cnn.add(layers.Dense(1, activation='sigmoid'))"
   ]
  },
  {
   "cell_type": "code",
   "execution_count": 51,
   "id": "b319d351",
   "metadata": {},
   "outputs": [
    {
     "name": "stdout",
     "output_type": "stream",
     "text": [
      "Model: \"sequential_1\"\n",
      "_________________________________________________________________\n",
      "Layer (type)                 Output Shape              Param #   \n",
      "=================================================================\n",
      "conv2d_3 (Conv2D)            (None, 63, 63, 32)        160       \n",
      "_________________________________________________________________\n",
      "max_pooling2d_3 (MaxPooling2 (None, 31, 31, 32)        0         \n",
      "_________________________________________________________________\n",
      "conv2d_4 (Conv2D)            (None, 30, 30, 64)        8256      \n",
      "_________________________________________________________________\n",
      "max_pooling2d_4 (MaxPooling2 (None, 15, 15, 64)        0         \n",
      "_________________________________________________________________\n",
      "conv2d_5 (Conv2D)            (None, 14, 14, 128)       32896     \n",
      "_________________________________________________________________\n",
      "max_pooling2d_5 (MaxPooling2 (None, 7, 7, 128)         0         \n",
      "_________________________________________________________________\n",
      "flatten_1 (Flatten)          (None, 6272)              0         \n",
      "_________________________________________________________________\n",
      "dense_2 (Dense)              (None, 64)                401472    \n",
      "_________________________________________________________________\n",
      "dense_3 (Dense)              (None, 1)                 65        \n",
      "=================================================================\n",
      "Total params: 442,849\n",
      "Trainable params: 442,849\n",
      "Non-trainable params: 0\n",
      "_________________________________________________________________\n"
     ]
    }
   ],
   "source": [
    "third_cnn.summary()"
   ]
  },
  {
   "cell_type": "code",
   "execution_count": 52,
   "id": "f4cc2877",
   "metadata": {},
   "outputs": [],
   "source": [
    "third_cnn.compile(optimizer='sgd',\n",
    "                  loss='binary_crossentropy',\n",
    "                  metrics=['accuracy', tf.keras.metrics.Precision()])"
   ]
  },
  {
   "cell_type": "code",
   "execution_count": 54,
   "id": "4e7d495c",
   "metadata": {},
   "outputs": [
    {
     "name": "stdout",
     "output_type": "stream",
     "text": [
      "Epoch 1/20\n",
      "140/140 [==============================] - 10s 69ms/step - loss: 0.5398 - accuracy: 0.7429 - precision_2: 0.7429 - val_loss: 0.5794 - val_accuracy: 0.7622 - val_precision_2: 0.7581\n",
      "Epoch 2/20\n",
      "140/140 [==============================] - 9s 62ms/step - loss: 0.5000 - accuracy: 0.7510 - precision_2: 0.7492 - val_loss: 0.4788 - val_accuracy: 0.7776 - val_precision_2: 0.7712\n",
      "Epoch 3/20\n",
      "140/140 [==============================] - 8s 59ms/step - loss: 0.4306 - accuracy: 0.7977 - precision_2: 0.7976 - val_loss: 0.4364 - val_accuracy: 0.7555 - val_precision_2: 0.7529\n",
      "Epoch 4/20\n",
      "140/140 [==============================] - 9s 64ms/step - loss: 0.3711 - accuracy: 0.8387 - precision_2: 0.8531 - val_loss: 0.5439 - val_accuracy: 0.7498 - val_precision_2: 0.7485\n",
      "Epoch 5/20\n",
      "140/140 [==============================] - 10s 74ms/step - loss: 0.2961 - accuracy: 0.8790 - precision_2: 0.8947 - val_loss: 2.0909 - val_accuracy: 0.2742 - val_precision_2: 1.0000\n",
      "Epoch 6/20\n",
      "140/140 [==============================] - 9s 63ms/step - loss: 0.2693 - accuracy: 0.8926 - precision_2: 0.9167 - val_loss: 0.4750 - val_accuracy: 0.7709 - val_precision_2: 0.9891\n",
      "Epoch 7/20\n",
      "140/140 [==============================] - 9s 65ms/step - loss: 0.2190 - accuracy: 0.9171 - precision_2: 0.9330 - val_loss: 0.2269 - val_accuracy: 0.9032 - val_precision_2: 0.8974\n",
      "Epoch 8/20\n",
      "140/140 [==============================] - 9s 63ms/step - loss: 0.1987 - accuracy: 0.9192 - precision_2: 0.9379 - val_loss: 0.2899 - val_accuracy: 0.8667 - val_precision_2: 0.8525\n",
      "Epoch 9/20\n",
      "140/140 [==============================] - 8s 60ms/step - loss: 0.1746 - accuracy: 0.9319 - precision_2: 0.9504 - val_loss: 0.1806 - val_accuracy: 0.9195 - val_precision_2: 0.9458\n",
      "Epoch 10/20\n",
      "140/140 [==============================] - 18s 126ms/step - loss: 0.1645 - accuracy: 0.9367 - precision_2: 0.9536 - val_loss: 0.1875 - val_accuracy: 0.9185 - val_precision_2: 0.9675\n",
      "Epoch 11/20\n",
      "140/140 [==============================] - 17s 124ms/step - loss: 0.1613 - accuracy: 0.9365 - precision_2: 0.9539 - val_loss: 0.1631 - val_accuracy: 0.9252 - val_precision_2: 0.9508\n",
      "Epoch 12/20\n",
      "140/140 [==============================] - 17s 121ms/step - loss: 0.1533 - accuracy: 0.9410 - precision_2: 0.9583 - val_loss: 0.1580 - val_accuracy: 0.9329 - val_precision_2: 0.9445\n",
      "Epoch 13/20\n",
      "140/140 [==============================] - 18s 128ms/step - loss: 0.1440 - accuracy: 0.9430 - precision_2: 0.9581 - val_loss: 0.6643 - val_accuracy: 0.7200 - val_precision_2: 0.9959\n",
      "Epoch 14/20\n",
      "140/140 [==============================] - 17s 124ms/step - loss: 0.1372 - accuracy: 0.9449 - precision_2: 0.9620 - val_loss: 0.1510 - val_accuracy: 0.9348 - val_precision_2: 0.9402\n",
      "Epoch 15/20\n",
      "140/140 [==============================] - 17s 124ms/step - loss: 0.1353 - accuracy: 0.9492 - precision_2: 0.9616 - val_loss: 0.1439 - val_accuracy: 0.9415 - val_precision_2: 0.9589\n",
      "Epoch 16/20\n",
      "140/140 [==============================] - 17s 120ms/step - loss: 0.1312 - accuracy: 0.9497 - precision_2: 0.9637 - val_loss: 0.1463 - val_accuracy: 0.9386 - val_precision_2: 0.9696\n",
      "Epoch 17/20\n",
      "140/140 [==============================] - 17s 119ms/step - loss: 0.1267 - accuracy: 0.9504 - precision_2: 0.9635 - val_loss: 0.7665 - val_accuracy: 0.6922 - val_precision_2: 1.0000\n",
      "Epoch 18/20\n",
      "140/140 [==============================] - 17s 121ms/step - loss: 0.1242 - accuracy: 0.9528 - precision_2: 0.9654 - val_loss: 0.1418 - val_accuracy: 0.9319 - val_precision_2: 0.9356\n",
      "Epoch 19/20\n",
      "140/140 [==============================] - 17s 124ms/step - loss: 0.1188 - accuracy: 0.9545 - precision_2: 0.9672 - val_loss: 0.1315 - val_accuracy: 0.9425 - val_precision_2: 0.9601\n",
      "Epoch 20/20\n",
      "140/140 [==============================] - 18s 126ms/step - loss: 0.1167 - accuracy: 0.9542 - precision_2: 0.9648 - val_loss: 0.1343 - val_accuracy: 0.9386 - val_precision_2: 0.9427\n"
     ]
    },
    {
     "data": {
      "text/plain": [
       "<tensorflow.python.keras.callbacks.History at 0x1bfc5fde460>"
      ]
     },
     "execution_count": 54,
     "metadata": {},
     "output_type": "execute_result"
    }
   ],
   "source": [
    "third_cnn.fit(train_images, train_labels, epochs=20, batch_size=30, validation_data=(val_images, val_labels))"
   ]
  },
  {
   "cell_type": "code",
   "execution_count": 55,
   "id": "c9795292",
   "metadata": {},
   "outputs": [
    {
     "name": "stdout",
     "output_type": "stream",
     "text": [
      "131/131 [==============================] - 1s 6ms/step - loss: 0.1205 - accuracy: 0.9511 - precision_2: 0.9500\n"
     ]
    },
    {
     "data": {
      "text/plain": [
       "[0.12046554684638977, 0.951114296913147, 0.9499689340591431]"
      ]
     },
     "execution_count": 55,
     "metadata": {},
     "output_type": "execute_result"
    }
   ],
   "source": [
    "third_cnn.evaluate(train_images, train_labels)"
   ]
  },
  {
   "cell_type": "code",
   "execution_count": 56,
   "id": "2109a815",
   "metadata": {},
   "outputs": [
    {
     "name": "stdout",
     "output_type": "stream",
     "text": [
      "33/33 [==============================] - 0s 8ms/step - loss: 0.1343 - accuracy: 0.9386 - precision_2: 0.9427\n"
     ]
    },
    {
     "data": {
      "text/plain": [
       "[0.13427318632602692, 0.9386385679244995, 0.9427148103713989]"
      ]
     },
     "execution_count": 56,
     "metadata": {},
     "output_type": "execute_result"
    }
   ],
   "source": [
    "third_cnn.evaluate(val_images, val_labels)"
   ]
  },
  {
   "cell_type": "code",
   "execution_count": 139,
   "id": "1598fe40",
   "metadata": {},
   "outputs": [
    {
     "name": "stdout",
     "output_type": "stream",
     "text": [
      "INFO:tensorflow:Assets written to: saved_models/third_cnn_2\\assets\n"
     ]
    }
   ],
   "source": [
    "#third_cnn.save('saved_models/third_cnn_2')"
   ]
  },
  {
   "cell_type": "code",
   "execution_count": 124,
   "id": "24869e20",
   "metadata": {},
   "outputs": [],
   "source": [
    "third_cnn_loaded = load_model('saved_models/third_cnn')"
   ]
  },
  {
   "cell_type": "code",
   "execution_count": 125,
   "id": "b05c1c87",
   "metadata": {},
   "outputs": [
    {
     "name": "stdout",
     "output_type": "stream",
     "text": [
      "Model: \"sequential_88\"\n",
      "_________________________________________________________________\n",
      "Layer (type)                 Output Shape              Param #   \n",
      "=================================================================\n",
      "conv2d_178 (Conv2D)          (None, 63, 63, 32)        160       \n",
      "_________________________________________________________________\n",
      "max_pooling2d_93 (MaxPooling (None, 31, 31, 32)        0         \n",
      "_________________________________________________________________\n",
      "conv2d_179 (Conv2D)          (None, 30, 30, 64)        8256      \n",
      "_________________________________________________________________\n",
      "max_pooling2d_94 (MaxPooling (None, 15, 15, 64)        0         \n",
      "_________________________________________________________________\n",
      "conv2d_180 (Conv2D)          (None, 11, 14, 128)       82048     \n",
      "_________________________________________________________________\n",
      "max_pooling2d_95 (MaxPooling (None, 5, 7, 128)         0         \n",
      "_________________________________________________________________\n",
      "flatten_87 (Flatten)         (None, 4480)              0         \n",
      "_________________________________________________________________\n",
      "dense_175 (Dense)            (None, 64)                286784    \n",
      "_________________________________________________________________\n",
      "dense_176 (Dense)            (None, 1)                 65        \n",
      "=================================================================\n",
      "Total params: 377,313\n",
      "Trainable params: 377,313\n",
      "Non-trainable params: 0\n",
      "_________________________________________________________________\n"
     ]
    }
   ],
   "source": [
    "third_cnn_loaded.summary()"
   ]
  },
  {
   "cell_type": "code",
   "execution_count": 135,
   "id": "a63347a8",
   "metadata": {
    "scrolled": true
   },
   "outputs": [
    {
     "name": "stdout",
     "output_type": "stream",
     "text": [
      "131/131 [==============================] - 1s 5ms/step - loss: 0.1771 - accuracy: 0.9291 - precision_3: 0.9354\n"
     ]
    },
    {
     "data": {
      "text/plain": [
       "[0.1771456003189087, 0.9290677905082703, 0.9354037046432495]"
      ]
     },
     "execution_count": 135,
     "metadata": {},
     "output_type": "execute_result"
    }
   ],
   "source": [
    "third_cnn_loaded.evaluate(train_images, train_labels)"
   ]
  },
  {
   "cell_type": "code",
   "execution_count": 148,
   "id": "bbf05c6d",
   "metadata": {},
   "outputs": [
    {
     "name": "stdout",
     "output_type": "stream",
     "text": [
      "33/33 [==============================] - 0s 5ms/step - loss: 0.2020 - accuracy: 0.9147 - precision_3: 0.9235\n"
     ]
    },
    {
     "data": {
      "text/plain": [
       "[0.2019975781440735, 0.9146692156791687, 0.9234567880630493]"
      ]
     },
     "execution_count": 148,
     "metadata": {},
     "output_type": "execute_result"
    }
   ],
   "source": [
    "third_cnn_loaded.evaluate(val_images, val_labels)"
   ]
  },
  {
   "cell_type": "code",
   "execution_count": 34,
   "id": "332892f8",
   "metadata": {},
   "outputs": [],
   "source": [
    "third_cnn_2=load_model('saved_models/third_cnn_2')"
   ]
  },
  {
   "cell_type": "code",
   "execution_count": 36,
   "id": "9d8aa24b",
   "metadata": {},
   "outputs": [
    {
     "name": "stdout",
     "output_type": "stream",
     "text": [
      "131/131 [==============================] - 1s 4ms/step - loss: 0.1219 - accuracy: 0.9540 - precision_8: 0.9783\n"
     ]
    },
    {
     "data": {
      "text/plain": [
       "[0.12193672358989716, 0.9539899230003357, 0.9782894849777222]"
      ]
     },
     "execution_count": 36,
     "metadata": {},
     "output_type": "execute_result"
    }
   ],
   "source": [
    "third_cnn_2.evaluate(train_images, train_labels)"
   ]
  },
  {
   "cell_type": "code",
   "execution_count": 37,
   "id": "5f4f3334",
   "metadata": {},
   "outputs": [
    {
     "name": "stdout",
     "output_type": "stream",
     "text": [
      "33/33 [==============================] - 0s 7ms/step - loss: 0.1530 - accuracy: 0.9406 - precision_8: 0.9785\n"
     ]
    },
    {
     "data": {
      "text/plain": [
       "[0.1530119925737381, 0.9405561089515686, 0.9785234928131104]"
      ]
     },
     "execution_count": 37,
     "metadata": {},
     "output_type": "execute_result"
    }
   ],
   "source": [
    "third_cnn_2.evaluate(val_images, val_labels)"
   ]
  },
  {
   "cell_type": "markdown",
   "id": "00b9d06f",
   "metadata": {},
   "source": [
    "## Adjusting third model"
   ]
  },
  {
   "cell_type": "code",
   "execution_count": 120,
   "id": "b42320e0",
   "metadata": {},
   "outputs": [],
   "source": [
    "fourth_cnn = models.Sequential()\n",
    "\n",
    "fourth_cnn.add(layers.Conv2D(filters=64, kernel_size=(3,3), activation='relu', \n",
    "          input_shape=(64, 64, 1)))\n",
    "fourth_cnn.add(layers.MaxPooling2D(pool_size=(2,2)))\n",
    "fourth_cnn.add(layers.Conv2D(filters=128, kernel_size=(3,3), activation='relu'))\n",
    "fourth_cnn.add(layers.MaxPooling2D(pool_size=(2,2)))\n",
    "fourth_cnn.add(layers.Conv2D(filters=128, kernel_size=(3,3), activation='relu'))\n",
    "fourth_cnn.add(layers.MaxPooling2D(pool_size=(2,2)))\n",
    "#two dense layers\n",
    "fourth_cnn.add(layers.Flatten())\n",
    "fourth_cnn.add(layers.Dense(64, activation='relu'))\n",
    "fourth_cnn.add(layers.Dense(64, activation='relu'))\n",
    "#output layer\n",
    "fourth_cnn.add(layers.Dense(1, activation='sigmoid'))"
   ]
  },
  {
   "cell_type": "code",
   "execution_count": 121,
   "id": "4fd88cfb",
   "metadata": {},
   "outputs": [
    {
     "name": "stdout",
     "output_type": "stream",
     "text": [
      "Model: \"sequential_94\"\n",
      "_________________________________________________________________\n",
      "Layer (type)                 Output Shape              Param #   \n",
      "=================================================================\n",
      "conv2d_196 (Conv2D)          (None, 62, 62, 64)        640       \n",
      "_________________________________________________________________\n",
      "max_pooling2d_111 (MaxPoolin (None, 31, 31, 64)        0         \n",
      "_________________________________________________________________\n",
      "conv2d_197 (Conv2D)          (None, 29, 29, 128)       73856     \n",
      "_________________________________________________________________\n",
      "max_pooling2d_112 (MaxPoolin (None, 14, 14, 128)       0         \n",
      "_________________________________________________________________\n",
      "conv2d_198 (Conv2D)          (None, 12, 12, 128)       147584    \n",
      "_________________________________________________________________\n",
      "max_pooling2d_113 (MaxPoolin (None, 6, 6, 128)         0         \n",
      "_________________________________________________________________\n",
      "flatten_93 (Flatten)         (None, 4608)              0         \n",
      "_________________________________________________________________\n",
      "dense_190 (Dense)            (None, 64)                294976    \n",
      "_________________________________________________________________\n",
      "dense_191 (Dense)            (None, 64)                4160      \n",
      "_________________________________________________________________\n",
      "dense_192 (Dense)            (None, 1)                 65        \n",
      "=================================================================\n",
      "Total params: 521,281\n",
      "Trainable params: 521,281\n",
      "Non-trainable params: 0\n",
      "_________________________________________________________________\n"
     ]
    }
   ],
   "source": [
    "fourth_cnn.summary()"
   ]
  },
  {
   "cell_type": "code",
   "execution_count": 122,
   "id": "5c7177c3",
   "metadata": {},
   "outputs": [],
   "source": [
    "fourth_cnn.compile(optimizer='sgd',\n",
    "                  loss='binary_crossentropy',\n",
    "                  metrics=['accuracy', tf.keras.metrics.Precision()])"
   ]
  },
  {
   "cell_type": "code",
   "execution_count": 130,
   "id": "3776400c",
   "metadata": {},
   "outputs": [
    {
     "name": "stdout",
     "output_type": "stream",
     "text": [
      "Epoch 1/10\n",
      "21/21 [==============================] - 6s 298ms/step - loss: 0.5756 - accuracy: 0.7429 - precision_6: 0.7429 - val_loss: 0.5682 - val_accuracy: 0.7430 - val_precision_6: 0.7430\n",
      "Epoch 2/10\n",
      "21/21 [==============================] - 6s 300ms/step - loss: 0.5743 - accuracy: 0.7429 - precision_6: 0.7429 - val_loss: 0.5666 - val_accuracy: 0.7430 - val_precision_6: 0.7430\n",
      "Epoch 3/10\n",
      "21/21 [==============================] - 6s 301ms/step - loss: 0.5729 - accuracy: 0.7429 - precision_6: 0.7429 - val_loss: 0.5654 - val_accuracy: 0.7430 - val_precision_6: 0.7430\n",
      "Epoch 4/10\n",
      "21/21 [==============================] - 6s 295ms/step - loss: 0.5718 - accuracy: 0.7429 - precision_6: 0.7429 - val_loss: 0.5644 - val_accuracy: 0.7430 - val_precision_6: 0.7430\n",
      "Epoch 5/10\n",
      "21/21 [==============================] - 6s 303ms/step - loss: 0.5706 - accuracy: 0.7429 - precision_6: 0.7429 - val_loss: 0.5632 - val_accuracy: 0.7430 - val_precision_6: 0.7430\n",
      "Epoch 6/10\n",
      "21/21 [==============================] - 5s 261ms/step - loss: 0.5692 - accuracy: 0.7429 - precision_6: 0.7429 - val_loss: 0.5622 - val_accuracy: 0.7430 - val_precision_6: 0.7430\n",
      "Epoch 7/10\n",
      "21/21 [==============================] - 6s 281ms/step - loss: 0.5679 - accuracy: 0.7429 - precision_6: 0.7429 - val_loss: 0.5610 - val_accuracy: 0.7430 - val_precision_6: 0.7430\n",
      "Epoch 8/10\n",
      "21/21 [==============================] - 6s 294ms/step - loss: 0.5664 - accuracy: 0.7429 - precision_6: 0.7429 - val_loss: 0.5596 - val_accuracy: 0.7430 - val_precision_6: 0.7430\n",
      "Epoch 9/10\n",
      "21/21 [==============================] - 7s 312ms/step - loss: 0.5648 - accuracy: 0.7429 - precision_6: 0.7429 - val_loss: 0.5585 - val_accuracy: 0.7430 - val_precision_6: 0.7430\n",
      "Epoch 10/10\n",
      "21/21 [==============================] - 7s 326ms/step - loss: 0.5633 - accuracy: 0.7429 - precision_6: 0.7429 - val_loss: 0.5569 - val_accuracy: 0.7430 - val_precision_6: 0.7430\n"
     ]
    },
    {
     "data": {
      "text/plain": [
       "<tensorflow.python.keras.callbacks.History at 0x213dbe13700>"
      ]
     },
     "execution_count": 130,
     "metadata": {},
     "output_type": "execute_result"
    }
   ],
   "source": [
    "fourth_cnn.fit(train_images, train_labels, epochs=10, batch_size=200, validation_data=(val_images, val_labels))"
   ]
  },
  {
   "cell_type": "markdown",
   "id": "1ef4a178",
   "metadata": {},
   "source": [
    "## Data Augmentation"
   ]
  },
  {
   "cell_type": "code",
   "execution_count": 59,
   "id": "cc345c20",
   "metadata": {},
   "outputs": [
    {
     "data": {
      "text/plain": [
       "['IM-0115-0001.jpeg',\n",
       " 'IM-0117-0001.jpeg',\n",
       " 'IM-0119-0001.jpeg',\n",
       " 'IM-0122-0001.jpeg',\n",
       " 'IM-0125-0001.jpeg',\n",
       " 'IM-0127-0001.jpeg',\n",
       " 'IM-0128-0001.jpeg',\n",
       " 'IM-0129-0001.jpeg',\n",
       " 'IM-0131-0001.jpeg',\n",
       " 'IM-0133-0001.jpeg',\n",
       " 'IM-0135-0001.jpeg',\n",
       " 'IM-0137-0001.jpeg',\n",
       " 'IM-0140-0001.jpeg',\n",
       " 'IM-0141-0001.jpeg',\n",
       " 'IM-0143-0001.jpeg',\n",
       " 'IM-0145-0001.jpeg',\n",
       " 'IM-0147-0001.jpeg',\n",
       " 'IM-0149-0001.jpeg',\n",
       " 'IM-0151-0001.jpeg',\n",
       " 'IM-0152-0001.jpeg',\n",
       " 'IM-0154-0001.jpeg',\n",
       " 'IM-0156-0001.jpeg',\n",
       " 'IM-0158-0001.jpeg',\n",
       " 'IM-0160-0001.jpeg',\n",
       " 'IM-0162-0001.jpeg',\n",
       " 'IM-0164-0001.jpeg',\n",
       " 'IM-0166-0001.jpeg',\n",
       " 'IM-0168-0001.jpeg',\n",
       " 'IM-0170-0001.jpeg',\n",
       " 'IM-0172-0001.jpeg',\n",
       " 'IM-0176-0001.jpeg',\n",
       " 'IM-0177-0001.jpeg',\n",
       " 'IM-0178-0001.jpeg',\n",
       " 'IM-0180-0001.jpeg',\n",
       " 'IM-0182-0001.jpeg',\n",
       " 'IM-0183-0001.jpeg',\n",
       " 'IM-0185-0001.jpeg',\n",
       " 'IM-0187-0001.jpeg',\n",
       " 'IM-0189-0001.jpeg',\n",
       " 'IM-0191-0001.jpeg',\n",
       " 'IM-0193-0001.jpeg',\n",
       " 'IM-0195-0001.jpeg',\n",
       " 'IM-0199-0001.jpeg',\n",
       " 'IM-0201-0001.jpeg',\n",
       " 'IM-0203-0001.jpeg',\n",
       " 'IM-0205-0001.jpeg',\n",
       " 'IM-0206-0001.jpeg',\n",
       " 'IM-0207-0001.jpeg',\n",
       " 'IM-0209-0001.jpeg',\n",
       " 'IM-0210-0001.jpeg',\n",
       " 'IM-0211-0001.jpeg',\n",
       " 'IM-0213-0001.jpeg',\n",
       " 'IM-0214-0001.jpeg',\n",
       " 'IM-0215-0001.jpeg',\n",
       " 'IM-0216-0001.jpeg',\n",
       " 'IM-0217-0001.jpeg',\n",
       " 'IM-0218-0001.jpeg',\n",
       " 'IM-0219-0001.jpeg',\n",
       " 'IM-0220-0001.jpeg',\n",
       " 'IM-0221-0001.jpeg',\n",
       " 'IM-0222-0001.jpeg',\n",
       " 'IM-0223-0001.jpeg',\n",
       " 'IM-0224-0001.jpeg',\n",
       " 'IM-0225-0001.jpeg',\n",
       " 'IM-0226-0001.jpeg',\n",
       " 'IM-0227-0001.jpeg',\n",
       " 'IM-0228-0001.jpeg',\n",
       " 'IM-0229-0001.jpeg',\n",
       " 'IM-0230-0001.jpeg',\n",
       " 'IM-0231-0001.jpeg',\n",
       " 'IM-0234-0001.jpeg',\n",
       " 'IM-0235-0001.jpeg',\n",
       " 'IM-0236-0001.jpeg',\n",
       " 'IM-0237-0001.jpeg',\n",
       " 'IM-0238-0001.jpeg',\n",
       " 'IM-0239-0001.jpeg',\n",
       " 'IM-0240-0001.jpeg',\n",
       " 'IM-0241-0001.jpeg',\n",
       " 'IM-0242-0001.jpeg',\n",
       " 'IM-0243-0001.jpeg',\n",
       " 'IM-0244-0001.jpeg',\n",
       " 'IM-0245-0001.jpeg',\n",
       " 'IM-0248-0001.jpeg',\n",
       " 'IM-0249-0001.jpeg',\n",
       " 'IM-0250-0001.jpeg',\n",
       " 'IM-0251-0001.jpeg',\n",
       " 'IM-0253-0001.jpeg',\n",
       " 'IM-0255-0001.jpeg',\n",
       " 'IM-0256-0001.jpeg',\n",
       " 'IM-0257-0001.jpeg',\n",
       " 'IM-0261-0001.jpeg',\n",
       " 'IM-0262-0001.jpeg',\n",
       " 'IM-0264-0001.jpeg',\n",
       " 'IM-0265-0001.jpeg',\n",
       " 'IM-0266-0001.jpeg',\n",
       " 'IM-0268-0001.jpeg',\n",
       " 'IM-0269-0001.jpeg',\n",
       " 'IM-0270-0001.jpeg',\n",
       " 'IM-0272-0001.jpeg',\n",
       " 'IM-0273-0001.jpeg',\n",
       " 'IM-0274-0001.jpeg',\n",
       " 'IM-0275-0001.jpeg',\n",
       " 'IM-0276-0001.jpeg',\n",
       " 'IM-0277-0001.jpeg',\n",
       " 'IM-0278-0001.jpeg',\n",
       " 'IM-0279-0001.jpeg',\n",
       " 'IM-0280-0001.jpeg',\n",
       " 'IM-0282-0001.jpeg',\n",
       " 'IM-0283-0001.jpeg',\n",
       " 'IM-0285-0001.jpeg',\n",
       " 'IM-0286-0001.jpeg',\n",
       " 'IM-0288-0001.jpeg',\n",
       " 'IM-0289-0001.jpeg',\n",
       " 'IM-0290-0001.jpeg',\n",
       " 'IM-0291-0001.jpeg',\n",
       " 'IM-0292-0001.jpeg',\n",
       " 'IM-0293-0001.jpeg',\n",
       " 'IM-0294-0001.jpeg',\n",
       " 'IM-0295-0001.jpeg',\n",
       " 'IM-0297-0001.jpeg',\n",
       " 'IM-0298-0001.jpeg',\n",
       " 'IM-0299-0001.jpeg',\n",
       " 'IM-0300-0001.jpeg',\n",
       " 'IM-0301-0001.jpeg',\n",
       " 'IM-0302-0001.jpeg',\n",
       " 'IM-0303-0001.jpeg',\n",
       " 'IM-0304-0001.jpeg',\n",
       " 'IM-0305-0001.jpeg',\n",
       " 'IM-0306-0001.jpeg',\n",
       " 'IM-0307-0001.jpeg',\n",
       " 'IM-0308-0001.jpeg',\n",
       " 'IM-0309-0001.jpeg',\n",
       " 'IM-0311-0001.jpeg',\n",
       " 'IM-0312-0001.jpeg',\n",
       " 'IM-0313-0001.jpeg',\n",
       " 'IM-0314-0001.jpeg',\n",
       " 'IM-0315-0001.jpeg',\n",
       " 'IM-0316-0001.jpeg',\n",
       " 'IM-0317-0001.jpeg',\n",
       " 'IM-0318-0001.jpeg',\n",
       " 'IM-0319-0001.jpeg',\n",
       " 'IM-0320-0001.jpeg',\n",
       " 'IM-0323-0001.jpeg',\n",
       " 'IM-0324-0001.jpeg',\n",
       " 'IM-0325-0001.jpeg',\n",
       " 'IM-0326-0001.jpeg',\n",
       " 'IM-0327-0001.jpeg',\n",
       " 'IM-0329-0001.jpeg',\n",
       " 'IM-0330-0001.jpeg',\n",
       " 'IM-0331-0001.jpeg',\n",
       " 'IM-0332-0001.jpeg',\n",
       " 'IM-0333-0001.jpeg',\n",
       " 'IM-0335-0001.jpeg',\n",
       " 'IM-0337-0001.jpeg',\n",
       " 'IM-0338-0001.jpeg',\n",
       " 'IM-0339-0001.jpeg',\n",
       " 'IM-0340-0001.jpeg',\n",
       " 'IM-0341-0001.jpeg',\n",
       " 'IM-0343-0001.jpeg',\n",
       " 'IM-0345-0001.jpeg',\n",
       " 'IM-0346-0001.jpeg',\n",
       " 'IM-0347-0001.jpeg',\n",
       " 'IM-0348-0001.jpeg',\n",
       " 'IM-0349-0001.jpeg',\n",
       " 'IM-0350-0001.jpeg',\n",
       " 'IM-0351-0001.jpeg',\n",
       " 'IM-0353-0001.jpeg',\n",
       " 'IM-0354-0001.jpeg',\n",
       " 'IM-0355-0001.jpeg',\n",
       " 'IM-0356-0001.jpeg',\n",
       " 'IM-0357-0001.jpeg',\n",
       " 'IM-0358-0001.jpeg',\n",
       " 'IM-0359-0001.jpeg',\n",
       " 'IM-0361-0001.jpeg',\n",
       " 'IM-0362-0001.jpeg',\n",
       " 'IM-0363-0001.jpeg',\n",
       " 'IM-0364-0001.jpeg',\n",
       " 'IM-0365-0001.jpeg',\n",
       " 'IM-0367-0001.jpeg',\n",
       " 'IM-0368-0001.jpeg',\n",
       " 'IM-0369-0001.jpeg',\n",
       " 'IM-0370-0001.jpeg',\n",
       " 'IM-0371-0001.jpeg',\n",
       " 'IM-0372-0001.jpeg',\n",
       " 'IM-0374-0001.jpeg',\n",
       " 'IM-0375-0001.jpeg',\n",
       " 'IM-0377-0001.jpeg',\n",
       " 'IM-0379-0001.jpeg',\n",
       " 'IM-0381-0001.jpeg',\n",
       " 'IM-0382-0001.jpeg',\n",
       " 'IM-0383-0001.jpeg',\n",
       " 'IM-0384-0001.jpeg',\n",
       " 'IM-0385-0001.jpeg',\n",
       " 'IM-0386-0001.jpeg',\n",
       " 'IM-0387-0001.jpeg',\n",
       " 'IM-0388-0001.jpeg',\n",
       " 'IM-0389-0001.jpeg',\n",
       " 'IM-0391-0001.jpeg',\n",
       " 'IM-0392-0001.jpeg',\n",
       " 'IM-0393-0001.jpeg',\n",
       " 'IM-0394-0001.jpeg',\n",
       " 'IM-0395-0001.jpeg',\n",
       " 'IM-0399-0001.jpeg',\n",
       " 'IM-0400-0001.jpeg',\n",
       " 'IM-0401-0001.jpeg',\n",
       " 'IM-0403-0001.jpeg',\n",
       " 'IM-0404-0001.jpeg',\n",
       " 'IM-0405-0001.jpeg',\n",
       " 'IM-0408-0001.jpeg',\n",
       " 'IM-0409-0001.jpeg',\n",
       " 'IM-0410-0001.jpeg',\n",
       " 'IM-0411-0001.jpeg',\n",
       " 'IM-0413-0001.jpeg',\n",
       " 'IM-0414-0001.jpeg',\n",
       " 'IM-0416-0001.jpeg',\n",
       " 'IM-0417-0001.jpeg',\n",
       " 'IM-0419-0001.jpeg',\n",
       " 'IM-0420-0001.jpeg',\n",
       " 'IM-0421-0001.jpeg',\n",
       " 'IM-0423-0001.jpeg',\n",
       " 'IM-0424-0001.jpeg',\n",
       " 'IM-0425-0001.jpeg',\n",
       " 'IM-0427-0001.jpeg',\n",
       " 'IM-0428-0001.jpeg',\n",
       " 'IM-0429-0001-0001.jpeg',\n",
       " 'IM-0429-0001-0002.jpeg',\n",
       " 'IM-0429-0001.jpeg',\n",
       " 'IM-0430-0001.jpeg',\n",
       " 'IM-0431-0001.jpeg',\n",
       " 'IM-0432-0001.jpeg',\n",
       " 'IM-0433-0001.jpeg',\n",
       " 'IM-0434-0001.jpeg',\n",
       " 'IM-0435-0001-0001.jpeg',\n",
       " 'IM-0435-0001.jpeg',\n",
       " 'IM-0437-0001-0001.jpeg',\n",
       " 'IM-0437-0001-0002.jpeg',\n",
       " 'IM-0437-0001.jpeg',\n",
       " 'IM-0438-0001.jpeg',\n",
       " 'IM-0439-0001-0001.jpeg',\n",
       " 'IM-0439-0001-0002.jpeg',\n",
       " 'IM-0439-0001.jpeg',\n",
       " 'IM-0440-0001.jpeg',\n",
       " 'IM-0441-0001.jpeg',\n",
       " 'IM-0442-0001.jpeg',\n",
       " 'IM-0444-0001.jpeg',\n",
       " 'IM-0445-0001.jpeg',\n",
       " 'IM-0446-0001.jpeg',\n",
       " 'IM-0447-0001.jpeg',\n",
       " 'IM-0448-0001.jpeg',\n",
       " 'IM-0449-0001.jpeg',\n",
       " 'IM-0450-0001.jpeg',\n",
       " 'IM-0451-0001.jpeg',\n",
       " 'IM-0452-0001.jpeg',\n",
       " 'IM-0453-0001-0002.jpeg',\n",
       " 'IM-0453-0001.jpeg',\n",
       " 'IM-0455-0001.jpeg',\n",
       " 'IM-0456-0001.jpeg',\n",
       " 'IM-0457-0001.jpeg',\n",
       " 'IM-0458-0001.jpeg',\n",
       " 'IM-0459-0001.jpeg',\n",
       " 'IM-0460-0001.jpeg',\n",
       " 'IM-0461-0001.jpeg',\n",
       " 'IM-0463-0001.jpeg',\n",
       " 'IM-0464-0001.jpeg',\n",
       " 'IM-0465-0001.jpeg',\n",
       " 'IM-0466-0001.jpeg',\n",
       " 'IM-0467-0001-0001.jpeg',\n",
       " 'IM-0467-0001-0002.jpeg',\n",
       " 'IM-0467-0001.jpeg',\n",
       " 'IM-0469-0001.jpeg',\n",
       " 'IM-0471-0001.jpeg',\n",
       " 'IM-0472-0001.jpeg',\n",
       " 'IM-0473-0001.jpeg',\n",
       " 'IM-0474-0001.jpeg',\n",
       " 'IM-0475-0001.jpeg',\n",
       " 'IM-0476-0001.jpeg',\n",
       " 'IM-0477-0001.jpeg',\n",
       " 'IM-0478-0001.jpeg',\n",
       " 'IM-0479-0001.jpeg',\n",
       " 'IM-0480-0001.jpeg',\n",
       " 'IM-0481-0001.jpeg',\n",
       " 'IM-0482-0001.jpeg',\n",
       " 'IM-0483-0001.jpeg',\n",
       " 'IM-0484-0001.jpeg',\n",
       " 'IM-0485-0001.jpeg',\n",
       " 'IM-0486-0001.jpeg',\n",
       " 'IM-0487-0001.jpeg',\n",
       " 'IM-0488-0001.jpeg',\n",
       " 'IM-0489-0001.jpeg',\n",
       " 'IM-0490-0001.jpeg',\n",
       " 'IM-0491-0001-0001.jpeg',\n",
       " 'IM-0491-0001-0002.jpeg',\n",
       " 'IM-0491-0001.jpeg',\n",
       " 'IM-0492-0001.jpeg',\n",
       " 'IM-0493-0001.jpeg',\n",
       " 'IM-0494-0001.jpeg',\n",
       " 'IM-0495-0001.jpeg',\n",
       " 'IM-0496-0001.jpeg',\n",
       " 'IM-0497-0001-0001.jpeg',\n",
       " 'IM-0497-0001-0002.jpeg',\n",
       " 'IM-0497-0001.jpeg',\n",
       " 'IM-0499-0001-0001.jpeg',\n",
       " 'IM-0499-0001-0002.jpeg',\n",
       " 'IM-0499-0001.jpeg',\n",
       " 'IM-0500-0001.jpeg',\n",
       " 'IM-0501-0001-0001.jpeg',\n",
       " 'IM-0501-0001-0002.jpeg',\n",
       " 'IM-0501-0001.jpeg',\n",
       " 'IM-0502-0001.jpeg',\n",
       " 'IM-0503-0001.jpeg',\n",
       " 'IM-0504-0001.jpeg',\n",
       " 'IM-0505-0001-0001.jpeg',\n",
       " 'IM-0505-0001-0002.jpeg',\n",
       " 'IM-0505-0001.jpeg',\n",
       " 'IM-0506-0001.jpeg',\n",
       " 'IM-0507-0001.jpeg',\n",
       " 'IM-0508-0001.jpeg',\n",
       " 'IM-0509-0001-0001.jpeg',\n",
       " 'IM-0509-0001-0002.jpeg',\n",
       " 'IM-0509-0001.jpeg',\n",
       " 'IM-0510-0001.jpeg',\n",
       " 'IM-0511-0001-0001.jpeg',\n",
       " 'IM-0511-0001-0002.jpeg',\n",
       " 'IM-0511-0001.jpeg',\n",
       " 'IM-0512-0001.jpeg',\n",
       " 'IM-0513-0001.jpeg',\n",
       " 'IM-0514-0001.jpeg',\n",
       " 'IM-0515-0001.jpeg',\n",
       " 'IM-0516-0001.jpeg',\n",
       " 'IM-0517-0001-0001.jpeg',\n",
       " 'IM-0517-0001.jpeg',\n",
       " 'IM-0519-0001-0001.jpeg',\n",
       " 'IM-0519-0001-0002.jpeg',\n",
       " 'IM-0519-0001.jpeg',\n",
       " 'IM-0520-0001.jpeg',\n",
       " 'IM-0521-0001.jpeg',\n",
       " 'IM-0522-0001.jpeg',\n",
       " 'IM-0523-0001-0001.jpeg',\n",
       " 'IM-0523-0001-0002.jpeg',\n",
       " 'IM-0523-0001-0003.jpeg',\n",
       " 'IM-0523-0001.jpeg',\n",
       " 'IM-0524-0001.jpeg',\n",
       " 'IM-0525-0001-0001.jpeg',\n",
       " 'IM-0525-0001-0002.jpeg',\n",
       " 'IM-0525-0001.jpeg',\n",
       " 'IM-0526-0001.jpeg',\n",
       " 'IM-0527-0001.jpeg',\n",
       " 'IM-0528-0001.jpeg',\n",
       " 'IM-0529-0001.jpeg',\n",
       " 'IM-0530-0001.jpeg',\n",
       " 'IM-0531-0001-0001.jpeg',\n",
       " 'IM-0531-0001.jpeg',\n",
       " 'IM-0532-0001.jpeg',\n",
       " 'IM-0533-0001-0001.jpeg',\n",
       " 'IM-0533-0001-0002.jpeg',\n",
       " 'IM-0533-0001.jpeg',\n",
       " 'IM-0534-0001.jpeg',\n",
       " 'IM-0535-0001.jpeg',\n",
       " 'IM-0536-0001.jpeg',\n",
       " 'IM-0537-0001.jpeg',\n",
       " 'IM-0538-0001.jpeg',\n",
       " 'IM-0539-0001-0001.jpeg',\n",
       " 'IM-0539-0001-0002.jpeg',\n",
       " 'IM-0539-0001.jpeg',\n",
       " 'IM-0540-0001.jpeg',\n",
       " 'IM-0541-0001.jpeg',\n",
       " 'IM-0542-0001.jpeg',\n",
       " 'IM-0543-0001-0002.jpeg',\n",
       " 'IM-0543-0001.jpeg',\n",
       " 'IM-0544-0001.jpeg',\n",
       " 'IM-0545-0001-0001.jpeg',\n",
       " 'IM-0545-0001-0002.jpeg',\n",
       " 'IM-0545-0001.jpeg',\n",
       " 'IM-0546-0001.jpeg',\n",
       " 'IM-0547-0001.jpeg',\n",
       " 'IM-0548-0001.jpeg',\n",
       " 'IM-0549-0001-0001.jpeg',\n",
       " 'IM-0549-0001-0002.jpeg',\n",
       " 'IM-0549-0001.jpeg',\n",
       " 'IM-0551-0001-0001.jpeg',\n",
       " 'IM-0551-0001-0002.jpeg',\n",
       " 'IM-0551-0001.jpeg',\n",
       " 'IM-0552-0001.jpeg',\n",
       " 'IM-0553-0001-0001.jpeg',\n",
       " 'IM-0553-0001-0002.jpeg',\n",
       " 'IM-0553-0001-0003.jpeg',\n",
       " 'IM-0553-0001.jpeg',\n",
       " 'IM-0554-0001.jpeg',\n",
       " 'IM-0555-0001-0001.jpeg',\n",
       " 'IM-0555-0001-0002.jpeg',\n",
       " 'IM-0555-0001.jpeg',\n",
       " 'IM-0556-0001.jpeg',\n",
       " 'IM-0557-0001.jpeg',\n",
       " 'IM-0559-0001.jpeg',\n",
       " 'IM-0560-0001.jpeg',\n",
       " 'IM-0561-0001.jpeg',\n",
       " 'IM-0562-0001.jpeg',\n",
       " 'IM-0563-0001.jpeg',\n",
       " 'IM-0564-0001.jpeg',\n",
       " 'IM-0565-0001.jpeg',\n",
       " 'IM-0566-0001.jpeg',\n",
       " 'IM-0568-0001.jpeg',\n",
       " 'IM-0569-0001.jpeg',\n",
       " 'IM-0570-0001.jpeg',\n",
       " 'IM-0571-0001.jpeg',\n",
       " 'IM-0574-0001.jpeg',\n",
       " 'IM-0575-0001.jpeg',\n",
       " 'IM-0577-0001.jpeg',\n",
       " 'IM-0578-0001.jpeg',\n",
       " 'IM-0579-0001.jpeg',\n",
       " 'IM-0580-0001.jpeg',\n",
       " 'IM-0581-0001.jpeg',\n",
       " 'IM-0582-0001.jpeg',\n",
       " 'IM-0583-0001.jpeg',\n",
       " 'IM-0584-0001.jpeg',\n",
       " 'IM-0586-0001.jpeg',\n",
       " 'IM-0588-0001.jpeg',\n",
       " 'IM-0590-0001.jpeg',\n",
       " 'IM-0591-0001.jpeg',\n",
       " 'IM-0592-0001.jpeg',\n",
       " 'IM-0593-0001.jpeg',\n",
       " 'IM-0595-0001.jpeg',\n",
       " 'IM-0596-0001.jpeg',\n",
       " 'IM-0598-0001.jpeg',\n",
       " 'IM-0599-0001.jpeg',\n",
       " 'IM-0600-0001.jpeg',\n",
       " 'IM-0601-0001.jpeg',\n",
       " 'IM-0602-0001.jpeg',\n",
       " 'IM-0604-0001.jpeg',\n",
       " 'IM-0605-0001.jpeg',\n",
       " 'IM-0606-0001.jpeg',\n",
       " 'IM-0607-0001.jpeg',\n",
       " 'IM-0608-0001-0001.jpeg',\n",
       " 'IM-0608-0001-0002.jpeg',\n",
       " 'IM-0608-0001.jpeg',\n",
       " 'IM-0609-0001.jpeg',\n",
       " 'IM-0612-0001-0001.jpeg',\n",
       " 'IM-0612-0001-0002.jpeg',\n",
       " 'IM-0612-0001.jpeg',\n",
       " 'IM-0613-0001.jpeg',\n",
       " 'IM-0614-0001.jpeg',\n",
       " 'IM-0615-0001.jpeg',\n",
       " 'IM-0616-0001.jpeg',\n",
       " 'IM-0617-0001.jpeg',\n",
       " 'IM-0618-0001-0001.jpeg',\n",
       " 'IM-0618-0001-0002.jpeg',\n",
       " 'IM-0618-0001.jpeg',\n",
       " 'IM-0619-0001.jpeg',\n",
       " 'IM-0620-0001-0001.jpeg',\n",
       " 'IM-0620-0001-0002.jpeg',\n",
       " 'IM-0620-0001.jpeg',\n",
       " 'IM-0621-0001.jpeg',\n",
       " 'IM-0622-0001-0001.jpeg',\n",
       " 'IM-0622-0001-0002.jpeg',\n",
       " 'IM-0622-0001.jpeg',\n",
       " 'IM-0623-0001.jpeg',\n",
       " 'IM-0624-0001-0002.jpeg',\n",
       " 'IM-0624-0001.jpeg',\n",
       " 'IM-0625-0001.jpeg',\n",
       " 'IM-0626-0001-0001.jpeg',\n",
       " 'IM-0626-0001-0002.jpeg',\n",
       " 'IM-0627-0001.jpeg',\n",
       " 'IM-0628-0001.jpeg',\n",
       " 'IM-0629-0001-0001.jpeg',\n",
       " 'IM-0629-0001-0002.jpeg',\n",
       " 'IM-0629-0001-0003.jpeg',\n",
       " 'IM-0629-0001.jpeg',\n",
       " 'IM-0630-0001.jpeg',\n",
       " 'IM-0631-0001-0001.jpeg',\n",
       " 'IM-0631-0001-0002.jpeg',\n",
       " 'IM-0631-0001.jpeg',\n",
       " 'IM-0632-0001.jpeg',\n",
       " 'IM-0633-0001.jpeg',\n",
       " 'IM-0634-0001.jpeg',\n",
       " 'IM-0635-0001.jpeg',\n",
       " 'IM-0636-0001.jpeg',\n",
       " 'IM-0637-0001.jpeg',\n",
       " 'IM-0640-0001-0001.jpeg',\n",
       " 'IM-0640-0001-0002.jpeg',\n",
       " 'IM-0640-0001.jpeg',\n",
       " 'IM-0641-0001.jpeg',\n",
       " 'IM-0642-0001.jpeg',\n",
       " 'IM-0643-0001.jpeg',\n",
       " 'IM-0644-0001-0001.jpeg',\n",
       " 'IM-0644-0001-0002.jpeg',\n",
       " 'IM-0644-0001.jpeg',\n",
       " 'IM-0645-0001.jpeg',\n",
       " 'IM-0646-0001.jpeg',\n",
       " 'IM-0647-0001.jpeg',\n",
       " 'IM-0648-0001.jpeg',\n",
       " 'IM-0649-0001.jpeg',\n",
       " 'IM-0650-0001-0001.jpeg',\n",
       " 'IM-0650-0001-0002.jpeg',\n",
       " 'IM-0650-0001.jpeg',\n",
       " 'IM-0651-0001.jpeg',\n",
       " 'IM-0652-0001-0002.jpeg',\n",
       " 'IM-0652-0001.jpeg',\n",
       " 'IM-0654-0001.jpeg',\n",
       " 'IM-0655-0001.jpeg',\n",
       " 'IM-0656-0001-0001.jpeg',\n",
       " 'IM-0656-0001-0002.jpeg',\n",
       " 'IM-0656-0001.jpeg',\n",
       " 'IM-0657-0001.jpeg',\n",
       " 'IM-0658-0001.jpeg',\n",
       " 'IM-0659-0001.jpeg',\n",
       " 'IM-0660-0001-0001.jpeg',\n",
       " 'IM-0660-0001-0002.jpeg',\n",
       " 'IM-0660-0001.jpeg',\n",
       " 'IM-0661-0001.jpeg',\n",
       " 'IM-0662-0001.jpeg',\n",
       " 'IM-0663-0001.jpeg',\n",
       " 'IM-0664-0001.jpeg',\n",
       " 'IM-0665-0001.jpeg',\n",
       " 'IM-0666-0001-0001.jpeg',\n",
       " 'IM-0666-0001-0002.jpeg',\n",
       " 'IM-0666-0001.jpeg',\n",
       " 'IM-0667-0001.jpeg',\n",
       " 'IM-0668-0001.jpeg',\n",
       " 'IM-0669-0001.jpeg',\n",
       " 'IM-0670-0001.jpeg',\n",
       " 'IM-0671-0001.jpeg',\n",
       " 'IM-0672-0001.jpeg',\n",
       " 'IM-0673-0001.jpeg',\n",
       " 'IM-0674-0001.jpeg',\n",
       " 'IM-0675-0001.jpeg',\n",
       " 'IM-0676-0001.jpeg',\n",
       " 'IM-0677-0001.jpeg',\n",
       " 'IM-0678-0001.jpeg',\n",
       " 'IM-0679-0001.jpeg',\n",
       " 'IM-0680-0001.jpeg',\n",
       " 'IM-0681-0001.jpeg',\n",
       " 'IM-0682-0001.jpeg',\n",
       " 'IM-0683-0001.jpeg',\n",
       " 'IM-0684-0001.jpeg',\n",
       " 'IM-0685-0001.jpeg',\n",
       " 'IM-0686-0001.jpeg',\n",
       " 'IM-0687-0001.jpeg',\n",
       " 'IM-0688-0001.jpeg',\n",
       " 'IM-0689-0001.jpeg',\n",
       " 'IM-0691-0001.jpeg',\n",
       " 'IM-0692-0001.jpeg',\n",
       " 'IM-0693-0001.jpeg',\n",
       " 'IM-0694-0001.jpeg',\n",
       " 'IM-0695-0001.jpeg',\n",
       " 'IM-0696-0001.jpeg',\n",
       " 'IM-0697-0001.jpeg',\n",
       " 'IM-0698-0001.jpeg',\n",
       " 'IM-0700-0001.jpeg',\n",
       " 'IM-0701-0001.jpeg',\n",
       " 'IM-0702-0001.jpeg',\n",
       " 'IM-0703-0001.jpeg',\n",
       " 'IM-0704-0001.jpeg',\n",
       " 'IM-0705-0001.jpeg',\n",
       " 'IM-0706-0001.jpeg',\n",
       " 'IM-0707-0001.jpeg',\n",
       " 'IM-0709-0001.jpeg',\n",
       " 'IM-0710-0001.jpeg',\n",
       " 'IM-0711-0001.jpeg',\n",
       " 'IM-0712-0001.jpeg',\n",
       " 'IM-0713-0001.jpeg',\n",
       " 'IM-0714-0001.jpeg',\n",
       " 'IM-0715-0001.jpeg',\n",
       " 'IM-0716-0001.jpeg',\n",
       " 'IM-0717-0001.jpeg',\n",
       " 'IM-0718-0001.jpeg',\n",
       " 'IM-0719-0001.jpeg',\n",
       " 'IM-0721-0001.jpeg',\n",
       " 'IM-0722-0001.jpeg',\n",
       " 'IM-0724-0001.jpeg',\n",
       " 'IM-0727-0001.jpeg',\n",
       " 'IM-0728-0001.jpeg',\n",
       " 'IM-0729-0001.jpeg',\n",
       " 'IM-0730-0001.jpeg',\n",
       " 'IM-0732-0001.jpeg',\n",
       " 'IM-0733-0001.jpeg',\n",
       " 'IM-0734-0001.jpeg',\n",
       " 'IM-0735-0001.jpeg',\n",
       " 'IM-0736-0001.jpeg',\n",
       " 'IM-0737-0001.jpeg',\n",
       " 'IM-0738-0001.jpeg',\n",
       " 'IM-0739-0001.jpeg',\n",
       " 'IM-0740-0001.jpeg',\n",
       " 'IM-0741-0001.jpeg',\n",
       " 'IM-0742-0001.jpeg',\n",
       " 'IM-0746-0001.jpeg',\n",
       " 'IM-0747-0001.jpeg',\n",
       " 'IM-0748-0001.jpeg',\n",
       " 'IM-0750-0001.jpeg',\n",
       " 'IM-0751-0001.jpeg',\n",
       " 'IM-0752-0001.jpeg',\n",
       " 'IM-0753-0001.jpeg',\n",
       " 'IM-0754-0001.jpeg',\n",
       " 'IM-0755-0001.jpeg',\n",
       " 'IM-0757-0001.jpeg',\n",
       " 'IM-0761-0001.jpeg',\n",
       " 'IM-0764-0001.jpeg',\n",
       " 'IM-0766-0001.jpeg',\n",
       " 'NORMAL2-IM-0383-0001.jpeg',\n",
       " 'NORMAL2-IM-0384-0001.jpeg',\n",
       " 'NORMAL2-IM-0385-0001.jpeg',\n",
       " 'NORMAL2-IM-0386-0001.jpeg',\n",
       " 'NORMAL2-IM-0388-0001.jpeg',\n",
       " 'NORMAL2-IM-0389-0001.jpeg',\n",
       " 'NORMAL2-IM-0390-0001.jpeg',\n",
       " 'NORMAL2-IM-0391-0001.jpeg',\n",
       " 'NORMAL2-IM-0392-0001.jpeg',\n",
       " 'NORMAL2-IM-0393-0001.jpeg',\n",
       " 'NORMAL2-IM-0394-0001.jpeg',\n",
       " 'NORMAL2-IM-0395-0001-0001.jpeg',\n",
       " 'NORMAL2-IM-0395-0001-0002.jpeg',\n",
       " 'NORMAL2-IM-0395-0001.jpeg',\n",
       " 'NORMAL2-IM-0396-0001.jpeg',\n",
       " 'NORMAL2-IM-0397-0001.jpeg',\n",
       " 'NORMAL2-IM-0399-0001.jpeg',\n",
       " 'NORMAL2-IM-0401-0001.jpeg',\n",
       " 'NORMAL2-IM-0402-0001.jpeg',\n",
       " 'NORMAL2-IM-0403-0001.jpeg',\n",
       " 'NORMAL2-IM-0404-0001.jpeg',\n",
       " 'NORMAL2-IM-0406-0001.jpeg',\n",
       " 'NORMAL2-IM-0407-0001.jpeg',\n",
       " 'NORMAL2-IM-0408-0001.jpeg',\n",
       " 'NORMAL2-IM-0409-0001.jpeg',\n",
       " 'NORMAL2-IM-0410-0001.jpeg',\n",
       " 'NORMAL2-IM-0412-0001.jpeg',\n",
       " 'NORMAL2-IM-0413-0001.jpeg',\n",
       " 'NORMAL2-IM-0414-0001.jpeg',\n",
       " 'NORMAL2-IM-0415-0001.jpeg',\n",
       " 'NORMAL2-IM-0416-0001-0001.jpeg',\n",
       " 'NORMAL2-IM-0416-0001-0002.jpeg',\n",
       " 'NORMAL2-IM-0416-0001.jpeg',\n",
       " 'NORMAL2-IM-0417-0001.jpeg',\n",
       " 'NORMAL2-IM-0418-0001.jpeg',\n",
       " 'NORMAL2-IM-0419-0001.jpeg',\n",
       " 'NORMAL2-IM-0421-0001.jpeg',\n",
       " 'NORMAL2-IM-0423-0001.jpeg',\n",
       " 'NORMAL2-IM-0424-0001.jpeg',\n",
       " 'NORMAL2-IM-0425-0001.jpeg',\n",
       " 'NORMAL2-IM-0427-0001.jpeg',\n",
       " 'NORMAL2-IM-0428-0001.jpeg',\n",
       " 'NORMAL2-IM-0429-0001.jpeg',\n",
       " 'NORMAL2-IM-0433-0001.jpeg',\n",
       " 'NORMAL2-IM-0435-0001.jpeg',\n",
       " 'NORMAL2-IM-0437-0001.jpeg',\n",
       " 'NORMAL2-IM-0439-0001.jpeg',\n",
       " 'NORMAL2-IM-0440-0001.jpeg',\n",
       " 'NORMAL2-IM-0441-0001.jpeg',\n",
       " 'NORMAL2-IM-0443-0001.jpeg',\n",
       " 'NORMAL2-IM-0445-0001.jpeg',\n",
       " 'NORMAL2-IM-0447-0001.jpeg',\n",
       " 'NORMAL2-IM-0448-0001.jpeg',\n",
       " 'NORMAL2-IM-0449-0001.jpeg',\n",
       " 'NORMAL2-IM-0450-0001.jpeg',\n",
       " 'NORMAL2-IM-0451-0001.jpeg',\n",
       " 'NORMAL2-IM-0452-0001.jpeg',\n",
       " 'NORMAL2-IM-0453-0001.jpeg',\n",
       " 'NORMAL2-IM-0454-0001.jpeg',\n",
       " 'NORMAL2-IM-0455-0001.jpeg',\n",
       " 'NORMAL2-IM-0456-0001.jpeg',\n",
       " 'NORMAL2-IM-0458-0001.jpeg',\n",
       " 'NORMAL2-IM-0460-0001.jpeg',\n",
       " 'NORMAL2-IM-0462-0001.jpeg',\n",
       " 'NORMAL2-IM-0463-0001.jpeg',\n",
       " 'NORMAL2-IM-0464-0001.jpeg',\n",
       " 'NORMAL2-IM-0465-0001.jpeg',\n",
       " 'NORMAL2-IM-0466-0001.jpeg',\n",
       " 'NORMAL2-IM-0468-0001.jpeg',\n",
       " 'NORMAL2-IM-0472-0001.jpeg',\n",
       " 'NORMAL2-IM-0473-0001.jpeg',\n",
       " 'NORMAL2-IM-0474-0001.jpeg',\n",
       " 'NORMAL2-IM-0475-0001.jpeg',\n",
       " 'NORMAL2-IM-0476-0001.jpeg',\n",
       " 'NORMAL2-IM-0478-0001.jpeg',\n",
       " 'NORMAL2-IM-0479-0001.jpeg',\n",
       " 'NORMAL2-IM-0480-0001.jpeg',\n",
       " 'NORMAL2-IM-0481-0001.jpeg',\n",
       " 'NORMAL2-IM-0482-0001.jpeg',\n",
       " 'NORMAL2-IM-0485-0001.jpeg',\n",
       " 'NORMAL2-IM-0486-0001.jpeg',\n",
       " 'NORMAL2-IM-0487-0001.jpeg',\n",
       " 'NORMAL2-IM-0488-0001.jpeg',\n",
       " 'NORMAL2-IM-0489-0001.jpeg',\n",
       " 'NORMAL2-IM-0490-0001.jpeg',\n",
       " 'NORMAL2-IM-0491-0001.jpeg',\n",
       " 'NORMAL2-IM-0493-0001.jpeg',\n",
       " 'NORMAL2-IM-0496-0001.jpeg',\n",
       " 'NORMAL2-IM-0497-0001.jpeg',\n",
       " 'NORMAL2-IM-0499-0001.jpeg',\n",
       " 'NORMAL2-IM-0500-0001.jpeg',\n",
       " 'NORMAL2-IM-0501-0001.jpeg',\n",
       " 'NORMAL2-IM-0502-0001.jpeg',\n",
       " 'NORMAL2-IM-0503-0001.jpeg',\n",
       " 'NORMAL2-IM-0506-0001.jpeg',\n",
       " 'NORMAL2-IM-0507-0001.jpeg',\n",
       " 'NORMAL2-IM-0508-0001.jpeg',\n",
       " 'NORMAL2-IM-0509-0001.jpeg',\n",
       " 'NORMAL2-IM-0511-0001.jpeg',\n",
       " 'NORMAL2-IM-0512-0001.jpeg',\n",
       " 'NORMAL2-IM-0513-0001.jpeg',\n",
       " 'NORMAL2-IM-0515-0001.jpeg',\n",
       " 'NORMAL2-IM-0516-0001.jpeg',\n",
       " 'NORMAL2-IM-0517-0001.jpeg',\n",
       " 'NORMAL2-IM-0518-0001.jpeg',\n",
       " 'NORMAL2-IM-0520-0001.jpeg',\n",
       " 'NORMAL2-IM-0521-0001.jpeg',\n",
       " 'NORMAL2-IM-0522-0001.jpeg',\n",
       " 'NORMAL2-IM-0523-0001.jpeg',\n",
       " 'NORMAL2-IM-0525-0001.jpeg',\n",
       " 'NORMAL2-IM-0526-0001.jpeg',\n",
       " 'NORMAL2-IM-0528-0001.jpeg',\n",
       " 'NORMAL2-IM-0529-0001.jpeg',\n",
       " 'NORMAL2-IM-0530-0001.jpeg',\n",
       " 'NORMAL2-IM-0531-0001.jpeg',\n",
       " 'NORMAL2-IM-0533-0001.jpeg',\n",
       " 'NORMAL2-IM-0535-0001-0002.jpeg',\n",
       " 'NORMAL2-IM-0535-0001.jpeg',\n",
       " 'NORMAL2-IM-0536-0001.jpeg',\n",
       " 'NORMAL2-IM-0537-0001.jpeg',\n",
       " 'NORMAL2-IM-0539-0001.jpeg',\n",
       " 'NORMAL2-IM-0540-0001.jpeg',\n",
       " 'NORMAL2-IM-0541-0001.jpeg',\n",
       " 'NORMAL2-IM-0543-0001.jpeg',\n",
       " 'NORMAL2-IM-0545-0001.jpeg',\n",
       " 'NORMAL2-IM-0547-0001.jpeg',\n",
       " 'NORMAL2-IM-0550-0001.jpeg',\n",
       " 'NORMAL2-IM-0551-0001.jpeg',\n",
       " 'NORMAL2-IM-0552-0001.jpeg',\n",
       " 'NORMAL2-IM-0553-0001.jpeg',\n",
       " 'NORMAL2-IM-0554-0001.jpeg',\n",
       " 'NORMAL2-IM-0555-0001-0001.jpeg',\n",
       " 'NORMAL2-IM-0555-0001-0002.jpeg',\n",
       " 'NORMAL2-IM-0555-0001.jpeg',\n",
       " 'NORMAL2-IM-0557-0001.jpeg',\n",
       " 'NORMAL2-IM-0558-0001.jpeg',\n",
       " 'NORMAL2-IM-0559-0001.jpeg',\n",
       " 'NORMAL2-IM-0561-0001.jpeg',\n",
       " 'NORMAL2-IM-0563-0001.jpeg',\n",
       " 'NORMAL2-IM-0564-0001.jpeg',\n",
       " 'NORMAL2-IM-0566-0001.jpeg',\n",
       " 'NORMAL2-IM-0567-0001.jpeg',\n",
       " 'NORMAL2-IM-0568-0001.jpeg',\n",
       " 'NORMAL2-IM-0569-0001.jpeg',\n",
       " 'NORMAL2-IM-0571-0001.jpeg',\n",
       " 'NORMAL2-IM-0572-0001.jpeg',\n",
       " 'NORMAL2-IM-0573-0001.jpeg',\n",
       " 'NORMAL2-IM-0575-0001.jpeg',\n",
       " 'NORMAL2-IM-0576-0001.jpeg',\n",
       " 'NORMAL2-IM-0577-0001.jpeg',\n",
       " 'NORMAL2-IM-0578-0001.jpeg',\n",
       " 'NORMAL2-IM-0579-0001.jpeg',\n",
       " 'NORMAL2-IM-0580-0001.jpeg',\n",
       " 'NORMAL2-IM-0582-0001.jpeg',\n",
       " 'NORMAL2-IM-0583-0001.jpeg',\n",
       " 'NORMAL2-IM-0585-0001.jpeg',\n",
       " 'NORMAL2-IM-0587-0001-0001.jpeg',\n",
       " 'NORMAL2-IM-0587-0001-0002.jpeg',\n",
       " 'NORMAL2-IM-0587-0001.jpeg',\n",
       " 'NORMAL2-IM-0588-0001.jpeg',\n",
       " 'NORMAL2-IM-0589-0001.jpeg',\n",
       " 'NORMAL2-IM-0592-0001.jpeg',\n",
       " 'NORMAL2-IM-0594-0001.jpeg',\n",
       " 'NORMAL2-IM-0595-0001.jpeg',\n",
       " 'NORMAL2-IM-0596-0001.jpeg',\n",
       " 'NORMAL2-IM-0599-0001.jpeg',\n",
       " 'NORMAL2-IM-0600-0001.jpeg',\n",
       " 'NORMAL2-IM-0601-0001.jpeg',\n",
       " 'NORMAL2-IM-0602-0001.jpeg',\n",
       " 'NORMAL2-IM-0603-0001.jpeg',\n",
       " 'NORMAL2-IM-0604-0001.jpeg',\n",
       " 'NORMAL2-IM-0609-0001.jpeg',\n",
       " 'NORMAL2-IM-0611-0001.jpeg',\n",
       " 'NORMAL2-IM-0616-0001.jpeg',\n",
       " 'NORMAL2-IM-0617-0001.jpeg',\n",
       " 'NORMAL2-IM-0618-0001.jpeg',\n",
       " 'NORMAL2-IM-0619-0001.jpeg',\n",
       " 'NORMAL2-IM-0620-0001.jpeg',\n",
       " 'NORMAL2-IM-0621-0001.jpeg',\n",
       " 'NORMAL2-IM-0622-0001.jpeg',\n",
       " 'NORMAL2-IM-0623-0001.jpeg',\n",
       " 'NORMAL2-IM-0626-0001.jpeg',\n",
       " 'NORMAL2-IM-0627-0001.jpeg',\n",
       " 'NORMAL2-IM-0629-0001.jpeg',\n",
       " 'NORMAL2-IM-0630-0001.jpeg',\n",
       " 'NORMAL2-IM-0633-0001.jpeg',\n",
       " 'NORMAL2-IM-0634-0001.jpeg',\n",
       " 'NORMAL2-IM-0635-0001.jpeg',\n",
       " 'NORMAL2-IM-0636-0001.jpeg',\n",
       " 'NORMAL2-IM-0637-0001.jpeg',\n",
       " 'NORMAL2-IM-0640-0001.jpeg',\n",
       " 'NORMAL2-IM-0641-0001.jpeg',\n",
       " 'NORMAL2-IM-0642-0001.jpeg',\n",
       " 'NORMAL2-IM-0643-0001.jpeg',\n",
       " 'NORMAL2-IM-0645-0001.jpeg',\n",
       " 'NORMAL2-IM-0647-0001.jpeg',\n",
       " 'NORMAL2-IM-0648-0001.jpeg',\n",
       " 'NORMAL2-IM-0649-0001.jpeg',\n",
       " 'NORMAL2-IM-0650-0001.jpeg',\n",
       " 'NORMAL2-IM-0651-0001.jpeg',\n",
       " 'NORMAL2-IM-0651-0004.jpeg',\n",
       " 'NORMAL2-IM-0652-0001.jpeg',\n",
       " 'NORMAL2-IM-0653-0001.jpeg',\n",
       " 'NORMAL2-IM-0654-0001.jpeg',\n",
       " 'NORMAL2-IM-0655-0001.jpeg',\n",
       " 'NORMAL2-IM-0657-0001.jpeg',\n",
       " 'NORMAL2-IM-0659-0001.jpeg',\n",
       " 'NORMAL2-IM-0660-0001.jpeg',\n",
       " 'NORMAL2-IM-0661-0001.jpeg',\n",
       " 'NORMAL2-IM-0662-0001.jpeg',\n",
       " 'NORMAL2-IM-0663-0001.jpeg',\n",
       " 'NORMAL2-IM-0664-0001.jpeg',\n",
       " 'NORMAL2-IM-0665-0001.jpeg',\n",
       " 'NORMAL2-IM-0666-0001.jpeg',\n",
       " 'NORMAL2-IM-0667-0001.jpeg',\n",
       " 'NORMAL2-IM-0668-0001.jpeg',\n",
       " 'NORMAL2-IM-0669-0001.jpeg',\n",
       " 'NORMAL2-IM-0671-0001.jpeg',\n",
       " 'NORMAL2-IM-0672-0001.jpeg',\n",
       " 'NORMAL2-IM-0673-0001.jpeg',\n",
       " 'NORMAL2-IM-0675-0001.jpeg',\n",
       " 'NORMAL2-IM-0678-0001.jpeg',\n",
       " 'NORMAL2-IM-0680-0001.jpeg',\n",
       " 'NORMAL2-IM-0682-0001.jpeg',\n",
       " 'NORMAL2-IM-0683-0001.jpeg',\n",
       " 'NORMAL2-IM-0684-0001-0001.jpeg',\n",
       " 'NORMAL2-IM-0686-0001.jpeg',\n",
       " 'NORMAL2-IM-0687-0001.jpeg',\n",
       " 'NORMAL2-IM-0689-0001.jpeg',\n",
       " 'NORMAL2-IM-0690-0001.jpeg',\n",
       " 'NORMAL2-IM-0692-0001.jpeg',\n",
       " 'NORMAL2-IM-0693-0001.jpeg',\n",
       " 'NORMAL2-IM-0694-0001.jpeg',\n",
       " 'NORMAL2-IM-0695-0001.jpeg',\n",
       " 'NORMAL2-IM-0696-0001.jpeg',\n",
       " 'NORMAL2-IM-0698-0001.jpeg',\n",
       " 'NORMAL2-IM-0699-0001.jpeg',\n",
       " 'NORMAL2-IM-0700-0001.jpeg',\n",
       " 'NORMAL2-IM-0702-0001.jpeg',\n",
       " 'NORMAL2-IM-0705-0001.jpeg',\n",
       " 'NORMAL2-IM-0707-0001.jpeg',\n",
       " 'NORMAL2-IM-0718-0001.jpeg',\n",
       " 'NORMAL2-IM-0719-0001.jpeg',\n",
       " 'NORMAL2-IM-0723-0001.jpeg',\n",
       " 'NORMAL2-IM-0725-0001.jpeg',\n",
       " 'NORMAL2-IM-0727-0001.jpeg',\n",
       " 'NORMAL2-IM-0730-0001.jpeg',\n",
       " 'NORMAL2-IM-0736-0001.jpeg',\n",
       " 'NORMAL2-IM-0741-0001.jpeg',\n",
       " 'NORMAL2-IM-0744-0001.jpeg',\n",
       " 'NORMAL2-IM-0746-0001.jpeg',\n",
       " 'NORMAL2-IM-0749-0001.jpeg',\n",
       " 'NORMAL2-IM-0753-0001.jpeg',\n",
       " 'NORMAL2-IM-0757-0001.jpeg',\n",
       " 'NORMAL2-IM-0765-0001.jpeg',\n",
       " 'NORMAL2-IM-0771-0001.jpeg',\n",
       " 'NORMAL2-IM-0772-0001.jpeg',\n",
       " 'NORMAL2-IM-0774-0001.jpeg',\n",
       " 'NORMAL2-IM-0775-0001.jpeg',\n",
       " 'NORMAL2-IM-0776-0001.jpeg',\n",
       " 'NORMAL2-IM-0777-0001.jpeg',\n",
       " 'NORMAL2-IM-0780-0001.jpeg',\n",
       " 'NORMAL2-IM-0781-0001.jpeg',\n",
       " 'NORMAL2-IM-0790-0001.jpeg',\n",
       " 'NORMAL2-IM-0793-0001.jpeg',\n",
       " 'NORMAL2-IM-0796-0001.jpeg',\n",
       " 'NORMAL2-IM-0797-0001.jpeg',\n",
       " 'NORMAL2-IM-0798-0001.jpeg',\n",
       " 'NORMAL2-IM-0799-0001.jpeg',\n",
       " 'NORMAL2-IM-0803-0001.jpeg',\n",
       " 'NORMAL2-IM-0804-0001.jpeg',\n",
       " 'NORMAL2-IM-0806-0001.jpeg',\n",
       " 'NORMAL2-IM-0807-0001.jpeg',\n",
       " 'NORMAL2-IM-0808-0001.jpeg',\n",
       " 'NORMAL2-IM-0809-0001.jpeg',\n",
       " 'NORMAL2-IM-0810-0001.jpeg',\n",
       " 'NORMAL2-IM-0811-0001.jpeg',\n",
       " 'NORMAL2-IM-0812-0001.jpeg',\n",
       " 'NORMAL2-IM-0814-0001.jpeg',\n",
       " 'NORMAL2-IM-0815-0001.jpeg',\n",
       " 'NORMAL2-IM-0816-0001.jpeg',\n",
       " 'NORMAL2-IM-0818-0001-0002.jpeg',\n",
       " 'NORMAL2-IM-0818-0001.jpeg',\n",
       " 'NORMAL2-IM-0819-0001.jpeg',\n",
       " 'NORMAL2-IM-0820-0001.jpeg',\n",
       " 'NORMAL2-IM-0821-0001.jpeg',\n",
       " 'NORMAL2-IM-0822-0001.jpeg',\n",
       " 'NORMAL2-IM-0824-0001.jpeg',\n",
       " 'NORMAL2-IM-0825-0001.jpeg',\n",
       " 'NORMAL2-IM-0826-0001.jpeg',\n",
       " 'NORMAL2-IM-0827-0001.jpeg',\n",
       " 'NORMAL2-IM-0828-0001.jpeg',\n",
       " 'NORMAL2-IM-0829-0001.jpeg',\n",
       " 'NORMAL2-IM-0830-0001.jpeg',\n",
       " 'NORMAL2-IM-0831-0001.jpeg',\n",
       " 'NORMAL2-IM-0832-0001-0001.jpeg',\n",
       " 'NORMAL2-IM-0832-0001-0002.jpeg',\n",
       " 'NORMAL2-IM-0832-0001.jpeg',\n",
       " 'NORMAL2-IM-0833-0001.jpeg',\n",
       " 'NORMAL2-IM-0834-0001.jpeg',\n",
       " 'NORMAL2-IM-0836-0001.jpeg',\n",
       " 'NORMAL2-IM-0837-0001.jpeg',\n",
       " 'NORMAL2-IM-0838-0001.jpeg',\n",
       " 'NORMAL2-IM-0839-0001.jpeg',\n",
       " 'NORMAL2-IM-0840-0001.jpeg',\n",
       " 'NORMAL2-IM-0841-0001.jpeg',\n",
       " 'NORMAL2-IM-0842-0001.jpeg',\n",
       " 'NORMAL2-IM-0843-0001.jpeg',\n",
       " 'NORMAL2-IM-0845-0001.jpeg',\n",
       " 'NORMAL2-IM-0846-0001.jpeg',\n",
       " 'NORMAL2-IM-0847-0001.jpeg',\n",
       " 'NORMAL2-IM-0848-0001.jpeg',\n",
       " 'NORMAL2-IM-0849-0001.jpeg',\n",
       " 'NORMAL2-IM-0851-0001-0001.jpeg',\n",
       " 'NORMAL2-IM-0851-0001-0002.jpeg',\n",
       " 'NORMAL2-IM-0851-0001.jpeg',\n",
       " 'NORMAL2-IM-0852-0001.jpeg',\n",
       " 'NORMAL2-IM-0853-0001.jpeg',\n",
       " 'NORMAL2-IM-0854-0001.jpeg',\n",
       " 'NORMAL2-IM-0855-0001.jpeg',\n",
       " 'NORMAL2-IM-0856-0001.jpeg',\n",
       " 'NORMAL2-IM-0857-0001.jpeg',\n",
       " 'NORMAL2-IM-0858-0001.jpeg',\n",
       " 'NORMAL2-IM-0859-0001.jpeg',\n",
       " 'NORMAL2-IM-0860-0001.jpeg',\n",
       " 'NORMAL2-IM-0862-0001.jpeg',\n",
       " 'NORMAL2-IM-0863-0001.jpeg',\n",
       " 'NORMAL2-IM-0865-0001.jpeg',\n",
       " 'NORMAL2-IM-0866-0001.jpeg',\n",
       " 'NORMAL2-IM-0867-0001.jpeg',\n",
       " 'NORMAL2-IM-0868-0001.jpeg',\n",
       " 'NORMAL2-IM-0869-0001.jpeg',\n",
       " 'NORMAL2-IM-0870-0001.jpeg',\n",
       " 'NORMAL2-IM-0871-0001.jpeg',\n",
       " 'NORMAL2-IM-0872-0001.jpeg',\n",
       " 'NORMAL2-IM-0873-0001.jpeg',\n",
       " 'NORMAL2-IM-0874-0001.jpeg',\n",
       " 'NORMAL2-IM-0875-0001.jpeg',\n",
       " 'NORMAL2-IM-0876-0001.jpeg',\n",
       " 'NORMAL2-IM-0877-0001.jpeg',\n",
       " 'NORMAL2-IM-0879-0001.jpeg',\n",
       " 'NORMAL2-IM-0880-0001.jpeg',\n",
       " 'NORMAL2-IM-0881-0001.jpeg',\n",
       " 'NORMAL2-IM-0882-0001.jpeg',\n",
       " 'NORMAL2-IM-0885-0001.jpeg',\n",
       " 'NORMAL2-IM-0886-0001.jpeg',\n",
       " 'NORMAL2-IM-0887-0001.jpeg',\n",
       " 'NORMAL2-IM-0888-0001.jpeg',\n",
       " 'NORMAL2-IM-0890-0001.jpeg',\n",
       " 'NORMAL2-IM-0892-0001.jpeg',\n",
       " 'NORMAL2-IM-0893-0001.jpeg',\n",
       " 'NORMAL2-IM-0894-0001.jpeg',\n",
       " 'NORMAL2-IM-0895-0001.jpeg',\n",
       " 'NORMAL2-IM-0896-0001.jpeg',\n",
       " 'NORMAL2-IM-0897-0001.jpeg',\n",
       " 'NORMAL2-IM-0898-0001.jpeg',\n",
       " 'NORMAL2-IM-0899-0001.jpeg',\n",
       " 'NORMAL2-IM-0900-0001.jpeg',\n",
       " 'NORMAL2-IM-0903-0001.jpeg',\n",
       " 'NORMAL2-IM-0904-0001.jpeg',\n",
       " 'NORMAL2-IM-0905-0001.jpeg',\n",
       " 'NORMAL2-IM-0906-0001.jpeg',\n",
       " 'NORMAL2-IM-0907-0001.jpeg',\n",
       " 'NORMAL2-IM-0908-0001.jpeg',\n",
       " 'NORMAL2-IM-0909-0001.jpeg',\n",
       " 'NORMAL2-IM-0910-0001.jpeg',\n",
       " 'NORMAL2-IM-0911-0001.jpeg',\n",
       " 'NORMAL2-IM-0912-0001.jpeg',\n",
       " 'NORMAL2-IM-0913-0001.jpeg',\n",
       " 'NORMAL2-IM-0914-0001.jpeg',\n",
       " 'NORMAL2-IM-0915-0001.jpeg',\n",
       " 'NORMAL2-IM-0917-0001.jpeg',\n",
       " 'NORMAL2-IM-0918-0001.jpeg',\n",
       " 'NORMAL2-IM-0919-0001.jpeg',\n",
       " 'NORMAL2-IM-0922-0001.jpeg',\n",
       " 'NORMAL2-IM-0923-0001.jpeg',\n",
       " 'NORMAL2-IM-0924-0001.jpeg',\n",
       " 'NORMAL2-IM-0925-0001.jpeg',\n",
       " 'NORMAL2-IM-0926-0001.jpeg',\n",
       " 'NORMAL2-IM-0927-0001.jpeg',\n",
       " 'NORMAL2-IM-0929-0001.jpeg',\n",
       " 'NORMAL2-IM-0930-0001.jpeg',\n",
       " 'NORMAL2-IM-0931-0001.jpeg',\n",
       " 'NORMAL2-IM-0932-0001.jpeg',\n",
       " 'NORMAL2-IM-0933-0001.jpeg',\n",
       " 'NORMAL2-IM-0934-0001.jpeg',\n",
       " 'NORMAL2-IM-0935-0001.jpeg',\n",
       " 'NORMAL2-IM-0936-0001.jpeg',\n",
       " 'NORMAL2-IM-0937-0001.jpeg',\n",
       " 'NORMAL2-IM-0939-0001.jpeg',\n",
       " 'NORMAL2-IM-0941-0001.jpeg',\n",
       " 'NORMAL2-IM-0942-0001.jpeg',\n",
       " 'NORMAL2-IM-0944-0001.jpeg',\n",
       " 'NORMAL2-IM-0945-0001.jpeg',\n",
       " 'NORMAL2-IM-0946-0001.jpeg',\n",
       " 'NORMAL2-IM-0947-0001.jpeg',\n",
       " 'NORMAL2-IM-0948-0001.jpeg',\n",
       " 'NORMAL2-IM-0949-0001.jpeg',\n",
       " 'NORMAL2-IM-0950-0001.jpeg',\n",
       " 'NORMAL2-IM-0951-0001.jpeg',\n",
       " 'NORMAL2-IM-0952-0001.jpeg',\n",
       " 'NORMAL2-IM-0954-0001.jpeg',\n",
       " 'NORMAL2-IM-0955-0001.jpeg',\n",
       " ...]"
      ]
     },
     "execution_count": 59,
     "metadata": {},
     "output_type": "execute_result"
    }
   ],
   "source": [
    "imgs_train_normal"
   ]
  },
  {
   "cell_type": "code",
   "execution_count": 13,
   "id": "6935a940",
   "metadata": {},
   "outputs": [],
   "source": [
    "#create image data generator for train data\n",
    "train_datagen = ImageDataGenerator(rescale=1./255, \n",
    "                                   rotation_range = 30,\n",
    "                                   shear_range = 0.2, \n",
    "                                   zoom_range = 0.2,\n",
    "                                   validation_split=0.2)"
   ]
  },
  {
   "cell_type": "code",
   "execution_count": 14,
   "id": "518f97dd",
   "metadata": {},
   "outputs": [
    {
     "name": "stdout",
     "output_type": "stream",
     "text": [
      "Found 4173 images belonging to 2 classes.\n",
      "Found 1043 images belonging to 2 classes.\n",
      "Found 624 images belonging to 2 classes.\n"
     ]
    }
   ],
   "source": [
    "#rescale images to 64 by 64\n",
    "#create validation set as 20% of train set\n",
    "\n",
    "train_folder = \"./data/chest_xray/train\"\n",
    "train_gen = train_datagen.flow_from_directory(\n",
    "        train_folder, \n",
    "        target_size=(64, 64), \n",
    "        color_mode='grayscale', \n",
    "        class_mode='binary',\n",
    "        subset='training',\n",
    "        batch_size= num_train)\n",
    "\n",
    "validation_gen = train_datagen.flow_from_directory(\n",
    "        train_folder, \n",
    "        target_size=(64, 64), \n",
    "        color_mode='grayscale', \n",
    "        class_mode='binary',\n",
    "        subset='validation',\n",
    "        batch_size= num_train)\n",
    "\n",
    "test_folder = \"./data/chest_xray/test\"\n",
    "test_gen = ImageDataGenerator(rescale=1./255).flow_from_directory(\n",
    "        test_folder, \n",
    "        target_size=(64, 64), color_mode='grayscale', \n",
    "        class_mode='binary', \n",
    "        batch_size= num_test)"
   ]
  },
  {
   "cell_type": "code",
   "execution_count": 15,
   "id": "9bbc17a0",
   "metadata": {},
   "outputs": [],
   "source": [
    "train_images, train_labels = next(train_gen)\n",
    "val_images, val_labels = next(validation_gen)\n",
    "test_images, test_labels = next(test_gen)"
   ]
  },
  {
   "cell_type": "code",
   "execution_count": null,
   "id": "cb5efc92",
   "metadata": {},
   "outputs": [],
   "source": [
    "earlystop = EarlyStopping(monitor='val_loss', min_delta=1e-3, patience=5, mode = 'min')"
   ]
  },
  {
   "cell_type": "code",
   "execution_count": 36,
   "id": "1641ca81",
   "metadata": {},
   "outputs": [],
   "source": [
    "fifth_cnn = models.Sequential()\n",
    "\n",
    "fifth_cnn.add(layers.Conv2D(filters=32, kernel_size=(3,3), padding='same', activation='relu', \n",
    "          input_shape=(64, 64, 1)))\n",
    "fifth_cnn.add(layers.MaxPooling2D(pool_size=(2,2)))\n",
    "fifth_cnn.add(layers.Conv2D(filters=64, kernel_size=(3,3), padding='same', activation='relu'))\n",
    "fifth_cnn.add(layers.MaxPooling2D(pool_size=(2,2)))\n",
    "fifth_cnn.add(layers.Conv2D(filters=64, kernel_size=(3,3), padding='same', activation='relu'))\n",
    "fifth_cnn.add(layers.MaxPooling2D(pool_size=(2,2)))\n",
    "#two dense layers\n",
    "fifth_cnn.add(layers.Flatten())\n",
    "fifth_cnn.add(layers.Dense(64, activation='relu'))\n",
    "fifth_cnn.add(layers.Dropout(0.5))\n",
    "fifth_cnn.add(layers.Dense(64, activation='relu'))\n",
    "#output layer\n",
    "fifth_cnn.add(layers.Dense(1, activation='sigmoid'))"
   ]
  },
  {
   "cell_type": "code",
   "execution_count": 37,
   "id": "86020970",
   "metadata": {},
   "outputs": [
    {
     "name": "stdout",
     "output_type": "stream",
     "text": [
      "Model: \"sequential_4\"\n",
      "_________________________________________________________________\n",
      "Layer (type)                 Output Shape              Param #   \n",
      "=================================================================\n",
      "conv2d_12 (Conv2D)           (None, 64, 64, 32)        320       \n",
      "_________________________________________________________________\n",
      "max_pooling2d_12 (MaxPooling (None, 32, 32, 32)        0         \n",
      "_________________________________________________________________\n",
      "conv2d_13 (Conv2D)           (None, 32, 32, 64)        18496     \n",
      "_________________________________________________________________\n",
      "max_pooling2d_13 (MaxPooling (None, 16, 16, 64)        0         \n",
      "_________________________________________________________________\n",
      "conv2d_14 (Conv2D)           (None, 16, 16, 64)        36928     \n",
      "_________________________________________________________________\n",
      "max_pooling2d_14 (MaxPooling (None, 8, 8, 64)          0         \n",
      "_________________________________________________________________\n",
      "flatten_4 (Flatten)          (None, 4096)              0         \n",
      "_________________________________________________________________\n",
      "dense_9 (Dense)              (None, 64)                262208    \n",
      "_________________________________________________________________\n",
      "dropout (Dropout)            (None, 64)                0         \n",
      "_________________________________________________________________\n",
      "dense_10 (Dense)             (None, 64)                4160      \n",
      "_________________________________________________________________\n",
      "dense_11 (Dense)             (None, 1)                 65        \n",
      "=================================================================\n",
      "Total params: 322,177\n",
      "Trainable params: 322,177\n",
      "Non-trainable params: 0\n",
      "_________________________________________________________________\n"
     ]
    }
   ],
   "source": [
    "fifth_cnn.summary()"
   ]
  },
  {
   "cell_type": "code",
   "execution_count": 38,
   "id": "fd19f12c",
   "metadata": {},
   "outputs": [],
   "source": [
    "fifth_cnn.compile(optimizer='adam',\n",
    "                  loss='binary_crossentropy',\n",
    "                  metrics=['accuracy', tf.keras.metrics.Recall()])"
   ]
  },
  {
   "cell_type": "code",
   "execution_count": 39,
   "id": "3d5908fa",
   "metadata": {},
   "outputs": [
    {
     "name": "stdout",
     "output_type": "stream",
     "text": [
      "Epoch 1/50\n",
      "21/21 [==============================] - 5s 207ms/step - loss: 0.6111 - accuracy: 0.7292 - recall_2: 0.9729 - val_loss: 0.5640 - val_accuracy: 0.7430 - val_recall_2: 1.0000\n",
      "Epoch 2/50\n",
      "21/21 [==============================] - 4s 185ms/step - loss: 0.5722 - accuracy: 0.7429 - recall_2: 1.0000 - val_loss: 0.5287 - val_accuracy: 0.7430 - val_recall_2: 1.0000\n",
      "Epoch 3/50\n",
      "21/21 [==============================] - 4s 173ms/step - loss: 0.5011 - accuracy: 0.7625 - recall_2: 0.9900 - val_loss: 0.4046 - val_accuracy: 0.8207 - val_recall_2: 0.9652\n",
      "Epoch 4/50\n",
      "21/21 [==============================] - 3s 148ms/step - loss: 0.3460 - accuracy: 0.8399 - recall_2: 0.9329 - val_loss: 0.3877 - val_accuracy: 0.8293 - val_recall_2: 0.9781\n",
      "Epoch 5/50\n",
      "21/21 [==============================] - 3s 142ms/step - loss: 0.3350 - accuracy: 0.8440 - recall_2: 0.9116 - val_loss: 0.3217 - val_accuracy: 0.8495 - val_recall_2: 0.9497\n",
      "Epoch 6/50\n",
      "21/21 [==============================] - 3s 146ms/step - loss: 0.2750 - accuracy: 0.8735 - recall_2: 0.9297 - val_loss: 0.3204 - val_accuracy: 0.8523 - val_recall_2: 0.9690\n",
      "Epoch 7/50\n",
      "21/21 [==============================] - 3s 143ms/step - loss: 0.2485 - accuracy: 0.8890 - recall_2: 0.9432 - val_loss: 0.2721 - val_accuracy: 0.8821 - val_recall_2: 0.9419\n",
      "Epoch 8/50\n",
      "21/21 [==============================] - 3s 155ms/step - loss: 0.2497 - accuracy: 0.8802 - recall_2: 0.9323 - val_loss: 0.2719 - val_accuracy: 0.8782 - val_recall_2: 0.8658\n",
      "Epoch 9/50\n",
      "21/21 [==============================] - 3s 157ms/step - loss: 0.2342 - accuracy: 0.8972 - recall_2: 0.9390 - val_loss: 0.2824 - val_accuracy: 0.8840 - val_recall_2: 0.9665\n",
      "Epoch 10/50\n",
      "21/21 [==============================] - 3s 151ms/step - loss: 0.2156 - accuracy: 0.9152 - recall_2: 0.9471 - val_loss: 0.2282 - val_accuracy: 0.9003 - val_recall_2: 0.9187\n",
      "Epoch 11/50\n",
      "21/21 [==============================] - 3s 159ms/step - loss: 0.1917 - accuracy: 0.9180 - recall_2: 0.9435 - val_loss: 0.2421 - val_accuracy: 0.9032 - val_recall_2: 0.9755\n",
      "Epoch 12/50\n",
      "21/21 [==============================] - 3s 152ms/step - loss: 0.2094 - accuracy: 0.9113 - recall_2: 0.9439 - val_loss: 0.2356 - val_accuracy: 0.8945 - val_recall_2: 0.8826\n",
      "Epoch 13/50\n",
      "21/21 [==============================] - 3s 151ms/step - loss: 0.1871 - accuracy: 0.9286 - recall_2: 0.9516 - val_loss: 0.2581 - val_accuracy: 0.8917 - val_recall_2: 0.9806\n",
      "Epoch 14/50\n",
      "21/21 [==============================] - 3s 153ms/step - loss: 0.1901 - accuracy: 0.9281 - recall_2: 0.9529 - val_loss: 0.2674 - val_accuracy: 0.8965 - val_recall_2: 0.9819\n",
      "Epoch 15/50\n",
      "21/21 [==============================] - 3s 150ms/step - loss: 0.1745 - accuracy: 0.9312 - recall_2: 0.9529 - val_loss: 0.2138 - val_accuracy: 0.9137 - val_recall_2: 0.9677\n",
      "Epoch 16/50\n",
      "21/21 [==============================] - 3s 153ms/step - loss: 0.1571 - accuracy: 0.9461 - recall_2: 0.9629 - val_loss: 0.1998 - val_accuracy: 0.9185 - val_recall_2: 0.9587\n",
      "Epoch 17/50\n",
      "21/21 [==============================] - 3s 150ms/step - loss: 0.1515 - accuracy: 0.9463 - recall_2: 0.9600 - val_loss: 0.1795 - val_accuracy: 0.9329 - val_recall_2: 0.9368\n",
      "Epoch 18/50\n",
      "21/21 [==============================] - 3s 157ms/step - loss: 0.1475 - accuracy: 0.9470 - recall_2: 0.9648 - val_loss: 0.1823 - val_accuracy: 0.9243 - val_recall_2: 0.9561\n",
      "Epoch 19/50\n",
      "21/21 [==============================] - 3s 152ms/step - loss: 0.1595 - accuracy: 0.9410 - recall_2: 0.9552 - val_loss: 0.1933 - val_accuracy: 0.9175 - val_recall_2: 0.9123\n",
      "Epoch 20/50\n",
      "21/21 [==============================] - 3s 149ms/step - loss: 0.1595 - accuracy: 0.9379 - recall_2: 0.9555 - val_loss: 0.2044 - val_accuracy: 0.9041 - val_recall_2: 0.9006\n",
      "Epoch 21/50\n",
      "21/21 [==============================] - 4s 168ms/step - loss: 0.1476 - accuracy: 0.9456 - recall_2: 0.9606 - val_loss: 0.1740 - val_accuracy: 0.9300 - val_recall_2: 0.9394\n",
      "Epoch 22/50\n",
      "21/21 [==============================] - 3s 160ms/step - loss: 0.1310 - accuracy: 0.9511 - recall_2: 0.9645 - val_loss: 0.1605 - val_accuracy: 0.9377 - val_recall_2: 0.9535\n",
      "Epoch 23/50\n",
      "21/21 [==============================] - 3s 148ms/step - loss: 0.1222 - accuracy: 0.9593 - recall_2: 0.9684 - val_loss: 0.1563 - val_accuracy: 0.9386 - val_recall_2: 0.9458\n",
      "Epoch 24/50\n",
      "21/21 [==============================] - 3s 149ms/step - loss: 0.1271 - accuracy: 0.9547 - recall_2: 0.9677 - val_loss: 0.1824 - val_accuracy: 0.9185 - val_recall_2: 0.9187\n",
      "Epoch 25/50\n",
      "21/21 [==============================] - 3s 158ms/step - loss: 0.1280 - accuracy: 0.9523 - recall_2: 0.9632 - val_loss: 0.1592 - val_accuracy: 0.9415 - val_recall_2: 0.9561\n",
      "Epoch 26/50\n",
      "21/21 [==============================] - 3s 161ms/step - loss: 0.1332 - accuracy: 0.9533 - recall_2: 0.9616 - val_loss: 0.1543 - val_accuracy: 0.9415 - val_recall_2: 0.9561\n",
      "Epoch 27/50\n",
      "21/21 [==============================] - 4s 179ms/step - loss: 0.1074 - accuracy: 0.9653 - recall_2: 0.9739 - val_loss: 0.1676 - val_accuracy: 0.9367 - val_recall_2: 0.9768\n",
      "Epoch 28/50\n",
      "21/21 [==============================] - 4s 178ms/step - loss: 0.1080 - accuracy: 0.9602 - recall_2: 0.9694 - val_loss: 0.1727 - val_accuracy: 0.9367 - val_recall_2: 0.9613\n",
      "Epoch 29/50\n",
      "21/21 [==============================] - 4s 190ms/step - loss: 0.1071 - accuracy: 0.9617 - recall_2: 0.9703 - val_loss: 0.1752 - val_accuracy: 0.9386 - val_recall_2: 0.9794\n",
      "Epoch 30/50\n",
      "21/21 [==============================] - 4s 187ms/step - loss: 0.1030 - accuracy: 0.9631 - recall_2: 0.9716 - val_loss: 0.1696 - val_accuracy: 0.9329 - val_recall_2: 0.9445\n",
      "Epoch 31/50\n",
      "21/21 [==============================] - 4s 188ms/step - loss: 0.0971 - accuracy: 0.9672 - recall_2: 0.9735 - val_loss: 0.1753 - val_accuracy: 0.9338 - val_recall_2: 0.9716\n",
      "Epoch 32/50\n",
      "21/21 [==============================] - 4s 185ms/step - loss: 0.0958 - accuracy: 0.9643 - recall_2: 0.9735 - val_loss: 0.1456 - val_accuracy: 0.9453 - val_recall_2: 0.9523\n",
      "Epoch 33/50\n",
      "21/21 [==============================] - 4s 191ms/step - loss: 0.0777 - accuracy: 0.9744 - recall_2: 0.9784 - val_loss: 0.1439 - val_accuracy: 0.9482 - val_recall_2: 0.9561\n",
      "Epoch 34/50\n",
      "21/21 [==============================] - 4s 190ms/step - loss: 0.0720 - accuracy: 0.9746 - recall_2: 0.9790 - val_loss: 0.1494 - val_accuracy: 0.9492 - val_recall_2: 0.9639\n",
      "Epoch 35/50\n",
      "21/21 [==============================] - 4s 188ms/step - loss: 0.0764 - accuracy: 0.9729 - recall_2: 0.9794 - val_loss: 0.1561 - val_accuracy: 0.9396 - val_recall_2: 0.9445\n",
      "Epoch 36/50\n",
      "21/21 [==============================] - 4s 195ms/step - loss: 0.0659 - accuracy: 0.9782 - recall_2: 0.9819 - val_loss: 0.1578 - val_accuracy: 0.9406 - val_recall_2: 0.9548\n",
      "Epoch 37/50\n",
      "21/21 [==============================] - 4s 192ms/step - loss: 0.0655 - accuracy: 0.9792 - recall_2: 0.9829 - val_loss: 0.2192 - val_accuracy: 0.9300 - val_recall_2: 0.9574\n",
      "Epoch 38/50\n",
      "21/21 [==============================] - 4s 190ms/step - loss: 0.0621 - accuracy: 0.9803 - recall_2: 0.9858 - val_loss: 0.1490 - val_accuracy: 0.9482 - val_recall_2: 0.9690\n",
      "Epoch 39/50\n",
      "21/21 [==============================] - 3s 124ms/step - loss: 0.0702 - accuracy: 0.9756 - recall_2: 0.9787 - val_loss: 0.1839 - val_accuracy: 0.9377 - val_recall_2: 0.9819\n",
      "Epoch 40/50\n",
      "21/21 [==============================] - 3s 153ms/step - loss: 0.0634 - accuracy: 0.9792 - recall_2: 0.9829 - val_loss: 0.1524 - val_accuracy: 0.9415 - val_recall_2: 0.9368\n",
      "Epoch 41/50\n",
      "21/21 [==============================] - 4s 181ms/step - loss: 0.0531 - accuracy: 0.9813 - recall_2: 0.9852 - val_loss: 0.1944 - val_accuracy: 0.9425 - val_recall_2: 0.9768\n",
      "Epoch 42/50\n",
      "21/21 [==============================] - 4s 181ms/step - loss: 0.0478 - accuracy: 0.9844 - recall_2: 0.9868 - val_loss: 0.2425 - val_accuracy: 0.9271 - val_recall_2: 0.9742\n",
      "Epoch 43/50\n",
      "21/21 [==============================] - 4s 181ms/step - loss: 0.0480 - accuracy: 0.9847 - recall_2: 0.9881 - val_loss: 0.1530 - val_accuracy: 0.9463 - val_recall_2: 0.9626\n",
      "Epoch 44/50\n",
      "21/21 [==============================] - 4s 183ms/step - loss: 0.0454 - accuracy: 0.9832 - recall_2: 0.9852 - val_loss: 0.1518 - val_accuracy: 0.9473 - val_recall_2: 0.9510\n",
      "Epoch 45/50\n",
      "21/21 [==============================] - 4s 180ms/step - loss: 0.0375 - accuracy: 0.9885 - recall_2: 0.9903 - val_loss: 0.1622 - val_accuracy: 0.9415 - val_recall_2: 0.9639\n",
      "Epoch 46/50\n",
      "21/21 [==============================] - 4s 182ms/step - loss: 0.0341 - accuracy: 0.9890 - recall_2: 0.9897 - val_loss: 0.1880 - val_accuracy: 0.9434 - val_recall_2: 0.9523\n",
      "Epoch 47/50\n",
      "21/21 [==============================] - 4s 180ms/step - loss: 0.0378 - accuracy: 0.9871 - recall_2: 0.9881 - val_loss: 0.1976 - val_accuracy: 0.9367 - val_recall_2: 0.9794\n",
      "Epoch 48/50\n",
      "21/21 [==============================] - 4s 180ms/step - loss: 0.0759 - accuracy: 0.9717 - recall_2: 0.9806 - val_loss: 0.1635 - val_accuracy: 0.9396 - val_recall_2: 0.9432\n",
      "Epoch 49/50\n",
      "21/21 [==============================] - 4s 180ms/step - loss: 0.0467 - accuracy: 0.9830 - recall_2: 0.9861 - val_loss: 0.1426 - val_accuracy: 0.9559 - val_recall_2: 0.9677\n",
      "Epoch 50/50\n",
      "21/21 [==============================] - 4s 182ms/step - loss: 0.0378 - accuracy: 0.9873 - recall_2: 0.9897 - val_loss: 0.2079 - val_accuracy: 0.9310 - val_recall_2: 0.9394\n"
     ]
    },
    {
     "data": {
      "text/plain": [
       "<tensorflow.python.keras.callbacks.History at 0x1e8d8c4d310>"
      ]
     },
     "execution_count": 39,
     "metadata": {},
     "output_type": "execute_result"
    }
   ],
   "source": [
    "fifth_cnn.fit(train_images, train_labels, epochs=50, batch_size=200, validation_data=(val_images, val_labels))"
   ]
  },
  {
   "cell_type": "code",
   "execution_count": 40,
   "id": "fe7f7972",
   "metadata": {},
   "outputs": [
    {
     "name": "stdout",
     "output_type": "stream",
     "text": [
      "131/131 [==============================] - 1s 5ms/step - loss: 0.0301 - accuracy: 0.9907 - recall_2: 0.9884\n"
     ]
    },
    {
     "data": {
      "text/plain": [
       "[0.030095618218183517, 0.9906542301177979, 0.9883871078491211]"
      ]
     },
     "execution_count": 40,
     "metadata": {},
     "output_type": "execute_result"
    }
   ],
   "source": [
    "fifth_cnn.evaluate(train_images, train_labels)"
   ]
  },
  {
   "cell_type": "code",
   "execution_count": 41,
   "id": "5127f184",
   "metadata": {},
   "outputs": [
    {
     "name": "stdout",
     "output_type": "stream",
     "text": [
      "33/33 [==============================] - 0s 7ms/step - loss: 0.2079 - accuracy: 0.9310 - recall_2: 0.9394\n"
     ]
    },
    {
     "data": {
      "text/plain": [
       "[0.20792755484580994, 0.9309683442115784, 0.9393548369407654]"
      ]
     },
     "execution_count": 41,
     "metadata": {},
     "output_type": "execute_result"
    }
   ],
   "source": [
    "fifth_cnn.evaluate(val_images, val_labels)"
   ]
  },
  {
   "cell_type": "code",
   "execution_count": 58,
   "id": "2fd220fa",
   "metadata": {},
   "outputs": [],
   "source": [
    "sixth_cnn = models.Sequential()\n",
    "\n",
    "sixth_cnn.add(layers.Conv2D(filters=64, kernel_size=(3,3), padding='same', activation='relu', \n",
    "          input_shape=(64, 64, 1)))\n",
    "sixth_cnn.add(layers.MaxPooling2D(pool_size=(2,2)))\n",
    "sixth_cnn.add(layers.Conv2D(filters=64, kernel_size=(3,3), padding='same', activation='relu', \n",
    "                           kernel_regularizer= l2(l=0.01)))\n",
    "sixth_cnn.add(layers.MaxPooling2D(pool_size=(2,2)))\n",
    "#two dense layers\n",
    "sixth_cnn.add(layers.Flatten())\n",
    "sixth_cnn.add(layers.Dense(64, activation='relu'))\n",
    "sixth_cnn.add(layers.Dropout(0.4))\n",
    "sixth_cnn.add(layers.Dense(64, activation='relu'))\n",
    "#output layer\n",
    "sixth_cnn.add(layers.Dense(1, activation='sigmoid'))"
   ]
  },
  {
   "cell_type": "code",
   "execution_count": 59,
   "id": "21d3a7bb",
   "metadata": {},
   "outputs": [
    {
     "name": "stdout",
     "output_type": "stream",
     "text": [
      "Model: \"sequential_8\"\n",
      "_________________________________________________________________\n",
      "Layer (type)                 Output Shape              Param #   \n",
      "=================================================================\n",
      "conv2d_20 (Conv2D)           (None, 64, 64, 64)        640       \n",
      "_________________________________________________________________\n",
      "max_pooling2d_20 (MaxPooling (None, 32, 32, 64)        0         \n",
      "_________________________________________________________________\n",
      "conv2d_21 (Conv2D)           (None, 32, 32, 64)        36928     \n",
      "_________________________________________________________________\n",
      "max_pooling2d_21 (MaxPooling (None, 16, 16, 64)        0         \n",
      "_________________________________________________________________\n",
      "flatten_6 (Flatten)          (None, 16384)             0         \n",
      "_________________________________________________________________\n",
      "dense_15 (Dense)             (None, 64)                1048640   \n",
      "_________________________________________________________________\n",
      "dropout_2 (Dropout)          (None, 64)                0         \n",
      "_________________________________________________________________\n",
      "dense_16 (Dense)             (None, 64)                4160      \n",
      "_________________________________________________________________\n",
      "dense_17 (Dense)             (None, 1)                 65        \n",
      "=================================================================\n",
      "Total params: 1,090,433\n",
      "Trainable params: 1,090,433\n",
      "Non-trainable params: 0\n",
      "_________________________________________________________________\n"
     ]
    }
   ],
   "source": [
    "sixth_cnn.summary()"
   ]
  },
  {
   "cell_type": "code",
   "execution_count": 60,
   "id": "9d74661c",
   "metadata": {},
   "outputs": [],
   "source": [
    "sixth_cnn.compile(optimizer='adam',\n",
    "                  loss='binary_crossentropy',\n",
    "                  metrics=['accuracy', tf.keras.metrics.Recall()])"
   ]
  },
  {
   "cell_type": "code",
   "execution_count": 61,
   "id": "cdc85b2b",
   "metadata": {},
   "outputs": [
    {
     "name": "stdout",
     "output_type": "stream",
     "text": [
      "Epoch 1/50\n",
      "21/21 [==============================] - 5s 212ms/step - loss: 1.0528 - accuracy: 0.7088 - recall_4: 0.9294 - val_loss: 0.8341 - val_accuracy: 0.7430 - val_recall_4: 1.0000\n",
      "Epoch 2/50\n",
      "21/21 [==============================] - 4s 195ms/step - loss: 0.7581 - accuracy: 0.7424 - recall_4: 0.9994 - val_loss: 0.6481 - val_accuracy: 0.7430 - val_recall_4: 1.0000\n",
      "Epoch 3/50\n",
      "21/21 [==============================] - 4s 202ms/step - loss: 0.5922 - accuracy: 0.7429 - recall_4: 1.0000 - val_loss: 0.5019 - val_accuracy: 0.7430 - val_recall_4: 1.0000\n",
      "Epoch 4/50\n",
      "21/21 [==============================] - 4s 198ms/step - loss: 0.4600 - accuracy: 0.7661 - recall_4: 0.9858 - val_loss: 0.4150 - val_accuracy: 0.8351 - val_recall_4: 0.9548\n",
      "Epoch 5/50\n",
      "21/21 [==============================] - 4s 198ms/step - loss: 0.3933 - accuracy: 0.8119 - recall_4: 0.9423 - val_loss: 0.4021 - val_accuracy: 0.8341 - val_recall_4: 0.8232\n",
      "Epoch 6/50\n",
      "21/21 [==============================] - 4s 199ms/step - loss: 0.3529 - accuracy: 0.8519 - recall_4: 0.9439 - val_loss: 0.3459 - val_accuracy: 0.8600 - val_recall_4: 0.8994\n",
      "Epoch 7/50\n",
      "21/21 [==============================] - 4s 200ms/step - loss: 0.3224 - accuracy: 0.8840 - recall_4: 0.9448 - val_loss: 0.4409 - val_accuracy: 0.8476 - val_recall_4: 0.9768\n",
      "Epoch 8/50\n",
      "21/21 [==============================] - 4s 200ms/step - loss: 0.3416 - accuracy: 0.8783 - recall_4: 0.9313 - val_loss: 0.3615 - val_accuracy: 0.8648 - val_recall_4: 0.9497\n",
      "Epoch 9/50\n",
      "21/21 [==============================] - 4s 199ms/step - loss: 0.3124 - accuracy: 0.8914 - recall_4: 0.9326 - val_loss: 0.3492 - val_accuracy: 0.8715 - val_recall_4: 0.9497\n",
      "Epoch 10/50\n",
      "21/21 [==============================] - 4s 198ms/step - loss: 0.2941 - accuracy: 0.9058 - recall_4: 0.9445 - val_loss: 0.3024 - val_accuracy: 0.8830 - val_recall_4: 0.9097\n",
      "Epoch 11/50\n",
      "21/21 [==============================] - 4s 198ms/step - loss: 0.2866 - accuracy: 0.9025 - recall_4: 0.9335 - val_loss: 0.3037 - val_accuracy: 0.8744 - val_recall_4: 0.8826\n",
      "Epoch 12/50\n",
      "21/21 [==============================] - 4s 197ms/step - loss: 0.2866 - accuracy: 0.9056 - recall_4: 0.9329 - val_loss: 0.2958 - val_accuracy: 0.8888 - val_recall_4: 0.9303\n",
      "Epoch 13/50\n",
      "21/21 [==============================] - 4s 192ms/step - loss: 0.2859 - accuracy: 0.9013 - recall_4: 0.9365 - val_loss: 0.3008 - val_accuracy: 0.8802 - val_recall_4: 0.8787\n",
      "Epoch 14/50\n",
      "21/21 [==============================] - 4s 181ms/step - loss: 0.2745 - accuracy: 0.9051 - recall_4: 0.9329 - val_loss: 0.3021 - val_accuracy: 0.8849 - val_recall_4: 0.9394\n",
      "Epoch 15/50\n",
      "21/21 [==============================] - 4s 176ms/step - loss: 0.2479 - accuracy: 0.9216 - recall_4: 0.9439 - val_loss: 0.2839 - val_accuracy: 0.8907 - val_recall_4: 0.9277\n",
      "Epoch 16/50\n",
      "21/21 [==============================] - 4s 179ms/step - loss: 0.2350 - accuracy: 0.9245 - recall_4: 0.9465 - val_loss: 0.3042 - val_accuracy: 0.8734 - val_recall_4: 0.8490\n",
      "Epoch 17/50\n",
      "21/21 [==============================] - 4s 179ms/step - loss: 0.2453 - accuracy: 0.9156 - recall_4: 0.9429 - val_loss: 0.2736 - val_accuracy: 0.9003 - val_recall_4: 0.9265\n",
      "Epoch 18/50\n",
      "21/21 [==============================] - 4s 185ms/step - loss: 0.2394 - accuracy: 0.9224 - recall_4: 0.9413 - val_loss: 0.3112 - val_accuracy: 0.8677 - val_recall_4: 0.8387\n",
      "Epoch 19/50\n",
      "21/21 [==============================] - 4s 210ms/step - loss: 0.2490 - accuracy: 0.9125 - recall_4: 0.9313 - val_loss: 0.2696 - val_accuracy: 0.8993 - val_recall_4: 0.9419\n",
      "Epoch 20/50\n",
      "21/21 [==============================] - 4s 210ms/step - loss: 0.2220 - accuracy: 0.9274 - recall_4: 0.9435 - val_loss: 0.2824 - val_accuracy: 0.8955 - val_recall_4: 0.9690\n",
      "Epoch 21/50\n",
      "21/21 [==============================] - 4s 205ms/step - loss: 0.2215 - accuracy: 0.9291 - recall_4: 0.9468 - val_loss: 0.2699 - val_accuracy: 0.8917 - val_recall_4: 0.8826\n",
      "Epoch 22/50\n",
      "21/21 [==============================] - 4s 191ms/step - loss: 0.2080 - accuracy: 0.9295 - recall_4: 0.9458 - val_loss: 0.2490 - val_accuracy: 0.9070 - val_recall_4: 0.9277\n",
      "Epoch 23/50\n",
      "21/21 [==============================] - 4s 183ms/step - loss: 0.2055 - accuracy: 0.9370 - recall_4: 0.9474 - val_loss: 0.2481 - val_accuracy: 0.9070 - val_recall_4: 0.9161\n",
      "Epoch 24/50\n",
      "21/21 [==============================] - 4s 188ms/step - loss: 0.1941 - accuracy: 0.9375 - recall_4: 0.9506 - val_loss: 0.2996 - val_accuracy: 0.8696 - val_recall_4: 0.8426\n",
      "Epoch 25/50\n",
      "21/21 [==============================] - 4s 187ms/step - loss: 0.1970 - accuracy: 0.9372 - recall_4: 0.9490 - val_loss: 0.3016 - val_accuracy: 0.8917 - val_recall_4: 0.9781\n",
      "Epoch 26/50\n",
      "21/21 [==============================] - 4s 179ms/step - loss: 0.2031 - accuracy: 0.9312 - recall_4: 0.9477 - val_loss: 0.2467 - val_accuracy: 0.9051 - val_recall_4: 0.9032\n",
      "Epoch 27/50\n",
      "21/21 [==============================] - 4s 185ms/step - loss: 0.1942 - accuracy: 0.9391 - recall_4: 0.9503 - val_loss: 0.2426 - val_accuracy: 0.9080 - val_recall_4: 0.9097\n",
      "Epoch 28/50\n",
      "21/21 [==============================] - 4s 180ms/step - loss: 0.1903 - accuracy: 0.9389 - recall_4: 0.9519 - val_loss: 0.2466 - val_accuracy: 0.9089 - val_recall_4: 0.9006\n",
      "Epoch 29/50\n",
      "21/21 [==============================] - 4s 177ms/step - loss: 0.1876 - accuracy: 0.9401 - recall_4: 0.9516 - val_loss: 0.2549 - val_accuracy: 0.8974 - val_recall_4: 0.8839\n",
      "Epoch 30/50\n",
      "21/21 [==============================] - 4s 182ms/step - loss: 0.1770 - accuracy: 0.9430 - recall_4: 0.9526 - val_loss: 0.2583 - val_accuracy: 0.9089 - val_recall_4: 0.9703\n",
      "Epoch 31/50\n",
      "21/21 [==============================] - 4s 184ms/step - loss: 0.1843 - accuracy: 0.9415 - recall_4: 0.9568 - val_loss: 0.2339 - val_accuracy: 0.9166 - val_recall_4: 0.9432\n",
      "Epoch 32/50\n",
      "21/21 [==============================] - 4s 196ms/step - loss: 0.1759 - accuracy: 0.9487 - recall_4: 0.9623 - val_loss: 0.2290 - val_accuracy: 0.9233 - val_recall_4: 0.9626\n",
      "Epoch 33/50\n",
      "21/21 [==============================] - 4s 178ms/step - loss: 0.1732 - accuracy: 0.9458 - recall_4: 0.9558 - val_loss: 0.2271 - val_accuracy: 0.9223 - val_recall_4: 0.9458\n",
      "Epoch 34/50\n",
      "21/21 [==============================] - 4s 184ms/step - loss: 0.1835 - accuracy: 0.9425 - recall_4: 0.9545 - val_loss: 0.2282 - val_accuracy: 0.9262 - val_recall_4: 0.9497\n",
      "Epoch 35/50\n",
      "21/21 [==============================] - 4s 175ms/step - loss: 0.1631 - accuracy: 0.9506 - recall_4: 0.9600 - val_loss: 0.2338 - val_accuracy: 0.9175 - val_recall_4: 0.9677\n",
      "Epoch 36/50\n",
      "21/21 [==============================] - 4s 183ms/step - loss: 0.1656 - accuracy: 0.9497 - recall_4: 0.9600 - val_loss: 0.2353 - val_accuracy: 0.9214 - val_recall_4: 0.9652\n",
      "Epoch 37/50\n",
      "21/21 [==============================] - 4s 179ms/step - loss: 0.1642 - accuracy: 0.9482 - recall_4: 0.9587 - val_loss: 0.2311 - val_accuracy: 0.9243 - val_recall_4: 0.9677\n",
      "Epoch 38/50\n",
      "21/21 [==============================] - 4s 187ms/step - loss: 0.1496 - accuracy: 0.9540 - recall_4: 0.9639 - val_loss: 0.2266 - val_accuracy: 0.9223 - val_recall_4: 0.9690\n",
      "Epoch 39/50\n",
      "21/21 [==============================] - 4s 186ms/step - loss: 0.1470 - accuracy: 0.9564 - recall_4: 0.9639 - val_loss: 0.2377 - val_accuracy: 0.9204 - val_recall_4: 0.9729\n",
      "Epoch 40/50\n",
      "21/21 [==============================] - 4s 185ms/step - loss: 0.1535 - accuracy: 0.9540 - recall_4: 0.9632 - val_loss: 0.2154 - val_accuracy: 0.9291 - val_recall_4: 0.9626\n",
      "Epoch 41/50\n",
      "21/21 [==============================] - 4s 185ms/step - loss: 0.1505 - accuracy: 0.9554 - recall_4: 0.9642 - val_loss: 0.2152 - val_accuracy: 0.9243 - val_recall_4: 0.9458\n",
      "Epoch 42/50\n",
      "21/21 [==============================] - 4s 175ms/step - loss: 0.1423 - accuracy: 0.9633 - recall_4: 0.9694 - val_loss: 0.2102 - val_accuracy: 0.9319 - val_recall_4: 0.9652\n",
      "Epoch 43/50\n",
      "21/21 [==============================] - 4s 200ms/step - loss: 0.1403 - accuracy: 0.9578 - recall_4: 0.9665 - val_loss: 0.2082 - val_accuracy: 0.9214 - val_recall_4: 0.9187\n",
      "Epoch 44/50\n",
      "21/21 [==============================] - 4s 206ms/step - loss: 0.1407 - accuracy: 0.9578 - recall_4: 0.9661 - val_loss: 0.2132 - val_accuracy: 0.9271 - val_recall_4: 0.9652\n",
      "Epoch 45/50\n",
      "21/21 [==============================] - 4s 206ms/step - loss: 0.1368 - accuracy: 0.9607 - recall_4: 0.9684 - val_loss: 0.2062 - val_accuracy: 0.9291 - val_recall_4: 0.9290\n",
      "Epoch 46/50\n",
      "21/21 [==============================] - 4s 205ms/step - loss: 0.1392 - accuracy: 0.9595 - recall_4: 0.9652 - val_loss: 0.2045 - val_accuracy: 0.9271 - val_recall_4: 0.9394\n",
      "Epoch 47/50\n",
      "21/21 [==============================] - 4s 205ms/step - loss: 0.1318 - accuracy: 0.9617 - recall_4: 0.9694 - val_loss: 0.2154 - val_accuracy: 0.9223 - val_recall_4: 0.9523\n",
      "Epoch 48/50\n",
      "21/21 [==============================] - 4s 205ms/step - loss: 0.1350 - accuracy: 0.9631 - recall_4: 0.9723 - val_loss: 0.2095 - val_accuracy: 0.9252 - val_recall_4: 0.9316\n",
      "Epoch 49/50\n",
      "21/21 [==============================] - 4s 205ms/step - loss: 0.1337 - accuracy: 0.9607 - recall_4: 0.9645 - val_loss: 0.2130 - val_accuracy: 0.9271 - val_recall_4: 0.9226\n",
      "Epoch 50/50\n",
      "21/21 [==============================] - 4s 203ms/step - loss: 0.1330 - accuracy: 0.9607 - recall_4: 0.9671 - val_loss: 0.2018 - val_accuracy: 0.9367 - val_recall_4: 0.9561\n"
     ]
    },
    {
     "data": {
      "text/plain": [
       "<tensorflow.python.keras.callbacks.History at 0x1e8dfae2dc0>"
      ]
     },
     "execution_count": 61,
     "metadata": {},
     "output_type": "execute_result"
    }
   ],
   "source": [
    "sixth_cnn.fit(train_images, train_labels, epochs=50, batch_size=200, validation_data=(val_images, val_labels))"
   ]
  },
  {
   "cell_type": "code",
   "execution_count": 55,
   "id": "0faaf9b2",
   "metadata": {},
   "outputs": [
    {
     "name": "stdout",
     "output_type": "stream",
     "text": [
      "131/131 [==============================] - 1s 6ms/step - loss: 0.1224 - accuracy: 0.9691 - recall_3: 0.9803\n"
     ]
    },
    {
     "data": {
      "text/plain": [
       "[0.12237749248743057, 0.9690870046615601, 0.9803225994110107]"
      ]
     },
     "execution_count": 55,
     "metadata": {},
     "output_type": "execute_result"
    }
   ],
   "source": [
    "sixth_cnn.evaluate(train_images, train_labels)"
   ]
  },
  {
   "cell_type": "code",
   "execution_count": 56,
   "id": "6ecd8f2c",
   "metadata": {},
   "outputs": [
    {
     "name": "stdout",
     "output_type": "stream",
     "text": [
      "33/33 [==============================] - 0s 7ms/step - loss: 0.2091 - accuracy: 0.9243 - recall_3: 0.9342\n"
     ]
    },
    {
     "data": {
      "text/plain": [
       "[0.2091488540172577, 0.9242569804191589, 0.9341935515403748]"
      ]
     },
     "execution_count": 56,
     "metadata": {},
     "output_type": "execute_result"
    }
   ],
   "source": [
    "sixth_cnn.evaluate(val_images, val_labels)"
   ]
  },
  {
   "cell_type": "code",
   "execution_count": 63,
   "id": "870a1938",
   "metadata": {},
   "outputs": [
    {
     "name": "stdout",
     "output_type": "stream",
     "text": [
      "131/131 [==============================] - 2s 12ms/step - loss: 0.1187 - accuracy: 0.9739 - recall_4: 0.9887\n"
     ]
    },
    {
     "data": {
      "text/plain": [
       "[0.11865545809268951, 0.9738796949386597, 0.9887096881866455]"
      ]
     },
     "execution_count": 63,
     "metadata": {},
     "output_type": "execute_result"
    }
   ],
   "source": [
    "sixth_cnn.evaluate(train_images, train_labels)"
   ]
  },
  {
   "cell_type": "code",
   "execution_count": 62,
   "id": "062b4a3a",
   "metadata": {
    "scrolled": true
   },
   "outputs": [
    {
     "name": "stdout",
     "output_type": "stream",
     "text": [
      "33/33 [==============================] - 0s 12ms/step - loss: 0.2018 - accuracy: 0.9367 - recall_4: 0.9561\n"
     ]
    },
    {
     "data": {
      "text/plain": [
       "[0.2017716020345688, 0.9367210268974304, 0.9561290144920349]"
      ]
     },
     "execution_count": 62,
     "metadata": {},
     "output_type": "execute_result"
    }
   ],
   "source": [
    "sixth_cnn.evaluate(val_images, val_labels)"
   ]
  },
  {
   "cell_type": "code",
   "execution_count": null,
   "id": "3df6cffe",
   "metadata": {},
   "outputs": [],
   "source": []
  }
 ],
 "metadata": {
  "kernelspec": {
   "display_name": "Python (tensor_lecture)",
   "language": "python",
   "name": "tensor_lecture"
  },
  "language_info": {
   "codemirror_mode": {
    "name": "ipython",
    "version": 3
   },
   "file_extension": ".py",
   "mimetype": "text/x-python",
   "name": "python",
   "nbconvert_exporter": "python",
   "pygments_lexer": "ipython3",
   "version": "3.9.12"
  }
 },
 "nbformat": 4,
 "nbformat_minor": 5
}
