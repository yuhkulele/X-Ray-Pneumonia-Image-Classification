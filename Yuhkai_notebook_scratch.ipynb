{
 "cells": [
  {
   "cell_type": "code",
   "execution_count": 1,
   "id": "eb4b1ac9",
   "metadata": {},
   "outputs": [],
   "source": [
    "#imports \n",
    "\n",
    "import numpy as np\n",
    "import os, shutil\n",
    "\n",
    "import tensorflow as tf\n",
    "from tensorflow.keras import models, layers\n",
    "from tensorflow.keras.preprocessing.image import load_img\n",
    "from tensorflow.keras.utils import image_dataset_from_directory \n",
    "from tensorflow.keras.models import Sequential\n",
    "\n",
    "from sklearn.model_selection import train_test_split, cross_val_score\n",
    "\n",
    "import time\n",
    "import scipy\n",
    "from scipy import ndimage\n",
    "from tensorflow.keras.preprocessing.image import ImageDataGenerator, array_to_img, img_to_array, load_img\n",
    "from PIL import Image"
   ]
  },
  {
   "cell_type": "markdown",
   "id": "2464e9b2",
   "metadata": {},
   "source": [
    "## Image Load In"
   ]
  },
  {
   "cell_type": "code",
   "execution_count": 2,
   "id": "eb3e2785",
   "metadata": {},
   "outputs": [
    {
     "name": "stdout",
     "output_type": "stream",
     "text": [
      "README.md\n",
      "Yuhkai_notebook_scratch.ipynb\n",
      "data\n",
      "data.zip\n",
      "notebooks_scratch\n"
     ]
    }
   ],
   "source": [
    "!ls"
   ]
  },
  {
   "cell_type": "code",
   "execution_count": 3,
   "id": "22933c31",
   "metadata": {},
   "outputs": [],
   "source": [
    "!cd .."
   ]
  },
  {
   "cell_type": "code",
   "execution_count": 4,
   "id": "4ce2e6ec",
   "metadata": {},
   "outputs": [
    {
     "name": "stdout",
     "output_type": "stream",
     "text": [
      "README.md\n",
      "Yuhkai_notebook_scratch.ipynb\n",
      "data\n",
      "data.zip\n",
      "notebooks_scratch\n"
     ]
    }
   ],
   "source": [
    "!ls"
   ]
  },
  {
   "cell_type": "code",
   "execution_count": 5,
   "id": "d0d89e89",
   "metadata": {},
   "outputs": [
    {
     "name": "stdout",
     "output_type": "stream",
     "text": [
      "README.md\n",
      "Yuhkai_notebook_scratch.ipynb\n",
      "data\n",
      "data.zip\n",
      "notebooks_scratch\n"
     ]
    }
   ],
   "source": [
    "!ls"
   ]
  },
  {
   "cell_type": "code",
   "execution_count": 6,
   "id": "a38bcfa7",
   "metadata": {},
   "outputs": [],
   "source": [
    "# load in the train data\n",
    "\n",
    "#starting from main project directory\n",
    "\n",
    "train_normal_dir = \"./data/chest_xray/train/NORMAL\"\n",
    "train_pneumonia_dir = \"./data/chest_xray/train/PNEUMONIA\"\n",
    "\n",
    "imgs_train_normal = [file for file in os.listdir(train_normal_dir) if file.endswith('.jpeg')]\n",
    "imgs_train_pneumonia = [file for file in os.listdir(train_pneumonia_dir) if file.endswith('.jpeg')]"
   ]
  },
  {
   "cell_type": "code",
   "execution_count": 7,
   "id": "4aa8d7f9",
   "metadata": {},
   "outputs": [],
   "source": [
    "test_normal_dir = \"./data/chest_xray/test/NORMAL\"\n",
    "test_pneumonia_dir = \"./data/chest_xray/test/PNEUMONIA\"\n",
    "\n",
    "imgs_test_normal = [file for file in os.listdir(test_normal_dir) if file.endswith('.jpeg')]\n",
    "imgs_test_pneumonia = [file for file in os.listdir(test_pneumonia_dir) if file.endswith('.jpeg')]"
   ]
  },
  {
   "cell_type": "code",
   "execution_count": 8,
   "id": "e1cb7560",
   "metadata": {},
   "outputs": [
    {
     "data": {
      "text/plain": [
       "1341"
      ]
     },
     "execution_count": 8,
     "metadata": {},
     "output_type": "execute_result"
    }
   ],
   "source": [
    "len(imgs_train_normal)"
   ]
  },
  {
   "cell_type": "code",
   "execution_count": 9,
   "id": "71fe4696",
   "metadata": {},
   "outputs": [
    {
     "data": {
      "text/plain": [
       "3875"
      ]
     },
     "execution_count": 9,
     "metadata": {},
     "output_type": "execute_result"
    }
   ],
   "source": [
    "len(imgs_train_pneumonia)"
   ]
  },
  {
   "cell_type": "code",
   "execution_count": 10,
   "id": "5935606e",
   "metadata": {},
   "outputs": [
    {
     "data": {
      "text/plain": [
       "'IM-0115-0001.jpeg'"
      ]
     },
     "execution_count": 10,
     "metadata": {},
     "output_type": "execute_result"
    }
   ],
   "source": [
    "imgs_train_normal[0]"
   ]
  },
  {
   "cell_type": "code",
   "execution_count": 11,
   "id": "7777fb77",
   "metadata": {},
   "outputs": [
    {
     "data": {
      "text/plain": [
       "'person1000_bacteria_2931.jpeg'"
      ]
     },
     "execution_count": 11,
     "metadata": {},
     "output_type": "execute_result"
    }
   ],
   "source": [
    "imgs_train_pneumonia[0]"
   ]
  },
  {
   "cell_type": "code",
   "execution_count": 12,
   "id": "af354b5a",
   "metadata": {
    "scrolled": true
   },
   "outputs": [
    {
     "data": {
      "text/plain": [
       "234"
      ]
     },
     "execution_count": 12,
     "metadata": {},
     "output_type": "execute_result"
    }
   ],
   "source": [
    "len(imgs_test_normal)"
   ]
  },
  {
   "cell_type": "code",
   "execution_count": 13,
   "id": "a574ee41",
   "metadata": {},
   "outputs": [
    {
     "data": {
      "text/plain": [
       "390"
      ]
     },
     "execution_count": 13,
     "metadata": {},
     "output_type": "execute_result"
    }
   ],
   "source": [
    "len(imgs_test_pneumonia)"
   ]
  },
  {
   "cell_type": "code",
   "execution_count": 14,
   "id": "a1f99e0c",
   "metadata": {},
   "outputs": [
    {
     "name": "stdout",
     "output_type": "stream",
     "text": [
      "Found 5216 images belonging to 2 classes.\n",
      "Found 624 images belonging to 2 classes.\n"
     ]
    }
   ],
   "source": [
    "train_folder = \"./data/chest_xray/train\"\n",
    "train_reshape = ImageDataGenerator(rescale=1./255).flow_from_directory(\n",
    "        train_folder, \n",
    "        target_size=(64, 64), batch_size=5216)\n",
    "\n",
    "test_folder = \"./data/chest_xray/test\"\n",
    "test_reshape = ImageDataGenerator(rescale=1./255).flow_from_directory(\n",
    "        test_folder, \n",
    "        target_size=(64, 64), batch_size=468)"
   ]
  },
  {
   "cell_type": "code",
   "execution_count": 15,
   "id": "279788e7",
   "metadata": {},
   "outputs": [],
   "source": [
    "train_images, train_labels = next(train_reshape)\n",
    "test_images, test_labels = next(test_reshape)"
   ]
  },
  {
   "cell_type": "code",
   "execution_count": 16,
   "id": "68728ffe",
   "metadata": {},
   "outputs": [
    {
     "data": {
      "text/plain": [
       "array([[[0.        , 0.        , 0.        ],\n",
       "        [0.        , 0.        , 0.        ],\n",
       "        [0.        , 0.        , 0.        ],\n",
       "        ...,\n",
       "        [0.        , 0.        , 0.        ],\n",
       "        [0.        , 0.        , 0.        ],\n",
       "        [0.        , 0.        , 0.        ]],\n",
       "\n",
       "       [[0.        , 0.        , 0.        ],\n",
       "        [0.01568628, 0.01568628, 0.01568628],\n",
       "        [0.        , 0.        , 0.        ],\n",
       "        ...,\n",
       "        [0.00784314, 0.00784314, 0.00784314],\n",
       "        [0.        , 0.        , 0.        ],\n",
       "        [0.        , 0.        , 0.        ]],\n",
       "\n",
       "       [[0.        , 0.        , 0.        ],\n",
       "        [1.        , 1.        , 1.        ],\n",
       "        [0.00392157, 0.00392157, 0.00392157],\n",
       "        ...,\n",
       "        [0.00392157, 0.00392157, 0.00392157],\n",
       "        [0.        , 0.        , 0.        ],\n",
       "        [0.        , 0.        , 0.        ]],\n",
       "\n",
       "       ...,\n",
       "\n",
       "       [[0.        , 0.        , 0.        ],\n",
       "        [0.        , 0.        , 0.        ],\n",
       "        [0.        , 0.        , 0.        ],\n",
       "        ...,\n",
       "        [0.        , 0.        , 0.        ],\n",
       "        [0.        , 0.        , 0.        ],\n",
       "        [0.        , 0.        , 0.        ]],\n",
       "\n",
       "       [[0.        , 0.        , 0.        ],\n",
       "        [0.        , 0.        , 0.        ],\n",
       "        [0.        , 0.        , 0.        ],\n",
       "        ...,\n",
       "        [0.        , 0.        , 0.        ],\n",
       "        [0.        , 0.        , 0.        ],\n",
       "        [0.        , 0.        , 0.        ]],\n",
       "\n",
       "       [[0.        , 0.        , 0.        ],\n",
       "        [0.        , 0.        , 0.        ],\n",
       "        [0.        , 0.        , 0.        ],\n",
       "        ...,\n",
       "        [0.        , 0.        , 0.        ],\n",
       "        [0.        , 0.        , 0.        ],\n",
       "        [0.        , 0.        , 0.        ]]], dtype=float32)"
      ]
     },
     "execution_count": 16,
     "metadata": {},
     "output_type": "execute_result"
    }
   ],
   "source": [
    "train_images[0]"
   ]
  },
  {
   "cell_type": "code",
   "execution_count": 17,
   "id": "1dc80fcc",
   "metadata": {},
   "outputs": [
    {
     "data": {
      "text/plain": [
       "(5216, 64, 64, 3)"
      ]
     },
     "execution_count": 17,
     "metadata": {},
     "output_type": "execute_result"
    }
   ],
   "source": [
    "train_images.shape"
   ]
  },
  {
   "cell_type": "code",
   "execution_count": 18,
   "id": "d4e7a439",
   "metadata": {},
   "outputs": [
    {
     "data": {
      "text/plain": [
       "(64, 64, 3)"
      ]
     },
     "execution_count": 18,
     "metadata": {},
     "output_type": "execute_result"
    }
   ],
   "source": [
    "train_images[0].shape"
   ]
  },
  {
   "cell_type": "code",
   "execution_count": 19,
   "id": "094464c5",
   "metadata": {},
   "outputs": [
    {
     "data": {
      "text/plain": [
       "array([0., 1.], dtype=float32)"
      ]
     },
     "execution_count": 19,
     "metadata": {},
     "output_type": "execute_result"
    }
   ],
   "source": [
    "train_labels[0]"
   ]
  },
  {
   "cell_type": "code",
   "execution_count": 20,
   "id": "9afb5b99",
   "metadata": {},
   "outputs": [
    {
     "data": {
      "text/plain": [
       "(5216, 2)"
      ]
     },
     "execution_count": 20,
     "metadata": {},
     "output_type": "execute_result"
    }
   ],
   "source": [
    "train_labels.shape"
   ]
  },
  {
   "cell_type": "code",
   "execution_count": 21,
   "id": "66a1e35d",
   "metadata": {},
   "outputs": [],
   "source": [
    "#split training set into a validation set for metrics during model fit\n",
    "train_images, validation_images, train_labels, validation_labels = train_test_split(train_images, train_labels, random_state=42)"
   ]
  },
  {
   "cell_type": "code",
   "execution_count": 22,
   "id": "5a54af6c",
   "metadata": {},
   "outputs": [
    {
     "data": {
      "text/plain": [
       "(3912, 64, 64, 3)"
      ]
     },
     "execution_count": 22,
     "metadata": {},
     "output_type": "execute_result"
    }
   ],
   "source": [
    "train_images.shape"
   ]
  },
  {
   "cell_type": "code",
   "execution_count": 23,
   "id": "dab4d362",
   "metadata": {},
   "outputs": [
    {
     "data": {
      "text/plain": [
       "(1304, 64, 64, 3)"
      ]
     },
     "execution_count": 23,
     "metadata": {},
     "output_type": "execute_result"
    }
   ],
   "source": [
    "validation_images.shape"
   ]
  },
  {
   "cell_type": "code",
   "execution_count": 24,
   "id": "dc6b5ec4",
   "metadata": {},
   "outputs": [
    {
     "name": "stdout",
     "output_type": "stream",
     "text": [
      "(3912, 12288)\n",
      "(1304, 12288)\n",
      "(468, 12288)\n"
     ]
    }
   ],
   "source": [
    "train_img = train_images.reshape(train_images.shape[0], -1)\n",
    "validation_img = validation_images.reshape(validation_images.shape[0], -1)\n",
    "test_img = test_images.reshape(test_images.shape[0], -1)\n",
    "\n",
    "print(train_img.shape)\n",
    "print(validation_img.shape)\n",
    "print(test_img.shape)"
   ]
  },
  {
   "cell_type": "code",
   "execution_count": 25,
   "id": "6fe78056",
   "metadata": {},
   "outputs": [
    {
     "data": {
      "text/plain": [
       "(3912, 2)"
      ]
     },
     "execution_count": 25,
     "metadata": {},
     "output_type": "execute_result"
    }
   ],
   "source": [
    "train_labels.shape"
   ]
  },
  {
   "cell_type": "code",
   "execution_count": 26,
   "id": "2ad1fe23",
   "metadata": {},
   "outputs": [
    {
     "data": {
      "text/plain": [
       "(1304, 2)"
      ]
     },
     "execution_count": 26,
     "metadata": {},
     "output_type": "execute_result"
    }
   ],
   "source": [
    "validation_labels.shape"
   ]
  },
  {
   "cell_type": "code",
   "execution_count": 27,
   "id": "faa2ce7b",
   "metadata": {},
   "outputs": [
    {
     "data": {
      "text/plain": [
       "(468, 2)"
      ]
     },
     "execution_count": 27,
     "metadata": {},
     "output_type": "execute_result"
    }
   ],
   "source": [
    "test_labels.shape"
   ]
  },
  {
   "cell_type": "code",
   "execution_count": 29,
   "id": "92ed5628",
   "metadata": {},
   "outputs": [
    {
     "name": "stdout",
     "output_type": "stream",
     "text": [
      "(3912, 1)\n",
      "(1304, 1)\n",
      "(468, 1)\n"
     ]
    }
   ],
   "source": [
    "train_y = np.reshape(train_labels[:,0], (3912,1))\n",
    "validation_y = np.reshape(validation_labels[:,0], (1304,1))\n",
    "test_y = np.reshape(test_labels[:,0], (468,1))\n",
    "\n",
    "print(train_y.shape)\n",
    "print(validation_y.shape)\n",
    "print(test_y.shape)"
   ]
  },
  {
   "cell_type": "markdown",
   "id": "3422e966",
   "metadata": {},
   "source": [
    "## Baseline Model"
   ]
  },
  {
   "cell_type": "code",
   "execution_count": 30,
   "id": "1421aa78",
   "metadata": {},
   "outputs": [],
   "source": [
    "baseline_model = models.Sequential()"
   ]
  },
  {
   "cell_type": "code",
   "execution_count": 31,
   "id": "c88c683e",
   "metadata": {},
   "outputs": [],
   "source": [
    "baseline_model.add(layers.Dense(20, activation='relu', input_shape=(12_288,)))\n",
    "baseline_model.add(layers.Dense(7, activation='relu'))\n",
    "baseline_model.add(layers.Dense(5, activation='relu'))\n",
    "baseline_model.add(layers.Dense(1, activation='sigmoid'))"
   ]
  },
  {
   "cell_type": "code",
   "execution_count": 32,
   "id": "0f19cf3e",
   "metadata": {},
   "outputs": [
    {
     "name": "stdout",
     "output_type": "stream",
     "text": [
      "Model: \"sequential\"\n",
      "_________________________________________________________________\n",
      "Layer (type)                 Output Shape              Param #   \n",
      "=================================================================\n",
      "dense (Dense)                (None, 20)                245780    \n",
      "_________________________________________________________________\n",
      "dense_1 (Dense)              (None, 7)                 147       \n",
      "_________________________________________________________________\n",
      "dense_2 (Dense)              (None, 5)                 40        \n",
      "_________________________________________________________________\n",
      "dense_3 (Dense)              (None, 1)                 6         \n",
      "=================================================================\n",
      "Total params: 245,973\n",
      "Trainable params: 245,973\n",
      "Non-trainable params: 0\n",
      "_________________________________________________________________\n"
     ]
    }
   ],
   "source": [
    "baseline_model.summary()"
   ]
  },
  {
   "cell_type": "code",
   "execution_count": 33,
   "id": "5ed41732",
   "metadata": {},
   "outputs": [],
   "source": [
    "baseline_model.compile(optimizer='sgd', \n",
    "              loss='binary_crossentropy', \n",
    "              metrics=['accuracy'])"
   ]
  },
  {
   "cell_type": "code",
   "execution_count": 34,
   "id": "6067c9fc",
   "metadata": {},
   "outputs": [
    {
     "name": "stdout",
     "output_type": "stream",
     "text": [
      "Epoch 1/50\n",
      "123/123 [==============================] - 2s 10ms/step - loss: 0.4966 - accuracy: 0.7712 - val_loss: 0.5787 - val_accuracy: 0.7354\n",
      "Epoch 2/50\n",
      "123/123 [==============================] - 1s 7ms/step - loss: 0.3656 - accuracy: 0.8510 - val_loss: 0.2688 - val_accuracy: 0.8850\n",
      "Epoch 3/50\n",
      "123/123 [==============================] - 1s 5ms/step - loss: 0.3028 - accuracy: 0.8788 - val_loss: 0.7046 - val_accuracy: 0.7431\n",
      "Epoch 4/50\n",
      "123/123 [==============================] - 1s 8ms/step - loss: 0.2480 - accuracy: 0.9041 - val_loss: 0.2200 - val_accuracy: 0.9149\n",
      "Epoch 5/50\n",
      "123/123 [==============================] - 1s 6ms/step - loss: 0.2214 - accuracy: 0.9100 - val_loss: 0.3244 - val_accuracy: 0.8635\n",
      "Epoch 6/50\n",
      "123/123 [==============================] - 1s 6ms/step - loss: 0.1951 - accuracy: 0.9279 - val_loss: 0.2262 - val_accuracy: 0.9034\n",
      "Epoch 7/50\n",
      "123/123 [==============================] - 0s 4ms/step - loss: 0.1847 - accuracy: 0.9271 - val_loss: 0.1608 - val_accuracy: 0.9348\n",
      "Epoch 8/50\n",
      "123/123 [==============================] - 0s 3ms/step - loss: 0.1757 - accuracy: 0.9310 - val_loss: 0.1610 - val_accuracy: 0.9371\n",
      "Epoch 9/50\n",
      "123/123 [==============================] - 0s 2ms/step - loss: 0.1650 - accuracy: 0.9320 - val_loss: 0.1372 - val_accuracy: 0.9479\n",
      "Epoch 10/50\n",
      "123/123 [==============================] - 0s 3ms/step - loss: 0.1524 - accuracy: 0.9394 - val_loss: 0.1805 - val_accuracy: 0.9248\n",
      "Epoch 11/50\n",
      "123/123 [==============================] - 0s 3ms/step - loss: 0.1454 - accuracy: 0.9450 - val_loss: 0.1258 - val_accuracy: 0.9517\n",
      "Epoch 12/50\n",
      "123/123 [==============================] - 0s 2ms/step - loss: 0.1419 - accuracy: 0.9450 - val_loss: 0.1248 - val_accuracy: 0.9502\n",
      "Epoch 13/50\n",
      "123/123 [==============================] - 0s 2ms/step - loss: 0.1420 - accuracy: 0.9471 - val_loss: 0.1273 - val_accuracy: 0.9502\n",
      "Epoch 14/50\n",
      "123/123 [==============================] - 0s 4ms/step - loss: 0.1452 - accuracy: 0.9430 - val_loss: 0.1214 - val_accuracy: 0.9555\n",
      "Epoch 15/50\n",
      "123/123 [==============================] - 0s 3ms/step - loss: 0.1376 - accuracy: 0.9461 - val_loss: 0.1419 - val_accuracy: 0.9471\n",
      "Epoch 16/50\n",
      "123/123 [==============================] - 0s 2ms/step - loss: 0.1434 - accuracy: 0.9430 - val_loss: 0.5456 - val_accuracy: 0.7830\n",
      "Epoch 17/50\n",
      "123/123 [==============================] - 0s 2ms/step - loss: 0.1388 - accuracy: 0.9471 - val_loss: 0.2333 - val_accuracy: 0.9057\n",
      "Epoch 18/50\n",
      "123/123 [==============================] - 0s 2ms/step - loss: 0.1282 - accuracy: 0.9512 - val_loss: 0.1729 - val_accuracy: 0.9310\n",
      "Epoch 19/50\n",
      "123/123 [==============================] - 0s 3ms/step - loss: 0.1196 - accuracy: 0.9550 - val_loss: 0.1162 - val_accuracy: 0.9540\n",
      "Epoch 20/50\n",
      "123/123 [==============================] - 0s 2ms/step - loss: 0.1238 - accuracy: 0.9542 - val_loss: 0.5058 - val_accuracy: 0.7983\n",
      "Epoch 21/50\n",
      "123/123 [==============================] - 0s 3ms/step - loss: 0.1327 - accuracy: 0.9512 - val_loss: 0.8829 - val_accuracy: 0.7722\n",
      "Epoch 22/50\n",
      "123/123 [==============================] - 0s 2ms/step - loss: 0.1429 - accuracy: 0.9484 - val_loss: 0.1201 - val_accuracy: 0.9594\n",
      "Epoch 23/50\n",
      "123/123 [==============================] - 0s 2ms/step - loss: 0.1430 - accuracy: 0.9440 - val_loss: 0.1214 - val_accuracy: 0.9548\n",
      "Epoch 24/50\n",
      "123/123 [==============================] - 0s 3ms/step - loss: 0.1182 - accuracy: 0.9558 - val_loss: 0.1176 - val_accuracy: 0.9525\n",
      "Epoch 25/50\n",
      "123/123 [==============================] - 0s 3ms/step - loss: 0.1172 - accuracy: 0.9563 - val_loss: 0.6133 - val_accuracy: 0.7638\n",
      "Epoch 26/50\n",
      "123/123 [==============================] - 0s 3ms/step - loss: 0.1144 - accuracy: 0.9555 - val_loss: 0.1166 - val_accuracy: 0.9563\n",
      "Epoch 27/50\n",
      "123/123 [==============================] - 1s 7ms/step - loss: 0.1172 - accuracy: 0.9545 - val_loss: 0.2301 - val_accuracy: 0.9049\n",
      "Epoch 28/50\n",
      "123/123 [==============================] - 1s 6ms/step - loss: 0.1086 - accuracy: 0.9596 - val_loss: 0.1164 - val_accuracy: 0.9532\n",
      "Epoch 29/50\n",
      "123/123 [==============================] - 1s 6ms/step - loss: 0.1155 - accuracy: 0.9573 - val_loss: 0.1176 - val_accuracy: 0.9540\n",
      "Epoch 30/50\n",
      "123/123 [==============================] - 1s 8ms/step - loss: 0.1223 - accuracy: 0.9553 - val_loss: 0.2156 - val_accuracy: 0.9187\n",
      "Epoch 31/50\n",
      "123/123 [==============================] - 1s 10ms/step - loss: 0.1184 - accuracy: 0.9565 - val_loss: 0.1167 - val_accuracy: 0.9609\n",
      "Epoch 32/50\n",
      "123/123 [==============================] - 1s 7ms/step - loss: 0.1057 - accuracy: 0.9604 - val_loss: 0.8591 - val_accuracy: 0.6833\n",
      "Epoch 33/50\n",
      "123/123 [==============================] - 1s 6ms/step - loss: 0.1187 - accuracy: 0.9535 - val_loss: 0.1110 - val_accuracy: 0.9586\n",
      "Epoch 34/50\n",
      "123/123 [==============================] - 1s 6ms/step - loss: 0.1046 - accuracy: 0.9617 - val_loss: 0.1323 - val_accuracy: 0.9509\n",
      "Epoch 35/50\n",
      "123/123 [==============================] - 1s 5ms/step - loss: 0.1000 - accuracy: 0.9622 - val_loss: 0.2136 - val_accuracy: 0.9149\n",
      "Epoch 36/50\n",
      "123/123 [==============================] - 1s 6ms/step - loss: 0.1055 - accuracy: 0.9591 - val_loss: 0.1196 - val_accuracy: 0.9540\n",
      "Epoch 37/50\n",
      "123/123 [==============================] - 1s 7ms/step - loss: 0.1093 - accuracy: 0.9599 - val_loss: 0.1672 - val_accuracy: 0.9363\n",
      "Epoch 38/50\n",
      "123/123 [==============================] - 1s 8ms/step - loss: 0.1083 - accuracy: 0.9583 - val_loss: 0.1100 - val_accuracy: 0.9594\n",
      "Epoch 39/50\n",
      "123/123 [==============================] - 1s 8ms/step - loss: 0.1081 - accuracy: 0.9604 - val_loss: 0.1129 - val_accuracy: 0.9624\n",
      "Epoch 40/50\n",
      "123/123 [==============================] - 1s 8ms/step - loss: 0.1049 - accuracy: 0.9634 - val_loss: 0.1409 - val_accuracy: 0.9509\n",
      "Epoch 41/50\n",
      "123/123 [==============================] - 1s 8ms/step - loss: 0.1074 - accuracy: 0.9614 - val_loss: 0.1236 - val_accuracy: 0.9532\n",
      "Epoch 42/50\n",
      "123/123 [==============================] - 1s 7ms/step - loss: 0.1149 - accuracy: 0.9594 - val_loss: 0.6952 - val_accuracy: 0.7454\n",
      "Epoch 43/50\n",
      "123/123 [==============================] - 1s 6ms/step - loss: 0.1037 - accuracy: 0.9611 - val_loss: 0.1198 - val_accuracy: 0.9555\n",
      "Epoch 44/50\n",
      "123/123 [==============================] - 1s 10ms/step - loss: 0.1008 - accuracy: 0.9624 - val_loss: 0.1194 - val_accuracy: 0.9540\n",
      "Epoch 45/50\n",
      "123/123 [==============================] - 1s 8ms/step - loss: 0.0880 - accuracy: 0.9698 - val_loss: 0.1162 - val_accuracy: 0.9555\n",
      "Epoch 46/50\n",
      "123/123 [==============================] - 1s 8ms/step - loss: 0.0976 - accuracy: 0.9642 - val_loss: 0.1096 - val_accuracy: 0.9640\n",
      "Epoch 47/50\n",
      "123/123 [==============================] - 1s 8ms/step - loss: 0.0972 - accuracy: 0.9627 - val_loss: 0.2824 - val_accuracy: 0.8980\n",
      "Epoch 48/50\n",
      "123/123 [==============================] - 1s 9ms/step - loss: 0.1010 - accuracy: 0.9594 - val_loss: 0.2506 - val_accuracy: 0.9034\n",
      "Epoch 49/50\n",
      "123/123 [==============================] - 1s 9ms/step - loss: 0.1001 - accuracy: 0.9619 - val_loss: 0.1110 - val_accuracy: 0.9609\n",
      "Epoch 50/50\n",
      "123/123 [==============================] - 1s 8ms/step - loss: 0.1008 - accuracy: 0.9634 - val_loss: 0.1701 - val_accuracy: 0.9394\n"
     ]
    },
    {
     "data": {
      "text/plain": [
       "<tensorflow.python.keras.callbacks.History at 0x1aa74f4e370>"
      ]
     },
     "execution_count": 34,
     "metadata": {},
     "output_type": "execute_result"
    }
   ],
   "source": [
    "baseline_model.fit(train_img, \n",
    "                   train_y, \n",
    "                   epochs=50, \n",
    "                   batch_size=32, \n",
    "                   validation_data=(validation_img, validation_y))"
   ]
  },
  {
   "cell_type": "code",
   "execution_count": 36,
   "id": "3f9baa7b",
   "metadata": {},
   "outputs": [
    {
     "name": "stdout",
     "output_type": "stream",
     "text": [
      "123/123 [==============================] - 1s 11ms/step - loss: 0.1376 - accuracy: 0.9466\n"
     ]
    },
    {
     "data": {
      "text/plain": [
       "[0.13757158815860748, 0.9465746283531189]"
      ]
     },
     "execution_count": 36,
     "metadata": {},
     "output_type": "execute_result"
    }
   ],
   "source": [
    "results_train = baseline_model.evaluate(train_img, train_y)\n",
    "results_train"
   ]
  },
  {
   "cell_type": "code",
   "execution_count": 37,
   "id": "1d260b9a",
   "metadata": {},
   "outputs": [
    {
     "name": "stdout",
     "output_type": "stream",
     "text": [
      "15/15 [==============================] - 0s 1ms/step - loss: 1.4076 - accuracy: 0.7073\n"
     ]
    },
    {
     "data": {
      "text/plain": [
       "[1.4075759649276733, 0.7072649598121643]"
      ]
     },
     "execution_count": 37,
     "metadata": {},
     "output_type": "execute_result"
    }
   ],
   "source": [
    "results_test = baseline_model.evaluate(test_img, test_y)\n",
    "results_test"
   ]
  },
  {
   "cell_type": "code",
   "execution_count": null,
   "id": "31246472",
   "metadata": {},
   "outputs": [],
   "source": []
  }
 ],
 "metadata": {
  "kernelspec": {
   "display_name": "Python (tensor_lecture)",
   "language": "python",
   "name": "tensor_lecture"
  },
  "language_info": {
   "codemirror_mode": {
    "name": "ipython",
    "version": 3
   },
   "file_extension": ".py",
   "mimetype": "text/x-python",
   "name": "python",
   "nbconvert_exporter": "python",
   "pygments_lexer": "ipython3",
   "version": "3.9.12"
  }
 },
 "nbformat": 4,
 "nbformat_minor": 5
}
