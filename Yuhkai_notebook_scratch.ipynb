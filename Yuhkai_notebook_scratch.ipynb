{
 "cells": [
  {
   "cell_type": "code",
   "execution_count": 1,
   "id": "eb4b1ac9",
   "metadata": {},
   "outputs": [],
   "source": [
    "#imports \n",
    "\n",
    "import numpy as np\n",
    "import os, tempfile\n",
    "import matplotlib.pyplot as plt\n",
    "import seaborn as sns\n",
    "\n",
    "import tensorflow as tf\n",
    "from tensorflow.keras import models, layers\n",
    "from tensorflow.keras.preprocessing.image import load_img\n",
    "from tensorflow.keras.utils import image_dataset_from_directory \n",
    "from tensorflow.keras.models import Sequential\n",
    "\n",
    "from sklearn.dummy import DummyClassifier\n",
    "\n",
    "import time\n",
    "import scipy\n",
    "from scipy import ndimage\n",
    "from tensorflow.keras.preprocessing.image import ImageDataGenerator, array_to_img, img_to_array, load_img\n",
    "from PIL import Image\n",
    "\n",
    "import joblib"
   ]
  },
  {
   "cell_type": "markdown",
   "id": "2464e9b2",
   "metadata": {},
   "source": [
    "## Image Load In"
   ]
  },
  {
   "cell_type": "code",
   "execution_count": 2,
   "id": "eb3e2785",
   "metadata": {},
   "outputs": [
    {
     "name": "stdout",
     "output_type": "stream",
     "text": [
      "README.md\n",
      "Yuhkai_notebook_scratch.ipynb\n",
      "data\n",
      "data.zip\n",
      "notebooks_scratch\n",
      "saved_models\n",
      "simple_cnn.pkl\n"
     ]
    }
   ],
   "source": [
    "!ls"
   ]
  },
  {
   "cell_type": "code",
   "execution_count": 3,
   "id": "22933c31",
   "metadata": {},
   "outputs": [],
   "source": [
    "!cd .."
   ]
  },
  {
   "cell_type": "code",
   "execution_count": 4,
   "id": "4ce2e6ec",
   "metadata": {},
   "outputs": [
    {
     "name": "stdout",
     "output_type": "stream",
     "text": [
      "README.md\n",
      "Yuhkai_notebook_scratch.ipynb\n",
      "data\n",
      "data.zip\n",
      "notebooks_scratch\n",
      "saved_models\n",
      "simple_cnn.pkl\n"
     ]
    }
   ],
   "source": [
    "!ls"
   ]
  },
  {
   "cell_type": "code",
   "execution_count": 5,
   "id": "d0d89e89",
   "metadata": {},
   "outputs": [
    {
     "name": "stdout",
     "output_type": "stream",
     "text": [
      "README.md\n",
      "Yuhkai_notebook_scratch.ipynb\n",
      "data\n",
      "data.zip\n",
      "notebooks_scratch\n",
      "saved_models\n",
      "simple_cnn.pkl\n"
     ]
    }
   ],
   "source": [
    "!ls"
   ]
  },
  {
   "cell_type": "code",
   "execution_count": 6,
   "id": "a38bcfa7",
   "metadata": {},
   "outputs": [],
   "source": [
    "# load in the train data\n",
    "\n",
    "#starting from main project directory\n",
    "\n",
    "train_normal_dir = \"./data/chest_xray/train/NORMAL\"\n",
    "train_pneumonia_dir = \"./data/chest_xray/train/PNEUMONIA\"\n",
    "\n",
    "imgs_train_normal = [file for file in os.listdir(train_normal_dir) if file.endswith('.jpeg')]\n",
    "imgs_train_pneumonia = [file for file in os.listdir(train_pneumonia_dir) if file.endswith('.jpeg')]"
   ]
  },
  {
   "cell_type": "code",
   "execution_count": 7,
   "id": "4aa8d7f9",
   "metadata": {},
   "outputs": [],
   "source": [
    "test_normal_dir = \"./data/chest_xray/test/NORMAL\"\n",
    "test_pneumonia_dir = \"./data/chest_xray/test/PNEUMONIA\"\n",
    "\n",
    "imgs_test_normal = [file for file in os.listdir(test_normal_dir) if file.endswith('.jpeg')]\n",
    "imgs_test_pneumonia = [file for file in os.listdir(test_pneumonia_dir) if file.endswith('.jpeg')]"
   ]
  },
  {
   "cell_type": "code",
   "execution_count": 8,
   "id": "e1cb7560",
   "metadata": {},
   "outputs": [
    {
     "data": {
      "text/plain": [
       "1341"
      ]
     },
     "execution_count": 8,
     "metadata": {},
     "output_type": "execute_result"
    }
   ],
   "source": [
    "len(imgs_train_normal)"
   ]
  },
  {
   "cell_type": "code",
   "execution_count": 9,
   "id": "71fe4696",
   "metadata": {},
   "outputs": [
    {
     "data": {
      "text/plain": [
       "3875"
      ]
     },
     "execution_count": 9,
     "metadata": {},
     "output_type": "execute_result"
    }
   ],
   "source": [
    "len(imgs_train_pneumonia)"
   ]
  },
  {
   "cell_type": "code",
   "execution_count": 10,
   "id": "5935606e",
   "metadata": {},
   "outputs": [
    {
     "data": {
      "text/plain": [
       "'IM-0115-0001.jpeg'"
      ]
     },
     "execution_count": 10,
     "metadata": {},
     "output_type": "execute_result"
    }
   ],
   "source": [
    "imgs_train_normal[0]"
   ]
  },
  {
   "cell_type": "code",
   "execution_count": 11,
   "id": "7777fb77",
   "metadata": {},
   "outputs": [
    {
     "data": {
      "text/plain": [
       "'person1000_bacteria_2931.jpeg'"
      ]
     },
     "execution_count": 11,
     "metadata": {},
     "output_type": "execute_result"
    }
   ],
   "source": [
    "imgs_train_pneumonia[0]"
   ]
  },
  {
   "cell_type": "code",
   "execution_count": 12,
   "id": "af354b5a",
   "metadata": {
    "scrolled": true
   },
   "outputs": [
    {
     "data": {
      "text/plain": [
       "234"
      ]
     },
     "execution_count": 12,
     "metadata": {},
     "output_type": "execute_result"
    }
   ],
   "source": [
    "len(imgs_test_normal)"
   ]
  },
  {
   "cell_type": "code",
   "execution_count": 13,
   "id": "a574ee41",
   "metadata": {},
   "outputs": [
    {
     "data": {
      "text/plain": [
       "390"
      ]
     },
     "execution_count": 13,
     "metadata": {},
     "output_type": "execute_result"
    }
   ],
   "source": [
    "len(imgs_test_pneumonia)"
   ]
  },
  {
   "cell_type": "code",
   "execution_count": 14,
   "id": "6bc17eae",
   "metadata": {},
   "outputs": [
    {
     "data": {
      "text/plain": [
       "(5216, 624)"
      ]
     },
     "execution_count": 14,
     "metadata": {},
     "output_type": "execute_result"
    }
   ],
   "source": [
    "num_train = len(imgs_train_normal) + len(imgs_train_pneumonia)\n",
    "num_test = len(imgs_test_normal) + len(imgs_test_pneumonia)\n",
    "num_train, num_test"
   ]
  },
  {
   "cell_type": "code",
   "execution_count": 15,
   "id": "5ed59797",
   "metadata": {},
   "outputs": [],
   "source": [
    "train_datagen = ImageDataGenerator(rescale=1./255, validation_split=0.2)"
   ]
  },
  {
   "cell_type": "code",
   "execution_count": 16,
   "id": "a1f99e0c",
   "metadata": {},
   "outputs": [
    {
     "name": "stdout",
     "output_type": "stream",
     "text": [
      "Found 4173 images belonging to 2 classes.\n",
      "Found 1043 images belonging to 2 classes.\n",
      "Found 624 images belonging to 2 classes.\n"
     ]
    }
   ],
   "source": [
    "#rescale images to 64 by 64\n",
    "#create validation set as 20% of train set\n",
    "\n",
    "train_folder = \"./data/chest_xray/train\"\n",
    "train_gen = train_datagen.flow_from_directory(\n",
    "        train_folder, \n",
    "        target_size=(64, 64), \n",
    "        color_mode='grayscale', \n",
    "        class_mode='binary',\n",
    "        subset='training',\n",
    "        batch_size= num_train)\n",
    "\n",
    "validation_gen = train_datagen.flow_from_directory(\n",
    "        train_folder, \n",
    "        target_size=(64, 64), \n",
    "        color_mode='grayscale', \n",
    "        class_mode='binary',\n",
    "        subset='validation',\n",
    "        batch_size= num_train)\n",
    "\n",
    "test_folder = \"./data/chest_xray/test\"\n",
    "test_gen = ImageDataGenerator(rescale=1./255).flow_from_directory(\n",
    "        test_folder, \n",
    "        target_size=(64, 64), color_mode='grayscale', \n",
    "        class_mode='binary', \n",
    "        batch_size= num_test)"
   ]
  },
  {
   "cell_type": "code",
   "execution_count": 17,
   "id": "279788e7",
   "metadata": {},
   "outputs": [],
   "source": [
    "train_images, train_labels = next(train_gen)\n",
    "val_images, val_labels = next(validation_gen)\n",
    "test_images, test_labels = next(test_gen)"
   ]
  },
  {
   "cell_type": "code",
   "execution_count": 18,
   "id": "68728ffe",
   "metadata": {},
   "outputs": [
    {
     "data": {
      "text/plain": [
       "array([[[0.05490196],\n",
       "        [0.05490196],\n",
       "        [0.04313726],\n",
       "        ...,\n",
       "        [0.10588236],\n",
       "        [0.10980393],\n",
       "        [0.16470589]],\n",
       "\n",
       "       [[0.03921569],\n",
       "        [0.04313726],\n",
       "        [0.0627451 ],\n",
       "        ...,\n",
       "        [0.09019608],\n",
       "        [0.10588236],\n",
       "        [0.13725491]],\n",
       "\n",
       "       [[0.01960784],\n",
       "        [0.13725491],\n",
       "        [0.15294118],\n",
       "        ...,\n",
       "        [0.09411766],\n",
       "        [0.09803922],\n",
       "        [0.16078432]],\n",
       "\n",
       "       ...,\n",
       "\n",
       "       [[0.12156864],\n",
       "        [0.11764707],\n",
       "        [0.11764707],\n",
       "        ...,\n",
       "        [0.10588236],\n",
       "        [0.10980393],\n",
       "        [0.10980393]],\n",
       "\n",
       "       [[0.12156864],\n",
       "        [0.12156864],\n",
       "        [0.11764707],\n",
       "        ...,\n",
       "        [0.10980393],\n",
       "        [0.1137255 ],\n",
       "        [0.1137255 ]],\n",
       "\n",
       "       [[0.12156864],\n",
       "        [0.12156864],\n",
       "        [0.1137255 ],\n",
       "        ...,\n",
       "        [0.10980393],\n",
       "        [0.11764707],\n",
       "        [0.1137255 ]]], dtype=float32)"
      ]
     },
     "execution_count": 18,
     "metadata": {},
     "output_type": "execute_result"
    }
   ],
   "source": [
    "train_images[0]"
   ]
  },
  {
   "cell_type": "code",
   "execution_count": 19,
   "id": "06e5a2f7",
   "metadata": {},
   "outputs": [
    {
     "data": {
      "text/plain": [
       "<matplotlib.image.AxesImage at 0x1f594e08c70>"
      ]
     },
     "execution_count": 19,
     "metadata": {},
     "output_type": "execute_result"
    },
    {
     "data": {
      "image/png": "[encoded data removed]",
      "text/plain": [
       "<Figure size 432x288 with 1 Axes>"
      ]
     },
     "metadata": {
      "needs_background": "light"
     },
     "output_type": "display_data"
    }
   ],
   "source": [
    "plt.imshow(train_images[0], cmap='gray', vmin=0, vmax=1)"
   ]
  },
  {
   "cell_type": "code",
   "execution_count": 20,
   "id": "935ea49b",
   "metadata": {},
   "outputs": [
    {
     "data": {
      "text/plain": [
       "array([[[0.        ],\n",
       "        [0.        ],\n",
       "        [0.0627451 ],\n",
       "        ...,\n",
       "        [0.05882353],\n",
       "        [0.06666667],\n",
       "        [0.07058824]],\n",
       "\n",
       "       [[0.        ],\n",
       "        [0.        ],\n",
       "        [0.0509804 ],\n",
       "        ...,\n",
       "        [0.05882353],\n",
       "        [0.06666667],\n",
       "        [0.07450981]],\n",
       "\n",
       "       [[0.00392157],\n",
       "        [0.        ],\n",
       "        [0.0509804 ],\n",
       "        ...,\n",
       "        [0.0627451 ],\n",
       "        [0.07058824],\n",
       "        [0.07450981]],\n",
       "\n",
       "       ...,\n",
       "\n",
       "       [[0.02745098],\n",
       "        [0.01568628],\n",
       "        [0.        ],\n",
       "        ...,\n",
       "        [0.0627451 ],\n",
       "        [0.06666667],\n",
       "        [0.07843138]],\n",
       "\n",
       "       [[0.02745098],\n",
       "        [0.01568628],\n",
       "        [0.        ],\n",
       "        ...,\n",
       "        [0.0627451 ],\n",
       "        [0.07058824],\n",
       "        [0.07450981]],\n",
       "\n",
       "       [[0.02745098],\n",
       "        [0.01960784],\n",
       "        [0.        ],\n",
       "        ...,\n",
       "        [0.0627451 ],\n",
       "        [0.07058824],\n",
       "        [0.07450981]]], dtype=float32)"
      ]
     },
     "execution_count": 20,
     "metadata": {},
     "output_type": "execute_result"
    }
   ],
   "source": [
    "val_images[0]"
   ]
  },
  {
   "cell_type": "code",
   "execution_count": 21,
   "id": "1dc80fcc",
   "metadata": {},
   "outputs": [
    {
     "data": {
      "text/plain": [
       "(4173, 64, 64, 1)"
      ]
     },
     "execution_count": 21,
     "metadata": {},
     "output_type": "execute_result"
    }
   ],
   "source": [
    "train_images.shape"
   ]
  },
  {
   "cell_type": "code",
   "execution_count": 22,
   "id": "d4e7a439",
   "metadata": {},
   "outputs": [
    {
     "data": {
      "text/plain": [
       "(64, 64, 1)"
      ]
     },
     "execution_count": 22,
     "metadata": {},
     "output_type": "execute_result"
    }
   ],
   "source": [
    "#(image height, image width, color channels)\n",
    "train_images[0].shape"
   ]
  },
  {
   "cell_type": "code",
   "execution_count": 23,
   "id": "094464c5",
   "metadata": {},
   "outputs": [
    {
     "data": {
      "text/plain": [
       "1.0"
      ]
     },
     "execution_count": 23,
     "metadata": {},
     "output_type": "execute_result"
    }
   ],
   "source": [
    "train_labels[0]"
   ]
  },
  {
   "cell_type": "code",
   "execution_count": 24,
   "id": "9afb5b99",
   "metadata": {},
   "outputs": [
    {
     "data": {
      "text/plain": [
       "(4173,)"
      ]
     },
     "execution_count": 24,
     "metadata": {},
     "output_type": "execute_result"
    }
   ],
   "source": [
    "train_labels.shape"
   ]
  },
  {
   "cell_type": "code",
   "execution_count": 25,
   "id": "5a54af6c",
   "metadata": {},
   "outputs": [
    {
     "data": {
      "text/plain": [
       "(1043, 64, 64, 1)"
      ]
     },
     "execution_count": 25,
     "metadata": {},
     "output_type": "execute_result"
    }
   ],
   "source": [
    "val_images.shape"
   ]
  },
  {
   "cell_type": "code",
   "execution_count": 26,
   "id": "dab4d362",
   "metadata": {},
   "outputs": [
    {
     "data": {
      "text/plain": [
       "(1043,)"
      ]
     },
     "execution_count": 26,
     "metadata": {},
     "output_type": "execute_result"
    }
   ],
   "source": [
    "val_labels.shape"
   ]
  },
  {
   "cell_type": "code",
   "execution_count": 27,
   "id": "dc6b5ec4",
   "metadata": {},
   "outputs": [
    {
     "name": "stdout",
     "output_type": "stream",
     "text": [
      "(4173, 4096)\n",
      "(1043, 4096)\n",
      "(624, 4096)\n"
     ]
    }
   ],
   "source": [
    "#reshaping features for dense layers\n",
    "train_reshape = train_images.reshape(train_images.shape[0], -1)\n",
    "val_reshape = val_images.reshape(val_images.shape[0], -1)\n",
    "test_reshape = test_images.reshape(test_images.shape[0], -1)\n",
    "\n",
    "print(train_reshape.shape)\n",
    "print(val_reshape.shape)\n",
    "print(test_reshape.shape)"
   ]
  },
  {
   "cell_type": "code",
   "execution_count": 28,
   "id": "6fe78056",
   "metadata": {},
   "outputs": [
    {
     "data": {
      "text/plain": [
       "(4173,)"
      ]
     },
     "execution_count": 28,
     "metadata": {},
     "output_type": "execute_result"
    }
   ],
   "source": [
    "train_labels.shape"
   ]
  },
  {
   "cell_type": "code",
   "execution_count": 29,
   "id": "2ad1fe23",
   "metadata": {},
   "outputs": [
    {
     "data": {
      "text/plain": [
       "(1043,)"
      ]
     },
     "execution_count": 29,
     "metadata": {},
     "output_type": "execute_result"
    }
   ],
   "source": [
    "val_labels.shape"
   ]
  },
  {
   "cell_type": "code",
   "execution_count": 30,
   "id": "faa2ce7b",
   "metadata": {},
   "outputs": [
    {
     "data": {
      "text/plain": [
       "(624,)"
      ]
     },
     "execution_count": 30,
     "metadata": {},
     "output_type": "execute_result"
    }
   ],
   "source": [
    "test_labels.shape"
   ]
  },
  {
   "cell_type": "code",
   "execution_count": 31,
   "id": "92ed5628",
   "metadata": {},
   "outputs": [
    {
     "name": "stdout",
     "output_type": "stream",
     "text": [
      "(4173, 1)\n",
      "(1043, 1)\n",
      "(624, 1)\n"
     ]
    }
   ],
   "source": [
    "#reshaping labels\n",
    "train_y = np.reshape(train_labels, (4173,1))\n",
    "val_y = np.reshape(val_labels, (1043,1))\n",
    "test_y = np.reshape(test_labels, (624,1))\n",
    "\n",
    "print(train_y.shape)\n",
    "print(val_y.shape)\n",
    "print(test_y.shape)"
   ]
  },
  {
   "cell_type": "markdown",
   "id": "6717d227",
   "metadata": {},
   "source": [
    "# Dummy Classifier"
   ]
  },
  {
   "cell_type": "code",
   "execution_count": 45,
   "id": "cd619877",
   "metadata": {},
   "outputs": [
    {
     "data": {
      "text/plain": [
       "0.7430488974113135"
      ]
     },
     "execution_count": 45,
     "metadata": {},
     "output_type": "execute_result"
    }
   ],
   "source": [
    "dummy_clf = DummyClassifier()\n",
    "dummy_clf.fit(train_images, train_labels)\n",
    "dummy_clf.score(val_images, val_labels)"
   ]
  },
  {
   "cell_type": "markdown",
   "id": "3422e966",
   "metadata": {},
   "source": [
    "## Baseline Model"
   ]
  },
  {
   "cell_type": "code",
   "execution_count": 33,
   "id": "1421aa78",
   "metadata": {},
   "outputs": [],
   "source": [
    "baseline_model = models.Sequential()"
   ]
  },
  {
   "cell_type": "code",
   "execution_count": 34,
   "id": "c88c683e",
   "metadata": {},
   "outputs": [],
   "source": [
    "baseline_model.add(layers.Dense(20, activation='relu', input_shape=(4096,)))\n",
    "baseline_model.add(layers.Dense(7, activation='relu'))\n",
    "baseline_model.add(layers.Dense(5, activation='relu'))\n",
    "baseline_model.add(layers.Dense(1, activation='sigmoid'))"
   ]
  },
  {
   "cell_type": "code",
   "execution_count": 35,
   "id": "0f19cf3e",
   "metadata": {},
   "outputs": [
    {
     "name": "stdout",
     "output_type": "stream",
     "text": [
      "Model: \"sequential\"\n",
      "_________________________________________________________________\n",
      "Layer (type)                 Output Shape              Param #   \n",
      "=================================================================\n",
      "dense (Dense)                (None, 20)                81940     \n",
      "_________________________________________________________________\n",
      "dense_1 (Dense)              (None, 7)                 147       \n",
      "_________________________________________________________________\n",
      "dense_2 (Dense)              (None, 5)                 40        \n",
      "_________________________________________________________________\n",
      "dense_3 (Dense)              (None, 1)                 6         \n",
      "=================================================================\n",
      "Total params: 82,133\n",
      "Trainable params: 82,133\n",
      "Non-trainable params: 0\n",
      "_________________________________________________________________\n"
     ]
    }
   ],
   "source": [
    "baseline_model.summary()"
   ]
  },
  {
   "cell_type": "code",
   "execution_count": 36,
   "id": "5ed41732",
   "metadata": {},
   "outputs": [],
   "source": [
    "baseline_model.compile(optimizer='sgd', \n",
    "              loss='binary_crossentropy', \n",
    "              metrics=['accuracy'])"
   ]
  },
  {
   "cell_type": "code",
   "execution_count": 37,
   "id": "001757f3",
   "metadata": {},
   "outputs": [
    {
     "data": {
      "text/plain": [
       "(4096,)"
      ]
     },
     "execution_count": 37,
     "metadata": {},
     "output_type": "execute_result"
    }
   ],
   "source": [
    "train_reshape[0].shape"
   ]
  },
  {
   "cell_type": "code",
   "execution_count": 38,
   "id": "9da999c1",
   "metadata": {},
   "outputs": [
    {
     "data": {
      "text/plain": [
       "(4096,)"
      ]
     },
     "execution_count": 38,
     "metadata": {},
     "output_type": "execute_result"
    }
   ],
   "source": [
    "val_reshape[0].shape"
   ]
  },
  {
   "cell_type": "code",
   "execution_count": 39,
   "id": "6067c9fc",
   "metadata": {},
   "outputs": [
    {
     "name": "stdout",
     "output_type": "stream",
     "text": [
      "Epoch 1/50\n",
      "131/131 [==============================] - 4s 16ms/step - loss: 0.5611 - accuracy: 0.7388 - val_loss: 0.4850 - val_accuracy: 0.7430\n",
      "Epoch 2/50\n",
      "131/131 [==============================] - 1s 5ms/step - loss: 0.3848 - accuracy: 0.8289 - val_loss: 0.3847 - val_accuracy: 0.8015\n",
      "Epoch 3/50\n",
      "131/131 [==============================] - 1s 5ms/step - loss: 0.2970 - accuracy: 0.8740 - val_loss: 0.5450 - val_accuracy: 0.7411\n",
      "Epoch 4/50\n",
      "131/131 [==============================] - 1s 4ms/step - loss: 0.2568 - accuracy: 0.8922 - val_loss: 0.2174 - val_accuracy: 0.9070\n",
      "Epoch 5/50\n",
      "131/131 [==============================] - 1s 4ms/step - loss: 0.2270 - accuracy: 0.9092 - val_loss: 0.4529 - val_accuracy: 0.8082\n",
      "Epoch 6/50\n",
      "131/131 [==============================] - 1s 4ms/step - loss: 0.1833 - accuracy: 0.9293 - val_loss: 0.3017 - val_accuracy: 0.8744\n",
      "Epoch 7/50\n",
      "131/131 [==============================] - 1s 4ms/step - loss: 0.1941 - accuracy: 0.9195 - val_loss: 0.1840 - val_accuracy: 0.9252\n",
      "Epoch 8/50\n",
      "131/131 [==============================] - 1s 4ms/step - loss: 0.1728 - accuracy: 0.9324 - val_loss: 0.2190 - val_accuracy: 0.9070\n",
      "Epoch 9/50\n",
      "131/131 [==============================] - 1s 4ms/step - loss: 0.1591 - accuracy: 0.9406 - val_loss: 0.4745 - val_accuracy: 0.8044\n",
      "Epoch 10/50\n",
      "131/131 [==============================] - 1s 4ms/step - loss: 0.1464 - accuracy: 0.9442 - val_loss: 0.1997 - val_accuracy: 0.9175\n",
      "Epoch 11/50\n",
      "131/131 [==============================] - 1s 4ms/step - loss: 0.1371 - accuracy: 0.9466 - val_loss: 0.5077 - val_accuracy: 0.7967\n",
      "Epoch 12/50\n",
      "131/131 [==============================] - 1s 6ms/step - loss: 0.1407 - accuracy: 0.9458 - val_loss: 0.5697 - val_accuracy: 0.8150\n",
      "Epoch 13/50\n",
      "131/131 [==============================] - 1s 4ms/step - loss: 0.1507 - accuracy: 0.9394 - val_loss: 0.2964 - val_accuracy: 0.8792\n",
      "Epoch 14/50\n",
      "131/131 [==============================] - 1s 4ms/step - loss: 0.1325 - accuracy: 0.9494 - val_loss: 0.2455 - val_accuracy: 0.9070\n",
      "Epoch 15/50\n",
      "131/131 [==============================] - 1s 4ms/step - loss: 0.1256 - accuracy: 0.9526 - val_loss: 0.1472 - val_accuracy: 0.9434\n",
      "Epoch 16/50\n",
      "131/131 [==============================] - 1s 4ms/step - loss: 0.1272 - accuracy: 0.9514 - val_loss: 0.1438 - val_accuracy: 0.9444\n",
      "Epoch 17/50\n",
      "131/131 [==============================] - 1s 4ms/step - loss: 0.1186 - accuracy: 0.9540 - val_loss: 0.1840 - val_accuracy: 0.9262\n",
      "Epoch 18/50\n",
      "131/131 [==============================] - 1s 5ms/step - loss: 0.1360 - accuracy: 0.9461 - val_loss: 0.1430 - val_accuracy: 0.9463\n",
      "Epoch 19/50\n",
      "131/131 [==============================] - 1s 4ms/step - loss: 0.1186 - accuracy: 0.9545 - val_loss: 0.1734 - val_accuracy: 0.9319\n",
      "Epoch 20/50\n",
      "131/131 [==============================] - 1s 4ms/step - loss: 0.1216 - accuracy: 0.9545 - val_loss: 0.1553 - val_accuracy: 0.9396\n",
      "Epoch 21/50\n",
      "131/131 [==============================] - 1s 4ms/step - loss: 0.1071 - accuracy: 0.9593 - val_loss: 0.2306 - val_accuracy: 0.9118\n",
      "Epoch 22/50\n",
      "131/131 [==============================] - 1s 4ms/step - loss: 0.1102 - accuracy: 0.9557 - val_loss: 0.1406 - val_accuracy: 0.9473\n",
      "Epoch 23/50\n",
      "131/131 [==============================] - 1s 4ms/step - loss: 0.1206 - accuracy: 0.9561 - val_loss: 0.2257 - val_accuracy: 0.9108\n",
      "Epoch 24/50\n",
      "131/131 [==============================] - 1s 4ms/step - loss: 0.1111 - accuracy: 0.9569 - val_loss: 0.1391 - val_accuracy: 0.9453\n",
      "Epoch 25/50\n",
      "131/131 [==============================] - 1s 5ms/step - loss: 0.0994 - accuracy: 0.9636 - val_loss: 0.1442 - val_accuracy: 0.9453\n",
      "Epoch 26/50\n",
      "131/131 [==============================] - 1s 4ms/step - loss: 0.1069 - accuracy: 0.9612 - val_loss: 0.3903 - val_accuracy: 0.8562\n",
      "Epoch 27/50\n",
      "131/131 [==============================] - 1s 4ms/step - loss: 0.1117 - accuracy: 0.9588 - val_loss: 0.1536 - val_accuracy: 0.9434\n",
      "Epoch 28/50\n",
      "131/131 [==============================] - 1s 4ms/step - loss: 0.1042 - accuracy: 0.9624 - val_loss: 0.1791 - val_accuracy: 0.9300\n",
      "Epoch 29/50\n",
      "131/131 [==============================] - 1s 4ms/step - loss: 0.1217 - accuracy: 0.9547 - val_loss: 0.1516 - val_accuracy: 0.9415\n",
      "Epoch 30/50\n",
      "131/131 [==============================] - 1s 4ms/step - loss: 0.0991 - accuracy: 0.9617 - val_loss: 0.1576 - val_accuracy: 0.9396\n",
      "Epoch 31/50\n",
      "131/131 [==============================] - 1s 4ms/step - loss: 0.1049 - accuracy: 0.9607 - val_loss: 0.1372 - val_accuracy: 0.9463\n",
      "Epoch 32/50\n",
      "131/131 [==============================] - 1s 4ms/step - loss: 0.1044 - accuracy: 0.9602 - val_loss: 0.2065 - val_accuracy: 0.9195\n",
      "Epoch 33/50\n",
      "131/131 [==============================] - 1s 5ms/step - loss: 0.1029 - accuracy: 0.9619 - val_loss: 0.5356 - val_accuracy: 0.7996\n",
      "Epoch 34/50\n",
      "131/131 [==============================] - 1s 4ms/step - loss: 0.1082 - accuracy: 0.9609 - val_loss: 0.3702 - val_accuracy: 0.8686\n",
      "Epoch 35/50\n",
      "131/131 [==============================] - 1s 4ms/step - loss: 0.0967 - accuracy: 0.9645 - val_loss: 0.1414 - val_accuracy: 0.9453\n",
      "Epoch 36/50\n",
      "131/131 [==============================] - 1s 4ms/step - loss: 0.0974 - accuracy: 0.9648 - val_loss: 0.1651 - val_accuracy: 0.9367\n",
      "Epoch 37/50\n",
      "131/131 [==============================] - 1s 4ms/step - loss: 0.1008 - accuracy: 0.9602 - val_loss: 0.5427 - val_accuracy: 0.8063\n",
      "Epoch 38/50\n",
      "131/131 [==============================] - 1s 4ms/step - loss: 0.1004 - accuracy: 0.9626 - val_loss: 0.1610 - val_accuracy: 0.9396\n",
      "Epoch 39/50\n",
      "131/131 [==============================] - 1s 4ms/step - loss: 0.0933 - accuracy: 0.9669 - val_loss: 0.1526 - val_accuracy: 0.9406\n",
      "Epoch 40/50\n",
      "131/131 [==============================] - 1s 4ms/step - loss: 0.0978 - accuracy: 0.9621 - val_loss: 0.4005 - val_accuracy: 0.8571\n",
      "Epoch 41/50\n",
      "131/131 [==============================] - 1s 4ms/step - loss: 0.0950 - accuracy: 0.9641 - val_loss: 0.3299 - val_accuracy: 0.8840\n",
      "Epoch 42/50\n",
      "131/131 [==============================] - 1s 4ms/step - loss: 0.0970 - accuracy: 0.9648 - val_loss: 0.3614 - val_accuracy: 0.8734\n",
      "Epoch 43/50\n",
      "131/131 [==============================] - 1s 4ms/step - loss: 0.0886 - accuracy: 0.9691 - val_loss: 0.1739 - val_accuracy: 0.9348\n",
      "Epoch 44/50\n",
      "131/131 [==============================] - 0s 4ms/step - loss: 0.0965 - accuracy: 0.9633 - val_loss: 0.1686 - val_accuracy: 0.9358\n",
      "Epoch 45/50\n",
      "131/131 [==============================] - 1s 5ms/step - loss: 0.0888 - accuracy: 0.9662 - val_loss: 0.1551 - val_accuracy: 0.9463\n",
      "Epoch 46/50\n",
      "131/131 [==============================] - 1s 5ms/step - loss: 0.0858 - accuracy: 0.9674 - val_loss: 0.1462 - val_accuracy: 0.9434\n",
      "Epoch 47/50\n",
      "131/131 [==============================] - 1s 5ms/step - loss: 0.0879 - accuracy: 0.9676 - val_loss: 0.1490 - val_accuracy: 0.9453\n",
      "Epoch 48/50\n",
      "131/131 [==============================] - 1s 4ms/step - loss: 0.0973 - accuracy: 0.9631 - val_loss: 0.1476 - val_accuracy: 0.9434\n",
      "Epoch 49/50\n",
      "131/131 [==============================] - 1s 4ms/step - loss: 0.0803 - accuracy: 0.9703 - val_loss: 0.2091 - val_accuracy: 0.9281\n",
      "Epoch 50/50\n",
      "131/131 [==============================] - 1s 4ms/step - loss: 0.0834 - accuracy: 0.9696 - val_loss: 0.2825 - val_accuracy: 0.9003\n"
     ]
    },
    {
     "data": {
      "text/plain": [
       "<tensorflow.python.keras.callbacks.History at 0x1dfe661ffa0>"
      ]
     },
     "execution_count": 39,
     "metadata": {},
     "output_type": "execute_result"
    }
   ],
   "source": [
    "baseline_model.fit(train_reshape, \n",
    "                   train_y, \n",
    "                   epochs=50, \n",
    "                   batch_size=32, \n",
    "                   validation_data=(val_reshape, val_y))"
   ]
  },
  {
   "cell_type": "code",
   "execution_count": 40,
   "id": "3f9baa7b",
   "metadata": {},
   "outputs": [
    {
     "name": "stdout",
     "output_type": "stream",
     "text": [
      "131/131 [==============================] - 1s 7ms/step - loss: 0.2145 - accuracy: 0.9183\n"
     ]
    },
    {
     "data": {
      "text/plain": [
       "[0.21445898711681366, 0.9182842373847961]"
      ]
     },
     "execution_count": 40,
     "metadata": {},
     "output_type": "execute_result"
    }
   ],
   "source": [
    "results_train = baseline_model.evaluate(train_reshape, train_y)\n",
    "results_train"
   ]
  },
  {
   "cell_type": "code",
   "execution_count": 42,
   "id": "1d260b9a",
   "metadata": {},
   "outputs": [
    {
     "name": "stdout",
     "output_type": "stream",
     "text": [
      "33/33 [==============================] - 0s 5ms/step - loss: 0.2825 - accuracy: 0.9003\n"
     ]
    },
    {
     "data": {
      "text/plain": [
       "[0.2825089991092682, 0.9002876281738281]"
      ]
     },
     "execution_count": 42,
     "metadata": {},
     "output_type": "execute_result"
    }
   ],
   "source": [
    "results_val = baseline_model.evaluate(val_reshape, val_y)\n",
    "results_val"
   ]
  },
  {
   "cell_type": "markdown",
   "id": "a5bb455a",
   "metadata": {},
   "source": [
    "## Convolutional Neural Networks - CNNs"
   ]
  },
  {
   "cell_type": "code",
   "execution_count": 66,
   "id": "c34d54c7",
   "metadata": {},
   "outputs": [],
   "source": [
    "#setting up a simple convolutional model\n",
    "simple_cnn = models.Sequential()\n",
    "\n",
    "simple_cnn.add(layers.Conv2D(filters=64, kernel_size=(3,3), activation='relu', \n",
    "          input_shape=(64, 64, 1)))\n",
    "simple_cnn.add(layers.MaxPooling2D(pool_size=(2,2)))\n",
    "simple_cnn.add(layers.Conv2D(filters=64, kernel_size=(3,3), activation='relu'))\n",
    "#single dense layer\n",
    "simple_cnn.add(layers.Flatten())\n",
    "simple_cnn.add(layers.Dense(64, activation='relu'))\n",
    "#output layer\n",
    "simple_cnn.add(layers.Dense(1, activation='sigmoid'))"
   ]
  },
  {
   "cell_type": "code",
   "execution_count": 67,
   "id": "f6449c6d",
   "metadata": {},
   "outputs": [
    {
     "name": "stdout",
     "output_type": "stream",
     "text": [
      "Model: \"sequential_5\"\n",
      "_________________________________________________________________\n",
      "Layer (type)                 Output Shape              Param #   \n",
      "=================================================================\n",
      "conv2d_2 (Conv2D)            (None, 62, 62, 64)        640       \n",
      "_________________________________________________________________\n",
      "max_pooling2d_1 (MaxPooling2 (None, 31, 31, 64)        0         \n",
      "_________________________________________________________________\n",
      "conv2d_3 (Conv2D)            (None, 29, 29, 64)        36928     \n",
      "_________________________________________________________________\n",
      "flatten_1 (Flatten)          (None, 53824)             0         \n",
      "_________________________________________________________________\n",
      "dense_6 (Dense)              (None, 64)                3444800   \n",
      "_________________________________________________________________\n",
      "dense_7 (Dense)              (None, 1)                 65        \n",
      "=================================================================\n",
      "Total params: 3,482,433\n",
      "Trainable params: 3,482,433\n",
      "Non-trainable params: 0\n",
      "_________________________________________________________________\n"
     ]
    }
   ],
   "source": [
    "simple_cnn.summary()"
   ]
  },
  {
   "cell_type": "code",
   "execution_count": 77,
   "id": "bf0c7664",
   "metadata": {},
   "outputs": [],
   "source": [
    "simple_cnn.compile(optimizer='sgd',\n",
    "                  loss='binary_crossentropy',\n",
    "                  metrics=['accuracy', tf.keras.metrics.Precision()])"
   ]
  },
  {
   "cell_type": "code",
   "execution_count": 78,
   "id": "5e288fdd",
   "metadata": {},
   "outputs": [
    {
     "name": "stdout",
     "output_type": "stream",
     "text": [
      "Epoch 1/10\n",
      "11/11 [==============================] - 9s 594ms/step - loss: 0.4193 - accuracy: 0.7992 - precision: 0.7888\n",
      "Epoch 2/10\n",
      "11/11 [==============================] - 7s 602ms/step - loss: 0.4524 - accuracy: 0.8243 - precision: 0.8270\n",
      "Epoch 3/10\n",
      "11/11 [==============================] - 7s 598ms/step - loss: 0.3948 - accuracy: 0.8351 - precision: 0.8324\n",
      "Epoch 4/10\n",
      "11/11 [==============================] - 7s 643ms/step - loss: 0.4293 - accuracy: 0.8112 - precision: 0.8284\n",
      "Epoch 5/10\n",
      "11/11 [==============================] - 7s 602ms/step - loss: 0.3908 - accuracy: 0.8430 - precision: 0.8557\n",
      "Epoch 6/10\n",
      "11/11 [==============================] - 6s 587ms/step - loss: 0.4066 - accuracy: 0.8203 - precision: 0.8422\n",
      "Epoch 7/10\n",
      "11/11 [==============================] - 7s 622ms/step - loss: 0.3139 - accuracy: 0.8890 - precision: 0.8861\n",
      "Epoch 8/10\n",
      "11/11 [==============================] - 7s 612ms/step - loss: 0.3312 - accuracy: 0.8658 - precision: 0.8812\n",
      "Epoch 9/10\n",
      "11/11 [==============================] - 7s 598ms/step - loss: 0.4278 - accuracy: 0.8387 - precision: 0.8539\n",
      "Epoch 10/10\n",
      "11/11 [==============================] - 7s 610ms/step - loss: 0.2801 - accuracy: 0.9001 - precision: 0.8999\n"
     ]
    },
    {
     "data": {
      "text/plain": [
       "<tensorflow.python.keras.callbacks.History at 0x1dfcd45c730>"
      ]
     },
     "execution_count": 78,
     "metadata": {},
     "output_type": "execute_result"
    }
   ],
   "source": [
    "simple_cnn.fit(train_images, train_labels, epochs=10, batch_size=400)"
   ]
  },
  {
   "cell_type": "code",
   "execution_count": 79,
   "id": "6e3af26c",
   "metadata": {},
   "outputs": [
    {
     "name": "stdout",
     "output_type": "stream",
     "text": [
      "131/131 [==============================] - 4s 22ms/step - loss: 0.2789 - accuracy: 0.9154 - precision: 0.9467\n"
     ]
    },
    {
     "data": {
      "text/plain": [
       "[0.2788931131362915, 0.9154085516929626, 0.9466666579246521]"
      ]
     },
     "execution_count": 79,
     "metadata": {},
     "output_type": "execute_result"
    }
   ],
   "source": [
    "simple_cnn_train = simple_cnn.evaluate(train_images, train_labels)\n",
    "simple_cnn_train"
   ]
  },
  {
   "cell_type": "code",
   "execution_count": 80,
   "id": "41a4c57e",
   "metadata": {
    "scrolled": true
   },
   "outputs": [
    {
     "name": "stdout",
     "output_type": "stream",
     "text": [
      "33/33 [==============================] - 1s 25ms/step - loss: 0.3074 - accuracy: 0.8859 - precision: 0.9216\n"
     ]
    },
    {
     "data": {
      "text/plain": [
       "[0.30743056535720825, 0.8859060406684875, 0.9215938448905945]"
      ]
     },
     "execution_count": 80,
     "metadata": {},
     "output_type": "execute_result"
    }
   ],
   "source": [
    "simple_cnn_val = simple_cnn.evaluate(val_images, val_labels)\n",
    "simple_cnn_val"
   ]
  },
  {
   "cell_type": "markdown",
   "id": "59ee00b1",
   "metadata": {},
   "source": [
    "Our first CNN had some overfitting (91% accuracy on the train set and 89% accuracy on the validation set). Precision was also better for the train set (94%) than the validation set (92%)."
   ]
  },
  {
   "cell_type": "code",
   "execution_count": 97,
   "id": "c0260709",
   "metadata": {},
   "outputs": [
    {
     "data": {
      "text/plain": [
       "list"
      ]
     },
     "execution_count": 97,
     "metadata": {},
     "output_type": "execute_result"
    }
   ],
   "source": [
    "type(simple_cnn_val)"
   ]
  },
  {
   "cell_type": "code",
   "execution_count": 102,
   "id": "b30eb770",
   "metadata": {},
   "outputs": [],
   "source": [
    "#helper function to store metrics in a dictionary format for easy recall\n",
    "def metrics_to_dict(model_name, metrics, metrics_dict):\n",
    "    '''\n",
    "    Returns a dictionary with model name as key and dictionaries of metrics\n",
    "    as values\n",
    "    Nested dictionary has metric names as keys and the scores as values\n",
    "    \n",
    "    Takes the following arguments:\n",
    "    model_name: String of model name\n",
    "    metrics: list of metric scores from model.evaluate(), must match metric_names\n",
    "    metrics_dict: dictionary to be added to\n",
    "    '''\n",
    "    metrics_dict[model_name]={}\n",
    "    metric_names = ['loss', 'accuracy', 'precision']\n",
    "    for i,metric in enumerate(metric_names):\n",
    "        metrics_dict[model_name][metric] = metrics[i]\n",
    "    return metrics_dict"
   ]
  },
  {
   "cell_type": "code",
   "execution_count": 103,
   "id": "ef36fa74",
   "metadata": {},
   "outputs": [
    {
     "data": {
      "text/plain": [
       "{'simple_cnn': {'loss': 0.30743056535720825,\n",
       "  'accuracy': 0.8859060406684875,\n",
       "  'precision': 0.9215938448905945}}"
      ]
     },
     "execution_count": 103,
     "metadata": {},
     "output_type": "execute_result"
    }
   ],
   "source": [
    "metrics_dict = {}\n",
    "metrics_to_dict('simple_cnn', simple_cnn_val, metrics_dict)\n",
    "metrics_dict"
   ]
  },
  {
   "cell_type": "code",
   "execution_count": 85,
   "id": "ea33d759",
   "metadata": {},
   "outputs": [
    {
     "name": "stdout",
     "output_type": "stream",
     "text": [
      "README.md\n",
      "Yuhkai_notebook_scratch.ipynb\n",
      "data\n",
      "data.zip\n",
      "notebooks_scratch\n",
      "simple_cnn.pkl\n"
     ]
    }
   ],
   "source": [
    "!ls"
   ]
  },
  {
   "cell_type": "code",
   "execution_count": 94,
   "id": "5857eeb3",
   "metadata": {},
   "outputs": [],
   "source": [
    "#!mkdir saved_models"
   ]
  },
  {
   "cell_type": "code",
   "execution_count": 95,
   "id": "21494d5c",
   "metadata": {},
   "outputs": [
    {
     "name": "stdout",
     "output_type": "stream",
     "text": [
      "-p\n",
      "README.md\n",
      "Yuhkai_notebook_scratch.ipynb\n",
      "data\n",
      "data.zip\n",
      "notebooks_scratch\n",
      "saved_models\n",
      "simple_cnn.pkl\n"
     ]
    }
   ],
   "source": [
    "!ls"
   ]
  },
  {
   "cell_type": "code",
   "execution_count": 96,
   "id": "6524e64c",
   "metadata": {},
   "outputs": [
    {
     "name": "stdout",
     "output_type": "stream",
     "text": [
      "INFO:tensorflow:Assets written to: saved_models/simple_cnn\\assets\n"
     ]
    }
   ],
   "source": [
    "#saving off the model as pkl file\n",
    "#simple_cnn.save('saved_models/simple_cnn')"
   ]
  },
  {
   "cell_type": "code",
   "execution_count": 33,
   "id": "7d8eb97f",
   "metadata": {},
   "outputs": [],
   "source": [
    "#loading in pkl file\n",
    "from tensorflow.keras.models import load_model\n",
    "simple_cnn_loaded = load_model('saved_models/simple_cnn')"
   ]
  },
  {
   "cell_type": "code",
   "execution_count": 34,
   "id": "23862e97",
   "metadata": {},
   "outputs": [
    {
     "name": "stdout",
     "output_type": "stream",
     "text": [
      "33/33 [==============================] - 1s 8ms/step - loss: 0.3074 - accuracy: 0.8859 - precision: 0.9216\n"
     ]
    },
    {
     "data": {
      "text/plain": [
       "[0.30743056535720825, 0.8859060406684875, 0.9215938448905945]"
      ]
     },
     "execution_count": 34,
     "metadata": {},
     "output_type": "execute_result"
    }
   ],
   "source": [
    "#testing loaded pkl file\n",
    "simple_cnn_loaded.evaluate(val_images, val_labels)"
   ]
  },
  {
   "cell_type": "markdown",
   "id": "51c5488a",
   "metadata": {},
   "source": [
    "## Second CNN Model"
   ]
  },
  {
   "cell_type": "code",
   "execution_count": 108,
   "id": "27ae3716",
   "metadata": {},
   "outputs": [],
   "source": [
    "#second convolutional neural network\n",
    "second_cnn = models.Sequential()\n",
    "\n",
    "#adding more convolutional and pooling layers\n",
    "second_cnn.add(layers.Conv2D(filters=64, kernel_size=(4,4), activation='relu', \n",
    "          input_shape=(64, 64, 1)))\n",
    "second_cnn.add(layers.MaxPooling2D(pool_size=(2,2)))\n",
    "second_cnn.add(layers.Conv2D(filters=64, kernel_size=(3,3), activation='relu'))\n",
    "second_cnn.add(layers.MaxPooling2D(pool_size=(2,2)))\n",
    "second_cnn.add(layers.Conv2D(filters=64, kernel_size=(4,4), activation='relu'))\n",
    "\n",
    "#two dense layers\n",
    "second_cnn.add(layers.Flatten())\n",
    "second_cnn.add(layers.Dense(64, activation='relu'))\n",
    "second_cnn.add(layers.Dense(64, activation='relu'))\n",
    "#output layer\n",
    "second_cnn.add(layers.Dense(1, activation='sigmoid'))"
   ]
  },
  {
   "cell_type": "code",
   "execution_count": 109,
   "id": "4db487c0",
   "metadata": {},
   "outputs": [
    {
     "name": "stdout",
     "output_type": "stream",
     "text": [
      "Model: \"sequential_9\"\n",
      "_________________________________________________________________\n",
      "Layer (type)                 Output Shape              Param #   \n",
      "=================================================================\n",
      "conv2d_11 (Conv2D)           (None, 61, 61, 64)        1088      \n",
      "_________________________________________________________________\n",
      "max_pooling2d_8 (MaxPooling2 (None, 30, 30, 64)        0         \n",
      "_________________________________________________________________\n",
      "conv2d_12 (Conv2D)           (None, 28, 28, 64)        36928     \n",
      "_________________________________________________________________\n",
      "max_pooling2d_9 (MaxPooling2 (None, 14, 14, 64)        0         \n",
      "_________________________________________________________________\n",
      "conv2d_13 (Conv2D)           (None, 11, 11, 64)        65600     \n",
      "_________________________________________________________________\n",
      "flatten_3 (Flatten)          (None, 7744)              0         \n",
      "_________________________________________________________________\n",
      "dense_11 (Dense)             (None, 64)                495680    \n",
      "_________________________________________________________________\n",
      "dense_12 (Dense)             (None, 64)                4160      \n",
      "_________________________________________________________________\n",
      "dense_13 (Dense)             (None, 1)                 65        \n",
      "=================================================================\n",
      "Total params: 603,521\n",
      "Trainable params: 603,521\n",
      "Non-trainable params: 0\n",
      "_________________________________________________________________\n"
     ]
    }
   ],
   "source": [
    "second_cnn.summary()"
   ]
  },
  {
   "cell_type": "code",
   "execution_count": 112,
   "id": "eab05290",
   "metadata": {},
   "outputs": [],
   "source": [
    "second_cnn.compile(optimizer='sgd',\n",
    "                  loss='binary_crossentropy',\n",
    "                  metrics=['accuracy', tf.keras.metrics.Precision()])"
   ]
  },
  {
   "cell_type": "code",
   "execution_count": 113,
   "id": "d43b2dd9",
   "metadata": {},
   "outputs": [
    {
     "name": "stdout",
     "output_type": "stream",
     "text": [
      "Epoch 1/10\n",
      "11/11 [==============================] - 5s 369ms/step - loss: 0.6819 - accuracy: 0.6463 - precision_2: 0.7470\n",
      "Epoch 2/10\n",
      "11/11 [==============================] - 4s 358ms/step - loss: 0.6455 - accuracy: 0.7429 - precision_2: 0.7429\n",
      "Epoch 3/10\n",
      "11/11 [==============================] - 4s 362ms/step - loss: 0.6090 - accuracy: 0.7429 - precision_2: 0.7429\n",
      "Epoch 4/10\n",
      "11/11 [==============================] - 4s 358ms/step - loss: 0.5814 - accuracy: 0.7429 - precision_2: 0.7429\n",
      "Epoch 5/10\n",
      "11/11 [==============================] - 4s 360ms/step - loss: 0.5713 - accuracy: 0.7429 - precision_2: 0.7429\n",
      "Epoch 6/10\n",
      "11/11 [==============================] - 4s 360ms/step - loss: 0.5689 - accuracy: 0.7429 - precision_2: 0.7429\n",
      "Epoch 7/10\n",
      "11/11 [==============================] - 4s 363ms/step - loss: 0.5679 - accuracy: 0.7429 - precision_2: 0.7429\n",
      "Epoch 8/10\n",
      "11/11 [==============================] - 4s 364ms/step - loss: 0.5669 - accuracy: 0.7429 - precision_2: 0.7429\n",
      "Epoch 9/10\n",
      "11/11 [==============================] - 4s 366ms/step - loss: 0.5660 - accuracy: 0.7429 - precision_2: 0.7429\n",
      "Epoch 10/10\n",
      "11/11 [==============================] - 4s 362ms/step - loss: 0.5652 - accuracy: 0.7429 - precision_2: 0.7429\n"
     ]
    },
    {
     "data": {
      "text/plain": [
       "<tensorflow.python.keras.callbacks.History at 0x1e03cfe4fd0>"
      ]
     },
     "execution_count": 113,
     "metadata": {},
     "output_type": "execute_result"
    }
   ],
   "source": [
    "second_cnn.fit(train_images, train_labels, epochs=10, batch_size=400)"
   ]
  },
  {
   "cell_type": "code",
   "execution_count": null,
   "id": "5528dad0",
   "metadata": {},
   "outputs": [],
   "source": [
    "#ran ths second model multiple times, usually got stuck around 0.7429 accuracy"
   ]
  },
  {
   "cell_type": "code",
   "execution_count": 118,
   "id": "8e553c68",
   "metadata": {},
   "outputs": [],
   "source": [
    "second_cnn.compile(optimizer='sgd',\n",
    "                  loss='binary_crossentropy',\n",
    "                  metrics=['accuracy', tf.keras.metrics.Precision()])"
   ]
  },
  {
   "cell_type": "code",
   "execution_count": 119,
   "id": "17c120a0",
   "metadata": {},
   "outputs": [
    {
     "name": "stdout",
     "output_type": "stream",
     "text": [
      "Epoch 1/10\n",
      "11/11 [==============================] - 5s 361ms/step - loss: 0.4866 - accuracy: 0.7429 - precision_5: 0.7429\n",
      "Epoch 2/10\n",
      "11/11 [==============================] - 4s 362ms/step - loss: 0.4696 - accuracy: 0.7431 - precision_5: 0.7430\n",
      "Epoch 3/10\n",
      "11/11 [==============================] - 4s 357ms/step - loss: 0.4597 - accuracy: 0.7525 - precision_5: 0.7502\n",
      "Epoch 4/10\n",
      "11/11 [==============================] - 4s 328ms/step - loss: 0.4367 - accuracy: 0.7695 - precision_5: 0.7641\n",
      "Epoch 5/10\n",
      "11/11 [==============================] - 4s 327ms/step - loss: 0.4178 - accuracy: 0.8009 - precision_5: 0.7916\n",
      "Epoch 6/10\n",
      "11/11 [==============================] - 4s 326ms/step - loss: 0.5014 - accuracy: 0.7985 - precision_5: 0.8149\n",
      "Epoch 7/10\n",
      "11/11 [==============================] - 4s 341ms/step - loss: 0.4388 - accuracy: 0.8090 - precision_5: 0.8135\n",
      "Epoch 8/10\n",
      "11/11 [==============================] - 4s 334ms/step - loss: 0.3947 - accuracy: 0.8284 - precision_5: 0.8229\n",
      "Epoch 9/10\n",
      "11/11 [==============================] - 4s 329ms/step - loss: 0.4243 - accuracy: 0.8164 - precision_5: 0.8321\n",
      "Epoch 10/10\n",
      "11/11 [==============================] - 4s 365ms/step - loss: 0.4009 - accuracy: 0.8200 - precision_5: 0.8326\n"
     ]
    },
    {
     "data": {
      "text/plain": [
       "<tensorflow.python.keras.callbacks.History at 0x1dfcd45c2e0>"
      ]
     },
     "execution_count": 119,
     "metadata": {},
     "output_type": "execute_result"
    }
   ],
   "source": [
    "second_cnn.fit(train_images, train_labels, epochs=10, batch_size=400)"
   ]
  },
  {
   "cell_type": "code",
   "execution_count": 123,
   "id": "8538c37d",
   "metadata": {},
   "outputs": [
    {
     "name": "stdout",
     "output_type": "stream",
     "text": [
      "131/131 [==============================] - 2s 15ms/step - loss: 0.4306 - accuracy: 0.8497 - precision_5: 0.9647\n"
     ]
    },
    {
     "data": {
      "text/plain": [
       "[0.4305930435657501, 0.8497483730316162, 0.9646749496459961]"
      ]
     },
     "execution_count": 123,
     "metadata": {},
     "output_type": "execute_result"
    }
   ],
   "source": [
    "second_cnn_train = second_cnn.evaluate(train_images, train_labels)\n",
    "second_cnn_train"
   ]
  },
  {
   "cell_type": "code",
   "execution_count": 122,
   "id": "a6489cd2",
   "metadata": {},
   "outputs": [
    {
     "name": "stdout",
     "output_type": "stream",
     "text": [
      "33/33 [==============================] - 1s 16ms/step - loss: 0.4541 - accuracy: 0.8150 - precision_5: 0.9491\n"
     ]
    },
    {
     "data": {
      "text/plain": [
       "[0.45411476492881775, 0.8149568438529968, 0.9490740895271301]"
      ]
     },
     "execution_count": 122,
     "metadata": {},
     "output_type": "execute_result"
    }
   ],
   "source": [
    "second_cnn_val = second_cnn.evaluate(val_images, val_labels)\n",
    "second_cnn_val"
   ]
  },
  {
   "cell_type": "markdown",
   "id": "a48033f6",
   "metadata": {},
   "source": [
    "This second model has less accuracy (still overfit) but higher precision."
   ]
  },
  {
   "cell_type": "code",
   "execution_count": 125,
   "id": "5ab1ef41",
   "metadata": {},
   "outputs": [
    {
     "name": "stdout",
     "output_type": "stream",
     "text": [
      "4173\n",
      "1043\n"
     ]
    }
   ],
   "source": [
    "print(len(train_images))\n",
    "print(len(val_images))"
   ]
  },
  {
   "cell_type": "code",
   "execution_count": null,
   "id": "f0730572",
   "metadata": {},
   "outputs": [],
   "source": []
  }
 ],
 "metadata": {
  "kernelspec": {
   "display_name": "Python (tensor_lecture)",
   "language": "python",
   "name": "tensor_lecture"
  },
  "language_info": {
   "codemirror_mode": {
    "name": "ipython",
    "version": 3
   },
   "file_extension": ".py",
   "mimetype": "text/x-python",
   "name": "python",
   "nbconvert_exporter": "python",
   "pygments_lexer": "ipython3",
   "version": "3.9.12"
  }
 },
 "nbformat": 4,
 "nbformat_minor": 5
}
