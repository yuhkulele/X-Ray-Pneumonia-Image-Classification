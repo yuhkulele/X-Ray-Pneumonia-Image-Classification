{
 "cells": [
  {
   "cell_type": "code",
   "execution_count": 1,
   "id": "eb4b1ac9",
   "metadata": {},
   "outputs": [],
   "source": [
    "#imports \n",
    "\n",
    "import numpy as np\n",
    "import os, shutil\n",
    "\n",
    "import tensorflow as tf\n",
    "from tensorflow.keras import models, layers\n",
    "from tensorflow.keras.preprocessing.image import load_img\n",
    "from tensorflow.keras.utils import image_dataset_from_directory \n",
    "from tensorflow.keras.models import Sequential\n",
    "\n",
    "from sklearn.model_selection import train_test_split, cross_val_score\n",
    "\n",
    "import time\n",
    "import scipy\n",
    "from scipy import ndimage\n",
    "from tensorflow.keras.preprocessing.image import ImageDataGenerator, array_to_img, img_to_array, load_img\n",
    "from PIL import Image\n",
    "import matplotlib as plt"
   ]
  },
  {
   "cell_type": "markdown",
   "id": "2464e9b2",
   "metadata": {},
   "source": [
    "## Image Load In"
   ]
  },
  {
   "cell_type": "code",
   "execution_count": 2,
   "id": "eb3e2785",
   "metadata": {},
   "outputs": [
    {
     "name": "stdout",
     "output_type": "stream",
     "text": [
      "README.md\n",
      "Yuhkai_notebook_scratch.ipynb\n",
      "data\n",
      "data.zip\n",
      "notebooks_scratch\n"
     ]
    }
   ],
   "source": [
    "!ls"
   ]
  },
  {
   "cell_type": "code",
   "execution_count": 3,
   "id": "22933c31",
   "metadata": {},
   "outputs": [],
   "source": [
    "!cd .."
   ]
  },
  {
   "cell_type": "code",
   "execution_count": 4,
   "id": "4ce2e6ec",
   "metadata": {},
   "outputs": [
    {
     "name": "stdout",
     "output_type": "stream",
     "text": [
      "README.md\n",
      "Yuhkai_notebook_scratch.ipynb\n",
      "data\n",
      "data.zip\n",
      "notebooks_scratch\n"
     ]
    }
   ],
   "source": [
    "!ls"
   ]
  },
  {
   "cell_type": "code",
   "execution_count": 5,
   "id": "d0d89e89",
   "metadata": {},
   "outputs": [
    {
     "name": "stdout",
     "output_type": "stream",
     "text": [
      "README.md\n",
      "Yuhkai_notebook_scratch.ipynb\n",
      "data\n",
      "data.zip\n",
      "notebooks_scratch\n"
     ]
    }
   ],
   "source": [
    "!ls"
   ]
  },
  {
   "cell_type": "code",
   "execution_count": 6,
   "id": "a38bcfa7",
   "metadata": {},
   "outputs": [],
   "source": [
    "# load in the train data\n",
    "\n",
    "#starting from main project directory\n",
    "\n",
    "train_normal_dir = \"./data/chest_xray/train/NORMAL\"\n",
    "train_pneumonia_dir = \"./data/chest_xray/train/PNEUMONIA\"\n",
    "\n",
    "imgs_train_normal = [file for file in os.listdir(train_normal_dir) if file.endswith('.jpeg')]\n",
    "imgs_train_pneumonia = [file for file in os.listdir(train_pneumonia_dir) if file.endswith('.jpeg')]"
   ]
  },
  {
   "cell_type": "code",
   "execution_count": 7,
   "id": "4aa8d7f9",
   "metadata": {},
   "outputs": [],
   "source": [
    "test_normal_dir = \"./data/chest_xray/test/NORMAL\"\n",
    "test_pneumonia_dir = \"./data/chest_xray/test/PNEUMONIA\"\n",
    "\n",
    "imgs_test_normal = [file for file in os.listdir(test_normal_dir) if file.endswith('.jpeg')]\n",
    "imgs_test_pneumonia = [file for file in os.listdir(test_pneumonia_dir) if file.endswith('.jpeg')]"
   ]
  },
  {
   "cell_type": "code",
   "execution_count": 8,
   "id": "e1cb7560",
   "metadata": {},
   "outputs": [
    {
     "data": {
      "text/plain": [
       "1341"
      ]
     },
     "execution_count": 8,
     "metadata": {},
     "output_type": "execute_result"
    }
   ],
   "source": [
    "len(imgs_train_normal)"
   ]
  },
  {
   "cell_type": "code",
   "execution_count": 9,
   "id": "71fe4696",
   "metadata": {},
   "outputs": [
    {
     "data": {
      "text/plain": [
       "3875"
      ]
     },
     "execution_count": 9,
     "metadata": {},
     "output_type": "execute_result"
    }
   ],
   "source": [
    "len(imgs_train_pneumonia)"
   ]
  },
  {
   "cell_type": "code",
   "execution_count": 10,
   "id": "5935606e",
   "metadata": {},
   "outputs": [
    {
     "data": {
      "text/plain": [
       "'IM-0115-0001.jpeg'"
      ]
     },
     "execution_count": 10,
     "metadata": {},
     "output_type": "execute_result"
    }
   ],
   "source": [
    "imgs_train_normal[0]"
   ]
  },
  {
   "cell_type": "code",
   "execution_count": 11,
   "id": "7777fb77",
   "metadata": {},
   "outputs": [
    {
     "data": {
      "text/plain": [
       "'person1000_bacteria_2931.jpeg'"
      ]
     },
     "execution_count": 11,
     "metadata": {},
     "output_type": "execute_result"
    }
   ],
   "source": [
    "imgs_train_pneumonia[0]"
   ]
  },
  {
   "cell_type": "code",
   "execution_count": 12,
   "id": "af354b5a",
   "metadata": {
    "scrolled": true
   },
   "outputs": [
    {
     "data": {
      "text/plain": [
       "234"
      ]
     },
     "execution_count": 12,
     "metadata": {},
     "output_type": "execute_result"
    }
   ],
   "source": [
    "len(imgs_test_normal)"
   ]
  },
  {
   "cell_type": "code",
   "execution_count": 13,
   "id": "a574ee41",
   "metadata": {},
   "outputs": [
    {
     "data": {
      "text/plain": [
       "390"
      ]
     },
     "execution_count": 13,
     "metadata": {},
     "output_type": "execute_result"
    }
   ],
   "source": [
    "len(imgs_test_pneumonia)"
   ]
  },
  {
   "cell_type": "code",
   "execution_count": 17,
   "id": "6bc17eae",
   "metadata": {},
   "outputs": [
    {
     "data": {
      "text/plain": [
       "(5216, 624)"
      ]
     },
     "execution_count": 17,
     "metadata": {},
     "output_type": "execute_result"
    }
   ],
   "source": [
    "num_train = len(imgs_train_normal) + len(imgs_train_pneumonia)\n",
    "num_test = len(imgs_test_normal) + len(imgs_test_pneumonia)\n",
    "num_train, num_test"
   ]
  },
  {
   "cell_type": "code",
   "execution_count": 16,
   "id": "5ed59797",
   "metadata": {},
   "outputs": [],
   "source": [
    "train_datagen = ImageDataGenerator(rescale=1./255, validation_split=0.2)"
   ]
  },
  {
   "cell_type": "code",
   "execution_count": 18,
   "id": "a1f99e0c",
   "metadata": {},
   "outputs": [
    {
     "name": "stdout",
     "output_type": "stream",
     "text": [
      "Found 4173 images belonging to 2 classes.\n",
      "Found 1043 images belonging to 2 classes.\n",
      "Found 624 images belonging to 2 classes.\n"
     ]
    }
   ],
   "source": [
    "#rescale images to 64 by 64\n",
    "#create validation set as 20% of train set\n",
    "\n",
    "train_folder = \"./data/chest_xray/train\"\n",
    "train_gen = train_datagen.flow_from_directory(\n",
    "        train_folder, \n",
    "        target_size=(64, 64), \n",
    "        color_mode='grayscale', \n",
    "        class_mode='binary',\n",
    "        subset='training',\n",
    "        batch_size= num_train)\n",
    "\n",
    "validation_gen = train_datagen.flow_from_directory(\n",
    "        train_folder, \n",
    "        target_size=(64, 64), \n",
    "        color_mode='grayscale', \n",
    "        class_mode='binary',\n",
    "        subset='validation',\n",
    "        batch_size= num_train)\n",
    "\n",
    "test_folder = \"./data/chest_xray/test\"\n",
    "test_gen = ImageDataGenerator(rescale=1./255).flow_from_directory(\n",
    "        test_folder, \n",
    "        target_size=(64, 64), color_mode='grayscale', \n",
    "        class_mode='binary', \n",
    "        batch_size= num_test)"
   ]
  },
  {
   "cell_type": "code",
   "execution_count": 19,
   "id": "279788e7",
   "metadata": {},
   "outputs": [],
   "source": [
    "train_images, train_labels = next(train_gen)\n",
    "val_images, val_labels = next(validation_gen)\n",
    "test_images, test_labels = next(test_gen)"
   ]
  },
  {
   "cell_type": "code",
   "execution_count": 20,
   "id": "68728ffe",
   "metadata": {},
   "outputs": [
    {
     "data": {
      "text/plain": [
       "array([[[0.        ],\n",
       "        [0.        ],\n",
       "        [0.        ],\n",
       "        ...,\n",
       "        [0.        ],\n",
       "        [0.        ],\n",
       "        [0.        ]],\n",
       "\n",
       "       [[0.        ],\n",
       "        [0.        ],\n",
       "        [0.        ],\n",
       "        ...,\n",
       "        [0.        ],\n",
       "        [0.        ],\n",
       "        [0.        ]],\n",
       "\n",
       "       [[0.        ],\n",
       "        [0.        ],\n",
       "        [0.        ],\n",
       "        ...,\n",
       "        [0.        ],\n",
       "        [0.        ],\n",
       "        [0.        ]],\n",
       "\n",
       "       ...,\n",
       "\n",
       "       [[0.        ],\n",
       "        [0.        ],\n",
       "        [0.        ],\n",
       "        ...,\n",
       "        [0.00392157],\n",
       "        [0.00784314],\n",
       "        [0.00392157]],\n",
       "\n",
       "       [[0.        ],\n",
       "        [0.        ],\n",
       "        [0.        ],\n",
       "        ...,\n",
       "        [0.        ],\n",
       "        [0.        ],\n",
       "        [0.        ]],\n",
       "\n",
       "       [[0.        ],\n",
       "        [0.        ],\n",
       "        [0.        ],\n",
       "        ...,\n",
       "        [0.        ],\n",
       "        [0.        ],\n",
       "        [0.        ]]], dtype=float32)"
      ]
     },
     "execution_count": 20,
     "metadata": {},
     "output_type": "execute_result"
    }
   ],
   "source": [
    "train_images[0]"
   ]
  },
  {
   "cell_type": "code",
   "execution_count": 21,
   "id": "935ea49b",
   "metadata": {},
   "outputs": [
    {
     "data": {
      "text/plain": [
       "array([[[0.04705883],\n",
       "        [0.21568629],\n",
       "        [0.43137258],\n",
       "        ...,\n",
       "        [0.30980393],\n",
       "        [0.13725491],\n",
       "        [0.03921569]],\n",
       "\n",
       "       [[0.03921569],\n",
       "        [0.21568629],\n",
       "        [0.43137258],\n",
       "        ...,\n",
       "        [0.27058825],\n",
       "        [0.1137255 ],\n",
       "        [0.02745098]],\n",
       "\n",
       "       [[0.03137255],\n",
       "        [0.16862746],\n",
       "        [0.41960788],\n",
       "        ...,\n",
       "        [0.227451  ],\n",
       "        [0.07450981],\n",
       "        [0.        ]],\n",
       "\n",
       "       ...,\n",
       "\n",
       "       [[0.        ],\n",
       "        [0.        ],\n",
       "        [0.        ],\n",
       "        ...,\n",
       "        [0.        ],\n",
       "        [0.        ],\n",
       "        [0.        ]],\n",
       "\n",
       "       [[0.        ],\n",
       "        [0.        ],\n",
       "        [0.        ],\n",
       "        ...,\n",
       "        [1.        ],\n",
       "        [0.00784314],\n",
       "        [0.        ]],\n",
       "\n",
       "       [[0.        ],\n",
       "        [0.        ],\n",
       "        [0.        ],\n",
       "        ...,\n",
       "        [0.        ],\n",
       "        [0.        ],\n",
       "        [0.        ]]], dtype=float32)"
      ]
     },
     "execution_count": 21,
     "metadata": {},
     "output_type": "execute_result"
    }
   ],
   "source": [
    "val_images[0]"
   ]
  },
  {
   "cell_type": "code",
   "execution_count": 22,
   "id": "1dc80fcc",
   "metadata": {},
   "outputs": [
    {
     "data": {
      "text/plain": [
       "(4173, 64, 64, 1)"
      ]
     },
     "execution_count": 22,
     "metadata": {},
     "output_type": "execute_result"
    }
   ],
   "source": [
    "train_images.shape"
   ]
  },
  {
   "cell_type": "code",
   "execution_count": 23,
   "id": "d4e7a439",
   "metadata": {},
   "outputs": [
    {
     "data": {
      "text/plain": [
       "(64, 64, 1)"
      ]
     },
     "execution_count": 23,
     "metadata": {},
     "output_type": "execute_result"
    }
   ],
   "source": [
    "train_images[0].shape"
   ]
  },
  {
   "cell_type": "code",
   "execution_count": 24,
   "id": "094464c5",
   "metadata": {},
   "outputs": [
    {
     "data": {
      "text/plain": [
       "1.0"
      ]
     },
     "execution_count": 24,
     "metadata": {},
     "output_type": "execute_result"
    }
   ],
   "source": [
    "train_labels[0]"
   ]
  },
  {
   "cell_type": "code",
   "execution_count": 25,
   "id": "9afb5b99",
   "metadata": {},
   "outputs": [
    {
     "data": {
      "text/plain": [
       "(4173,)"
      ]
     },
     "execution_count": 25,
     "metadata": {},
     "output_type": "execute_result"
    }
   ],
   "source": [
    "train_labels.shape"
   ]
  },
  {
   "cell_type": "code",
   "execution_count": 26,
   "id": "5a54af6c",
   "metadata": {},
   "outputs": [
    {
     "data": {
      "text/plain": [
       "(1043, 64, 64, 1)"
      ]
     },
     "execution_count": 26,
     "metadata": {},
     "output_type": "execute_result"
    }
   ],
   "source": [
    "val_images.shape"
   ]
  },
  {
   "cell_type": "code",
   "execution_count": 27,
   "id": "dab4d362",
   "metadata": {},
   "outputs": [
    {
     "data": {
      "text/plain": [
       "(1043,)"
      ]
     },
     "execution_count": 27,
     "metadata": {},
     "output_type": "execute_result"
    }
   ],
   "source": [
    "val_labels.shape"
   ]
  },
  {
   "cell_type": "code",
   "execution_count": 31,
   "id": "dc6b5ec4",
   "metadata": {},
   "outputs": [
    {
     "name": "stdout",
     "output_type": "stream",
     "text": [
      "(4173, 4096)\n",
      "(1043, 4096)\n",
      "(468, 4096)\n"
     ]
    }
   ],
   "source": [
    "#reshaping features for dense layers\n",
    "train_reshape = train_images.reshape(train_images.shape[0], -1)\n",
    "val_reshape = val_images.reshape(val_images.shape[0], -1)\n",
    "test_reshape = test_images.reshape(test_images.shape[0], -1)\n",
    "\n",
    "print(train_reshape.shape)\n",
    "print(val_reshape.shape)\n",
    "print(test_reshape.shape)"
   ]
  },
  {
   "cell_type": "code",
   "execution_count": 32,
   "id": "6fe78056",
   "metadata": {},
   "outputs": [
    {
     "data": {
      "text/plain": [
       "(4173,)"
      ]
     },
     "execution_count": 32,
     "metadata": {},
     "output_type": "execute_result"
    }
   ],
   "source": [
    "train_labels.shape"
   ]
  },
  {
   "cell_type": "code",
   "execution_count": 33,
   "id": "2ad1fe23",
   "metadata": {},
   "outputs": [
    {
     "data": {
      "text/plain": [
       "(1043,)"
      ]
     },
     "execution_count": 33,
     "metadata": {},
     "output_type": "execute_result"
    }
   ],
   "source": [
    "val_labels.shape"
   ]
  },
  {
   "cell_type": "code",
   "execution_count": 34,
   "id": "faa2ce7b",
   "metadata": {},
   "outputs": [
    {
     "data": {
      "text/plain": [
       "(468,)"
      ]
     },
     "execution_count": 34,
     "metadata": {},
     "output_type": "execute_result"
    }
   ],
   "source": [
    "test_labels.shape"
   ]
  },
  {
   "cell_type": "code",
   "execution_count": 38,
   "id": "92ed5628",
   "metadata": {},
   "outputs": [
    {
     "name": "stdout",
     "output_type": "stream",
     "text": [
      "(4173, 1)\n",
      "(1043, 1)\n",
      "(468, 1)\n"
     ]
    }
   ],
   "source": [
    "#reshaping labels\n",
    "train_y = np.reshape(train_labels, (4173,1))\n",
    "val_y = np.reshape(val_labels, (1043,1))\n",
    "test_y = np.reshape(test_labels, (468,1))\n",
    "\n",
    "print(train_y.shape)\n",
    "print(val_y.shape)\n",
    "print(test_y.shape)"
   ]
  },
  {
   "cell_type": "markdown",
   "id": "3422e966",
   "metadata": {},
   "source": [
    "## Baseline Model"
   ]
  },
  {
   "cell_type": "code",
   "execution_count": 61,
   "id": "1421aa78",
   "metadata": {},
   "outputs": [],
   "source": [
    "baseline_model = models.Sequential()"
   ]
  },
  {
   "cell_type": "code",
   "execution_count": 62,
   "id": "c88c683e",
   "metadata": {},
   "outputs": [],
   "source": [
    "baseline_model.add(layers.Dense(20, activation='relu', input_shape=(4096,)))\n",
    "baseline_model.add(layers.Dense(7, activation='relu'))\n",
    "baseline_model.add(layers.Dense(5, activation='relu'))\n",
    "baseline_model.add(layers.Dense(1, activation='sigmoid'))"
   ]
  },
  {
   "cell_type": "code",
   "execution_count": 63,
   "id": "0f19cf3e",
   "metadata": {},
   "outputs": [
    {
     "name": "stdout",
     "output_type": "stream",
     "text": [
      "Model: \"sequential_1\"\n",
      "_________________________________________________________________\n",
      "Layer (type)                 Output Shape              Param #   \n",
      "=================================================================\n",
      "dense_12 (Dense)             (None, 20)                81940     \n",
      "_________________________________________________________________\n",
      "dense_13 (Dense)             (None, 7)                 147       \n",
      "_________________________________________________________________\n",
      "dense_14 (Dense)             (None, 5)                 40        \n",
      "_________________________________________________________________\n",
      "dense_15 (Dense)             (None, 1)                 6         \n",
      "=================================================================\n",
      "Total params: 82,133\n",
      "Trainable params: 82,133\n",
      "Non-trainable params: 0\n",
      "_________________________________________________________________\n"
     ]
    }
   ],
   "source": [
    "baseline_model.summary()"
   ]
  },
  {
   "cell_type": "code",
   "execution_count": 65,
   "id": "5ed41732",
   "metadata": {},
   "outputs": [],
   "source": [
    "baseline_model.compile(optimizer='sgd', \n",
    "              loss='binary_crossentropy', \n",
    "              metrics=['accuracy'])"
   ]
  },
  {
   "cell_type": "code",
   "execution_count": 58,
   "id": "001757f3",
   "metadata": {},
   "outputs": [
    {
     "data": {
      "text/plain": [
       "(4096,)"
      ]
     },
     "execution_count": 58,
     "metadata": {},
     "output_type": "execute_result"
    }
   ],
   "source": [
    "train_reshape[0].shape"
   ]
  },
  {
   "cell_type": "code",
   "execution_count": 59,
   "id": "9da999c1",
   "metadata": {},
   "outputs": [
    {
     "data": {
      "text/plain": [
       "(4096,)"
      ]
     },
     "execution_count": 59,
     "metadata": {},
     "output_type": "execute_result"
    }
   ],
   "source": [
    "val_reshape[0].shape"
   ]
  },
  {
   "cell_type": "code",
   "execution_count": 66,
   "id": "6067c9fc",
   "metadata": {},
   "outputs": [
    {
     "name": "stdout",
     "output_type": "stream",
     "text": [
      "Epoch 1/50\n",
      "131/131 [==============================] - 3s 22ms/step - loss: 0.5403 - accuracy: 0.7402 - val_loss: 0.5084 - val_accuracy: 0.7430\n",
      "Epoch 2/50\n",
      "131/131 [==============================] - 0s 1ms/step - loss: 0.4148 - accuracy: 0.7836 - val_loss: 0.3447 - val_accuracy: 0.8849\n",
      "Epoch 3/50\n",
      "131/131 [==============================] - 0s 1ms/step - loss: 0.2826 - accuracy: 0.8965 - val_loss: 0.2834 - val_accuracy: 0.8811\n",
      "Epoch 4/50\n",
      "131/131 [==============================] - 0s 1ms/step - loss: 0.2603 - accuracy: 0.8967 - val_loss: 0.2325 - val_accuracy: 0.9012\n",
      "Epoch 5/50\n",
      "131/131 [==============================] - 0s 1ms/step - loss: 0.2393 - accuracy: 0.9029 - val_loss: 0.2075 - val_accuracy: 0.9099\n",
      "Epoch 6/50\n",
      "131/131 [==============================] - 0s 1ms/step - loss: 0.1839 - accuracy: 0.9267 - val_loss: 0.2025 - val_accuracy: 0.9156\n",
      "Epoch 7/50\n",
      "131/131 [==============================] - 0s 1ms/step - loss: 0.1804 - accuracy: 0.9315 - val_loss: 0.1682 - val_accuracy: 0.9281\n",
      "Epoch 8/50\n",
      "131/131 [==============================] - 0s 1ms/step - loss: 0.1713 - accuracy: 0.9329 - val_loss: 0.1688 - val_accuracy: 0.9300\n",
      "Epoch 9/50\n",
      "131/131 [==============================] - 0s 1ms/step - loss: 0.1537 - accuracy: 0.9391 - val_loss: 0.1796 - val_accuracy: 0.9300\n",
      "Epoch 10/50\n",
      "131/131 [==============================] - 0s 1ms/step - loss: 0.1498 - accuracy: 0.9430 - val_loss: 1.0115 - val_accuracy: 0.7546\n",
      "Epoch 11/50\n",
      "131/131 [==============================] - 0s 1ms/step - loss: 0.1464 - accuracy: 0.9485 - val_loss: 0.2541 - val_accuracy: 0.8984\n",
      "Epoch 12/50\n",
      "131/131 [==============================] - 0s 1ms/step - loss: 0.1373 - accuracy: 0.9466 - val_loss: 0.1623 - val_accuracy: 0.9348\n",
      "Epoch 13/50\n",
      "131/131 [==============================] - 0s 1ms/step - loss: 0.1266 - accuracy: 0.9456 - val_loss: 0.6914 - val_accuracy: 0.7373\n",
      "Epoch 14/50\n",
      "131/131 [==============================] - 0s 1ms/step - loss: 0.1331 - accuracy: 0.9509 - val_loss: 0.1974 - val_accuracy: 0.9195\n",
      "Epoch 15/50\n",
      "131/131 [==============================] - 0s 1ms/step - loss: 0.1282 - accuracy: 0.9523 - val_loss: 0.1497 - val_accuracy: 0.9396\n",
      "Epoch 16/50\n",
      "131/131 [==============================] - 0s 1ms/step - loss: 0.1366 - accuracy: 0.9468 - val_loss: 0.1436 - val_accuracy: 0.9434\n",
      "Epoch 17/50\n",
      "131/131 [==============================] - 0s 1ms/step - loss: 0.1168 - accuracy: 0.9569 - val_loss: 0.3068 - val_accuracy: 0.8802\n",
      "Epoch 18/50\n",
      "131/131 [==============================] - 0s 1ms/step - loss: 0.1182 - accuracy: 0.9545 - val_loss: 0.1584 - val_accuracy: 0.9386\n",
      "Epoch 19/50\n",
      "131/131 [==============================] - 0s 2ms/step - loss: 0.1148 - accuracy: 0.9561 - val_loss: 0.1438 - val_accuracy: 0.9434\n",
      "Epoch 20/50\n",
      "131/131 [==============================] - 0s 2ms/step - loss: 0.1137 - accuracy: 0.9576 - val_loss: 0.1660 - val_accuracy: 0.9338\n",
      "Epoch 21/50\n",
      "131/131 [==============================] - 0s 2ms/step - loss: 0.1182 - accuracy: 0.9554 - val_loss: 0.2137 - val_accuracy: 0.9128\n",
      "Epoch 22/50\n",
      "131/131 [==============================] - 0s 1ms/step - loss: 0.1262 - accuracy: 0.9526 - val_loss: 0.1502 - val_accuracy: 0.9415\n",
      "Epoch 23/50\n",
      "131/131 [==============================] - 0s 1ms/step - loss: 0.1161 - accuracy: 0.9538 - val_loss: 0.1813 - val_accuracy: 0.9233\n",
      "Epoch 24/50\n",
      "131/131 [==============================] - 0s 1ms/step - loss: 0.1111 - accuracy: 0.9602 - val_loss: 0.3058 - val_accuracy: 0.8811\n",
      "Epoch 25/50\n",
      "131/131 [==============================] - 0s 1ms/step - loss: 0.1086 - accuracy: 0.9593 - val_loss: 0.1512 - val_accuracy: 0.9406\n",
      "Epoch 26/50\n",
      "131/131 [==============================] - 0s 1ms/step - loss: 0.1146 - accuracy: 0.9571 - val_loss: 0.1420 - val_accuracy: 0.9453\n",
      "Epoch 27/50\n",
      "131/131 [==============================] - 0s 1ms/step - loss: 0.1081 - accuracy: 0.9581 - val_loss: 0.2004 - val_accuracy: 0.9195\n",
      "Epoch 28/50\n",
      "131/131 [==============================] - 0s 1ms/step - loss: 0.1030 - accuracy: 0.9641 - val_loss: 0.1489 - val_accuracy: 0.9425\n",
      "Epoch 29/50\n",
      "131/131 [==============================] - 0s 1ms/step - loss: 0.1018 - accuracy: 0.9621 - val_loss: 0.1466 - val_accuracy: 0.9425\n",
      "Epoch 30/50\n",
      "131/131 [==============================] - 0s 1ms/step - loss: 0.1010 - accuracy: 0.9590 - val_loss: 0.1459 - val_accuracy: 0.9463\n",
      "Epoch 31/50\n",
      "131/131 [==============================] - 0s 1ms/step - loss: 0.0994 - accuracy: 0.9643 - val_loss: 0.2152 - val_accuracy: 0.9166\n",
      "Epoch 32/50\n",
      "131/131 [==============================] - 0s 1ms/step - loss: 0.1018 - accuracy: 0.9593 - val_loss: 0.1481 - val_accuracy: 0.9434\n",
      "Epoch 33/50\n",
      "131/131 [==============================] - 0s 1ms/step - loss: 0.1009 - accuracy: 0.9624 - val_loss: 0.2002 - val_accuracy: 0.9281\n",
      "Epoch 34/50\n",
      "131/131 [==============================] - 0s 1ms/step - loss: 0.1137 - accuracy: 0.9538 - val_loss: 0.1365 - val_accuracy: 0.9463\n",
      "Epoch 35/50\n",
      "131/131 [==============================] - 0s 1ms/step - loss: 0.1025 - accuracy: 0.9626 - val_loss: 0.1397 - val_accuracy: 0.9473\n",
      "Epoch 36/50\n",
      "131/131 [==============================] - 0s 1ms/step - loss: 0.1042 - accuracy: 0.9597 - val_loss: 0.1583 - val_accuracy: 0.9386\n",
      "Epoch 37/50\n",
      "131/131 [==============================] - 0s 1ms/step - loss: 0.0974 - accuracy: 0.9650 - val_loss: 0.1558 - val_accuracy: 0.9396\n",
      "Epoch 38/50\n",
      "131/131 [==============================] - 0s 1ms/step - loss: 0.0865 - accuracy: 0.9691 - val_loss: 0.1603 - val_accuracy: 0.9367\n",
      "Epoch 39/50\n",
      "131/131 [==============================] - 0s 1ms/step - loss: 0.0999 - accuracy: 0.9648 - val_loss: 0.3445 - val_accuracy: 0.8763\n",
      "Epoch 40/50\n",
      "131/131 [==============================] - 0s 1ms/step - loss: 0.1007 - accuracy: 0.9585 - val_loss: 0.1668 - val_accuracy: 0.9367\n",
      "Epoch 41/50\n",
      "131/131 [==============================] - 0s 1ms/step - loss: 0.0931 - accuracy: 0.9669 - val_loss: 0.3179 - val_accuracy: 0.8830\n",
      "Epoch 42/50\n",
      "131/131 [==============================] - 0s 1ms/step - loss: 0.0915 - accuracy: 0.9667 - val_loss: 0.4123 - val_accuracy: 0.8476\n",
      "Epoch 43/50\n",
      "131/131 [==============================] - 0s 1ms/step - loss: 0.0929 - accuracy: 0.9648 - val_loss: 0.2253 - val_accuracy: 0.9185\n",
      "Epoch 44/50\n",
      "131/131 [==============================] - 0s 1ms/step - loss: 0.0982 - accuracy: 0.9638 - val_loss: 0.1375 - val_accuracy: 0.9463\n",
      "Epoch 45/50\n",
      "131/131 [==============================] - 0s 1ms/step - loss: 0.0885 - accuracy: 0.9681 - val_loss: 0.1372 - val_accuracy: 0.9453\n",
      "Epoch 46/50\n",
      "131/131 [==============================] - 0s 1ms/step - loss: 0.0875 - accuracy: 0.9688 - val_loss: 0.3065 - val_accuracy: 0.8859\n",
      "Epoch 47/50\n",
      "131/131 [==============================] - 0s 1ms/step - loss: 0.0839 - accuracy: 0.9688 - val_loss: 0.1875 - val_accuracy: 0.9271\n",
      "Epoch 48/50\n",
      "131/131 [==============================] - 0s 1ms/step - loss: 0.1102 - accuracy: 0.9573 - val_loss: 0.1381 - val_accuracy: 0.9473\n",
      "Epoch 49/50\n",
      "131/131 [==============================] - 0s 1ms/step - loss: 0.0922 - accuracy: 0.9645 - val_loss: 0.2132 - val_accuracy: 0.9233\n",
      "Epoch 50/50\n",
      "131/131 [==============================] - 0s 1ms/step - loss: 0.0798 - accuracy: 0.9741 - val_loss: 0.9528 - val_accuracy: 0.7066\n"
     ]
    },
    {
     "data": {
      "text/plain": [
       "<tensorflow.python.keras.callbacks.History at 0x26747540880>"
      ]
     },
     "execution_count": 66,
     "metadata": {},
     "output_type": "execute_result"
    }
   ],
   "source": [
    "baseline_model.fit(train_reshape, \n",
    "                   train_y, \n",
    "                   epochs=50, \n",
    "                   batch_size=32, \n",
    "                   validation_data=(val_reshape, val_y))"
   ]
  },
  {
   "cell_type": "code",
   "execution_count": 68,
   "id": "3f9baa7b",
   "metadata": {},
   "outputs": [
    {
     "name": "stdout",
     "output_type": "stream",
     "text": [
      "131/131 [==============================] - 1s 4ms/step - loss: 0.7116 - accuracy: 0.7501\n"
     ]
    },
    {
     "data": {
      "text/plain": [
       "[0.711613118648529, 0.7500599026679993]"
      ]
     },
     "execution_count": 68,
     "metadata": {},
     "output_type": "execute_result"
    }
   ],
   "source": [
    "results_train = baseline_model.evaluate(train_reshape, train_y)\n",
    "results_train"
   ]
  },
  {
   "cell_type": "code",
   "execution_count": 70,
   "id": "1d260b9a",
   "metadata": {},
   "outputs": [
    {
     "name": "stdout",
     "output_type": "stream",
     "text": [
      "33/33 [==============================] - 0s 11ms/step - loss: 0.9528 - accuracy: 0.7066\n"
     ]
    },
    {
     "data": {
      "text/plain": [
       "[0.9528127908706665, 0.7066155076026917]"
      ]
     },
     "execution_count": 70,
     "metadata": {},
     "output_type": "execute_result"
    }
   ],
   "source": [
    "results_val = baseline_model.evaluate(val_reshape, val_y)\n",
    "results_val"
   ]
  },
  {
   "cell_type": "code",
   "execution_count": null,
   "id": "31246472",
   "metadata": {},
   "outputs": [],
   "source": []
  }
 ],
 "metadata": {
  "kernelspec": {
   "display_name": "Python (tensor_lecture)",
   "language": "python",
   "name": "tensor_lecture"
  },
  "language_info": {
   "codemirror_mode": {
    "name": "ipython",
    "version": 3
   },
   "file_extension": ".py",
   "mimetype": "text/x-python",
   "name": "python",
   "nbconvert_exporter": "python",
   "pygments_lexer": "ipython3",
   "version": "3.9.12"
  }
 },
 "nbformat": 4,
 "nbformat_minor": 5
}
