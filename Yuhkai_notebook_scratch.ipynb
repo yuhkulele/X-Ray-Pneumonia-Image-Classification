{
 "cells": [
  {
   "cell_type": "code",
   "execution_count": 1,
   "id": "d31fd703",
   "metadata": {},
   "outputs": [],
   "source": [
    "#imports \n",
    "\n",
    "import numpy as np\n",
    "import os, tempfile\n",
    "import matplotlib.pyplot as plt\n",
    "import seaborn as sns\n",
    "\n",
    "import tensorflow as tf\n",
    "from tensorflow.keras import models, layers\n",
    "from tensorflow.keras.preprocessing.image import load_img\n",
    "from tensorflow.keras.utils import image_dataset_from_directory \n",
    "from tensorflow.keras.models import Sequential, load_model\n",
    "from tensorflow.keras.callbacks import EarlyStopping\n",
    "from tensorflow.keras.regularizers import l2\n",
    "\n",
    "from sklearn.dummy import DummyClassifier\n",
    "\n",
    "import time\n",
    "import scipy\n",
    "from scipy import ndimage\n",
    "from tensorflow.keras.preprocessing.image import ImageDataGenerator, array_to_img, img_to_array, load_img\n",
    "from PIL import Image\n"
   ]
  },
  {
   "cell_type": "markdown",
   "id": "dfced05a",
   "metadata": {},
   "source": [
    "## Image Load In"
   ]
  },
  {
   "cell_type": "code",
   "execution_count": 2,
   "id": "f1bb92de",
   "metadata": {},
   "outputs": [
    {
     "name": "stdout",
     "output_type": "stream",
     "text": [
      "README.md\n",
      "Yuhkai_notebook_scratch.ipynb\n",
      "data\n",
      "data.zip\n",
      "notebook.ipynb\n",
      "notebooks_scratch\n",
      "saved_models\n",
      "simple_cnn.pkl\n"
     ]
    }
   ],
   "source": [
    "!ls"
   ]
  },
  {
   "cell_type": "code",
   "execution_count": 3,
   "id": "8f46f557",
   "metadata": {},
   "outputs": [],
   "source": [
    "# load in the train data\n",
    "\n",
    "#starting from main project directory\n",
    "\n",
    "train_normal_dir = \"./data/chest_xray/train/NORMAL\"\n",
    "train_pneumonia_dir = \"./data/chest_xray/train/PNEUMONIA\"\n",
    "\n",
    "imgs_train_normal = [file for file in os.listdir(train_normal_dir) if file.endswith('.jpeg')]\n",
    "imgs_train_pneumonia = [file for file in os.listdir(train_pneumonia_dir) if file.endswith('.jpeg')]"
   ]
  },
  {
   "cell_type": "code",
   "execution_count": 4,
   "id": "32233b13",
   "metadata": {},
   "outputs": [],
   "source": [
    "test_normal_dir = \"./data/chest_xray/test/NORMAL\"\n",
    "test_pneumonia_dir = \"./data/chest_xray/test/PNEUMONIA\"\n",
    "\n",
    "imgs_test_normal = [file for file in os.listdir(test_normal_dir) if file.endswith('.jpeg')]\n",
    "imgs_test_pneumonia = [file for file in os.listdir(test_pneumonia_dir) if file.endswith('.jpeg')]"
   ]
  },
  {
   "cell_type": "code",
   "execution_count": 5,
   "id": "3133a92c",
   "metadata": {},
   "outputs": [
    {
     "data": {
      "text/plain": [
       "1341"
      ]
     },
     "execution_count": 5,
     "metadata": {},
     "output_type": "execute_result"
    }
   ],
   "source": [
    "len(imgs_train_normal)"
   ]
  },
  {
   "cell_type": "code",
   "execution_count": 6,
   "id": "a4c43269",
   "metadata": {},
   "outputs": [
    {
     "data": {
      "text/plain": [
       "3875"
      ]
     },
     "execution_count": 6,
     "metadata": {},
     "output_type": "execute_result"
    }
   ],
   "source": [
    "len(imgs_train_pneumonia)"
   ]
  },
  {
   "cell_type": "code",
   "execution_count": 7,
   "id": "f738658a",
   "metadata": {},
   "outputs": [
    {
     "data": {
      "text/plain": [
       "'IM-0115-0001.jpeg'"
      ]
     },
     "execution_count": 7,
     "metadata": {},
     "output_type": "execute_result"
    }
   ],
   "source": [
    "imgs_train_normal[0]"
   ]
  },
  {
   "cell_type": "code",
   "execution_count": 8,
   "id": "7a2d404a",
   "metadata": {},
   "outputs": [
    {
     "data": {
      "text/plain": [
       "'person1000_bacteria_2931.jpeg'"
      ]
     },
     "execution_count": 8,
     "metadata": {},
     "output_type": "execute_result"
    }
   ],
   "source": [
    "imgs_train_pneumonia[0]"
   ]
  },
  {
   "cell_type": "code",
   "execution_count": 9,
   "id": "f4e25a4f",
   "metadata": {
    "scrolled": true
   },
   "outputs": [
    {
     "data": {
      "text/plain": [
       "234"
      ]
     },
     "execution_count": 9,
     "metadata": {},
     "output_type": "execute_result"
    }
   ],
   "source": [
    "len(imgs_test_normal)"
   ]
  },
  {
   "cell_type": "code",
   "execution_count": 10,
   "id": "37a8cbea",
   "metadata": {},
   "outputs": [
    {
     "data": {
      "text/plain": [
       "390"
      ]
     },
     "execution_count": 10,
     "metadata": {},
     "output_type": "execute_result"
    }
   ],
   "source": [
    "len(imgs_test_pneumonia)"
   ]
  },
  {
   "cell_type": "code",
   "execution_count": 11,
   "id": "1e04a0e5",
   "metadata": {},
   "outputs": [
    {
     "data": {
      "text/plain": [
       "(5216, 624)"
      ]
     },
     "execution_count": 11,
     "metadata": {},
     "output_type": "execute_result"
    }
   ],
   "source": [
    "num_train = len(imgs_train_normal) + len(imgs_train_pneumonia)\n",
    "num_test = len(imgs_test_normal) + len(imgs_test_pneumonia)\n",
    "num_train, num_test"
   ]
  },
  {
   "cell_type": "code",
   "execution_count": 12,
   "id": "7376249c",
   "metadata": {},
   "outputs": [
    {
     "data": {
      "text/plain": [
       "0.625"
      ]
     },
     "execution_count": 12,
     "metadata": {},
     "output_type": "execute_result"
    }
   ],
   "source": [
    "ratio_test = 390/num_test\n",
    "ratio_test"
   ]
  },
  {
   "cell_type": "code",
   "execution_count": 13,
   "id": "d4cb01f3",
   "metadata": {},
   "outputs": [
    {
     "data": {
      "text/plain": [
       "0.7429064417177914"
      ]
     },
     "execution_count": 13,
     "metadata": {},
     "output_type": "execute_result"
    }
   ],
   "source": [
    "ratio_train = 3875/num_train\n",
    "ratio_train"
   ]
  },
  {
   "cell_type": "code",
   "execution_count": 14,
   "id": "b903deab",
   "metadata": {},
   "outputs": [],
   "source": [
    "train_datagen = ImageDataGenerator(rescale=1./255, validation_split=0.2)"
   ]
  },
  {
   "cell_type": "code",
   "execution_count": 15,
   "id": "a171138d",
   "metadata": {
    "scrolled": true
   },
   "outputs": [
    {
     "name": "stdout",
     "output_type": "stream",
     "text": [
      "Found 4173 images belonging to 2 classes.\n",
      "Found 1043 images belonging to 2 classes.\n",
      "Found 624 images belonging to 2 classes.\n"
     ]
    }
   ],
   "source": [
    "#rescale images to 64 by 64\n",
    "#create validation set as 20% of train set\n",
    "\n",
    "train_folder = \"./data/chest_xray/train\"\n",
    "train_gen = train_datagen.flow_from_directory(\n",
    "        train_folder, \n",
    "        target_size=(64, 64), \n",
    "        color_mode='grayscale', \n",
    "        class_mode='binary',\n",
    "        subset='training',\n",
    "        batch_size= num_train)\n",
    "\n",
    "validation_gen = train_datagen.flow_from_directory(\n",
    "        train_folder, \n",
    "        target_size=(64, 64), \n",
    "        color_mode='grayscale', \n",
    "        class_mode='binary',\n",
    "        subset='validation',\n",
    "        batch_size= num_train)\n",
    "\n",
    "test_folder = \"./data/chest_xray/test\"\n",
    "test_gen = ImageDataGenerator(rescale=1./255).flow_from_directory(\n",
    "        test_folder, \n",
    "        target_size=(64, 64), color_mode='grayscale', \n",
    "        class_mode='binary', \n",
    "        batch_size= num_test)"
   ]
  },
  {
   "cell_type": "code",
   "execution_count": 17,
   "id": "7552cb36",
   "metadata": {},
   "outputs": [
    {
     "data": {
      "text/plain": [
       "tensorflow.python.keras.preprocessing.image.DirectoryIterator"
      ]
     },
     "execution_count": 17,
     "metadata": {},
     "output_type": "execute_result"
    }
   ],
   "source": [
    "type(train_gen)"
   ]
  },
  {
   "cell_type": "code",
   "execution_count": 16,
   "id": "b5a8d874",
   "metadata": {},
   "outputs": [],
   "source": [
    "train_images, train_labels = next(train_gen)\n",
    "val_images, val_labels = next(validation_gen)\n",
    "test_images, test_labels = next(test_gen)"
   ]
  },
  {
   "cell_type": "code",
   "execution_count": 17,
   "id": "be7f9572",
   "metadata": {},
   "outputs": [
    {
     "data": {
      "text/plain": [
       "array([[[0.00392157],\n",
       "        [0.        ],\n",
       "        [0.01960784],\n",
       "        ...,\n",
       "        [0.52156866],\n",
       "        [0.47058827],\n",
       "        [0.02352941]],\n",
       "\n",
       "       [[0.        ],\n",
       "        [0.        ],\n",
       "        [0.03921569],\n",
       "        ...,\n",
       "        [0.29411766],\n",
       "        [0.03137255],\n",
       "        [0.02745098]],\n",
       "\n",
       "       [[0.        ],\n",
       "        [0.        ],\n",
       "        [0.00784314],\n",
       "        ...,\n",
       "        [0.03529412],\n",
       "        [0.427451  ],\n",
       "        [0.18823531]],\n",
       "\n",
       "       ...,\n",
       "\n",
       "       [[0.7686275 ],\n",
       "        [0.654902  ],\n",
       "        [0.04705883],\n",
       "        ...,\n",
       "        [0.03921569],\n",
       "        [0.04313726],\n",
       "        [0.04705883]],\n",
       "\n",
       "       [[0.8078432 ],\n",
       "        [0.69411767],\n",
       "        [0.04313726],\n",
       "        ...,\n",
       "        [0.03921569],\n",
       "        [0.04313726],\n",
       "        [0.04313726]],\n",
       "\n",
       "       [[0.7803922 ],\n",
       "        [0.6313726 ],\n",
       "        [0.04705883],\n",
       "        ...,\n",
       "        [0.03529412],\n",
       "        [0.03921569],\n",
       "        [0.04313726]]], dtype=float32)"
      ]
     },
     "execution_count": 17,
     "metadata": {},
     "output_type": "execute_result"
    }
   ],
   "source": [
    "train_images[0]"
   ]
  },
  {
   "cell_type": "code",
   "execution_count": 105,
   "id": "1c3f6ae2",
   "metadata": {},
   "outputs": [
    {
     "data": {
      "text/plain": [
       "<matplotlib.image.AxesImage at 0x22224c38a60>"
      ]
     },
     "execution_count": 105,
     "metadata": {},
     "output_type": "execute_result"
    },
    {
     "data": {
      "image/png": "[encoded data removed]",
      "text/plain": [
       "<Figure size 432x288 with 1 Axes>"
      ]
     },
     "metadata": {
      "needs_background": "light"
     },
     "output_type": "display_data"
    }
   ],
   "source": [
    "plt.imshow(train_images[0], cmap='gray', vmin=0, vmax=1)"
   ]
  },
  {
   "cell_type": "code",
   "execution_count": 111,
   "id": "a75fb007",
   "metadata": {},
   "outputs": [
    {
     "name": "stdout",
     "output_type": "stream",
     "text": [
      "Found 4173 images belonging to 2 classes.\n"
     ]
    }
   ],
   "source": [
    "train_folder = \"./data/chest_xray/train\"\n",
    "train_unaltered = train_datagen.flow_from_directory(\n",
    "        train_folder, \n",
    "        color_mode='grayscale', \n",
    "        class_mode='binary',\n",
    "        subset='training',\n",
    "        batch_size= num_train,\n",
    "        seed=42)\n"
   ]
  },
  {
   "cell_type": "code",
   "execution_count": 112,
   "id": "98ed6e5b",
   "metadata": {},
   "outputs": [],
   "source": [
    "unaltered_images, unaltered_labels = next(train_unaltered)"
   ]
  },
  {
   "cell_type": "code",
   "execution_count": 113,
   "id": "c73cf337",
   "metadata": {},
   "outputs": [
    {
     "data": {
      "text/plain": [
       "<matplotlib.image.AxesImage at 0x2222c9330a0>"
      ]
     },
     "execution_count": 113,
     "metadata": {},
     "output_type": "execute_result"
    },
    {
     "data": {
      "image/png": "[encoded data removed]",
      "text/plain": [
       "<Figure size 432x288 with 1 Axes>"
      ]
     },
     "metadata": {
      "needs_background": "light"
     },
     "output_type": "display_data"
    }
   ],
   "source": [
    "plt.imshow(unaltered_images[0], cmap='gray', vmin=0, vmax=1)"
   ]
  },
  {
   "cell_type": "code",
   "execution_count": 114,
   "id": "fa59e111",
   "metadata": {},
   "outputs": [
    {
     "data": {
      "text/plain": [
       "0.0"
      ]
     },
     "execution_count": 114,
     "metadata": {},
     "output_type": "execute_result"
    }
   ],
   "source": [
    "unaltered_labels[0]"
   ]
  },
  {
   "cell_type": "code",
   "execution_count": 19,
   "id": "9807036f",
   "metadata": {},
   "outputs": [
    {
     "data": {
      "text/plain": [
       "array([[[0.2627451 ],\n",
       "        [0.20000002],\n",
       "        [0.2509804 ],\n",
       "        ...,\n",
       "        [0.05882353],\n",
       "        [0.06666667],\n",
       "        [0.06666667]],\n",
       "\n",
       "       [[0.18039216],\n",
       "        [0.22352943],\n",
       "        [0.28627452],\n",
       "        ...,\n",
       "        [0.11764707],\n",
       "        [0.04705883],\n",
       "        [0.0509804 ]],\n",
       "\n",
       "       [[0.18823531],\n",
       "        [0.27450982],\n",
       "        [0.33333334],\n",
       "        ...,\n",
       "        [0.21176472],\n",
       "        [0.14901961],\n",
       "        [0.03529412]],\n",
       "\n",
       "       ...,\n",
       "\n",
       "       [[0.25490198],\n",
       "        [0.49803925],\n",
       "        [0.5529412 ],\n",
       "        ...,\n",
       "        [0.08235294],\n",
       "        [0.09803922],\n",
       "        [0.09019608]],\n",
       "\n",
       "       [[0.2509804 ],\n",
       "        [0.49411768],\n",
       "        [0.5647059 ],\n",
       "        ...,\n",
       "        [0.08627451],\n",
       "        [0.09019608],\n",
       "        [0.09019608]],\n",
       "\n",
       "       [[0.27058825],\n",
       "        [0.4901961 ],\n",
       "        [0.5921569 ],\n",
       "        ...,\n",
       "        [0.09019608],\n",
       "        [0.10196079],\n",
       "        [0.09411766]]], dtype=float32)"
      ]
     },
     "execution_count": 19,
     "metadata": {},
     "output_type": "execute_result"
    }
   ],
   "source": [
    "val_images[0]"
   ]
  },
  {
   "cell_type": "code",
   "execution_count": 20,
   "id": "90ae77b2",
   "metadata": {},
   "outputs": [
    {
     "data": {
      "text/plain": [
       "(4173, 64, 64, 1)"
      ]
     },
     "execution_count": 20,
     "metadata": {},
     "output_type": "execute_result"
    }
   ],
   "source": [
    "train_images.shape"
   ]
  },
  {
   "cell_type": "code",
   "execution_count": 21,
   "id": "1a0c4ba3",
   "metadata": {},
   "outputs": [
    {
     "data": {
      "text/plain": [
       "(64, 64, 1)"
      ]
     },
     "execution_count": 21,
     "metadata": {},
     "output_type": "execute_result"
    }
   ],
   "source": [
    "#(image height, image width, color channels)\n",
    "train_images[0].shape"
   ]
  },
  {
   "cell_type": "code",
   "execution_count": 22,
   "id": "9440cf1c",
   "metadata": {},
   "outputs": [
    {
     "data": {
      "text/plain": [
       "1.0"
      ]
     },
     "execution_count": 22,
     "metadata": {},
     "output_type": "execute_result"
    }
   ],
   "source": [
    "train_labels[0]"
   ]
  },
  {
   "cell_type": "code",
   "execution_count": 23,
   "id": "b9654bce",
   "metadata": {},
   "outputs": [
    {
     "data": {
      "text/plain": [
       "(4173,)"
      ]
     },
     "execution_count": 23,
     "metadata": {},
     "output_type": "execute_result"
    }
   ],
   "source": [
    "train_labels.shape"
   ]
  },
  {
   "cell_type": "code",
   "execution_count": 24,
   "id": "e8f2fa1c",
   "metadata": {},
   "outputs": [
    {
     "data": {
      "text/plain": [
       "(1043, 64, 64, 1)"
      ]
     },
     "execution_count": 24,
     "metadata": {},
     "output_type": "execute_result"
    }
   ],
   "source": [
    "val_images.shape"
   ]
  },
  {
   "cell_type": "code",
   "execution_count": 25,
   "id": "8e7b57b6",
   "metadata": {},
   "outputs": [
    {
     "data": {
      "text/plain": [
       "(1043,)"
      ]
     },
     "execution_count": 25,
     "metadata": {},
     "output_type": "execute_result"
    }
   ],
   "source": [
    "val_labels.shape"
   ]
  },
  {
   "cell_type": "code",
   "execution_count": 26,
   "id": "30cdda2d",
   "metadata": {},
   "outputs": [
    {
     "name": "stdout",
     "output_type": "stream",
     "text": [
      "(4173, 4096)\n",
      "(1043, 4096)\n",
      "(624, 4096)\n"
     ]
    }
   ],
   "source": [
    "#reshaping features for dense layers\n",
    "train_reshape = train_images.reshape(train_images.shape[0], -1)\n",
    "val_reshape = val_images.reshape(val_images.shape[0], -1)\n",
    "test_reshape = test_images.reshape(test_images.shape[0], -1)\n",
    "\n",
    "print(train_reshape.shape)\n",
    "print(val_reshape.shape)\n",
    "print(test_reshape.shape)"
   ]
  },
  {
   "cell_type": "code",
   "execution_count": 27,
   "id": "5253646b",
   "metadata": {},
   "outputs": [
    {
     "data": {
      "text/plain": [
       "(4173,)"
      ]
     },
     "execution_count": 27,
     "metadata": {},
     "output_type": "execute_result"
    }
   ],
   "source": [
    "train_labels.shape"
   ]
  },
  {
   "cell_type": "code",
   "execution_count": 28,
   "id": "e0ddc391",
   "metadata": {},
   "outputs": [
    {
     "data": {
      "text/plain": [
       "(1043,)"
      ]
     },
     "execution_count": 28,
     "metadata": {},
     "output_type": "execute_result"
    }
   ],
   "source": [
    "val_labels.shape"
   ]
  },
  {
   "cell_type": "code",
   "execution_count": 29,
   "id": "cd29ad8c",
   "metadata": {},
   "outputs": [
    {
     "data": {
      "text/plain": [
       "(624,)"
      ]
     },
     "execution_count": 29,
     "metadata": {},
     "output_type": "execute_result"
    }
   ],
   "source": [
    "test_labels.shape"
   ]
  },
  {
   "cell_type": "code",
   "execution_count": 30,
   "id": "ecefd4e8",
   "metadata": {},
   "outputs": [
    {
     "name": "stdout",
     "output_type": "stream",
     "text": [
      "(4173, 1)\n",
      "(1043, 1)\n",
      "(624, 1)\n"
     ]
    }
   ],
   "source": [
    "#reshaping labels\n",
    "train_y = np.reshape(train_labels, (4173,1))\n",
    "val_y = np.reshape(val_labels, (1043,1))\n",
    "test_y = np.reshape(test_labels, (624,1))\n",
    "\n",
    "print(train_y.shape)\n",
    "print(val_y.shape)\n",
    "print(test_y.shape)"
   ]
  },
  {
   "cell_type": "markdown",
   "id": "1912cc9d",
   "metadata": {},
   "source": [
    "# Dummy Classifier"
   ]
  },
  {
   "cell_type": "code",
   "execution_count": 31,
   "id": "e332cf83",
   "metadata": {},
   "outputs": [
    {
     "data": {
      "text/plain": [
       "0.7430488974113135"
      ]
     },
     "execution_count": 31,
     "metadata": {},
     "output_type": "execute_result"
    }
   ],
   "source": [
    "dummy_clf = DummyClassifier()\n",
    "dummy_clf.fit(train_images, train_labels)\n",
    "dummy_clf.score(val_images, val_labels)"
   ]
  },
  {
   "cell_type": "markdown",
   "id": "747e3a28",
   "metadata": {},
   "source": [
    "## Baseline Model"
   ]
  },
  {
   "cell_type": "code",
   "execution_count": 32,
   "id": "5e54de5d",
   "metadata": {},
   "outputs": [],
   "source": [
    "baseline_model = models.Sequential()"
   ]
  },
  {
   "cell_type": "code",
   "execution_count": 34,
   "id": "e143cbbe",
   "metadata": {},
   "outputs": [],
   "source": [
    "baseline_model.add(layers.Dense(20, activation='relu', input_shape=(4096,)))\n",
    "baseline_model.add(layers.Dense(7, activation='relu'))\n",
    "baseline_model.add(layers.Dense(5, activation='relu'))\n",
    "baseline_model.add(layers.Dense(1, activation='sigmoid'))"
   ]
  },
  {
   "cell_type": "code",
   "execution_count": 35,
   "id": "97341217",
   "metadata": {},
   "outputs": [
    {
     "name": "stdout",
     "output_type": "stream",
     "text": [
      "Model: \"sequential\"\n",
      "_________________________________________________________________\n",
      "Layer (type)                 Output Shape              Param #   \n",
      "=================================================================\n",
      "dense (Dense)                (None, 20)                81940     \n",
      "_________________________________________________________________\n",
      "dense_1 (Dense)              (None, 7)                 147       \n",
      "_________________________________________________________________\n",
      "dense_2 (Dense)              (None, 5)                 40        \n",
      "_________________________________________________________________\n",
      "dense_3 (Dense)              (None, 1)                 6         \n",
      "=================================================================\n",
      "Total params: 82,133\n",
      "Trainable params: 82,133\n",
      "Non-trainable params: 0\n",
      "_________________________________________________________________\n"
     ]
    }
   ],
   "source": [
    "baseline_model.summary()"
   ]
  },
  {
   "cell_type": "code",
   "execution_count": 36,
   "id": "799d5fcf",
   "metadata": {},
   "outputs": [],
   "source": [
    "baseline_model.compile(optimizer='sgd', \n",
    "              loss='binary_crossentropy', \n",
    "              metrics=['accuracy'])"
   ]
  },
  {
   "cell_type": "code",
   "execution_count": 37,
   "id": "dc59e6f8",
   "metadata": {},
   "outputs": [
    {
     "data": {
      "text/plain": [
       "(4096,)"
      ]
     },
     "execution_count": 37,
     "metadata": {},
     "output_type": "execute_result"
    }
   ],
   "source": [
    "train_reshape[0].shape"
   ]
  },
  {
   "cell_type": "code",
   "execution_count": 38,
   "id": "cc5f3a7a",
   "metadata": {},
   "outputs": [
    {
     "data": {
      "text/plain": [
       "(4096,)"
      ]
     },
     "execution_count": 38,
     "metadata": {},
     "output_type": "execute_result"
    }
   ],
   "source": [
    "val_reshape[0].shape"
   ]
  },
  {
   "cell_type": "code",
   "execution_count": 39,
   "id": "477b4460",
   "metadata": {},
   "outputs": [
    {
     "name": "stdout",
     "output_type": "stream",
     "text": [
      "Epoch 1/50\n",
      "131/131 [==============================] - 4s 16ms/step - loss: 0.5611 - accuracy: 0.7388 - val_loss: 0.4850 - val_accuracy: 0.7430\n",
      "Epoch 2/50\n",
      "131/131 [==============================] - 1s 5ms/step - loss: 0.3848 - accuracy: 0.8289 - val_loss: 0.3847 - val_accuracy: 0.8015\n",
      "Epoch 3/50\n",
      "131/131 [==============================] - 1s 5ms/step - loss: 0.2970 - accuracy: 0.8740 - val_loss: 0.5450 - val_accuracy: 0.7411\n",
      "Epoch 4/50\n",
      "131/131 [==============================] - 1s 4ms/step - loss: 0.2568 - accuracy: 0.8922 - val_loss: 0.2174 - val_accuracy: 0.9070\n",
      "Epoch 5/50\n",
      "131/131 [==============================] - 1s 4ms/step - loss: 0.2270 - accuracy: 0.9092 - val_loss: 0.4529 - val_accuracy: 0.8082\n",
      "Epoch 6/50\n",
      "131/131 [==============================] - 1s 4ms/step - loss: 0.1833 - accuracy: 0.9293 - val_loss: 0.3017 - val_accuracy: 0.8744\n",
      "Epoch 7/50\n",
      "131/131 [==============================] - 1s 4ms/step - loss: 0.1941 - accuracy: 0.9195 - val_loss: 0.1840 - val_accuracy: 0.9252\n",
      "Epoch 8/50\n",
      "131/131 [==============================] - 1s 4ms/step - loss: 0.1728 - accuracy: 0.9324 - val_loss: 0.2190 - val_accuracy: 0.9070\n",
      "Epoch 9/50\n",
      "131/131 [==============================] - 1s 4ms/step - loss: 0.1591 - accuracy: 0.9406 - val_loss: 0.4745 - val_accuracy: 0.8044\n",
      "Epoch 10/50\n",
      "131/131 [==============================] - 1s 4ms/step - loss: 0.1464 - accuracy: 0.9442 - val_loss: 0.1997 - val_accuracy: 0.9175\n",
      "Epoch 11/50\n",
      "131/131 [==============================] - 1s 4ms/step - loss: 0.1371 - accuracy: 0.9466 - val_loss: 0.5077 - val_accuracy: 0.7967\n",
      "Epoch 12/50\n",
      "131/131 [==============================] - 1s 6ms/step - loss: 0.1407 - accuracy: 0.9458 - val_loss: 0.5697 - val_accuracy: 0.8150\n",
      "Epoch 13/50\n",
      "131/131 [==============================] - 1s 4ms/step - loss: 0.1507 - accuracy: 0.9394 - val_loss: 0.2964 - val_accuracy: 0.8792\n",
      "Epoch 14/50\n",
      "131/131 [==============================] - 1s 4ms/step - loss: 0.1325 - accuracy: 0.9494 - val_loss: 0.2455 - val_accuracy: 0.9070\n",
      "Epoch 15/50\n",
      "131/131 [==============================] - 1s 4ms/step - loss: 0.1256 - accuracy: 0.9526 - val_loss: 0.1472 - val_accuracy: 0.9434\n",
      "Epoch 16/50\n",
      "131/131 [==============================] - 1s 4ms/step - loss: 0.1272 - accuracy: 0.9514 - val_loss: 0.1438 - val_accuracy: 0.9444\n",
      "Epoch 17/50\n",
      "131/131 [==============================] - 1s 4ms/step - loss: 0.1186 - accuracy: 0.9540 - val_loss: 0.1840 - val_accuracy: 0.9262\n",
      "Epoch 18/50\n",
      "131/131 [==============================] - 1s 5ms/step - loss: 0.1360 - accuracy: 0.9461 - val_loss: 0.1430 - val_accuracy: 0.9463\n",
      "Epoch 19/50\n",
      "131/131 [==============================] - 1s 4ms/step - loss: 0.1186 - accuracy: 0.9545 - val_loss: 0.1734 - val_accuracy: 0.9319\n",
      "Epoch 20/50\n",
      "131/131 [==============================] - 1s 4ms/step - loss: 0.1216 - accuracy: 0.9545 - val_loss: 0.1553 - val_accuracy: 0.9396\n",
      "Epoch 21/50\n",
      "131/131 [==============================] - 1s 4ms/step - loss: 0.1071 - accuracy: 0.9593 - val_loss: 0.2306 - val_accuracy: 0.9118\n",
      "Epoch 22/50\n",
      "131/131 [==============================] - 1s 4ms/step - loss: 0.1102 - accuracy: 0.9557 - val_loss: 0.1406 - val_accuracy: 0.9473\n",
      "Epoch 23/50\n",
      "131/131 [==============================] - 1s 4ms/step - loss: 0.1206 - accuracy: 0.9561 - val_loss: 0.2257 - val_accuracy: 0.9108\n",
      "Epoch 24/50\n",
      "131/131 [==============================] - 1s 4ms/step - loss: 0.1111 - accuracy: 0.9569 - val_loss: 0.1391 - val_accuracy: 0.9453\n",
      "Epoch 25/50\n",
      "131/131 [==============================] - 1s 5ms/step - loss: 0.0994 - accuracy: 0.9636 - val_loss: 0.1442 - val_accuracy: 0.9453\n",
      "Epoch 26/50\n",
      "131/131 [==============================] - 1s 4ms/step - loss: 0.1069 - accuracy: 0.9612 - val_loss: 0.3903 - val_accuracy: 0.8562\n",
      "Epoch 27/50\n",
      "131/131 [==============================] - 1s 4ms/step - loss: 0.1117 - accuracy: 0.9588 - val_loss: 0.1536 - val_accuracy: 0.9434\n",
      "Epoch 28/50\n",
      "131/131 [==============================] - 1s 4ms/step - loss: 0.1042 - accuracy: 0.9624 - val_loss: 0.1791 - val_accuracy: 0.9300\n",
      "Epoch 29/50\n",
      "131/131 [==============================] - 1s 4ms/step - loss: 0.1217 - accuracy: 0.9547 - val_loss: 0.1516 - val_accuracy: 0.9415\n",
      "Epoch 30/50\n",
      "131/131 [==============================] - 1s 4ms/step - loss: 0.0991 - accuracy: 0.9617 - val_loss: 0.1576 - val_accuracy: 0.9396\n",
      "Epoch 31/50\n",
      "131/131 [==============================] - 1s 4ms/step - loss: 0.1049 - accuracy: 0.9607 - val_loss: 0.1372 - val_accuracy: 0.9463\n",
      "Epoch 32/50\n",
      "131/131 [==============================] - 1s 4ms/step - loss: 0.1044 - accuracy: 0.9602 - val_loss: 0.2065 - val_accuracy: 0.9195\n",
      "Epoch 33/50\n",
      "131/131 [==============================] - 1s 5ms/step - loss: 0.1029 - accuracy: 0.9619 - val_loss: 0.5356 - val_accuracy: 0.7996\n",
      "Epoch 34/50\n",
      "131/131 [==============================] - 1s 4ms/step - loss: 0.1082 - accuracy: 0.9609 - val_loss: 0.3702 - val_accuracy: 0.8686\n",
      "Epoch 35/50\n",
      "131/131 [==============================] - 1s 4ms/step - loss: 0.0967 - accuracy: 0.9645 - val_loss: 0.1414 - val_accuracy: 0.9453\n",
      "Epoch 36/50\n",
      "131/131 [==============================] - 1s 4ms/step - loss: 0.0974 - accuracy: 0.9648 - val_loss: 0.1651 - val_accuracy: 0.9367\n",
      "Epoch 37/50\n",
      "131/131 [==============================] - 1s 4ms/step - loss: 0.1008 - accuracy: 0.9602 - val_loss: 0.5427 - val_accuracy: 0.8063\n",
      "Epoch 38/50\n",
      "131/131 [==============================] - 1s 4ms/step - loss: 0.1004 - accuracy: 0.9626 - val_loss: 0.1610 - val_accuracy: 0.9396\n",
      "Epoch 39/50\n",
      "131/131 [==============================] - 1s 4ms/step - loss: 0.0933 - accuracy: 0.9669 - val_loss: 0.1526 - val_accuracy: 0.9406\n",
      "Epoch 40/50\n",
      "131/131 [==============================] - 1s 4ms/step - loss: 0.0978 - accuracy: 0.9621 - val_loss: 0.4005 - val_accuracy: 0.8571\n",
      "Epoch 41/50\n",
      "131/131 [==============================] - 1s 4ms/step - loss: 0.0950 - accuracy: 0.9641 - val_loss: 0.3299 - val_accuracy: 0.8840\n",
      "Epoch 42/50\n",
      "131/131 [==============================] - 1s 4ms/step - loss: 0.0970 - accuracy: 0.9648 - val_loss: 0.3614 - val_accuracy: 0.8734\n",
      "Epoch 43/50\n",
      "131/131 [==============================] - 1s 4ms/step - loss: 0.0886 - accuracy: 0.9691 - val_loss: 0.1739 - val_accuracy: 0.9348\n",
      "Epoch 44/50\n",
      "131/131 [==============================] - 0s 4ms/step - loss: 0.0965 - accuracy: 0.9633 - val_loss: 0.1686 - val_accuracy: 0.9358\n",
      "Epoch 45/50\n",
      "131/131 [==============================] - 1s 5ms/step - loss: 0.0888 - accuracy: 0.9662 - val_loss: 0.1551 - val_accuracy: 0.9463\n",
      "Epoch 46/50\n",
      "131/131 [==============================] - 1s 5ms/step - loss: 0.0858 - accuracy: 0.9674 - val_loss: 0.1462 - val_accuracy: 0.9434\n",
      "Epoch 47/50\n",
      "131/131 [==============================] - 1s 5ms/step - loss: 0.0879 - accuracy: 0.9676 - val_loss: 0.1490 - val_accuracy: 0.9453\n",
      "Epoch 48/50\n",
      "131/131 [==============================] - 1s 4ms/step - loss: 0.0973 - accuracy: 0.9631 - val_loss: 0.1476 - val_accuracy: 0.9434\n",
      "Epoch 49/50\n",
      "131/131 [==============================] - 1s 4ms/step - loss: 0.0803 - accuracy: 0.9703 - val_loss: 0.2091 - val_accuracy: 0.9281\n",
      "Epoch 50/50\n",
      "131/131 [==============================] - 1s 4ms/step - loss: 0.0834 - accuracy: 0.9696 - val_loss: 0.2825 - val_accuracy: 0.9003\n"
     ]
    },
    {
     "data": {
      "text/plain": [
       "<tensorflow.python.keras.callbacks.History at 0x1dfe661ffa0>"
      ]
     },
     "execution_count": 39,
     "metadata": {},
     "output_type": "execute_result"
    }
   ],
   "source": [
    "baseline_model.fit(train_reshape, \n",
    "                   train_y, \n",
    "                   epochs=50, \n",
    "                   batch_size=32, \n",
    "                   validation_data=(val_reshape, val_y))"
   ]
  },
  {
   "cell_type": "code",
   "execution_count": 40,
   "id": "c764e151",
   "metadata": {},
   "outputs": [
    {
     "name": "stdout",
     "output_type": "stream",
     "text": [
      "131/131 [==============================] - 1s 7ms/step - loss: 0.2145 - accuracy: 0.9183\n"
     ]
    },
    {
     "data": {
      "text/plain": [
       "[0.21445898711681366, 0.9182842373847961]"
      ]
     },
     "execution_count": 40,
     "metadata": {},
     "output_type": "execute_result"
    }
   ],
   "source": [
    "results_train = baseline_model.evaluate(train_reshape, train_y)\n",
    "results_train"
   ]
  },
  {
   "cell_type": "code",
   "execution_count": 42,
   "id": "87a2e79b",
   "metadata": {},
   "outputs": [
    {
     "name": "stdout",
     "output_type": "stream",
     "text": [
      "33/33 [==============================] - 0s 5ms/step - loss: 0.2825 - accuracy: 0.9003\n"
     ]
    },
    {
     "data": {
      "text/plain": [
       "[0.2825089991092682, 0.9002876281738281]"
      ]
     },
     "execution_count": 42,
     "metadata": {},
     "output_type": "execute_result"
    }
   ],
   "source": [
    "results_val = baseline_model.evaluate(val_reshape, val_y)\n",
    "results_val"
   ]
  },
  {
   "cell_type": "markdown",
   "id": "3a96bbf3",
   "metadata": {},
   "source": [
    "## Convolutional Neural Networks - CNNs"
   ]
  },
  {
   "cell_type": "code",
   "execution_count": 37,
   "id": "b892bbb4",
   "metadata": {},
   "outputs": [],
   "source": [
    "#setting up a simple convolutional model\n",
    "simple_cnn = models.Sequential()\n",
    "\n",
    "simple_cnn.add(layers.Conv2D(filters=64, kernel_size=(3,3), activation='relu', \n",
    "          input_shape=(64, 64, 1)))\n",
    "simple_cnn.add(layers.MaxPooling2D(pool_size=(2,2)))\n",
    "simple_cnn.add(layers.Conv2D(filters=64, kernel_size=(3,3), activation='relu'))\n",
    "#single dense layer\n",
    "simple_cnn.add(layers.Flatten())\n",
    "simple_cnn.add(layers.Dense(64, activation='relu'))\n",
    "#output layer\n",
    "simple_cnn.add(layers.Dense(1, activation='sigmoid'))"
   ]
  },
  {
   "cell_type": "code",
   "execution_count": 38,
   "id": "6630f27f",
   "metadata": {},
   "outputs": [
    {
     "name": "stdout",
     "output_type": "stream",
     "text": [
      "Model: \"sequential_2\"\n",
      "_________________________________________________________________\n",
      "Layer (type)                 Output Shape              Param #   \n",
      "=================================================================\n",
      "conv2d_3 (Conv2D)            (None, 62, 62, 64)        640       \n",
      "_________________________________________________________________\n",
      "max_pooling2d_2 (MaxPooling2 (None, 31, 31, 64)        0         \n",
      "_________________________________________________________________\n",
      "conv2d_4 (Conv2D)            (None, 29, 29, 64)        36928     \n",
      "_________________________________________________________________\n",
      "flatten_1 (Flatten)          (None, 53824)             0         \n",
      "_________________________________________________________________\n",
      "dense_3 (Dense)              (None, 64)                3444800   \n",
      "_________________________________________________________________\n",
      "dense_4 (Dense)              (None, 1)                 65        \n",
      "=================================================================\n",
      "Total params: 3,482,433\n",
      "Trainable params: 3,482,433\n",
      "Non-trainable params: 0\n",
      "_________________________________________________________________\n"
     ]
    }
   ],
   "source": [
    "simple_cnn.summary()"
   ]
  },
  {
   "cell_type": "code",
   "execution_count": 39,
   "id": "db8ab46d",
   "metadata": {},
   "outputs": [],
   "source": [
    "simple_cnn.compile(optimizer='sgd',\n",
    "                  loss='binary_crossentropy',\n",
    "                  metrics=['accuracy', tf.keras.metrics.Recall()])"
   ]
  },
  {
   "cell_type": "code",
   "execution_count": 47,
   "id": "3ec1b0d4",
   "metadata": {},
   "outputs": [
    {
     "name": "stdout",
     "output_type": "stream",
     "text": [
      "Epoch 1/10\n",
      "11/11 [==============================] - 4s 349ms/step - loss: 0.4689 - accuracy: 0.7985 - recall: 0.9690\n",
      "Epoch 2/10\n",
      "11/11 [==============================] - 4s 355ms/step - loss: 0.4162 - accuracy: 0.8308 - recall: 0.9829\n",
      "Epoch 3/10\n",
      "11/11 [==============================] - 4s 353ms/step - loss: 0.4301 - accuracy: 0.8160 - recall: 0.9503\n",
      "Epoch 4/10\n",
      "11/11 [==============================] - 4s 365ms/step - loss: 0.3959 - accuracy: 0.8397 - recall: 0.9703\n",
      "Epoch 5/10\n",
      "11/11 [==============================] - 4s 379ms/step - loss: 0.3704 - accuracy: 0.8519 - recall: 0.9574\n",
      "Epoch 6/10\n",
      "11/11 [==============================] - 4s 383ms/step - loss: 0.3993 - accuracy: 0.8390 - recall: 0.9403\n",
      "Epoch 7/10\n",
      "11/11 [==============================] - 4s 373ms/step - loss: 0.3415 - accuracy: 0.8622 - recall: 0.9610\n",
      "Epoch 8/10\n",
      "11/11 [==============================] - 4s 370ms/step - loss: 0.3802 - accuracy: 0.8308 - recall: 0.9297\n",
      "Epoch 9/10\n",
      "11/11 [==============================] - 4s 332ms/step - loss: 0.3094 - accuracy: 0.8807 - recall: 0.9545\n",
      "Epoch 10/10\n",
      "11/11 [==============================] - 4s 358ms/step - loss: 0.3757 - accuracy: 0.8263 - recall: 0.9232\n"
     ]
    },
    {
     "data": {
      "text/plain": [
       "<tensorflow.python.keras.callbacks.History at 0x213bccf60a0>"
      ]
     },
     "execution_count": 47,
     "metadata": {},
     "output_type": "execute_result"
    }
   ],
   "source": [
    "simple_cnn.fit(train_images, train_labels, epochs=10, batch_size=400)"
   ]
  },
  {
   "cell_type": "code",
   "execution_count": 48,
   "id": "1741b9d9",
   "metadata": {},
   "outputs": [
    {
     "name": "stdout",
     "output_type": "stream",
     "text": [
      "131/131 [==============================] - 2s 11ms/step - loss: 0.3318 - accuracy: 0.8804 - recall: 0.8710\n"
     ]
    },
    {
     "data": {
      "text/plain": [
       "[0.33183497190475464, 0.8804217576980591, 0.8709677457809448]"
      ]
     },
     "execution_count": 48,
     "metadata": {},
     "output_type": "execute_result"
    }
   ],
   "source": [
    "simple_cnn_train = simple_cnn.evaluate(train_images, train_labels)\n",
    "simple_cnn_train"
   ]
  },
  {
   "cell_type": "code",
   "execution_count": 79,
   "id": "2520d5b2",
   "metadata": {},
   "outputs": [
    {
     "name": "stdout",
     "output_type": "stream",
     "text": [
      "131/131 [==============================] - 4s 22ms/step - loss: 0.2789 - accuracy: 0.9154 - precision: 0.9467\n"
     ]
    },
    {
     "data": {
      "text/plain": [
       "[0.2788931131362915, 0.9154085516929626, 0.9466666579246521]"
      ]
     },
     "execution_count": 79,
     "metadata": {},
     "output_type": "execute_result"
    }
   ],
   "source": [
    "#this is the  model from day 1 with very good performance in terms of accuracy\n",
    "simple_cnn_train = simple_cnn.evaluate(train_images, train_labels)\n",
    "simple_cnn_train"
   ]
  },
  {
   "cell_type": "code",
   "execution_count": 80,
   "id": "ae321506",
   "metadata": {
    "scrolled": true
   },
   "outputs": [
    {
     "name": "stdout",
     "output_type": "stream",
     "text": [
      "33/33 [==============================] - 1s 25ms/step - loss: 0.3074 - accuracy: 0.8859 - precision: 0.9216\n"
     ]
    },
    {
     "data": {
      "text/plain": [
       "[0.30743056535720825, 0.8859060406684875, 0.9215938448905945]"
      ]
     },
     "execution_count": 80,
     "metadata": {},
     "output_type": "execute_result"
    }
   ],
   "source": [
    "simple_cnn_val = simple_cnn.evaluate(val_images, val_labels)\n",
    "simple_cnn_val"
   ]
  },
  {
   "cell_type": "markdown",
   "id": "09b60185",
   "metadata": {},
   "source": [
    "Our first CNN had some overfitting (91% accuracy on the train set and 89% accuracy on the validation set). Precision was also better for the train set (94%) than the validation set (92%)."
   ]
  },
  {
   "cell_type": "code",
   "execution_count": 97,
   "id": "84e630c7",
   "metadata": {},
   "outputs": [
    {
     "data": {
      "text/plain": [
       "list"
      ]
     },
     "execution_count": 97,
     "metadata": {},
     "output_type": "execute_result"
    }
   ],
   "source": [
    "type(simple_cnn_val)"
   ]
  },
  {
   "cell_type": "code",
   "execution_count": 31,
   "id": "4621f63c",
   "metadata": {},
   "outputs": [],
   "source": [
    "#helper function to store metrics in a dictionary format for easy recall\n",
    "def metrics_to_dict(model_name, metrics, metrics_dict):\n",
    "    '''\n",
    "    Returns a dictionary with model name as key and dictionaries of metrics\n",
    "    as values\n",
    "    Nested dictionary has metric names as keys and the scores as values\n",
    "    \n",
    "    Takes the following arguments:\n",
    "    model_name: String of model name\n",
    "    metrics: list of metric scores from model.evaluate(), must match metric_names\n",
    "    metrics_dict: dictionary to be added to\n",
    "    '''\n",
    "    metrics_dict[model_name]={}\n",
    "    metric_names = ['loss', 'accuracy', 'precision']\n",
    "    for i,metric in enumerate(metric_names):\n",
    "        metrics_dict[model_name][metric] = metrics[i]\n",
    "    return metrics_dict"
   ]
  },
  {
   "cell_type": "code",
   "execution_count": 103,
   "id": "866eb990",
   "metadata": {},
   "outputs": [
    {
     "data": {
      "text/plain": [
       "{'simple_cnn': {'loss': 0.30743056535720825,\n",
       "  'accuracy': 0.8859060406684875,\n",
       "  'precision': 0.9215938448905945}}"
      ]
     },
     "execution_count": 103,
     "metadata": {},
     "output_type": "execute_result"
    }
   ],
   "source": [
    "metrics_dict = {}\n",
    "metrics_to_dict('simple_cnn', simple_cnn_val, metrics_dict)\n",
    "metrics_dict"
   ]
  },
  {
   "cell_type": "code",
   "execution_count": 85,
   "id": "724da6d7",
   "metadata": {},
   "outputs": [
    {
     "name": "stdout",
     "output_type": "stream",
     "text": [
      "README.md\n",
      "Yuhkai_notebook_scratch.ipynb\n",
      "data\n",
      "data.zip\n",
      "notebooks_scratch\n",
      "simple_cnn.pkl\n"
     ]
    }
   ],
   "source": [
    "!ls"
   ]
  },
  {
   "cell_type": "code",
   "execution_count": 94,
   "id": "140cb170",
   "metadata": {},
   "outputs": [],
   "source": [
    "#!mkdir saved_models"
   ]
  },
  {
   "cell_type": "code",
   "execution_count": 95,
   "id": "ed31cb53",
   "metadata": {},
   "outputs": [
    {
     "name": "stdout",
     "output_type": "stream",
     "text": [
      "-p\n",
      "README.md\n",
      "Yuhkai_notebook_scratch.ipynb\n",
      "data\n",
      "data.zip\n",
      "notebooks_scratch\n",
      "saved_models\n",
      "simple_cnn.pkl\n"
     ]
    }
   ],
   "source": [
    "!ls"
   ]
  },
  {
   "cell_type": "code",
   "execution_count": 96,
   "id": "fb93f055",
   "metadata": {},
   "outputs": [
    {
     "name": "stdout",
     "output_type": "stream",
     "text": [
      "INFO:tensorflow:Assets written to: saved_models/simple_cnn\\assets\n"
     ]
    }
   ],
   "source": [
    "#saving off the model as pkl file\n",
    "#simple_cnn.save('saved_models/simple_cnn')"
   ]
  },
  {
   "cell_type": "code",
   "execution_count": 41,
   "id": "0066d489",
   "metadata": {},
   "outputs": [],
   "source": [
    "#loading in pkl file\n",
    "simple_cnn_loaded = load_model('saved_models/simple_cnn')"
   ]
  },
  {
   "cell_type": "code",
   "execution_count": 42,
   "id": "8842909a",
   "metadata": {},
   "outputs": [
    {
     "name": "stdout",
     "output_type": "stream",
     "text": [
      "33/33 [==============================] - 4s 29ms/step - loss: 0.3074 - accuracy: 0.8859 - precision: 0.9216\n"
     ]
    },
    {
     "data": {
      "text/plain": [
       "[0.30743053555488586, 0.8859060406684875, 0.9215938448905945]"
      ]
     },
     "execution_count": 42,
     "metadata": {},
     "output_type": "execute_result"
    }
   ],
   "source": [
    "#testing loaded pkl file\n",
    "simple_cnn_loaded.evaluate(val_images, val_labels)"
   ]
  },
  {
   "cell_type": "code",
   "execution_count": 45,
   "id": "e2242bd8",
   "metadata": {},
   "outputs": [
    {
     "data": {
      "text/plain": [
       "array([[1],\n",
       "       [0],\n",
       "       [1],\n",
       "       ...,\n",
       "       [1],\n",
       "       [1],\n",
       "       [0]])"
      ]
     },
     "execution_count": 45,
     "metadata": {},
     "output_type": "execute_result"
    }
   ],
   "source": [
    "from sklearn.metrics import recall_score\n",
    "preds = simple_cnn_loaded.predict(val_images)\n",
    "preds = np.where(preds > 0.5, 1,0)\n",
    "preds"
   ]
  },
  {
   "cell_type": "code",
   "execution_count": 46,
   "id": "bebd2060",
   "metadata": {},
   "outputs": [
    {
     "data": {
      "text/plain": [
       "0.9251612903225807"
      ]
     },
     "execution_count": 46,
     "metadata": {},
     "output_type": "execute_result"
    }
   ],
   "source": [
    "recall_score(val_labels, preds)"
   ]
  },
  {
   "cell_type": "markdown",
   "id": "121b3c5a",
   "metadata": {},
   "source": [
    "## Second CNN Model"
   ]
  },
  {
   "cell_type": "code",
   "execution_count": 33,
   "id": "12173911",
   "metadata": {},
   "outputs": [],
   "source": [
    "#second convolutional neural network\n",
    "second_cnn = models.Sequential()\n",
    "\n",
    "#adding more convolutional and pooling layers\n",
    "second_cnn.add(layers.Conv2D(filters=64, kernel_size=(4,4), activation='relu', \n",
    "          input_shape=(64, 64, 1)))\n",
    "second_cnn.add(layers.MaxPooling2D(pool_size=(2,2)))\n",
    "second_cnn.add(layers.Conv2D(filters=64, kernel_size=(3,3), activation='relu'))\n",
    "second_cnn.add(layers.MaxPooling2D(pool_size=(2,2)))\n",
    "second_cnn.add(layers.Conv2D(filters=64, kernel_size=(4,4), activation='relu'))\n",
    "\n",
    "#two dense layers\n",
    "second_cnn.add(layers.Flatten())\n",
    "second_cnn.add(layers.Dense(64, activation='relu'))\n",
    "second_cnn.add(layers.Dense(64, activation='relu'))\n",
    "#output layer\n",
    "second_cnn.add(layers.Dense(1, activation='sigmoid'))"
   ]
  },
  {
   "cell_type": "code",
   "execution_count": 34,
   "id": "35e92569",
   "metadata": {},
   "outputs": [
    {
     "name": "stdout",
     "output_type": "stream",
     "text": [
      "Model: \"sequential_1\"\n",
      "_________________________________________________________________\n",
      "Layer (type)                 Output Shape              Param #   \n",
      "=================================================================\n",
      "conv2d (Conv2D)              (None, 61, 61, 64)        1088      \n",
      "_________________________________________________________________\n",
      "max_pooling2d (MaxPooling2D) (None, 30, 30, 64)        0         \n",
      "_________________________________________________________________\n",
      "conv2d_1 (Conv2D)            (None, 28, 28, 64)        36928     \n",
      "_________________________________________________________________\n",
      "max_pooling2d_1 (MaxPooling2 (None, 14, 14, 64)        0         \n",
      "_________________________________________________________________\n",
      "conv2d_2 (Conv2D)            (None, 11, 11, 64)        65600     \n",
      "_________________________________________________________________\n",
      "flatten (Flatten)            (None, 7744)              0         \n",
      "_________________________________________________________________\n",
      "dense (Dense)                (None, 64)                495680    \n",
      "_________________________________________________________________\n",
      "dense_1 (Dense)              (None, 64)                4160      \n",
      "_________________________________________________________________\n",
      "dense_2 (Dense)              (None, 1)                 65        \n",
      "=================================================================\n",
      "Total params: 603,521\n",
      "Trainable params: 603,521\n",
      "Non-trainable params: 0\n",
      "_________________________________________________________________\n"
     ]
    }
   ],
   "source": [
    "second_cnn.summary()"
   ]
  },
  {
   "cell_type": "code",
   "execution_count": 35,
   "id": "52fdf2ff",
   "metadata": {},
   "outputs": [],
   "source": [
    "second_cnn.compile(optimizer='sgd',\n",
    "                  loss='binary_crossentropy',\n",
    "                  metrics=['accuracy', tf.keras.metrics.Precision()])"
   ]
  },
  {
   "cell_type": "code",
   "execution_count": 36,
   "id": "57daf976",
   "metadata": {},
   "outputs": [
    {
     "name": "stdout",
     "output_type": "stream",
     "text": [
      "Epoch 1/10\n",
      "11/11 [==============================] - 8s 365ms/step - loss: 0.6890 - accuracy: 0.6039 - precision: 0.7557\n",
      "Epoch 2/10\n",
      "11/11 [==============================] - 6s 523ms/step - loss: 0.6720 - accuracy: 0.7429 - precision: 0.7429\n",
      "Epoch 3/10\n",
      "11/11 [==============================] - 7s 671ms/step - loss: 0.6597 - accuracy: 0.7429 - precision: 0.7429\n",
      "Epoch 4/10\n",
      "11/11 [==============================] - 8s 735ms/step - loss: 0.6467 - accuracy: 0.7429 - precision: 0.7429\n",
      "Epoch 5/10\n",
      "11/11 [==============================] - 8s 720ms/step - loss: 0.6307 - accuracy: 0.7429 - precision: 0.7429\n",
      "Epoch 6/10\n",
      "11/11 [==============================] - 8s 684ms/step - loss: 0.6124 - accuracy: 0.7429 - precision: 0.7429\n",
      "Epoch 7/10\n",
      "11/11 [==============================] - 8s 736ms/step - loss: 0.5945 - accuracy: 0.7429 - precision: 0.7429\n",
      "Epoch 8/10\n",
      "11/11 [==============================] - 8s 721ms/step - loss: 0.5809 - accuracy: 0.7429 - precision: 0.7429\n",
      "Epoch 9/10\n",
      "11/11 [==============================] - 8s 761ms/step - loss: 0.5733 - accuracy: 0.7429 - precision: 0.7429\n",
      "Epoch 10/10\n",
      "11/11 [==============================] - 7s 675ms/step - loss: 0.5702 - accuracy: 0.7429 - precision: 0.7429\n"
     ]
    },
    {
     "data": {
      "text/plain": [
       "<tensorflow.python.keras.callbacks.History at 0x2136b6c9d30>"
      ]
     },
     "execution_count": 36,
     "metadata": {},
     "output_type": "execute_result"
    }
   ],
   "source": [
    "second_cnn.fit(train_images, train_labels, epochs=10, batch_size=400)"
   ]
  },
  {
   "cell_type": "code",
   "execution_count": null,
   "id": "ae8ddda3",
   "metadata": {},
   "outputs": [],
   "source": [
    "#ran this second model multiple times, usually got stuck around 0.7429 accuracy"
   ]
  },
  {
   "cell_type": "code",
   "execution_count": 118,
   "id": "d9b30f08",
   "metadata": {},
   "outputs": [],
   "source": [
    "second_cnn.compile(optimizer='sgd',\n",
    "                  loss='binary_crossentropy',\n",
    "                  metrics=['accuracy', tf.keras.metrics.Precision()])"
   ]
  },
  {
   "cell_type": "code",
   "execution_count": 119,
   "id": "ece1467d",
   "metadata": {},
   "outputs": [
    {
     "name": "stdout",
     "output_type": "stream",
     "text": [
      "Epoch 1/10\n",
      "11/11 [==============================] - 5s 361ms/step - loss: 0.4866 - accuracy: 0.7429 - precision_5: 0.7429\n",
      "Epoch 2/10\n",
      "11/11 [==============================] - 4s 362ms/step - loss: 0.4696 - accuracy: 0.7431 - precision_5: 0.7430\n",
      "Epoch 3/10\n",
      "11/11 [==============================] - 4s 357ms/step - loss: 0.4597 - accuracy: 0.7525 - precision_5: 0.7502\n",
      "Epoch 4/10\n",
      "11/11 [==============================] - 4s 328ms/step - loss: 0.4367 - accuracy: 0.7695 - precision_5: 0.7641\n",
      "Epoch 5/10\n",
      "11/11 [==============================] - 4s 327ms/step - loss: 0.4178 - accuracy: 0.8009 - precision_5: 0.7916\n",
      "Epoch 6/10\n",
      "11/11 [==============================] - 4s 326ms/step - loss: 0.5014 - accuracy: 0.7985 - precision_5: 0.8149\n",
      "Epoch 7/10\n",
      "11/11 [==============================] - 4s 341ms/step - loss: 0.4388 - accuracy: 0.8090 - precision_5: 0.8135\n",
      "Epoch 8/10\n",
      "11/11 [==============================] - 4s 334ms/step - loss: 0.3947 - accuracy: 0.8284 - precision_5: 0.8229\n",
      "Epoch 9/10\n",
      "11/11 [==============================] - 4s 329ms/step - loss: 0.4243 - accuracy: 0.8164 - precision_5: 0.8321\n",
      "Epoch 10/10\n",
      "11/11 [==============================] - 4s 365ms/step - loss: 0.4009 - accuracy: 0.8200 - precision_5: 0.8326\n"
     ]
    },
    {
     "data": {
      "text/plain": [
       "<tensorflow.python.keras.callbacks.History at 0x1dfcd45c2e0>"
      ]
     },
     "execution_count": 119,
     "metadata": {},
     "output_type": "execute_result"
    }
   ],
   "source": [
    "second_cnn.fit(train_images, train_labels, epochs=10, batch_size=400)"
   ]
  },
  {
   "cell_type": "code",
   "execution_count": 123,
   "id": "f7d31367",
   "metadata": {},
   "outputs": [
    {
     "name": "stdout",
     "output_type": "stream",
     "text": [
      "131/131 [==============================] - 2s 15ms/step - loss: 0.4306 - accuracy: 0.8497 - precision_5: 0.9647\n"
     ]
    },
    {
     "data": {
      "text/plain": [
       "[0.4305930435657501, 0.8497483730316162, 0.9646749496459961]"
      ]
     },
     "execution_count": 123,
     "metadata": {},
     "output_type": "execute_result"
    }
   ],
   "source": [
    "second_cnn_train = second_cnn.evaluate(train_images, train_labels)\n",
    "second_cnn_train"
   ]
  },
  {
   "cell_type": "code",
   "execution_count": 122,
   "id": "bab4c16c",
   "metadata": {},
   "outputs": [
    {
     "name": "stdout",
     "output_type": "stream",
     "text": [
      "33/33 [==============================] - 1s 16ms/step - loss: 0.4541 - accuracy: 0.8150 - precision_5: 0.9491\n"
     ]
    },
    {
     "data": {
      "text/plain": [
       "[0.45411476492881775, 0.8149568438529968, 0.9490740895271301]"
      ]
     },
     "execution_count": 122,
     "metadata": {},
     "output_type": "execute_result"
    }
   ],
   "source": [
    "second_cnn_val = second_cnn.evaluate(val_images, val_labels)\n",
    "second_cnn_val"
   ]
  },
  {
   "cell_type": "markdown",
   "id": "fe62e8e9",
   "metadata": {},
   "source": [
    "This second model has less accuracy (still overfit) but higher precision."
   ]
  },
  {
   "cell_type": "code",
   "execution_count": 125,
   "id": "2edc93e1",
   "metadata": {},
   "outputs": [
    {
     "name": "stdout",
     "output_type": "stream",
     "text": [
      "4173\n",
      "1043\n"
     ]
    }
   ],
   "source": [
    "print(len(train_images))\n",
    "print(len(val_images))"
   ]
  },
  {
   "cell_type": "markdown",
   "id": "0f3b7d97",
   "metadata": {},
   "source": [
    "## Grid Search with CNN Model"
   ]
  },
  {
   "cell_type": "code",
   "execution_count": 49,
   "id": "cda3f18f",
   "metadata": {},
   "outputs": [],
   "source": [
    "#setting up a simple convolutional model\n",
    "GS_cnn = models.Sequential()\n",
    "\n",
    "GS_cnn.add(layers.Conv2D(filters=64, kernel_size=(3,3), activation='relu', \n",
    "          input_shape=(64, 64, 1)))\n",
    "GS_cnn.add(layers.MaxPooling2D(pool_size=(2,2)))\n",
    "GS_cnn.add(layers.Conv2D(filters=64, kernel_size=(3,3), activation='relu'))\n",
    "#single dense layer\n",
    "GS_cnn.add(layers.Flatten())\n",
    "GS_cnn.add(layers.Dense(64, activation='relu'))\n",
    "#output layer\n",
    "GS_cnn.add(layers.Dense(1, activation='sigmoid'))"
   ]
  },
  {
   "cell_type": "code",
   "execution_count": 50,
   "id": "97b69946",
   "metadata": {},
   "outputs": [
    {
     "data": {
      "text/plain": [
       "tensorflow.python.keras.engine.sequential.Sequential"
      ]
     },
     "execution_count": 50,
     "metadata": {},
     "output_type": "execute_result"
    }
   ],
   "source": [
    "type(GS_cnn)"
   ]
  },
  {
   "cell_type": "code",
   "execution_count": 56,
   "id": "22a59dec",
   "metadata": {},
   "outputs": [],
   "source": [
    "GS_cnn.compile(optimizer='sgd',\n",
    "                  loss='binary_crossentropy',\n",
    "                  metrics=['accuracy', tf.keras.metrics.Recall()])"
   ]
  },
  {
   "cell_type": "code",
   "execution_count": 55,
   "id": "18d42005",
   "metadata": {},
   "outputs": [
    {
     "data": {
      "text/plain": [
       "tensorflow.python.keras.engine.sequential.Sequential"
      ]
     },
     "execution_count": 55,
     "metadata": {},
     "output_type": "execute_result"
    }
   ],
   "source": [
    "type(GS_cnn)"
   ]
  },
  {
   "cell_type": "code",
   "execution_count": 59,
   "id": "ea835aba",
   "metadata": {},
   "outputs": [],
   "source": [
    "from sklearn.model_selection import GridSearchCV\n",
    "from tensorflow.keras.wrappers.scikit_learn import KerasClassifier\n",
    "\n",
    "def build_classifier():\n",
    "    model = models.Sequential()\n",
    "    model.add(layers.Conv2D(filters=64, kernel_size=(3,3), activation='relu', \n",
    "          input_shape=(64, 64, 1)))\n",
    "    model.add(layers.MaxPooling2D(pool_size=(2,2)))\n",
    "    model.add(layers.Conv2D(filters=64, kernel_size=(3,3), activation='relu'))\n",
    "#single dense layer\n",
    "    model.add(layers.Flatten())\n",
    "    model.add(layers.Dense(64, activation='relu'))\n",
    "#output layer\n",
    "    model.add(layers.Dense(1, activation='sigmoid'))\n",
    "    model.compile(optimizer='sgd',\n",
    "                  loss='binary_crossentropy',\n",
    "                  metrics=['accuracy', tf.keras.metrics.Recall()])\n",
    "    return model"
   ]
  },
  {
   "cell_type": "code",
   "execution_count": 60,
   "id": "1889e3ae",
   "metadata": {},
   "outputs": [],
   "source": [
    "GS_cnn = KerasClassifier(build_classifier, verbose=0)"
   ]
  },
  {
   "cell_type": "code",
   "execution_count": 74,
   "id": "f2bdc3d9",
   "metadata": {},
   "outputs": [],
   "source": [
    "batch_size = [100, 200, 400, 1000]\n",
    "epochs = [10, 20, 30]\n",
    "#early_stop = [EarlyStopping(monitor='loss', min_delta=1e-3, verbose=1, mode='min')]\n",
    "\n",
    "param_grid = dict(batch_size=batch_size, epochs=epochs, callbacks=[early_stop])\n"
   ]
  },
  {
   "cell_type": "code",
   "execution_count": 75,
   "id": "9606b9c5",
   "metadata": {},
   "outputs": [],
   "source": [
    "grid = GridSearchCV(estimator=GS_cnn, param_grid=param_grid, cv=3, verbose=3)"
   ]
  },
  {
   "cell_type": "code",
   "execution_count": 76,
   "id": "75338368",
   "metadata": {},
   "outputs": [
    {
     "name": "stdout",
     "output_type": "stream",
     "text": [
      "Fitting 3 folds for each of 12 candidates, totalling 36 fits\n",
      "[CV 1/3] END batch_size=100, callbacks=[<tensorflow.python.keras.callbacks.EarlyStopping object at 0x00000213C8A00AF0>], epochs=10;, score=0.735 total time=   4.7s\n",
      "[CV 2/3] END batch_size=100, callbacks=[<tensorflow.python.keras.callbacks.EarlyStopping object at 0x00000213C8A00AF0>], epochs=10;, score=0.756 total time=   4.9s\n",
      "[CV 3/3] END batch_size=100, callbacks=[<tensorflow.python.keras.callbacks.EarlyStopping object at 0x00000213C8A00AF0>], epochs=10;, score=0.738 total time=   5.0s\n",
      "[CV 1/3] END batch_size=100, callbacks=[<tensorflow.python.keras.callbacks.EarlyStopping object at 0x00000213C8A00AF0>], epochs=20;, score=0.735 total time=   5.1s\n",
      "[CV 2/3] END batch_size=100, callbacks=[<tensorflow.python.keras.callbacks.EarlyStopping object at 0x00000213C8A00AF0>], epochs=20;, score=0.756 total time=   5.2s\n",
      "[CV 3/3] END batch_size=100, callbacks=[<tensorflow.python.keras.callbacks.EarlyStopping object at 0x00000213C8A00AF0>], epochs=20;, score=0.738 total time=   4.9s\n",
      "[CV 1/3] END batch_size=100, callbacks=[<tensorflow.python.keras.callbacks.EarlyStopping object at 0x00000213C8A00AF0>], epochs=30;, score=0.735 total time=   5.0s\n",
      "[CV 2/3] END batch_size=100, callbacks=[<tensorflow.python.keras.callbacks.EarlyStopping object at 0x00000213C8A00AF0>], epochs=30;, score=0.756 total time=   4.9s\n",
      "[CV 3/3] END batch_size=100, callbacks=[<tensorflow.python.keras.callbacks.EarlyStopping object at 0x00000213C8A00AF0>], epochs=30;, score=0.738 total time=   4.8s\n",
      "[CV 1/3] END batch_size=200, callbacks=[<tensorflow.python.keras.callbacks.EarlyStopping object at 0x00000213C8A00AF0>], epochs=10;, score=0.735 total time=   4.4s\n",
      "[CV 2/3] END batch_size=200, callbacks=[<tensorflow.python.keras.callbacks.EarlyStopping object at 0x00000213C8A00AF0>], epochs=10;, score=0.756 total time=   4.1s\n",
      "[CV 3/3] END batch_size=200, callbacks=[<tensorflow.python.keras.callbacks.EarlyStopping object at 0x00000213C8A00AF0>], epochs=10;, score=0.738 total time=   4.0s\n",
      "[CV 1/3] END batch_size=200, callbacks=[<tensorflow.python.keras.callbacks.EarlyStopping object at 0x00000213C8A00AF0>], epochs=20;, score=0.735 total time=   4.0s\n",
      "[CV 2/3] END batch_size=200, callbacks=[<tensorflow.python.keras.callbacks.EarlyStopping object at 0x00000213C8A00AF0>], epochs=20;, score=0.756 total time=   3.9s\n",
      "[CV 3/3] END batch_size=200, callbacks=[<tensorflow.python.keras.callbacks.EarlyStopping object at 0x00000213C8A00AF0>], epochs=20;, score=0.738 total time=   3.9s\n",
      "[CV 1/3] END batch_size=200, callbacks=[<tensorflow.python.keras.callbacks.EarlyStopping object at 0x00000213C8A00AF0>], epochs=30;, score=0.735 total time=   4.6s\n",
      "[CV 2/3] END batch_size=200, callbacks=[<tensorflow.python.keras.callbacks.EarlyStopping object at 0x00000213C8A00AF0>], epochs=30;, score=0.756 total time=   4.0s\n",
      "[CV 3/3] END batch_size=200, callbacks=[<tensorflow.python.keras.callbacks.EarlyStopping object at 0x00000213C8A00AF0>], epochs=30;, score=0.738 total time=   4.1s\n",
      "[CV 1/3] END batch_size=400, callbacks=[<tensorflow.python.keras.callbacks.EarlyStopping object at 0x00000213C8A00AF0>], epochs=10;, score=0.735 total time=   3.5s\n",
      "[CV 2/3] END batch_size=400, callbacks=[<tensorflow.python.keras.callbacks.EarlyStopping object at 0x00000213C8A00AF0>], epochs=10;, score=0.756 total time=   3.6s\n",
      "[CV 3/3] END batch_size=400, callbacks=[<tensorflow.python.keras.callbacks.EarlyStopping object at 0x00000213C8A00AF0>], epochs=10;, score=0.738 total time=   4.2s\n",
      "[CV 1/3] END batch_size=400, callbacks=[<tensorflow.python.keras.callbacks.EarlyStopping object at 0x00000213C8A00AF0>], epochs=20;, score=0.735 total time=   3.7s\n",
      "[CV 2/3] END batch_size=400, callbacks=[<tensorflow.python.keras.callbacks.EarlyStopping object at 0x00000213C8A00AF0>], epochs=20;, score=0.756 total time=   3.6s\n",
      "[CV 3/3] END batch_size=400, callbacks=[<tensorflow.python.keras.callbacks.EarlyStopping object at 0x00000213C8A00AF0>], epochs=20;, score=0.738 total time=   3.5s\n",
      "[CV 1/3] END batch_size=400, callbacks=[<tensorflow.python.keras.callbacks.EarlyStopping object at 0x00000213C8A00AF0>], epochs=30;, score=0.735 total time=   3.6s\n",
      "[CV 2/3] END batch_size=400, callbacks=[<tensorflow.python.keras.callbacks.EarlyStopping object at 0x00000213C8A00AF0>], epochs=30;, score=0.756 total time=   3.9s\n",
      "[CV 3/3] END batch_size=400, callbacks=[<tensorflow.python.keras.callbacks.EarlyStopping object at 0x00000213C8A00AF0>], epochs=30;, score=0.738 total time=   3.5s\n",
      "[CV 1/3] END batch_size=1000, callbacks=[<tensorflow.python.keras.callbacks.EarlyStopping object at 0x00000213C8A00AF0>], epochs=10;, score=0.735 total time=   3.3s\n",
      "[CV 2/3] END batch_size=1000, callbacks=[<tensorflow.python.keras.callbacks.EarlyStopping object at 0x00000213C8A00AF0>], epochs=10;, score=0.756 total time=   3.3s\n",
      "[CV 3/3] END batch_size=1000, callbacks=[<tensorflow.python.keras.callbacks.EarlyStopping object at 0x00000213C8A00AF0>], epochs=10;, score=0.738 total time=   3.3s\n",
      "[CV 1/3] END batch_size=1000, callbacks=[<tensorflow.python.keras.callbacks.EarlyStopping object at 0x00000213C8A00AF0>], epochs=20;, score=0.735 total time=   3.7s\n",
      "[CV 2/3] END batch_size=1000, callbacks=[<tensorflow.python.keras.callbacks.EarlyStopping object at 0x00000213C8A00AF0>], epochs=20;, score=0.756 total time=   3.3s\n",
      "[CV 3/3] END batch_size=1000, callbacks=[<tensorflow.python.keras.callbacks.EarlyStopping object at 0x00000213C8A00AF0>], epochs=20;, score=0.738 total time=   3.3s\n",
      "[CV 1/3] END batch_size=1000, callbacks=[<tensorflow.python.keras.callbacks.EarlyStopping object at 0x00000213C8A00AF0>], epochs=30;, score=0.735 total time=   3.3s\n",
      "[CV 2/3] END batch_size=1000, callbacks=[<tensorflow.python.keras.callbacks.EarlyStopping object at 0x00000213C8A00AF0>], epochs=30;, score=0.756 total time=   3.3s\n",
      "[CV 3/3] END batch_size=1000, callbacks=[<tensorflow.python.keras.callbacks.EarlyStopping object at 0x00000213C8A00AF0>], epochs=30;, score=0.738 total time=   3.7s\n"
     ]
    }
   ],
   "source": [
    "grid_results = grid.fit(train_images, train_labels)"
   ]
  },
  {
   "cell_type": "code",
   "execution_count": 77,
   "id": "6539109a",
   "metadata": {},
   "outputs": [
    {
     "data": {
      "text/plain": [
       "{'batch_size': 100,\n",
       " 'callbacks': [<tensorflow.python.keras.callbacks.EarlyStopping at 0x213c8a00af0>],\n",
       " 'epochs': 10}"
      ]
     },
     "execution_count": 77,
     "metadata": {},
     "output_type": "execute_result"
    }
   ],
   "source": [
    "grid_results.best_params_"
   ]
  },
  {
   "cell_type": "code",
   "execution_count": 78,
   "id": "4d5e9b4b",
   "metadata": {},
   "outputs": [
    {
     "data": {
      "text/plain": [
       "0.74287082751592"
      ]
     },
     "execution_count": 78,
     "metadata": {},
     "output_type": "execute_result"
    }
   ],
   "source": [
    "grid_results.best_score_"
   ]
  },
  {
   "cell_type": "code",
   "execution_count": 79,
   "id": "51f843ec",
   "metadata": {},
   "outputs": [
    {
     "data": {
      "text/plain": [
       "tensorflow.python.keras.engine.sequential.Sequential"
      ]
     },
     "execution_count": 79,
     "metadata": {},
     "output_type": "execute_result"
    }
   ],
   "source": [
    "type(simple_cnn_loaded)"
   ]
  },
  {
   "cell_type": "code",
   "execution_count": 82,
   "id": "9bddc8c1",
   "metadata": {},
   "outputs": [],
   "source": [
    "simple_cnn_loaded.compile(optimizer='sgd',\n",
    "                  loss='binary_crossentropy',\n",
    "                  metrics=['accuracy', tf.keras.metrics.Recall()])"
   ]
  },
  {
   "cell_type": "code",
   "execution_count": 83,
   "id": "2203a1bf",
   "metadata": {},
   "outputs": [
    {
     "name": "stdout",
     "output_type": "stream",
     "text": [
      "33/33 [==============================] - 1s 15ms/step - loss: 0.3074 - accuracy: 0.8859 - recall_84: 0.9252\n"
     ]
    },
    {
     "data": {
      "text/plain": [
       "[0.30743053555488586, 0.8859060406684875, 0.9251613020896912]"
      ]
     },
     "execution_count": 83,
     "metadata": {},
     "output_type": "execute_result"
    }
   ],
   "source": [
    "simple_cnn_loaded.evaluate(val_images, val_labels)"
   ]
  },
  {
   "cell_type": "markdown",
   "id": "fb3051fb",
   "metadata": {},
   "source": [
    "## More CNN modeling"
   ]
  },
  {
   "cell_type": "code",
   "execution_count": 50,
   "id": "d10cba58",
   "metadata": {},
   "outputs": [],
   "source": [
    "third_cnn = models.Sequential()\n",
    "\n",
    "third_cnn.add(layers.Conv2D(filters=32, kernel_size=(2,2), activation='relu', \n",
    "          input_shape=(64, 64, 1)))\n",
    "third_cnn.add(layers.MaxPooling2D(pool_size=(2,2)))\n",
    "third_cnn.add(layers.Conv2D(filters=64, kernel_size=(2,2), activation='relu'))\n",
    "third_cnn.add(layers.MaxPooling2D(pool_size=(2,2)))\n",
    "third_cnn.add(layers.Conv2D(filters=128, kernel_size=(2,2), activation='relu'))\n",
    "third_cnn.add(layers.MaxPooling2D(pool_size=(2,2)))\n",
    "#single dense layer\n",
    "third_cnn.add(layers.Flatten())\n",
    "third_cnn.add(layers.Dense(64, activation='relu'))\n",
    "#output layer\n",
    "third_cnn.add(layers.Dense(1, activation='sigmoid'))"
   ]
  },
  {
   "cell_type": "code",
   "execution_count": 51,
   "id": "b319d351",
   "metadata": {},
   "outputs": [
    {
     "name": "stdout",
     "output_type": "stream",
     "text": [
      "Model: \"sequential_1\"\n",
      "_________________________________________________________________\n",
      "Layer (type)                 Output Shape              Param #   \n",
      "=================================================================\n",
      "conv2d_3 (Conv2D)            (None, 63, 63, 32)        160       \n",
      "_________________________________________________________________\n",
      "max_pooling2d_3 (MaxPooling2 (None, 31, 31, 32)        0         \n",
      "_________________________________________________________________\n",
      "conv2d_4 (Conv2D)            (None, 30, 30, 64)        8256      \n",
      "_________________________________________________________________\n",
      "max_pooling2d_4 (MaxPooling2 (None, 15, 15, 64)        0         \n",
      "_________________________________________________________________\n",
      "conv2d_5 (Conv2D)            (None, 14, 14, 128)       32896     \n",
      "_________________________________________________________________\n",
      "max_pooling2d_5 (MaxPooling2 (None, 7, 7, 128)         0         \n",
      "_________________________________________________________________\n",
      "flatten_1 (Flatten)          (None, 6272)              0         \n",
      "_________________________________________________________________\n",
      "dense_2 (Dense)              (None, 64)                401472    \n",
      "_________________________________________________________________\n",
      "dense_3 (Dense)              (None, 1)                 65        \n",
      "=================================================================\n",
      "Total params: 442,849\n",
      "Trainable params: 442,849\n",
      "Non-trainable params: 0\n",
      "_________________________________________________________________\n"
     ]
    }
   ],
   "source": [
    "third_cnn.summary()"
   ]
  },
  {
   "cell_type": "code",
   "execution_count": 52,
   "id": "f4cc2877",
   "metadata": {},
   "outputs": [],
   "source": [
    "third_cnn.compile(optimizer='sgd',\n",
    "                  loss='binary_crossentropy',\n",
    "                  metrics=['accuracy', tf.keras.metrics.Precision()])"
   ]
  },
  {
   "cell_type": "code",
   "execution_count": 54,
   "id": "4e7d495c",
   "metadata": {},
   "outputs": [
    {
     "name": "stdout",
     "output_type": "stream",
     "text": [
      "Epoch 1/20\n",
      "140/140 [==============================] - 10s 69ms/step - loss: 0.5398 - accuracy: 0.7429 - precision_2: 0.7429 - val_loss: 0.5794 - val_accuracy: 0.7622 - val_precision_2: 0.7581\n",
      "Epoch 2/20\n",
      "140/140 [==============================] - 9s 62ms/step - loss: 0.5000 - accuracy: 0.7510 - precision_2: 0.7492 - val_loss: 0.4788 - val_accuracy: 0.7776 - val_precision_2: 0.7712\n",
      "Epoch 3/20\n",
      "140/140 [==============================] - 8s 59ms/step - loss: 0.4306 - accuracy: 0.7977 - precision_2: 0.7976 - val_loss: 0.4364 - val_accuracy: 0.7555 - val_precision_2: 0.7529\n",
      "Epoch 4/20\n",
      "140/140 [==============================] - 9s 64ms/step - loss: 0.3711 - accuracy: 0.8387 - precision_2: 0.8531 - val_loss: 0.5439 - val_accuracy: 0.7498 - val_precision_2: 0.7485\n",
      "Epoch 5/20\n",
      "140/140 [==============================] - 10s 74ms/step - loss: 0.2961 - accuracy: 0.8790 - precision_2: 0.8947 - val_loss: 2.0909 - val_accuracy: 0.2742 - val_precision_2: 1.0000\n",
      "Epoch 6/20\n",
      "140/140 [==============================] - 9s 63ms/step - loss: 0.2693 - accuracy: 0.8926 - precision_2: 0.9167 - val_loss: 0.4750 - val_accuracy: 0.7709 - val_precision_2: 0.9891\n",
      "Epoch 7/20\n",
      "140/140 [==============================] - 9s 65ms/step - loss: 0.2190 - accuracy: 0.9171 - precision_2: 0.9330 - val_loss: 0.2269 - val_accuracy: 0.9032 - val_precision_2: 0.8974\n",
      "Epoch 8/20\n",
      "140/140 [==============================] - 9s 63ms/step - loss: 0.1987 - accuracy: 0.9192 - precision_2: 0.9379 - val_loss: 0.2899 - val_accuracy: 0.8667 - val_precision_2: 0.8525\n",
      "Epoch 9/20\n",
      "140/140 [==============================] - 8s 60ms/step - loss: 0.1746 - accuracy: 0.9319 - precision_2: 0.9504 - val_loss: 0.1806 - val_accuracy: 0.9195 - val_precision_2: 0.9458\n",
      "Epoch 10/20\n",
      "140/140 [==============================] - 18s 126ms/step - loss: 0.1645 - accuracy: 0.9367 - precision_2: 0.9536 - val_loss: 0.1875 - val_accuracy: 0.9185 - val_precision_2: 0.9675\n",
      "Epoch 11/20\n",
      "140/140 [==============================] - 17s 124ms/step - loss: 0.1613 - accuracy: 0.9365 - precision_2: 0.9539 - val_loss: 0.1631 - val_accuracy: 0.9252 - val_precision_2: 0.9508\n",
      "Epoch 12/20\n",
      "140/140 [==============================] - 17s 121ms/step - loss: 0.1533 - accuracy: 0.9410 - precision_2: 0.9583 - val_loss: 0.1580 - val_accuracy: 0.9329 - val_precision_2: 0.9445\n",
      "Epoch 13/20\n",
      "140/140 [==============================] - 18s 128ms/step - loss: 0.1440 - accuracy: 0.9430 - precision_2: 0.9581 - val_loss: 0.6643 - val_accuracy: 0.7200 - val_precision_2: 0.9959\n",
      "Epoch 14/20\n",
      "140/140 [==============================] - 17s 124ms/step - loss: 0.1372 - accuracy: 0.9449 - precision_2: 0.9620 - val_loss: 0.1510 - val_accuracy: 0.9348 - val_precision_2: 0.9402\n",
      "Epoch 15/20\n",
      "140/140 [==============================] - 17s 124ms/step - loss: 0.1353 - accuracy: 0.9492 - precision_2: 0.9616 - val_loss: 0.1439 - val_accuracy: 0.9415 - val_precision_2: 0.9589\n",
      "Epoch 16/20\n",
      "140/140 [==============================] - 17s 120ms/step - loss: 0.1312 - accuracy: 0.9497 - precision_2: 0.9637 - val_loss: 0.1463 - val_accuracy: 0.9386 - val_precision_2: 0.9696\n",
      "Epoch 17/20\n",
      "140/140 [==============================] - 17s 119ms/step - loss: 0.1267 - accuracy: 0.9504 - precision_2: 0.9635 - val_loss: 0.7665 - val_accuracy: 0.6922 - val_precision_2: 1.0000\n",
      "Epoch 18/20\n",
      "140/140 [==============================] - 17s 121ms/step - loss: 0.1242 - accuracy: 0.9528 - precision_2: 0.9654 - val_loss: 0.1418 - val_accuracy: 0.9319 - val_precision_2: 0.9356\n",
      "Epoch 19/20\n",
      "140/140 [==============================] - 17s 124ms/step - loss: 0.1188 - accuracy: 0.9545 - precision_2: 0.9672 - val_loss: 0.1315 - val_accuracy: 0.9425 - val_precision_2: 0.9601\n",
      "Epoch 20/20\n",
      "140/140 [==============================] - 18s 126ms/step - loss: 0.1167 - accuracy: 0.9542 - precision_2: 0.9648 - val_loss: 0.1343 - val_accuracy: 0.9386 - val_precision_2: 0.9427\n"
     ]
    },
    {
     "data": {
      "text/plain": [
       "<tensorflow.python.keras.callbacks.History at 0x1bfc5fde460>"
      ]
     },
     "execution_count": 54,
     "metadata": {},
     "output_type": "execute_result"
    }
   ],
   "source": [
    "third_cnn.fit(train_images, train_labels, epochs=20, batch_size=30, validation_data=(val_images, val_labels))"
   ]
  },
  {
   "cell_type": "code",
   "execution_count": 55,
   "id": "c9795292",
   "metadata": {},
   "outputs": [
    {
     "name": "stdout",
     "output_type": "stream",
     "text": [
      "131/131 [==============================] - 1s 6ms/step - loss: 0.1205 - accuracy: 0.9511 - precision_2: 0.9500\n"
     ]
    },
    {
     "data": {
      "text/plain": [
       "[0.12046554684638977, 0.951114296913147, 0.9499689340591431]"
      ]
     },
     "execution_count": 55,
     "metadata": {},
     "output_type": "execute_result"
    }
   ],
   "source": [
    "third_cnn.evaluate(train_images, train_labels)"
   ]
  },
  {
   "cell_type": "code",
   "execution_count": 56,
   "id": "2109a815",
   "metadata": {},
   "outputs": [
    {
     "name": "stdout",
     "output_type": "stream",
     "text": [
      "33/33 [==============================] - 0s 8ms/step - loss: 0.1343 - accuracy: 0.9386 - precision_2: 0.9427\n"
     ]
    },
    {
     "data": {
      "text/plain": [
       "[0.13427318632602692, 0.9386385679244995, 0.9427148103713989]"
      ]
     },
     "execution_count": 56,
     "metadata": {},
     "output_type": "execute_result"
    }
   ],
   "source": [
    "third_cnn.evaluate(val_images, val_labels)"
   ]
  },
  {
   "cell_type": "code",
   "execution_count": 139,
   "id": "1598fe40",
   "metadata": {},
   "outputs": [
    {
     "name": "stdout",
     "output_type": "stream",
     "text": [
      "INFO:tensorflow:Assets written to: saved_models/third_cnn_2\\assets\n"
     ]
    }
   ],
   "source": [
    "#third_cnn.save('saved_models/third_cnn_2')"
   ]
  },
  {
   "cell_type": "code",
   "execution_count": 124,
   "id": "24869e20",
   "metadata": {},
   "outputs": [],
   "source": [
    "third_cnn_loaded = load_model('saved_models/third_cnn')"
   ]
  },
  {
   "cell_type": "code",
   "execution_count": 125,
   "id": "b05c1c87",
   "metadata": {},
   "outputs": [
    {
     "name": "stdout",
     "output_type": "stream",
     "text": [
      "Model: \"sequential_88\"\n",
      "_________________________________________________________________\n",
      "Layer (type)                 Output Shape              Param #   \n",
      "=================================================================\n",
      "conv2d_178 (Conv2D)          (None, 63, 63, 32)        160       \n",
      "_________________________________________________________________\n",
      "max_pooling2d_93 (MaxPooling (None, 31, 31, 32)        0         \n",
      "_________________________________________________________________\n",
      "conv2d_179 (Conv2D)          (None, 30, 30, 64)        8256      \n",
      "_________________________________________________________________\n",
      "max_pooling2d_94 (MaxPooling (None, 15, 15, 64)        0         \n",
      "_________________________________________________________________\n",
      "conv2d_180 (Conv2D)          (None, 11, 14, 128)       82048     \n",
      "_________________________________________________________________\n",
      "max_pooling2d_95 (MaxPooling (None, 5, 7, 128)         0         \n",
      "_________________________________________________________________\n",
      "flatten_87 (Flatten)         (None, 4480)              0         \n",
      "_________________________________________________________________\n",
      "dense_175 (Dense)            (None, 64)                286784    \n",
      "_________________________________________________________________\n",
      "dense_176 (Dense)            (None, 1)                 65        \n",
      "=================================================================\n",
      "Total params: 377,313\n",
      "Trainable params: 377,313\n",
      "Non-trainable params: 0\n",
      "_________________________________________________________________\n"
     ]
    }
   ],
   "source": [
    "third_cnn_loaded.summary()"
   ]
  },
  {
   "cell_type": "code",
   "execution_count": 135,
   "id": "a63347a8",
   "metadata": {
    "scrolled": true
   },
   "outputs": [
    {
     "name": "stdout",
     "output_type": "stream",
     "text": [
      "131/131 [==============================] - 1s 5ms/step - loss: 0.1771 - accuracy: 0.9291 - precision_3: 0.9354\n"
     ]
    },
    {
     "data": {
      "text/plain": [
       "[0.1771456003189087, 0.9290677905082703, 0.9354037046432495]"
      ]
     },
     "execution_count": 135,
     "metadata": {},
     "output_type": "execute_result"
    }
   ],
   "source": [
    "third_cnn_loaded.evaluate(train_images, train_labels)"
   ]
  },
  {
   "cell_type": "code",
   "execution_count": 148,
   "id": "bbf05c6d",
   "metadata": {},
   "outputs": [
    {
     "name": "stdout",
     "output_type": "stream",
     "text": [
      "33/33 [==============================] - 0s 5ms/step - loss: 0.2020 - accuracy: 0.9147 - precision_3: 0.9235\n"
     ]
    },
    {
     "data": {
      "text/plain": [
       "[0.2019975781440735, 0.9146692156791687, 0.9234567880630493]"
      ]
     },
     "execution_count": 148,
     "metadata": {},
     "output_type": "execute_result"
    }
   ],
   "source": [
    "third_cnn_loaded.evaluate(val_images, val_labels)"
   ]
  },
  {
   "cell_type": "code",
   "execution_count": 34,
   "id": "332892f8",
   "metadata": {},
   "outputs": [],
   "source": [
    "third_cnn_2=load_model('saved_models/third_cnn_2')"
   ]
  },
  {
   "cell_type": "code",
   "execution_count": 36,
   "id": "9d8aa24b",
   "metadata": {},
   "outputs": [
    {
     "name": "stdout",
     "output_type": "stream",
     "text": [
      "131/131 [==============================] - 1s 4ms/step - loss: 0.1219 - accuracy: 0.9540 - precision_8: 0.9783\n"
     ]
    },
    {
     "data": {
      "text/plain": [
       "[0.12193672358989716, 0.9539899230003357, 0.9782894849777222]"
      ]
     },
     "execution_count": 36,
     "metadata": {},
     "output_type": "execute_result"
    }
   ],
   "source": [
    "third_cnn_2.evaluate(train_images, train_labels)"
   ]
  },
  {
   "cell_type": "code",
   "execution_count": 37,
   "id": "5f4f3334",
   "metadata": {},
   "outputs": [
    {
     "name": "stdout",
     "output_type": "stream",
     "text": [
      "33/33 [==============================] - 0s 7ms/step - loss: 0.1530 - accuracy: 0.9406 - precision_8: 0.9785\n"
     ]
    },
    {
     "data": {
      "text/plain": [
       "[0.1530119925737381, 0.9405561089515686, 0.9785234928131104]"
      ]
     },
     "execution_count": 37,
     "metadata": {},
     "output_type": "execute_result"
    }
   ],
   "source": [
    "third_cnn_2.evaluate(val_images, val_labels)"
   ]
  },
  {
   "cell_type": "markdown",
   "id": "00b9d06f",
   "metadata": {},
   "source": [
    "## Adjusting third model"
   ]
  },
  {
   "cell_type": "code",
   "execution_count": 120,
   "id": "b42320e0",
   "metadata": {},
   "outputs": [],
   "source": [
    "fourth_cnn = models.Sequential()\n",
    "\n",
    "fourth_cnn.add(layers.Conv2D(filters=64, kernel_size=(3,3), activation='relu', \n",
    "          input_shape=(64, 64, 1)))\n",
    "fourth_cnn.add(layers.MaxPooling2D(pool_size=(2,2)))\n",
    "fourth_cnn.add(layers.Conv2D(filters=128, kernel_size=(3,3), activation='relu'))\n",
    "fourth_cnn.add(layers.MaxPooling2D(pool_size=(2,2)))\n",
    "fourth_cnn.add(layers.Conv2D(filters=128, kernel_size=(3,3), activation='relu'))\n",
    "fourth_cnn.add(layers.MaxPooling2D(pool_size=(2,2)))\n",
    "#two dense layers\n",
    "fourth_cnn.add(layers.Flatten())\n",
    "fourth_cnn.add(layers.Dense(64, activation='relu'))\n",
    "fourth_cnn.add(layers.Dense(64, activation='relu'))\n",
    "#output layer\n",
    "fourth_cnn.add(layers.Dense(1, activation='sigmoid'))"
   ]
  },
  {
   "cell_type": "code",
   "execution_count": 121,
   "id": "4fd88cfb",
   "metadata": {},
   "outputs": [
    {
     "name": "stdout",
     "output_type": "stream",
     "text": [
      "Model: \"sequential_94\"\n",
      "_________________________________________________________________\n",
      "Layer (type)                 Output Shape              Param #   \n",
      "=================================================================\n",
      "conv2d_196 (Conv2D)          (None, 62, 62, 64)        640       \n",
      "_________________________________________________________________\n",
      "max_pooling2d_111 (MaxPoolin (None, 31, 31, 64)        0         \n",
      "_________________________________________________________________\n",
      "conv2d_197 (Conv2D)          (None, 29, 29, 128)       73856     \n",
      "_________________________________________________________________\n",
      "max_pooling2d_112 (MaxPoolin (None, 14, 14, 128)       0         \n",
      "_________________________________________________________________\n",
      "conv2d_198 (Conv2D)          (None, 12, 12, 128)       147584    \n",
      "_________________________________________________________________\n",
      "max_pooling2d_113 (MaxPoolin (None, 6, 6, 128)         0         \n",
      "_________________________________________________________________\n",
      "flatten_93 (Flatten)         (None, 4608)              0         \n",
      "_________________________________________________________________\n",
      "dense_190 (Dense)            (None, 64)                294976    \n",
      "_________________________________________________________________\n",
      "dense_191 (Dense)            (None, 64)                4160      \n",
      "_________________________________________________________________\n",
      "dense_192 (Dense)            (None, 1)                 65        \n",
      "=================================================================\n",
      "Total params: 521,281\n",
      "Trainable params: 521,281\n",
      "Non-trainable params: 0\n",
      "_________________________________________________________________\n"
     ]
    }
   ],
   "source": [
    "fourth_cnn.summary()"
   ]
  },
  {
   "cell_type": "code",
   "execution_count": 122,
   "id": "5c7177c3",
   "metadata": {},
   "outputs": [],
   "source": [
    "fourth_cnn.compile(optimizer='sgd',\n",
    "                  loss='binary_crossentropy',\n",
    "                  metrics=['accuracy', tf.keras.metrics.Precision()])"
   ]
  },
  {
   "cell_type": "code",
   "execution_count": 130,
   "id": "3776400c",
   "metadata": {},
   "outputs": [
    {
     "name": "stdout",
     "output_type": "stream",
     "text": [
      "Epoch 1/10\n",
      "21/21 [==============================] - 6s 298ms/step - loss: 0.5756 - accuracy: 0.7429 - precision_6: 0.7429 - val_loss: 0.5682 - val_accuracy: 0.7430 - val_precision_6: 0.7430\n",
      "Epoch 2/10\n",
      "21/21 [==============================] - 6s 300ms/step - loss: 0.5743 - accuracy: 0.7429 - precision_6: 0.7429 - val_loss: 0.5666 - val_accuracy: 0.7430 - val_precision_6: 0.7430\n",
      "Epoch 3/10\n",
      "21/21 [==============================] - 6s 301ms/step - loss: 0.5729 - accuracy: 0.7429 - precision_6: 0.7429 - val_loss: 0.5654 - val_accuracy: 0.7430 - val_precision_6: 0.7430\n",
      "Epoch 4/10\n",
      "21/21 [==============================] - 6s 295ms/step - loss: 0.5718 - accuracy: 0.7429 - precision_6: 0.7429 - val_loss: 0.5644 - val_accuracy: 0.7430 - val_precision_6: 0.7430\n",
      "Epoch 5/10\n",
      "21/21 [==============================] - 6s 303ms/step - loss: 0.5706 - accuracy: 0.7429 - precision_6: 0.7429 - val_loss: 0.5632 - val_accuracy: 0.7430 - val_precision_6: 0.7430\n",
      "Epoch 6/10\n",
      "21/21 [==============================] - 5s 261ms/step - loss: 0.5692 - accuracy: 0.7429 - precision_6: 0.7429 - val_loss: 0.5622 - val_accuracy: 0.7430 - val_precision_6: 0.7430\n",
      "Epoch 7/10\n",
      "21/21 [==============================] - 6s 281ms/step - loss: 0.5679 - accuracy: 0.7429 - precision_6: 0.7429 - val_loss: 0.5610 - val_accuracy: 0.7430 - val_precision_6: 0.7430\n",
      "Epoch 8/10\n",
      "21/21 [==============================] - 6s 294ms/step - loss: 0.5664 - accuracy: 0.7429 - precision_6: 0.7429 - val_loss: 0.5596 - val_accuracy: 0.7430 - val_precision_6: 0.7430\n",
      "Epoch 9/10\n",
      "21/21 [==============================] - 7s 312ms/step - loss: 0.5648 - accuracy: 0.7429 - precision_6: 0.7429 - val_loss: 0.5585 - val_accuracy: 0.7430 - val_precision_6: 0.7430\n",
      "Epoch 10/10\n",
      "21/21 [==============================] - 7s 326ms/step - loss: 0.5633 - accuracy: 0.7429 - precision_6: 0.7429 - val_loss: 0.5569 - val_accuracy: 0.7430 - val_precision_6: 0.7430\n"
     ]
    },
    {
     "data": {
      "text/plain": [
       "<tensorflow.python.keras.callbacks.History at 0x213dbe13700>"
      ]
     },
     "execution_count": 130,
     "metadata": {},
     "output_type": "execute_result"
    }
   ],
   "source": [
    "fourth_cnn.fit(train_images, train_labels, epochs=10, batch_size=200, validation_data=(val_images, val_labels))"
   ]
  },
  {
   "cell_type": "markdown",
   "id": "1ef4a178",
   "metadata": {},
   "source": [
    "## Data Augmentation"
   ]
  },
  {
   "cell_type": "code",
   "execution_count": 59,
   "id": "cc345c20",
   "metadata": {},
   "outputs": [
    {
     "data": {
      "text/plain": [
       "['IM-0115-0001.jpeg',\n",
       " 'IM-0117-0001.jpeg',\n",
       " 'IM-0119-0001.jpeg',\n",
       " 'IM-0122-0001.jpeg',\n",
       " 'IM-0125-0001.jpeg',\n",
       " 'IM-0127-0001.jpeg',\n",
       " 'IM-0128-0001.jpeg',\n",
       " 'IM-0129-0001.jpeg',\n",
       " 'IM-0131-0001.jpeg',\n",
       " 'IM-0133-0001.jpeg',\n",
       " 'IM-0135-0001.jpeg',\n",
       " 'IM-0137-0001.jpeg',\n",
       " 'IM-0140-0001.jpeg',\n",
       " 'IM-0141-0001.jpeg',\n",
       " 'IM-0143-0001.jpeg',\n",
       " 'IM-0145-0001.jpeg',\n",
       " 'IM-0147-0001.jpeg',\n",
       " 'IM-0149-0001.jpeg',\n",
       " 'IM-0151-0001.jpeg',\n",
       " 'IM-0152-0001.jpeg',\n",
       " 'IM-0154-0001.jpeg',\n",
       " 'IM-0156-0001.jpeg',\n",
       " 'IM-0158-0001.jpeg',\n",
       " 'IM-0160-0001.jpeg',\n",
       " 'IM-0162-0001.jpeg',\n",
       " 'IM-0164-0001.jpeg',\n",
       " 'IM-0166-0001.jpeg',\n",
       " 'IM-0168-0001.jpeg',\n",
       " 'IM-0170-0001.jpeg',\n",
       " 'IM-0172-0001.jpeg',\n",
       " 'IM-0176-0001.jpeg',\n",
       " 'IM-0177-0001.jpeg',\n",
       " 'IM-0178-0001.jpeg',\n",
       " 'IM-0180-0001.jpeg',\n",
       " 'IM-0182-0001.jpeg',\n",
       " 'IM-0183-0001.jpeg',\n",
       " 'IM-0185-0001.jpeg',\n",
       " 'IM-0187-0001.jpeg',\n",
       " 'IM-0189-0001.jpeg',\n",
       " 'IM-0191-0001.jpeg',\n",
       " 'IM-0193-0001.jpeg',\n",
       " 'IM-0195-0001.jpeg',\n",
       " 'IM-0199-0001.jpeg',\n",
       " 'IM-0201-0001.jpeg',\n",
       " 'IM-0203-0001.jpeg',\n",
       " 'IM-0205-0001.jpeg',\n",
       " 'IM-0206-0001.jpeg',\n",
       " 'IM-0207-0001.jpeg',\n",
       " 'IM-0209-0001.jpeg',\n",
       " 'IM-0210-0001.jpeg',\n",
       " 'IM-0211-0001.jpeg',\n",
       " 'IM-0213-0001.jpeg',\n",
       " 'IM-0214-0001.jpeg',\n",
       " 'IM-0215-0001.jpeg',\n",
       " 'IM-0216-0001.jpeg',\n",
       " 'IM-0217-0001.jpeg',\n",
       " 'IM-0218-0001.jpeg',\n",
       " 'IM-0219-0001.jpeg',\n",
       " 'IM-0220-0001.jpeg',\n",
       " 'IM-0221-0001.jpeg',\n",
       " 'IM-0222-0001.jpeg',\n",
       " 'IM-0223-0001.jpeg',\n",
       " 'IM-0224-0001.jpeg',\n",
       " 'IM-0225-0001.jpeg',\n",
       " 'IM-0226-0001.jpeg',\n",
       " 'IM-0227-0001.jpeg',\n",
       " 'IM-0228-0001.jpeg',\n",
       " 'IM-0229-0001.jpeg',\n",
       " 'IM-0230-0001.jpeg',\n",
       " 'IM-0231-0001.jpeg',\n",
       " 'IM-0234-0001.jpeg',\n",
       " 'IM-0235-0001.jpeg',\n",
       " 'IM-0236-0001.jpeg',\n",
       " 'IM-0237-0001.jpeg',\n",
       " 'IM-0238-0001.jpeg',\n",
       " 'IM-0239-0001.jpeg',\n",
       " 'IM-0240-0001.jpeg',\n",
       " 'IM-0241-0001.jpeg',\n",
       " 'IM-0242-0001.jpeg',\n",
       " 'IM-0243-0001.jpeg',\n",
       " 'IM-0244-0001.jpeg',\n",
       " 'IM-0245-0001.jpeg',\n",
       " 'IM-0248-0001.jpeg',\n",
       " 'IM-0249-0001.jpeg',\n",
       " 'IM-0250-0001.jpeg',\n",
       " 'IM-0251-0001.jpeg',\n",
       " 'IM-0253-0001.jpeg',\n",
       " 'IM-0255-0001.jpeg',\n",
       " 'IM-0256-0001.jpeg',\n",
       " 'IM-0257-0001.jpeg',\n",
       " 'IM-0261-0001.jpeg',\n",
       " 'IM-0262-0001.jpeg',\n",
       " 'IM-0264-0001.jpeg',\n",
       " 'IM-0265-0001.jpeg',\n",
       " 'IM-0266-0001.jpeg',\n",
       " 'IM-0268-0001.jpeg',\n",
       " 'IM-0269-0001.jpeg',\n",
       " 'IM-0270-0001.jpeg',\n",
       " 'IM-0272-0001.jpeg',\n",
       " 'IM-0273-0001.jpeg',\n",
       " 'IM-0274-0001.jpeg',\n",
       " 'IM-0275-0001.jpeg',\n",
       " 'IM-0276-0001.jpeg',\n",
       " 'IM-0277-0001.jpeg',\n",
       " 'IM-0278-0001.jpeg',\n",
       " 'IM-0279-0001.jpeg',\n",
       " 'IM-0280-0001.jpeg',\n",
       " 'IM-0282-0001.jpeg',\n",
       " 'IM-0283-0001.jpeg',\n",
       " 'IM-0285-0001.jpeg',\n",
       " 'IM-0286-0001.jpeg',\n",
       " 'IM-0288-0001.jpeg',\n",
       " 'IM-0289-0001.jpeg',\n",
       " 'IM-0290-0001.jpeg',\n",
       " 'IM-0291-0001.jpeg',\n",
       " 'IM-0292-0001.jpeg',\n",
       " 'IM-0293-0001.jpeg',\n",
       " 'IM-0294-0001.jpeg',\n",
       " 'IM-0295-0001.jpeg',\n",
       " 'IM-0297-0001.jpeg',\n",
       " 'IM-0298-0001.jpeg',\n",
       " 'IM-0299-0001.jpeg',\n",
       " 'IM-0300-0001.jpeg',\n",
       " 'IM-0301-0001.jpeg',\n",
       " 'IM-0302-0001.jpeg',\n",
       " 'IM-0303-0001.jpeg',\n",
       " 'IM-0304-0001.jpeg',\n",
       " 'IM-0305-0001.jpeg',\n",
       " 'IM-0306-0001.jpeg',\n",
       " 'IM-0307-0001.jpeg',\n",
       " 'IM-0308-0001.jpeg',\n",
       " 'IM-0309-0001.jpeg',\n",
       " 'IM-0311-0001.jpeg',\n",
       " 'IM-0312-0001.jpeg',\n",
       " 'IM-0313-0001.jpeg',\n",
       " 'IM-0314-0001.jpeg',\n",
       " 'IM-0315-0001.jpeg',\n",
       " 'IM-0316-0001.jpeg',\n",
       " 'IM-0317-0001.jpeg',\n",
       " 'IM-0318-0001.jpeg',\n",
       " 'IM-0319-0001.jpeg',\n",
       " 'IM-0320-0001.jpeg',\n",
       " 'IM-0323-0001.jpeg',\n",
       " 'IM-0324-0001.jpeg',\n",
       " 'IM-0325-0001.jpeg',\n",
       " 'IM-0326-0001.jpeg',\n",
       " 'IM-0327-0001.jpeg',\n",
       " 'IM-0329-0001.jpeg',\n",
       " 'IM-0330-0001.jpeg',\n",
       " 'IM-0331-0001.jpeg',\n",
       " 'IM-0332-0001.jpeg',\n",
       " 'IM-0333-0001.jpeg',\n",
       " 'IM-0335-0001.jpeg',\n",
       " 'IM-0337-0001.jpeg',\n",
       " 'IM-0338-0001.jpeg',\n",
       " 'IM-0339-0001.jpeg',\n",
       " 'IM-0340-0001.jpeg',\n",
       " 'IM-0341-0001.jpeg',\n",
       " 'IM-0343-0001.jpeg',\n",
       " 'IM-0345-0001.jpeg',\n",
       " 'IM-0346-0001.jpeg',\n",
       " 'IM-0347-0001.jpeg',\n",
       " 'IM-0348-0001.jpeg',\n",
       " 'IM-0349-0001.jpeg',\n",
       " 'IM-0350-0001.jpeg',\n",
       " 'IM-0351-0001.jpeg',\n",
       " 'IM-0353-0001.jpeg',\n",
       " 'IM-0354-0001.jpeg',\n",
       " 'IM-0355-0001.jpeg',\n",
       " 'IM-0356-0001.jpeg',\n",
       " 'IM-0357-0001.jpeg',\n",
       " 'IM-0358-0001.jpeg',\n",
       " 'IM-0359-0001.jpeg',\n",
       " 'IM-0361-0001.jpeg',\n",
       " 'IM-0362-0001.jpeg',\n",
       " 'IM-0363-0001.jpeg',\n",
       " 'IM-0364-0001.jpeg',\n",
       " 'IM-0365-0001.jpeg',\n",
       " 'IM-0367-0001.jpeg',\n",
       " 'IM-0368-0001.jpeg',\n",
       " 'IM-0369-0001.jpeg',\n",
       " 'IM-0370-0001.jpeg',\n",
       " 'IM-0371-0001.jpeg',\n",
       " 'IM-0372-0001.jpeg',\n",
       " 'IM-0374-0001.jpeg',\n",
       " 'IM-0375-0001.jpeg',\n",
       " 'IM-0377-0001.jpeg',\n",
       " 'IM-0379-0001.jpeg',\n",
       " 'IM-0381-0001.jpeg',\n",
       " 'IM-0382-0001.jpeg',\n",
       " 'IM-0383-0001.jpeg',\n",
       " 'IM-0384-0001.jpeg',\n",
       " 'IM-0385-0001.jpeg',\n",
       " 'IM-0386-0001.jpeg',\n",
       " 'IM-0387-0001.jpeg',\n",
       " 'IM-0388-0001.jpeg',\n",
       " 'IM-0389-0001.jpeg',\n",
       " 'IM-0391-0001.jpeg',\n",
       " 'IM-0392-0001.jpeg',\n",
       " 'IM-0393-0001.jpeg',\n",
       " 'IM-0394-0001.jpeg',\n",
       " 'IM-0395-0001.jpeg',\n",
       " 'IM-0399-0001.jpeg',\n",
       " 'IM-0400-0001.jpeg',\n",
       " 'IM-0401-0001.jpeg',\n",
       " 'IM-0403-0001.jpeg',\n",
       " 'IM-0404-0001.jpeg',\n",
       " 'IM-0405-0001.jpeg',\n",
       " 'IM-0408-0001.jpeg',\n",
       " 'IM-0409-0001.jpeg',\n",
       " 'IM-0410-0001.jpeg',\n",
       " 'IM-0411-0001.jpeg',\n",
       " 'IM-0413-0001.jpeg',\n",
       " 'IM-0414-0001.jpeg',\n",
       " 'IM-0416-0001.jpeg',\n",
       " 'IM-0417-0001.jpeg',\n",
       " 'IM-0419-0001.jpeg',\n",
       " 'IM-0420-0001.jpeg',\n",
       " 'IM-0421-0001.jpeg',\n",
       " 'IM-0423-0001.jpeg',\n",
       " 'IM-0424-0001.jpeg',\n",
       " 'IM-0425-0001.jpeg',\n",
       " 'IM-0427-0001.jpeg',\n",
       " 'IM-0428-0001.jpeg',\n",
       " 'IM-0429-0001-0001.jpeg',\n",
       " 'IM-0429-0001-0002.jpeg',\n",
       " 'IM-0429-0001.jpeg',\n",
       " 'IM-0430-0001.jpeg',\n",
       " 'IM-0431-0001.jpeg',\n",
       " 'IM-0432-0001.jpeg',\n",
       " 'IM-0433-0001.jpeg',\n",
       " 'IM-0434-0001.jpeg',\n",
       " 'IM-0435-0001-0001.jpeg',\n",
       " 'IM-0435-0001.jpeg',\n",
       " 'IM-0437-0001-0001.jpeg',\n",
       " 'IM-0437-0001-0002.jpeg',\n",
       " 'IM-0437-0001.jpeg',\n",
       " 'IM-0438-0001.jpeg',\n",
       " 'IM-0439-0001-0001.jpeg',\n",
       " 'IM-0439-0001-0002.jpeg',\n",
       " 'IM-0439-0001.jpeg',\n",
       " 'IM-0440-0001.jpeg',\n",
       " 'IM-0441-0001.jpeg',\n",
       " 'IM-0442-0001.jpeg',\n",
       " 'IM-0444-0001.jpeg',\n",
       " 'IM-0445-0001.jpeg',\n",
       " 'IM-0446-0001.jpeg',\n",
       " 'IM-0447-0001.jpeg',\n",
       " 'IM-0448-0001.jpeg',\n",
       " 'IM-0449-0001.jpeg',\n",
       " 'IM-0450-0001.jpeg',\n",
       " 'IM-0451-0001.jpeg',\n",
       " 'IM-0452-0001.jpeg',\n",
       " 'IM-0453-0001-0002.jpeg',\n",
       " 'IM-0453-0001.jpeg',\n",
       " 'IM-0455-0001.jpeg',\n",
       " 'IM-0456-0001.jpeg',\n",
       " 'IM-0457-0001.jpeg',\n",
       " 'IM-0458-0001.jpeg',\n",
       " 'IM-0459-0001.jpeg',\n",
       " 'IM-0460-0001.jpeg',\n",
       " 'IM-0461-0001.jpeg',\n",
       " 'IM-0463-0001.jpeg',\n",
       " 'IM-0464-0001.jpeg',\n",
       " 'IM-0465-0001.jpeg',\n",
       " 'IM-0466-0001.jpeg',\n",
       " 'IM-0467-0001-0001.jpeg',\n",
       " 'IM-0467-0001-0002.jpeg',\n",
       " 'IM-0467-0001.jpeg',\n",
       " 'IM-0469-0001.jpeg',\n",
       " 'IM-0471-0001.jpeg',\n",
       " 'IM-0472-0001.jpeg',\n",
       " 'IM-0473-0001.jpeg',\n",
       " 'IM-0474-0001.jpeg',\n",
       " 'IM-0475-0001.jpeg',\n",
       " 'IM-0476-0001.jpeg',\n",
       " 'IM-0477-0001.jpeg',\n",
       " 'IM-0478-0001.jpeg',\n",
       " 'IM-0479-0001.jpeg',\n",
       " 'IM-0480-0001.jpeg',\n",
       " 'IM-0481-0001.jpeg',\n",
       " 'IM-0482-0001.jpeg',\n",
       " 'IM-0483-0001.jpeg',\n",
       " 'IM-0484-0001.jpeg',\n",
       " 'IM-0485-0001.jpeg',\n",
       " 'IM-0486-0001.jpeg',\n",
       " 'IM-0487-0001.jpeg',\n",
       " 'IM-0488-0001.jpeg',\n",
       " 'IM-0489-0001.jpeg',\n",
       " 'IM-0490-0001.jpeg',\n",
       " 'IM-0491-0001-0001.jpeg',\n",
       " 'IM-0491-0001-0002.jpeg',\n",
       " 'IM-0491-0001.jpeg',\n",
       " 'IM-0492-0001.jpeg',\n",
       " 'IM-0493-0001.jpeg',\n",
       " 'IM-0494-0001.jpeg',\n",
       " 'IM-0495-0001.jpeg',\n",
       " 'IM-0496-0001.jpeg',\n",
       " 'IM-0497-0001-0001.jpeg',\n",
       " 'IM-0497-0001-0002.jpeg',\n",
       " 'IM-0497-0001.jpeg',\n",
       " 'IM-0499-0001-0001.jpeg',\n",
       " 'IM-0499-0001-0002.jpeg',\n",
       " 'IM-0499-0001.jpeg',\n",
       " 'IM-0500-0001.jpeg',\n",
       " 'IM-0501-0001-0001.jpeg',\n",
       " 'IM-0501-0001-0002.jpeg',\n",
       " 'IM-0501-0001.jpeg',\n",
       " 'IM-0502-0001.jpeg',\n",
       " 'IM-0503-0001.jpeg',\n",
       " 'IM-0504-0001.jpeg',\n",
       " 'IM-0505-0001-0001.jpeg',\n",
       " 'IM-0505-0001-0002.jpeg',\n",
       " 'IM-0505-0001.jpeg',\n",
       " 'IM-0506-0001.jpeg',\n",
       " 'IM-0507-0001.jpeg',\n",
       " 'IM-0508-0001.jpeg',\n",
       " 'IM-0509-0001-0001.jpeg',\n",
       " 'IM-0509-0001-0002.jpeg',\n",
       " 'IM-0509-0001.jpeg',\n",
       " 'IM-0510-0001.jpeg',\n",
       " 'IM-0511-0001-0001.jpeg',\n",
       " 'IM-0511-0001-0002.jpeg',\n",
       " 'IM-0511-0001.jpeg',\n",
       " 'IM-0512-0001.jpeg',\n",
       " 'IM-0513-0001.jpeg',\n",
       " 'IM-0514-0001.jpeg',\n",
       " 'IM-0515-0001.jpeg',\n",
       " 'IM-0516-0001.jpeg',\n",
       " 'IM-0517-0001-0001.jpeg',\n",
       " 'IM-0517-0001.jpeg',\n",
       " 'IM-0519-0001-0001.jpeg',\n",
       " 'IM-0519-0001-0002.jpeg',\n",
       " 'IM-0519-0001.jpeg',\n",
       " 'IM-0520-0001.jpeg',\n",
       " 'IM-0521-0001.jpeg',\n",
       " 'IM-0522-0001.jpeg',\n",
       " 'IM-0523-0001-0001.jpeg',\n",
       " 'IM-0523-0001-0002.jpeg',\n",
       " 'IM-0523-0001-0003.jpeg',\n",
       " 'IM-0523-0001.jpeg',\n",
       " 'IM-0524-0001.jpeg',\n",
       " 'IM-0525-0001-0001.jpeg',\n",
       " 'IM-0525-0001-0002.jpeg',\n",
       " 'IM-0525-0001.jpeg',\n",
       " 'IM-0526-0001.jpeg',\n",
       " 'IM-0527-0001.jpeg',\n",
       " 'IM-0528-0001.jpeg',\n",
       " 'IM-0529-0001.jpeg',\n",
       " 'IM-0530-0001.jpeg',\n",
       " 'IM-0531-0001-0001.jpeg',\n",
       " 'IM-0531-0001.jpeg',\n",
       " 'IM-0532-0001.jpeg',\n",
       " 'IM-0533-0001-0001.jpeg',\n",
       " 'IM-0533-0001-0002.jpeg',\n",
       " 'IM-0533-0001.jpeg',\n",
       " 'IM-0534-0001.jpeg',\n",
       " 'IM-0535-0001.jpeg',\n",
       " 'IM-0536-0001.jpeg',\n",
       " 'IM-0537-0001.jpeg',\n",
       " 'IM-0538-0001.jpeg',\n",
       " 'IM-0539-0001-0001.jpeg',\n",
       " 'IM-0539-0001-0002.jpeg',\n",
       " 'IM-0539-0001.jpeg',\n",
       " 'IM-0540-0001.jpeg',\n",
       " 'IM-0541-0001.jpeg',\n",
       " 'IM-0542-0001.jpeg',\n",
       " 'IM-0543-0001-0002.jpeg',\n",
       " 'IM-0543-0001.jpeg',\n",
       " 'IM-0544-0001.jpeg',\n",
       " 'IM-0545-0001-0001.jpeg',\n",
       " 'IM-0545-0001-0002.jpeg',\n",
       " 'IM-0545-0001.jpeg',\n",
       " 'IM-0546-0001.jpeg',\n",
       " 'IM-0547-0001.jpeg',\n",
       " 'IM-0548-0001.jpeg',\n",
       " 'IM-0549-0001-0001.jpeg',\n",
       " 'IM-0549-0001-0002.jpeg',\n",
       " 'IM-0549-0001.jpeg',\n",
       " 'IM-0551-0001-0001.jpeg',\n",
       " 'IM-0551-0001-0002.jpeg',\n",
       " 'IM-0551-0001.jpeg',\n",
       " 'IM-0552-0001.jpeg',\n",
       " 'IM-0553-0001-0001.jpeg',\n",
       " 'IM-0553-0001-0002.jpeg',\n",
       " 'IM-0553-0001-0003.jpeg',\n",
       " 'IM-0553-0001.jpeg',\n",
       " 'IM-0554-0001.jpeg',\n",
       " 'IM-0555-0001-0001.jpeg',\n",
       " 'IM-0555-0001-0002.jpeg',\n",
       " 'IM-0555-0001.jpeg',\n",
       " 'IM-0556-0001.jpeg',\n",
       " 'IM-0557-0001.jpeg',\n",
       " 'IM-0559-0001.jpeg',\n",
       " 'IM-0560-0001.jpeg',\n",
       " 'IM-0561-0001.jpeg',\n",
       " 'IM-0562-0001.jpeg',\n",
       " 'IM-0563-0001.jpeg',\n",
       " 'IM-0564-0001.jpeg',\n",
       " 'IM-0565-0001.jpeg',\n",
       " 'IM-0566-0001.jpeg',\n",
       " 'IM-0568-0001.jpeg',\n",
       " 'IM-0569-0001.jpeg',\n",
       " 'IM-0570-0001.jpeg',\n",
       " 'IM-0571-0001.jpeg',\n",
       " 'IM-0574-0001.jpeg',\n",
       " 'IM-0575-0001.jpeg',\n",
       " 'IM-0577-0001.jpeg',\n",
       " 'IM-0578-0001.jpeg',\n",
       " 'IM-0579-0001.jpeg',\n",
       " 'IM-0580-0001.jpeg',\n",
       " 'IM-0581-0001.jpeg',\n",
       " 'IM-0582-0001.jpeg',\n",
       " 'IM-0583-0001.jpeg',\n",
       " 'IM-0584-0001.jpeg',\n",
       " 'IM-0586-0001.jpeg',\n",
       " 'IM-0588-0001.jpeg',\n",
       " 'IM-0590-0001.jpeg',\n",
       " 'IM-0591-0001.jpeg',\n",
       " 'IM-0592-0001.jpeg',\n",
       " 'IM-0593-0001.jpeg',\n",
       " 'IM-0595-0001.jpeg',\n",
       " 'IM-0596-0001.jpeg',\n",
       " 'IM-0598-0001.jpeg',\n",
       " 'IM-0599-0001.jpeg',\n",
       " 'IM-0600-0001.jpeg',\n",
       " 'IM-0601-0001.jpeg',\n",
       " 'IM-0602-0001.jpeg',\n",
       " 'IM-0604-0001.jpeg',\n",
       " 'IM-0605-0001.jpeg',\n",
       " 'IM-0606-0001.jpeg',\n",
       " 'IM-0607-0001.jpeg',\n",
       " 'IM-0608-0001-0001.jpeg',\n",
       " 'IM-0608-0001-0002.jpeg',\n",
       " 'IM-0608-0001.jpeg',\n",
       " 'IM-0609-0001.jpeg',\n",
       " 'IM-0612-0001-0001.jpeg',\n",
       " 'IM-0612-0001-0002.jpeg',\n",
       " 'IM-0612-0001.jpeg',\n",
       " 'IM-0613-0001.jpeg',\n",
       " 'IM-0614-0001.jpeg',\n",
       " 'IM-0615-0001.jpeg',\n",
       " 'IM-0616-0001.jpeg',\n",
       " 'IM-0617-0001.jpeg',\n",
       " 'IM-0618-0001-0001.jpeg',\n",
       " 'IM-0618-0001-0002.jpeg',\n",
       " 'IM-0618-0001.jpeg',\n",
       " 'IM-0619-0001.jpeg',\n",
       " 'IM-0620-0001-0001.jpeg',\n",
       " 'IM-0620-0001-0002.jpeg',\n",
       " 'IM-0620-0001.jpeg',\n",
       " 'IM-0621-0001.jpeg',\n",
       " 'IM-0622-0001-0001.jpeg',\n",
       " 'IM-0622-0001-0002.jpeg',\n",
       " 'IM-0622-0001.jpeg',\n",
       " 'IM-0623-0001.jpeg',\n",
       " 'IM-0624-0001-0002.jpeg',\n",
       " 'IM-0624-0001.jpeg',\n",
       " 'IM-0625-0001.jpeg',\n",
       " 'IM-0626-0001-0001.jpeg',\n",
       " 'IM-0626-0001-0002.jpeg',\n",
       " 'IM-0627-0001.jpeg',\n",
       " 'IM-0628-0001.jpeg',\n",
       " 'IM-0629-0001-0001.jpeg',\n",
       " 'IM-0629-0001-0002.jpeg',\n",
       " 'IM-0629-0001-0003.jpeg',\n",
       " 'IM-0629-0001.jpeg',\n",
       " 'IM-0630-0001.jpeg',\n",
       " 'IM-0631-0001-0001.jpeg',\n",
       " 'IM-0631-0001-0002.jpeg',\n",
       " 'IM-0631-0001.jpeg',\n",
       " 'IM-0632-0001.jpeg',\n",
       " 'IM-0633-0001.jpeg',\n",
       " 'IM-0634-0001.jpeg',\n",
       " 'IM-0635-0001.jpeg',\n",
       " 'IM-0636-0001.jpeg',\n",
       " 'IM-0637-0001.jpeg',\n",
       " 'IM-0640-0001-0001.jpeg',\n",
       " 'IM-0640-0001-0002.jpeg',\n",
       " 'IM-0640-0001.jpeg',\n",
       " 'IM-0641-0001.jpeg',\n",
       " 'IM-0642-0001.jpeg',\n",
       " 'IM-0643-0001.jpeg',\n",
       " 'IM-0644-0001-0001.jpeg',\n",
       " 'IM-0644-0001-0002.jpeg',\n",
       " 'IM-0644-0001.jpeg',\n",
       " 'IM-0645-0001.jpeg',\n",
       " 'IM-0646-0001.jpeg',\n",
       " 'IM-0647-0001.jpeg',\n",
       " 'IM-0648-0001.jpeg',\n",
       " 'IM-0649-0001.jpeg',\n",
       " 'IM-0650-0001-0001.jpeg',\n",
       " 'IM-0650-0001-0002.jpeg',\n",
       " 'IM-0650-0001.jpeg',\n",
       " 'IM-0651-0001.jpeg',\n",
       " 'IM-0652-0001-0002.jpeg',\n",
       " 'IM-0652-0001.jpeg',\n",
       " 'IM-0654-0001.jpeg',\n",
       " 'IM-0655-0001.jpeg',\n",
       " 'IM-0656-0001-0001.jpeg',\n",
       " 'IM-0656-0001-0002.jpeg',\n",
       " 'IM-0656-0001.jpeg',\n",
       " 'IM-0657-0001.jpeg',\n",
       " 'IM-0658-0001.jpeg',\n",
       " 'IM-0659-0001.jpeg',\n",
       " 'IM-0660-0001-0001.jpeg',\n",
       " 'IM-0660-0001-0002.jpeg',\n",
       " 'IM-0660-0001.jpeg',\n",
       " 'IM-0661-0001.jpeg',\n",
       " 'IM-0662-0001.jpeg',\n",
       " 'IM-0663-0001.jpeg',\n",
       " 'IM-0664-0001.jpeg',\n",
       " 'IM-0665-0001.jpeg',\n",
       " 'IM-0666-0001-0001.jpeg',\n",
       " 'IM-0666-0001-0002.jpeg',\n",
       " 'IM-0666-0001.jpeg',\n",
       " 'IM-0667-0001.jpeg',\n",
       " 'IM-0668-0001.jpeg',\n",
       " 'IM-0669-0001.jpeg',\n",
       " 'IM-0670-0001.jpeg',\n",
       " 'IM-0671-0001.jpeg',\n",
       " 'IM-0672-0001.jpeg',\n",
       " 'IM-0673-0001.jpeg',\n",
       " 'IM-0674-0001.jpeg',\n",
       " 'IM-0675-0001.jpeg',\n",
       " 'IM-0676-0001.jpeg',\n",
       " 'IM-0677-0001.jpeg',\n",
       " 'IM-0678-0001.jpeg',\n",
       " 'IM-0679-0001.jpeg',\n",
       " 'IM-0680-0001.jpeg',\n",
       " 'IM-0681-0001.jpeg',\n",
       " 'IM-0682-0001.jpeg',\n",
       " 'IM-0683-0001.jpeg',\n",
       " 'IM-0684-0001.jpeg',\n",
       " 'IM-0685-0001.jpeg',\n",
       " 'IM-0686-0001.jpeg',\n",
       " 'IM-0687-0001.jpeg',\n",
       " 'IM-0688-0001.jpeg',\n",
       " 'IM-0689-0001.jpeg',\n",
       " 'IM-0691-0001.jpeg',\n",
       " 'IM-0692-0001.jpeg',\n",
       " 'IM-0693-0001.jpeg',\n",
       " 'IM-0694-0001.jpeg',\n",
       " 'IM-0695-0001.jpeg',\n",
       " 'IM-0696-0001.jpeg',\n",
       " 'IM-0697-0001.jpeg',\n",
       " 'IM-0698-0001.jpeg',\n",
       " 'IM-0700-0001.jpeg',\n",
       " 'IM-0701-0001.jpeg',\n",
       " 'IM-0702-0001.jpeg',\n",
       " 'IM-0703-0001.jpeg',\n",
       " 'IM-0704-0001.jpeg',\n",
       " 'IM-0705-0001.jpeg',\n",
       " 'IM-0706-0001.jpeg',\n",
       " 'IM-0707-0001.jpeg',\n",
       " 'IM-0709-0001.jpeg',\n",
       " 'IM-0710-0001.jpeg',\n",
       " 'IM-0711-0001.jpeg',\n",
       " 'IM-0712-0001.jpeg',\n",
       " 'IM-0713-0001.jpeg',\n",
       " 'IM-0714-0001.jpeg',\n",
       " 'IM-0715-0001.jpeg',\n",
       " 'IM-0716-0001.jpeg',\n",
       " 'IM-0717-0001.jpeg',\n",
       " 'IM-0718-0001.jpeg',\n",
       " 'IM-0719-0001.jpeg',\n",
       " 'IM-0721-0001.jpeg',\n",
       " 'IM-0722-0001.jpeg',\n",
       " 'IM-0724-0001.jpeg',\n",
       " 'IM-0727-0001.jpeg',\n",
       " 'IM-0728-0001.jpeg',\n",
       " 'IM-0729-0001.jpeg',\n",
       " 'IM-0730-0001.jpeg',\n",
       " 'IM-0732-0001.jpeg',\n",
       " 'IM-0733-0001.jpeg',\n",
       " 'IM-0734-0001.jpeg',\n",
       " 'IM-0735-0001.jpeg',\n",
       " 'IM-0736-0001.jpeg',\n",
       " 'IM-0737-0001.jpeg',\n",
       " 'IM-0738-0001.jpeg',\n",
       " 'IM-0739-0001.jpeg',\n",
       " 'IM-0740-0001.jpeg',\n",
       " 'IM-0741-0001.jpeg',\n",
       " 'IM-0742-0001.jpeg',\n",
       " 'IM-0746-0001.jpeg',\n",
       " 'IM-0747-0001.jpeg',\n",
       " 'IM-0748-0001.jpeg',\n",
       " 'IM-0750-0001.jpeg',\n",
       " 'IM-0751-0001.jpeg',\n",
       " 'IM-0752-0001.jpeg',\n",
       " 'IM-0753-0001.jpeg',\n",
       " 'IM-0754-0001.jpeg',\n",
       " 'IM-0755-0001.jpeg',\n",
       " 'IM-0757-0001.jpeg',\n",
       " 'IM-0761-0001.jpeg',\n",
       " 'IM-0764-0001.jpeg',\n",
       " 'IM-0766-0001.jpeg',\n",
       " 'NORMAL2-IM-0383-0001.jpeg',\n",
       " 'NORMAL2-IM-0384-0001.jpeg',\n",
       " 'NORMAL2-IM-0385-0001.jpeg',\n",
       " 'NORMAL2-IM-0386-0001.jpeg',\n",
       " 'NORMAL2-IM-0388-0001.jpeg',\n",
       " 'NORMAL2-IM-0389-0001.jpeg',\n",
       " 'NORMAL2-IM-0390-0001.jpeg',\n",
       " 'NORMAL2-IM-0391-0001.jpeg',\n",
       " 'NORMAL2-IM-0392-0001.jpeg',\n",
       " 'NORMAL2-IM-0393-0001.jpeg',\n",
       " 'NORMAL2-IM-0394-0001.jpeg',\n",
       " 'NORMAL2-IM-0395-0001-0001.jpeg',\n",
       " 'NORMAL2-IM-0395-0001-0002.jpeg',\n",
       " 'NORMAL2-IM-0395-0001.jpeg',\n",
       " 'NORMAL2-IM-0396-0001.jpeg',\n",
       " 'NORMAL2-IM-0397-0001.jpeg',\n",
       " 'NORMAL2-IM-0399-0001.jpeg',\n",
       " 'NORMAL2-IM-0401-0001.jpeg',\n",
       " 'NORMAL2-IM-0402-0001.jpeg',\n",
       " 'NORMAL2-IM-0403-0001.jpeg',\n",
       " 'NORMAL2-IM-0404-0001.jpeg',\n",
       " 'NORMAL2-IM-0406-0001.jpeg',\n",
       " 'NORMAL2-IM-0407-0001.jpeg',\n",
       " 'NORMAL2-IM-0408-0001.jpeg',\n",
       " 'NORMAL2-IM-0409-0001.jpeg',\n",
       " 'NORMAL2-IM-0410-0001.jpeg',\n",
       " 'NORMAL2-IM-0412-0001.jpeg',\n",
       " 'NORMAL2-IM-0413-0001.jpeg',\n",
       " 'NORMAL2-IM-0414-0001.jpeg',\n",
       " 'NORMAL2-IM-0415-0001.jpeg',\n",
       " 'NORMAL2-IM-0416-0001-0001.jpeg',\n",
       " 'NORMAL2-IM-0416-0001-0002.jpeg',\n",
       " 'NORMAL2-IM-0416-0001.jpeg',\n",
       " 'NORMAL2-IM-0417-0001.jpeg',\n",
       " 'NORMAL2-IM-0418-0001.jpeg',\n",
       " 'NORMAL2-IM-0419-0001.jpeg',\n",
       " 'NORMAL2-IM-0421-0001.jpeg',\n",
       " 'NORMAL2-IM-0423-0001.jpeg',\n",
       " 'NORMAL2-IM-0424-0001.jpeg',\n",
       " 'NORMAL2-IM-0425-0001.jpeg',\n",
       " 'NORMAL2-IM-0427-0001.jpeg',\n",
       " 'NORMAL2-IM-0428-0001.jpeg',\n",
       " 'NORMAL2-IM-0429-0001.jpeg',\n",
       " 'NORMAL2-IM-0433-0001.jpeg',\n",
       " 'NORMAL2-IM-0435-0001.jpeg',\n",
       " 'NORMAL2-IM-0437-0001.jpeg',\n",
       " 'NORMAL2-IM-0439-0001.jpeg',\n",
       " 'NORMAL2-IM-0440-0001.jpeg',\n",
       " 'NORMAL2-IM-0441-0001.jpeg',\n",
       " 'NORMAL2-IM-0443-0001.jpeg',\n",
       " 'NORMAL2-IM-0445-0001.jpeg',\n",
       " 'NORMAL2-IM-0447-0001.jpeg',\n",
       " 'NORMAL2-IM-0448-0001.jpeg',\n",
       " 'NORMAL2-IM-0449-0001.jpeg',\n",
       " 'NORMAL2-IM-0450-0001.jpeg',\n",
       " 'NORMAL2-IM-0451-0001.jpeg',\n",
       " 'NORMAL2-IM-0452-0001.jpeg',\n",
       " 'NORMAL2-IM-0453-0001.jpeg',\n",
       " 'NORMAL2-IM-0454-0001.jpeg',\n",
       " 'NORMAL2-IM-0455-0001.jpeg',\n",
       " 'NORMAL2-IM-0456-0001.jpeg',\n",
       " 'NORMAL2-IM-0458-0001.jpeg',\n",
       " 'NORMAL2-IM-0460-0001.jpeg',\n",
       " 'NORMAL2-IM-0462-0001.jpeg',\n",
       " 'NORMAL2-IM-0463-0001.jpeg',\n",
       " 'NORMAL2-IM-0464-0001.jpeg',\n",
       " 'NORMAL2-IM-0465-0001.jpeg',\n",
       " 'NORMAL2-IM-0466-0001.jpeg',\n",
       " 'NORMAL2-IM-0468-0001.jpeg',\n",
       " 'NORMAL2-IM-0472-0001.jpeg',\n",
       " 'NORMAL2-IM-0473-0001.jpeg',\n",
       " 'NORMAL2-IM-0474-0001.jpeg',\n",
       " 'NORMAL2-IM-0475-0001.jpeg',\n",
       " 'NORMAL2-IM-0476-0001.jpeg',\n",
       " 'NORMAL2-IM-0478-0001.jpeg',\n",
       " 'NORMAL2-IM-0479-0001.jpeg',\n",
       " 'NORMAL2-IM-0480-0001.jpeg',\n",
       " 'NORMAL2-IM-0481-0001.jpeg',\n",
       " 'NORMAL2-IM-0482-0001.jpeg',\n",
       " 'NORMAL2-IM-0485-0001.jpeg',\n",
       " 'NORMAL2-IM-0486-0001.jpeg',\n",
       " 'NORMAL2-IM-0487-0001.jpeg',\n",
       " 'NORMAL2-IM-0488-0001.jpeg',\n",
       " 'NORMAL2-IM-0489-0001.jpeg',\n",
       " 'NORMAL2-IM-0490-0001.jpeg',\n",
       " 'NORMAL2-IM-0491-0001.jpeg',\n",
       " 'NORMAL2-IM-0493-0001.jpeg',\n",
       " 'NORMAL2-IM-0496-0001.jpeg',\n",
       " 'NORMAL2-IM-0497-0001.jpeg',\n",
       " 'NORMAL2-IM-0499-0001.jpeg',\n",
       " 'NORMAL2-IM-0500-0001.jpeg',\n",
       " 'NORMAL2-IM-0501-0001.jpeg',\n",
       " 'NORMAL2-IM-0502-0001.jpeg',\n",
       " 'NORMAL2-IM-0503-0001.jpeg',\n",
       " 'NORMAL2-IM-0506-0001.jpeg',\n",
       " 'NORMAL2-IM-0507-0001.jpeg',\n",
       " 'NORMAL2-IM-0508-0001.jpeg',\n",
       " 'NORMAL2-IM-0509-0001.jpeg',\n",
       " 'NORMAL2-IM-0511-0001.jpeg',\n",
       " 'NORMAL2-IM-0512-0001.jpeg',\n",
       " 'NORMAL2-IM-0513-0001.jpeg',\n",
       " 'NORMAL2-IM-0515-0001.jpeg',\n",
       " 'NORMAL2-IM-0516-0001.jpeg',\n",
       " 'NORMAL2-IM-0517-0001.jpeg',\n",
       " 'NORMAL2-IM-0518-0001.jpeg',\n",
       " 'NORMAL2-IM-0520-0001.jpeg',\n",
       " 'NORMAL2-IM-0521-0001.jpeg',\n",
       " 'NORMAL2-IM-0522-0001.jpeg',\n",
       " 'NORMAL2-IM-0523-0001.jpeg',\n",
       " 'NORMAL2-IM-0525-0001.jpeg',\n",
       " 'NORMAL2-IM-0526-0001.jpeg',\n",
       " 'NORMAL2-IM-0528-0001.jpeg',\n",
       " 'NORMAL2-IM-0529-0001.jpeg',\n",
       " 'NORMAL2-IM-0530-0001.jpeg',\n",
       " 'NORMAL2-IM-0531-0001.jpeg',\n",
       " 'NORMAL2-IM-0533-0001.jpeg',\n",
       " 'NORMAL2-IM-0535-0001-0002.jpeg',\n",
       " 'NORMAL2-IM-0535-0001.jpeg',\n",
       " 'NORMAL2-IM-0536-0001.jpeg',\n",
       " 'NORMAL2-IM-0537-0001.jpeg',\n",
       " 'NORMAL2-IM-0539-0001.jpeg',\n",
       " 'NORMAL2-IM-0540-0001.jpeg',\n",
       " 'NORMAL2-IM-0541-0001.jpeg',\n",
       " 'NORMAL2-IM-0543-0001.jpeg',\n",
       " 'NORMAL2-IM-0545-0001.jpeg',\n",
       " 'NORMAL2-IM-0547-0001.jpeg',\n",
       " 'NORMAL2-IM-0550-0001.jpeg',\n",
       " 'NORMAL2-IM-0551-0001.jpeg',\n",
       " 'NORMAL2-IM-0552-0001.jpeg',\n",
       " 'NORMAL2-IM-0553-0001.jpeg',\n",
       " 'NORMAL2-IM-0554-0001.jpeg',\n",
       " 'NORMAL2-IM-0555-0001-0001.jpeg',\n",
       " 'NORMAL2-IM-0555-0001-0002.jpeg',\n",
       " 'NORMAL2-IM-0555-0001.jpeg',\n",
       " 'NORMAL2-IM-0557-0001.jpeg',\n",
       " 'NORMAL2-IM-0558-0001.jpeg',\n",
       " 'NORMAL2-IM-0559-0001.jpeg',\n",
       " 'NORMAL2-IM-0561-0001.jpeg',\n",
       " 'NORMAL2-IM-0563-0001.jpeg',\n",
       " 'NORMAL2-IM-0564-0001.jpeg',\n",
       " 'NORMAL2-IM-0566-0001.jpeg',\n",
       " 'NORMAL2-IM-0567-0001.jpeg',\n",
       " 'NORMAL2-IM-0568-0001.jpeg',\n",
       " 'NORMAL2-IM-0569-0001.jpeg',\n",
       " 'NORMAL2-IM-0571-0001.jpeg',\n",
       " 'NORMAL2-IM-0572-0001.jpeg',\n",
       " 'NORMAL2-IM-0573-0001.jpeg',\n",
       " 'NORMAL2-IM-0575-0001.jpeg',\n",
       " 'NORMAL2-IM-0576-0001.jpeg',\n",
       " 'NORMAL2-IM-0577-0001.jpeg',\n",
       " 'NORMAL2-IM-0578-0001.jpeg',\n",
       " 'NORMAL2-IM-0579-0001.jpeg',\n",
       " 'NORMAL2-IM-0580-0001.jpeg',\n",
       " 'NORMAL2-IM-0582-0001.jpeg',\n",
       " 'NORMAL2-IM-0583-0001.jpeg',\n",
       " 'NORMAL2-IM-0585-0001.jpeg',\n",
       " 'NORMAL2-IM-0587-0001-0001.jpeg',\n",
       " 'NORMAL2-IM-0587-0001-0002.jpeg',\n",
       " 'NORMAL2-IM-0587-0001.jpeg',\n",
       " 'NORMAL2-IM-0588-0001.jpeg',\n",
       " 'NORMAL2-IM-0589-0001.jpeg',\n",
       " 'NORMAL2-IM-0592-0001.jpeg',\n",
       " 'NORMAL2-IM-0594-0001.jpeg',\n",
       " 'NORMAL2-IM-0595-0001.jpeg',\n",
       " 'NORMAL2-IM-0596-0001.jpeg',\n",
       " 'NORMAL2-IM-0599-0001.jpeg',\n",
       " 'NORMAL2-IM-0600-0001.jpeg',\n",
       " 'NORMAL2-IM-0601-0001.jpeg',\n",
       " 'NORMAL2-IM-0602-0001.jpeg',\n",
       " 'NORMAL2-IM-0603-0001.jpeg',\n",
       " 'NORMAL2-IM-0604-0001.jpeg',\n",
       " 'NORMAL2-IM-0609-0001.jpeg',\n",
       " 'NORMAL2-IM-0611-0001.jpeg',\n",
       " 'NORMAL2-IM-0616-0001.jpeg',\n",
       " 'NORMAL2-IM-0617-0001.jpeg',\n",
       " 'NORMAL2-IM-0618-0001.jpeg',\n",
       " 'NORMAL2-IM-0619-0001.jpeg',\n",
       " 'NORMAL2-IM-0620-0001.jpeg',\n",
       " 'NORMAL2-IM-0621-0001.jpeg',\n",
       " 'NORMAL2-IM-0622-0001.jpeg',\n",
       " 'NORMAL2-IM-0623-0001.jpeg',\n",
       " 'NORMAL2-IM-0626-0001.jpeg',\n",
       " 'NORMAL2-IM-0627-0001.jpeg',\n",
       " 'NORMAL2-IM-0629-0001.jpeg',\n",
       " 'NORMAL2-IM-0630-0001.jpeg',\n",
       " 'NORMAL2-IM-0633-0001.jpeg',\n",
       " 'NORMAL2-IM-0634-0001.jpeg',\n",
       " 'NORMAL2-IM-0635-0001.jpeg',\n",
       " 'NORMAL2-IM-0636-0001.jpeg',\n",
       " 'NORMAL2-IM-0637-0001.jpeg',\n",
       " 'NORMAL2-IM-0640-0001.jpeg',\n",
       " 'NORMAL2-IM-0641-0001.jpeg',\n",
       " 'NORMAL2-IM-0642-0001.jpeg',\n",
       " 'NORMAL2-IM-0643-0001.jpeg',\n",
       " 'NORMAL2-IM-0645-0001.jpeg',\n",
       " 'NORMAL2-IM-0647-0001.jpeg',\n",
       " 'NORMAL2-IM-0648-0001.jpeg',\n",
       " 'NORMAL2-IM-0649-0001.jpeg',\n",
       " 'NORMAL2-IM-0650-0001.jpeg',\n",
       " 'NORMAL2-IM-0651-0001.jpeg',\n",
       " 'NORMAL2-IM-0651-0004.jpeg',\n",
       " 'NORMAL2-IM-0652-0001.jpeg',\n",
       " 'NORMAL2-IM-0653-0001.jpeg',\n",
       " 'NORMAL2-IM-0654-0001.jpeg',\n",
       " 'NORMAL2-IM-0655-0001.jpeg',\n",
       " 'NORMAL2-IM-0657-0001.jpeg',\n",
       " 'NORMAL2-IM-0659-0001.jpeg',\n",
       " 'NORMAL2-IM-0660-0001.jpeg',\n",
       " 'NORMAL2-IM-0661-0001.jpeg',\n",
       " 'NORMAL2-IM-0662-0001.jpeg',\n",
       " 'NORMAL2-IM-0663-0001.jpeg',\n",
       " 'NORMAL2-IM-0664-0001.jpeg',\n",
       " 'NORMAL2-IM-0665-0001.jpeg',\n",
       " 'NORMAL2-IM-0666-0001.jpeg',\n",
       " 'NORMAL2-IM-0667-0001.jpeg',\n",
       " 'NORMAL2-IM-0668-0001.jpeg',\n",
       " 'NORMAL2-IM-0669-0001.jpeg',\n",
       " 'NORMAL2-IM-0671-0001.jpeg',\n",
       " 'NORMAL2-IM-0672-0001.jpeg',\n",
       " 'NORMAL2-IM-0673-0001.jpeg',\n",
       " 'NORMAL2-IM-0675-0001.jpeg',\n",
       " 'NORMAL2-IM-0678-0001.jpeg',\n",
       " 'NORMAL2-IM-0680-0001.jpeg',\n",
       " 'NORMAL2-IM-0682-0001.jpeg',\n",
       " 'NORMAL2-IM-0683-0001.jpeg',\n",
       " 'NORMAL2-IM-0684-0001-0001.jpeg',\n",
       " 'NORMAL2-IM-0686-0001.jpeg',\n",
       " 'NORMAL2-IM-0687-0001.jpeg',\n",
       " 'NORMAL2-IM-0689-0001.jpeg',\n",
       " 'NORMAL2-IM-0690-0001.jpeg',\n",
       " 'NORMAL2-IM-0692-0001.jpeg',\n",
       " 'NORMAL2-IM-0693-0001.jpeg',\n",
       " 'NORMAL2-IM-0694-0001.jpeg',\n",
       " 'NORMAL2-IM-0695-0001.jpeg',\n",
       " 'NORMAL2-IM-0696-0001.jpeg',\n",
       " 'NORMAL2-IM-0698-0001.jpeg',\n",
       " 'NORMAL2-IM-0699-0001.jpeg',\n",
       " 'NORMAL2-IM-0700-0001.jpeg',\n",
       " 'NORMAL2-IM-0702-0001.jpeg',\n",
       " 'NORMAL2-IM-0705-0001.jpeg',\n",
       " 'NORMAL2-IM-0707-0001.jpeg',\n",
       " 'NORMAL2-IM-0718-0001.jpeg',\n",
       " 'NORMAL2-IM-0719-0001.jpeg',\n",
       " 'NORMAL2-IM-0723-0001.jpeg',\n",
       " 'NORMAL2-IM-0725-0001.jpeg',\n",
       " 'NORMAL2-IM-0727-0001.jpeg',\n",
       " 'NORMAL2-IM-0730-0001.jpeg',\n",
       " 'NORMAL2-IM-0736-0001.jpeg',\n",
       " 'NORMAL2-IM-0741-0001.jpeg',\n",
       " 'NORMAL2-IM-0744-0001.jpeg',\n",
       " 'NORMAL2-IM-0746-0001.jpeg',\n",
       " 'NORMAL2-IM-0749-0001.jpeg',\n",
       " 'NORMAL2-IM-0753-0001.jpeg',\n",
       " 'NORMAL2-IM-0757-0001.jpeg',\n",
       " 'NORMAL2-IM-0765-0001.jpeg',\n",
       " 'NORMAL2-IM-0771-0001.jpeg',\n",
       " 'NORMAL2-IM-0772-0001.jpeg',\n",
       " 'NORMAL2-IM-0774-0001.jpeg',\n",
       " 'NORMAL2-IM-0775-0001.jpeg',\n",
       " 'NORMAL2-IM-0776-0001.jpeg',\n",
       " 'NORMAL2-IM-0777-0001.jpeg',\n",
       " 'NORMAL2-IM-0780-0001.jpeg',\n",
       " 'NORMAL2-IM-0781-0001.jpeg',\n",
       " 'NORMAL2-IM-0790-0001.jpeg',\n",
       " 'NORMAL2-IM-0793-0001.jpeg',\n",
       " 'NORMAL2-IM-0796-0001.jpeg',\n",
       " 'NORMAL2-IM-0797-0001.jpeg',\n",
       " 'NORMAL2-IM-0798-0001.jpeg',\n",
       " 'NORMAL2-IM-0799-0001.jpeg',\n",
       " 'NORMAL2-IM-0803-0001.jpeg',\n",
       " 'NORMAL2-IM-0804-0001.jpeg',\n",
       " 'NORMAL2-IM-0806-0001.jpeg',\n",
       " 'NORMAL2-IM-0807-0001.jpeg',\n",
       " 'NORMAL2-IM-0808-0001.jpeg',\n",
       " 'NORMAL2-IM-0809-0001.jpeg',\n",
       " 'NORMAL2-IM-0810-0001.jpeg',\n",
       " 'NORMAL2-IM-0811-0001.jpeg',\n",
       " 'NORMAL2-IM-0812-0001.jpeg',\n",
       " 'NORMAL2-IM-0814-0001.jpeg',\n",
       " 'NORMAL2-IM-0815-0001.jpeg',\n",
       " 'NORMAL2-IM-0816-0001.jpeg',\n",
       " 'NORMAL2-IM-0818-0001-0002.jpeg',\n",
       " 'NORMAL2-IM-0818-0001.jpeg',\n",
       " 'NORMAL2-IM-0819-0001.jpeg',\n",
       " 'NORMAL2-IM-0820-0001.jpeg',\n",
       " 'NORMAL2-IM-0821-0001.jpeg',\n",
       " 'NORMAL2-IM-0822-0001.jpeg',\n",
       " 'NORMAL2-IM-0824-0001.jpeg',\n",
       " 'NORMAL2-IM-0825-0001.jpeg',\n",
       " 'NORMAL2-IM-0826-0001.jpeg',\n",
       " 'NORMAL2-IM-0827-0001.jpeg',\n",
       " 'NORMAL2-IM-0828-0001.jpeg',\n",
       " 'NORMAL2-IM-0829-0001.jpeg',\n",
       " 'NORMAL2-IM-0830-0001.jpeg',\n",
       " 'NORMAL2-IM-0831-0001.jpeg',\n",
       " 'NORMAL2-IM-0832-0001-0001.jpeg',\n",
       " 'NORMAL2-IM-0832-0001-0002.jpeg',\n",
       " 'NORMAL2-IM-0832-0001.jpeg',\n",
       " 'NORMAL2-IM-0833-0001.jpeg',\n",
       " 'NORMAL2-IM-0834-0001.jpeg',\n",
       " 'NORMAL2-IM-0836-0001.jpeg',\n",
       " 'NORMAL2-IM-0837-0001.jpeg',\n",
       " 'NORMAL2-IM-0838-0001.jpeg',\n",
       " 'NORMAL2-IM-0839-0001.jpeg',\n",
       " 'NORMAL2-IM-0840-0001.jpeg',\n",
       " 'NORMAL2-IM-0841-0001.jpeg',\n",
       " 'NORMAL2-IM-0842-0001.jpeg',\n",
       " 'NORMAL2-IM-0843-0001.jpeg',\n",
       " 'NORMAL2-IM-0845-0001.jpeg',\n",
       " 'NORMAL2-IM-0846-0001.jpeg',\n",
       " 'NORMAL2-IM-0847-0001.jpeg',\n",
       " 'NORMAL2-IM-0848-0001.jpeg',\n",
       " 'NORMAL2-IM-0849-0001.jpeg',\n",
       " 'NORMAL2-IM-0851-0001-0001.jpeg',\n",
       " 'NORMAL2-IM-0851-0001-0002.jpeg',\n",
       " 'NORMAL2-IM-0851-0001.jpeg',\n",
       " 'NORMAL2-IM-0852-0001.jpeg',\n",
       " 'NORMAL2-IM-0853-0001.jpeg',\n",
       " 'NORMAL2-IM-0854-0001.jpeg',\n",
       " 'NORMAL2-IM-0855-0001.jpeg',\n",
       " 'NORMAL2-IM-0856-0001.jpeg',\n",
       " 'NORMAL2-IM-0857-0001.jpeg',\n",
       " 'NORMAL2-IM-0858-0001.jpeg',\n",
       " 'NORMAL2-IM-0859-0001.jpeg',\n",
       " 'NORMAL2-IM-0860-0001.jpeg',\n",
       " 'NORMAL2-IM-0862-0001.jpeg',\n",
       " 'NORMAL2-IM-0863-0001.jpeg',\n",
       " 'NORMAL2-IM-0865-0001.jpeg',\n",
       " 'NORMAL2-IM-0866-0001.jpeg',\n",
       " 'NORMAL2-IM-0867-0001.jpeg',\n",
       " 'NORMAL2-IM-0868-0001.jpeg',\n",
       " 'NORMAL2-IM-0869-0001.jpeg',\n",
       " 'NORMAL2-IM-0870-0001.jpeg',\n",
       " 'NORMAL2-IM-0871-0001.jpeg',\n",
       " 'NORMAL2-IM-0872-0001.jpeg',\n",
       " 'NORMAL2-IM-0873-0001.jpeg',\n",
       " 'NORMAL2-IM-0874-0001.jpeg',\n",
       " 'NORMAL2-IM-0875-0001.jpeg',\n",
       " 'NORMAL2-IM-0876-0001.jpeg',\n",
       " 'NORMAL2-IM-0877-0001.jpeg',\n",
       " 'NORMAL2-IM-0879-0001.jpeg',\n",
       " 'NORMAL2-IM-0880-0001.jpeg',\n",
       " 'NORMAL2-IM-0881-0001.jpeg',\n",
       " 'NORMAL2-IM-0882-0001.jpeg',\n",
       " 'NORMAL2-IM-0885-0001.jpeg',\n",
       " 'NORMAL2-IM-0886-0001.jpeg',\n",
       " 'NORMAL2-IM-0887-0001.jpeg',\n",
       " 'NORMAL2-IM-0888-0001.jpeg',\n",
       " 'NORMAL2-IM-0890-0001.jpeg',\n",
       " 'NORMAL2-IM-0892-0001.jpeg',\n",
       " 'NORMAL2-IM-0893-0001.jpeg',\n",
       " 'NORMAL2-IM-0894-0001.jpeg',\n",
       " 'NORMAL2-IM-0895-0001.jpeg',\n",
       " 'NORMAL2-IM-0896-0001.jpeg',\n",
       " 'NORMAL2-IM-0897-0001.jpeg',\n",
       " 'NORMAL2-IM-0898-0001.jpeg',\n",
       " 'NORMAL2-IM-0899-0001.jpeg',\n",
       " 'NORMAL2-IM-0900-0001.jpeg',\n",
       " 'NORMAL2-IM-0903-0001.jpeg',\n",
       " 'NORMAL2-IM-0904-0001.jpeg',\n",
       " 'NORMAL2-IM-0905-0001.jpeg',\n",
       " 'NORMAL2-IM-0906-0001.jpeg',\n",
       " 'NORMAL2-IM-0907-0001.jpeg',\n",
       " 'NORMAL2-IM-0908-0001.jpeg',\n",
       " 'NORMAL2-IM-0909-0001.jpeg',\n",
       " 'NORMAL2-IM-0910-0001.jpeg',\n",
       " 'NORMAL2-IM-0911-0001.jpeg',\n",
       " 'NORMAL2-IM-0912-0001.jpeg',\n",
       " 'NORMAL2-IM-0913-0001.jpeg',\n",
       " 'NORMAL2-IM-0914-0001.jpeg',\n",
       " 'NORMAL2-IM-0915-0001.jpeg',\n",
       " 'NORMAL2-IM-0917-0001.jpeg',\n",
       " 'NORMAL2-IM-0918-0001.jpeg',\n",
       " 'NORMAL2-IM-0919-0001.jpeg',\n",
       " 'NORMAL2-IM-0922-0001.jpeg',\n",
       " 'NORMAL2-IM-0923-0001.jpeg',\n",
       " 'NORMAL2-IM-0924-0001.jpeg',\n",
       " 'NORMAL2-IM-0925-0001.jpeg',\n",
       " 'NORMAL2-IM-0926-0001.jpeg',\n",
       " 'NORMAL2-IM-0927-0001.jpeg',\n",
       " 'NORMAL2-IM-0929-0001.jpeg',\n",
       " 'NORMAL2-IM-0930-0001.jpeg',\n",
       " 'NORMAL2-IM-0931-0001.jpeg',\n",
       " 'NORMAL2-IM-0932-0001.jpeg',\n",
       " 'NORMAL2-IM-0933-0001.jpeg',\n",
       " 'NORMAL2-IM-0934-0001.jpeg',\n",
       " 'NORMAL2-IM-0935-0001.jpeg',\n",
       " 'NORMAL2-IM-0936-0001.jpeg',\n",
       " 'NORMAL2-IM-0937-0001.jpeg',\n",
       " 'NORMAL2-IM-0939-0001.jpeg',\n",
       " 'NORMAL2-IM-0941-0001.jpeg',\n",
       " 'NORMAL2-IM-0942-0001.jpeg',\n",
       " 'NORMAL2-IM-0944-0001.jpeg',\n",
       " 'NORMAL2-IM-0945-0001.jpeg',\n",
       " 'NORMAL2-IM-0946-0001.jpeg',\n",
       " 'NORMAL2-IM-0947-0001.jpeg',\n",
       " 'NORMAL2-IM-0948-0001.jpeg',\n",
       " 'NORMAL2-IM-0949-0001.jpeg',\n",
       " 'NORMAL2-IM-0950-0001.jpeg',\n",
       " 'NORMAL2-IM-0951-0001.jpeg',\n",
       " 'NORMAL2-IM-0952-0001.jpeg',\n",
       " 'NORMAL2-IM-0954-0001.jpeg',\n",
       " 'NORMAL2-IM-0955-0001.jpeg',\n",
       " ...]"
      ]
     },
     "execution_count": 59,
     "metadata": {},
     "output_type": "execute_result"
    }
   ],
   "source": [
    "imgs_train_normal"
   ]
  },
  {
   "cell_type": "code",
   "execution_count": 102,
   "id": "6935a940",
   "metadata": {},
   "outputs": [],
   "source": [
    "#create image data generator for train data\n",
    "train_datagen = ImageDataGenerator(rescale=1./255, \n",
    "                                   rotation_range = 30,\n",
    "                                   shear_range = 0.2, \n",
    "                                   zoom_range = 0.2,\n",
    "                                   validation_split=0.2)"
   ]
  },
  {
   "cell_type": "code",
   "execution_count": 103,
   "id": "518f97dd",
   "metadata": {},
   "outputs": [
    {
     "name": "stdout",
     "output_type": "stream",
     "text": [
      "Found 4173 images belonging to 2 classes.\n",
      "Found 1043 images belonging to 2 classes.\n",
      "Found 624 images belonging to 2 classes.\n"
     ]
    }
   ],
   "source": [
    "#rescale images to 64 by 64\n",
    "#create validation set as 20% of train set\n",
    "\n",
    "train_folder = \"./data/chest_xray/train\"\n",
    "train_gen = train_datagen.flow_from_directory(\n",
    "        train_folder, \n",
    "        target_size=(64, 64), \n",
    "        color_mode='grayscale', \n",
    "        class_mode='binary',\n",
    "        subset='training',\n",
    "        batch_size= num_train, seed=42)\n",
    "\n",
    "validation_gen = train_datagen.flow_from_directory(\n",
    "        train_folder, \n",
    "        target_size=(64, 64), \n",
    "        color_mode='grayscale', \n",
    "        class_mode='binary',\n",
    "        subset='validation',\n",
    "        batch_size= num_train, seed=42)\n",
    "\n",
    "test_folder = \"./data/chest_xray/test\"\n",
    "test_gen = ImageDataGenerator(rescale=1./255).flow_from_directory(\n",
    "        test_folder, \n",
    "        target_size=(64, 64), color_mode='grayscale', \n",
    "        class_mode='binary', \n",
    "        batch_size= num_test)"
   ]
  },
  {
   "cell_type": "code",
   "execution_count": 104,
   "id": "9bbc17a0",
   "metadata": {},
   "outputs": [],
   "source": [
    "train_images, train_labels = next(train_gen)\n",
    "val_images, val_labels = next(validation_gen)\n",
    "test_images, test_labels = next(test_gen)"
   ]
  },
  {
   "cell_type": "code",
   "execution_count": null,
   "id": "cb5efc92",
   "metadata": {},
   "outputs": [],
   "source": [
    "earlystop = EarlyStopping(monitor='val_loss', min_delta=1e-3, patience=5, mode = 'min')"
   ]
  },
  {
   "cell_type": "code",
   "execution_count": 27,
   "id": "1641ca81",
   "metadata": {},
   "outputs": [],
   "source": [
    "fifth_cnn = models.Sequential()\n",
    "\n",
    "fifth_cnn.add(layers.Conv2D(filters=32, kernel_size=(3,3), padding='same', activation='relu', \n",
    "          input_shape=(64, 64, 1)))\n",
    "fifth_cnn.add(layers.MaxPooling2D(pool_size=(2,2)))\n",
    "fifth_cnn.add(layers.Conv2D(filters=64, kernel_size=(3,3), padding='same', activation='relu'))\n",
    "fifth_cnn.add(layers.MaxPooling2D(pool_size=(2,2)))\n",
    "fifth_cnn.add(layers.Conv2D(filters=64, kernel_size=(3,3), padding='same', activation='relu'))\n",
    "fifth_cnn.add(layers.MaxPooling2D(pool_size=(2,2)))\n",
    "#two dense layers\n",
    "fifth_cnn.add(layers.Flatten())\n",
    "fifth_cnn.add(layers.Dense(64, activation='relu'))\n",
    "fifth_cnn.add(layers.Dropout(0.5))\n",
    "fifth_cnn.add(layers.Dense(64, activation='relu'))\n",
    "#output layer\n",
    "fifth_cnn.add(layers.Dense(1, activation='sigmoid'))"
   ]
  },
  {
   "cell_type": "code",
   "execution_count": 28,
   "id": "86020970",
   "metadata": {},
   "outputs": [
    {
     "name": "stdout",
     "output_type": "stream",
     "text": [
      "Model: \"sequential_1\"\n",
      "_________________________________________________________________\n",
      "Layer (type)                 Output Shape              Param #   \n",
      "=================================================================\n",
      "conv2d_3 (Conv2D)            (None, 64, 64, 32)        320       \n",
      "_________________________________________________________________\n",
      "max_pooling2d_3 (MaxPooling2 (None, 32, 32, 32)        0         \n",
      "_________________________________________________________________\n",
      "conv2d_4 (Conv2D)            (None, 32, 32, 64)        18496     \n",
      "_________________________________________________________________\n",
      "max_pooling2d_4 (MaxPooling2 (None, 16, 16, 64)        0         \n",
      "_________________________________________________________________\n",
      "conv2d_5 (Conv2D)            (None, 16, 16, 64)        36928     \n",
      "_________________________________________________________________\n",
      "max_pooling2d_5 (MaxPooling2 (None, 8, 8, 64)          0         \n",
      "_________________________________________________________________\n",
      "flatten_1 (Flatten)          (None, 4096)              0         \n",
      "_________________________________________________________________\n",
      "dense_3 (Dense)              (None, 64)                262208    \n",
      "_________________________________________________________________\n",
      "dropout_1 (Dropout)          (None, 64)                0         \n",
      "_________________________________________________________________\n",
      "dense_4 (Dense)              (None, 64)                4160      \n",
      "_________________________________________________________________\n",
      "dense_5 (Dense)              (None, 1)                 65        \n",
      "=================================================================\n",
      "Total params: 322,177\n",
      "Trainable params: 322,177\n",
      "Non-trainable params: 0\n",
      "_________________________________________________________________\n"
     ]
    }
   ],
   "source": [
    "fifth_cnn.summary()"
   ]
  },
  {
   "cell_type": "code",
   "execution_count": 29,
   "id": "fd19f12c",
   "metadata": {},
   "outputs": [],
   "source": [
    "fifth_cnn.compile(optimizer='adam',\n",
    "                  loss='binary_crossentropy',\n",
    "                  metrics=['accuracy', tf.keras.metrics.Recall()])"
   ]
  },
  {
   "cell_type": "code",
   "execution_count": 30,
   "id": "3d5908fa",
   "metadata": {},
   "outputs": [
    {
     "name": "stdout",
     "output_type": "stream",
     "text": [
      "Epoch 1/30\n",
      "9/9 [==============================] - 4s 371ms/step - loss: 0.6164 - accuracy: 0.6964 - recall_2: 0.9126 - val_loss: 0.5774 - val_accuracy: 0.7430 - val_recall_2: 1.0000\n",
      "Epoch 2/30\n",
      "9/9 [==============================] - 3s 322ms/step - loss: 0.5842 - accuracy: 0.7429 - recall_2: 1.0000 - val_loss: 0.5645 - val_accuracy: 0.7430 - val_recall_2: 1.0000\n",
      "Epoch 3/30\n",
      "9/9 [==============================] - 3s 300ms/step - loss: 0.5650 - accuracy: 0.7429 - recall_2: 1.0000 - val_loss: 0.5285 - val_accuracy: 0.7430 - val_recall_2: 1.0000\n",
      "Epoch 4/30\n",
      "9/9 [==============================] - 3s 295ms/step - loss: 0.5182 - accuracy: 0.7481 - recall_2: 0.9984 - val_loss: 0.4530 - val_accuracy: 0.7804 - val_recall_2: 0.9845\n",
      "Epoch 5/30\n",
      "9/9 [==============================] - 3s 336ms/step - loss: 0.4473 - accuracy: 0.7676 - recall_2: 0.9706 - val_loss: 0.3769 - val_accuracy: 0.8169 - val_recall_2: 0.9561\n",
      "Epoch 6/30\n",
      "9/9 [==============================] - 3s 332ms/step - loss: 0.4180 - accuracy: 0.7951 - recall_2: 0.9223 - val_loss: 0.3913 - val_accuracy: 0.8265 - val_recall_2: 0.8206\n",
      "Epoch 7/30\n",
      "9/9 [==============================] - 3s 330ms/step - loss: 0.3563 - accuracy: 0.8409 - recall_2: 0.9419 - val_loss: 0.3192 - val_accuracy: 0.8504 - val_recall_2: 0.9084\n",
      "Epoch 8/30\n",
      "9/9 [==============================] - 3s 327ms/step - loss: 0.2944 - accuracy: 0.8682 - recall_2: 0.9339 - val_loss: 0.2989 - val_accuracy: 0.8639 - val_recall_2: 0.9445\n",
      "Epoch 9/30\n",
      "9/9 [==============================] - 3s 292ms/step - loss: 0.2711 - accuracy: 0.8785 - recall_2: 0.9410 - val_loss: 0.2752 - val_accuracy: 0.8667 - val_recall_2: 0.8671\n",
      "Epoch 10/30\n",
      "9/9 [==============================] - 3s 313ms/step - loss: 0.2481 - accuracy: 0.8859 - recall_2: 0.9339 - val_loss: 0.3558 - val_accuracy: 0.8399 - val_recall_2: 0.9781\n",
      "Epoch 11/30\n",
      "9/9 [==============================] - 3s 324ms/step - loss: 0.3449 - accuracy: 0.8394 - recall_2: 0.9042 - val_loss: 0.3423 - val_accuracy: 0.8111 - val_recall_2: 0.9948\n",
      "Epoch 12/30\n",
      "9/9 [==============================] - 3s 323ms/step - loss: 0.2683 - accuracy: 0.8809 - recall_2: 0.9606 - val_loss: 0.2814 - val_accuracy: 0.8591 - val_recall_2: 0.8413\n",
      "Epoch 13/30\n",
      "9/9 [==============================] - 3s 335ms/step - loss: 0.2481 - accuracy: 0.8795 - recall_2: 0.9235 - val_loss: 0.2780 - val_accuracy: 0.8754 - val_recall_2: 0.9458\n",
      "Epoch 14/30\n",
      "9/9 [==============================] - 3s 330ms/step - loss: 0.2429 - accuracy: 0.8984 - recall_2: 0.9419 - val_loss: 0.2578 - val_accuracy: 0.8840 - val_recall_2: 0.8748\n",
      "Epoch 15/30\n",
      "9/9 [==============================] - 3s 295ms/step - loss: 0.2281 - accuracy: 0.9029 - recall_2: 0.9419 - val_loss: 0.2325 - val_accuracy: 0.8936 - val_recall_2: 0.9342\n",
      "Epoch 16/30\n",
      "9/9 [==============================] - 3s 297ms/step - loss: 0.2121 - accuracy: 0.9154 - recall_2: 0.9419 - val_loss: 0.2259 - val_accuracy: 0.8984 - val_recall_2: 0.9510\n",
      "Epoch 17/30\n",
      "9/9 [==============================] - 3s 291ms/step - loss: 0.2096 - accuracy: 0.9164 - recall_2: 0.9442 - val_loss: 0.2353 - val_accuracy: 0.8888 - val_recall_2: 0.8684\n",
      "Epoch 18/30\n",
      "9/9 [==============================] - 3s 289ms/step - loss: 0.1956 - accuracy: 0.9255 - recall_2: 0.9458 - val_loss: 0.2178 - val_accuracy: 0.9041 - val_recall_2: 0.9097\n",
      "Epoch 19/30\n",
      "9/9 [==============================] - 3s 306ms/step - loss: 0.1883 - accuracy: 0.9243 - recall_2: 0.9500 - val_loss: 0.2142 - val_accuracy: 0.9156 - val_recall_2: 0.9071\n",
      "Epoch 20/30\n",
      "9/9 [==============================] - 3s 301ms/step - loss: 0.2081 - accuracy: 0.9178 - recall_2: 0.9481 - val_loss: 0.2636 - val_accuracy: 0.8686 - val_recall_2: 0.8297\n",
      "Epoch 21/30\n",
      "9/9 [==============================] - 3s 292ms/step - loss: 0.1996 - accuracy: 0.9231 - recall_2: 0.9465 - val_loss: 0.2015 - val_accuracy: 0.9089 - val_recall_2: 0.9381\n",
      "Epoch 22/30\n",
      "9/9 [==============================] - 3s 301ms/step - loss: 0.1864 - accuracy: 0.9269 - recall_2: 0.9503 - val_loss: 0.1984 - val_accuracy: 0.9022 - val_recall_2: 0.9226\n",
      "Epoch 23/30\n",
      "9/9 [==============================] - 3s 298ms/step - loss: 0.1790 - accuracy: 0.9319 - recall_2: 0.9594 - val_loss: 0.2036 - val_accuracy: 0.9175 - val_recall_2: 0.9123\n",
      "Epoch 24/30\n",
      "9/9 [==============================] - 3s 348ms/step - loss: 0.1863 - accuracy: 0.9324 - recall_2: 0.9555 - val_loss: 0.1952 - val_accuracy: 0.9166 - val_recall_2: 0.9200\n",
      "Epoch 25/30\n",
      "9/9 [==============================] - 3s 342ms/step - loss: 0.1763 - accuracy: 0.9341 - recall_2: 0.9587 - val_loss: 0.2071 - val_accuracy: 0.9137 - val_recall_2: 0.9006\n",
      "Epoch 26/30\n",
      "9/9 [==============================] - 3s 330ms/step - loss: 0.1716 - accuracy: 0.9387 - recall_2: 0.9552 - val_loss: 0.1953 - val_accuracy: 0.9080 - val_recall_2: 0.9419\n",
      "Epoch 27/30\n",
      "9/9 [==============================] - 3s 331ms/step - loss: 0.1612 - accuracy: 0.9384 - recall_2: 0.9626 - val_loss: 0.1799 - val_accuracy: 0.9204 - val_recall_2: 0.9419\n",
      "Epoch 28/30\n",
      "9/9 [==============================] - 3s 327ms/step - loss: 0.1555 - accuracy: 0.9422 - recall_2: 0.9581 - val_loss: 0.2188 - val_accuracy: 0.9051 - val_recall_2: 0.9781\n",
      "Epoch 29/30\n",
      "9/9 [==============================] - 4s 496ms/step - loss: 0.1690 - accuracy: 0.9370 - recall_2: 0.9629 - val_loss: 0.2066 - val_accuracy: 0.9099 - val_recall_2: 0.8890\n",
      "Epoch 30/30\n",
      "9/9 [==============================] - 5s 536ms/step - loss: 0.1837 - accuracy: 0.9288 - recall_2: 0.9535 - val_loss: 0.1897 - val_accuracy: 0.9281 - val_recall_2: 0.9239\n"
     ]
    },
    {
     "data": {
      "text/plain": [
       "<tensorflow.python.keras.callbacks.History at 0x222bcb5d760>"
      ]
     },
     "execution_count": 30,
     "metadata": {},
     "output_type": "execute_result"
    }
   ],
   "source": [
    "fifth_cnn.fit(train_images, train_labels, epochs=30, batch_size=500, validation_data=(val_images, val_labels))"
   ]
  },
  {
   "cell_type": "code",
   "execution_count": 31,
   "id": "fe7f7972",
   "metadata": {},
   "outputs": [
    {
     "name": "stdout",
     "output_type": "stream",
     "text": [
      "131/131 [==============================] - 2s 14ms/step - loss: 0.1363 - accuracy: 0.9540 - recall_2: 0.9558\n"
     ]
    },
    {
     "data": {
      "text/plain": [
       "[0.13627886772155762, 0.9539899230003357, 0.9558064341545105]"
      ]
     },
     "execution_count": 31,
     "metadata": {},
     "output_type": "execute_result"
    }
   ],
   "source": [
    "fifth_cnn.evaluate(train_images, train_labels)"
   ]
  },
  {
   "cell_type": "code",
   "execution_count": 32,
   "id": "5127f184",
   "metadata": {},
   "outputs": [
    {
     "name": "stdout",
     "output_type": "stream",
     "text": [
      "33/33 [==============================] - 1s 16ms/step - loss: 0.1897 - accuracy: 0.9281 - recall_2: 0.9239\n"
     ]
    },
    {
     "data": {
      "text/plain": [
       "[0.18967020511627197, 0.9280920624732971, 0.9238709807395935]"
      ]
     },
     "execution_count": 32,
     "metadata": {},
     "output_type": "execute_result"
    }
   ],
   "source": [
    "fifth_cnn.evaluate(val_images, val_labels)"
   ]
  },
  {
   "cell_type": "code",
   "execution_count": 49,
   "id": "2fd220fa",
   "metadata": {},
   "outputs": [],
   "source": [
    "sixth_cnn = models.Sequential()\n",
    "\n",
    "sixth_cnn.add(layers.Conv2D(filters=64, kernel_size=(3,3), padding='same', activation='relu', \n",
    "          input_shape=(64, 64, 1)))\n",
    "sixth_cnn.add(layers.MaxPooling2D(pool_size=(2,2)))\n",
    "sixth_cnn.add(layers.Conv2D(filters=64, kernel_size=(3,3), padding='same', activation='relu', \n",
    "                           kernel_regularizer= l2(l=0.1)))\n",
    "sixth_cnn.add(layers.MaxPooling2D(pool_size=(2,2)))\n",
    "sixth_cnn.add(layers.Conv2D(filters=64, kernel_size=(3,3), padding='same', activation='relu', \n",
    "                           kernel_regularizer= l2(l=0.1)))\n",
    "sixth_cnn.add(layers.MaxPooling2D(pool_size=(2,2)))\n",
    "#two dense layers\n",
    "sixth_cnn.add(layers.Flatten())\n",
    "sixth_cnn.add(layers.Dense(64, activation='relu'))\n",
    "sixth_cnn.add(layers.Dropout(0.4))\n",
    "sixth_cnn.add(layers.Dense(64, activation='relu'))\n",
    "#output layer\n",
    "sixth_cnn.add(layers.Dense(1, activation='sigmoid'))"
   ]
  },
  {
   "cell_type": "code",
   "execution_count": 50,
   "id": "21d3a7bb",
   "metadata": {},
   "outputs": [
    {
     "name": "stdout",
     "output_type": "stream",
     "text": [
      "Model: \"sequential_6\"\n",
      "_________________________________________________________________\n",
      "Layer (type)                 Output Shape              Param #   \n",
      "=================================================================\n",
      "conv2d_16 (Conv2D)           (None, 64, 64, 64)        640       \n",
      "_________________________________________________________________\n",
      "max_pooling2d_16 (MaxPooling (None, 32, 32, 64)        0         \n",
      "_________________________________________________________________\n",
      "conv2d_17 (Conv2D)           (None, 32, 32, 64)        36928     \n",
      "_________________________________________________________________\n",
      "max_pooling2d_17 (MaxPooling (None, 16, 16, 64)        0         \n",
      "_________________________________________________________________\n",
      "conv2d_18 (Conv2D)           (None, 16, 16, 64)        36928     \n",
      "_________________________________________________________________\n",
      "max_pooling2d_18 (MaxPooling (None, 8, 8, 64)          0         \n",
      "_________________________________________________________________\n",
      "flatten_6 (Flatten)          (None, 4096)              0         \n",
      "_________________________________________________________________\n",
      "dense_18 (Dense)             (None, 64)                262208    \n",
      "_________________________________________________________________\n",
      "dropout_6 (Dropout)          (None, 64)                0         \n",
      "_________________________________________________________________\n",
      "dense_19 (Dense)             (None, 64)                4160      \n",
      "_________________________________________________________________\n",
      "dense_20 (Dense)             (None, 1)                 65        \n",
      "=================================================================\n",
      "Total params: 340,929\n",
      "Trainable params: 340,929\n",
      "Non-trainable params: 0\n",
      "_________________________________________________________________\n"
     ]
    }
   ],
   "source": [
    "sixth_cnn.summary()"
   ]
  },
  {
   "cell_type": "code",
   "execution_count": 51,
   "id": "9d74661c",
   "metadata": {},
   "outputs": [],
   "source": [
    "sixth_cnn.compile(optimizer='adam',\n",
    "                  loss='binary_crossentropy',\n",
    "                  metrics=['accuracy', tf.keras.metrics.Recall()])"
   ]
  },
  {
   "cell_type": "code",
   "execution_count": 52,
   "id": "cdc85b2b",
   "metadata": {
    "scrolled": true
   },
   "outputs": [
    {
     "name": "stdout",
     "output_type": "stream",
     "text": [
      "Epoch 1/30\n",
      "9/9 [==============================] - 6s 612ms/step - loss: 11.5683 - accuracy: 0.7376 - recall_7: 0.9890 - val_loss: 9.1944 - val_accuracy: 0.7430 - val_recall_7: 1.0000\n",
      "Epoch 2/30\n",
      "9/9 [==============================] - 5s 504ms/step - loss: 7.8669 - accuracy: 0.7429 - recall_7: 1.0000 - val_loss: 6.1361 - val_accuracy: 0.7430 - val_recall_7: 1.0000\n",
      "Epoch 3/30\n",
      "9/9 [==============================] - 4s 494ms/step - loss: 5.2161 - accuracy: 0.7429 - recall_7: 1.0000 - val_loss: 4.0240 - val_accuracy: 0.7430 - val_recall_7: 1.0000\n",
      "Epoch 4/30\n",
      "9/9 [==============================] - 4s 502ms/step - loss: 3.4123 - accuracy: 0.7429 - recall_7: 1.0000 - val_loss: 2.6287 - val_accuracy: 0.7430 - val_recall_7: 1.0000\n",
      "Epoch 5/30\n",
      "9/9 [==============================] - 5s 543ms/step - loss: 2.2373 - accuracy: 0.7429 - recall_7: 1.0000 - val_loss: 1.7500 - val_accuracy: 0.7430 - val_recall_7: 1.0000\n",
      "Epoch 6/30\n",
      "9/9 [==============================] - 5s 527ms/step - loss: 1.5052 - accuracy: 0.7429 - recall_7: 1.0000 - val_loss: 1.1979 - val_accuracy: 0.7430 - val_recall_7: 1.0000\n",
      "Epoch 7/30\n",
      "9/9 [==============================] - 5s 530ms/step - loss: 1.0438 - accuracy: 0.7455 - recall_7: 1.0000 - val_loss: 0.8436 - val_accuracy: 0.7430 - val_recall_7: 0.9987\n",
      "Epoch 8/30\n",
      "9/9 [==============================] - 5s 525ms/step - loss: 0.7396 - accuracy: 0.7843 - recall_7: 0.9884 - val_loss: 0.6413 - val_accuracy: 0.8322 - val_recall_7: 0.8929\n",
      "Epoch 9/30\n",
      "9/9 [==============================] - 5s 549ms/step - loss: 0.5778 - accuracy: 0.8205 - recall_7: 0.9481 - val_loss: 0.5446 - val_accuracy: 0.8102 - val_recall_7: 0.8103\n",
      "Epoch 10/30\n",
      "9/9 [==============================] - 5s 558ms/step - loss: 0.4757 - accuracy: 0.8488 - recall_7: 0.9387 - val_loss: 0.4428 - val_accuracy: 0.8514 - val_recall_7: 0.9006\n",
      "Epoch 11/30\n",
      "9/9 [==============================] - 5s 577ms/step - loss: 0.4180 - accuracy: 0.8593 - recall_7: 0.9419 - val_loss: 0.4267 - val_accuracy: 0.8504 - val_recall_7: 0.9729\n",
      "Epoch 12/30\n",
      "9/9 [==============================] - 5s 539ms/step - loss: 0.3835 - accuracy: 0.8699 - recall_7: 0.9423 - val_loss: 0.3842 - val_accuracy: 0.8504 - val_recall_7: 0.8852\n",
      "Epoch 13/30\n",
      "9/9 [==============================] - 5s 575ms/step - loss: 0.3500 - accuracy: 0.8785 - recall_7: 0.9400 - val_loss: 0.3657 - val_accuracy: 0.8552 - val_recall_7: 0.8813\n",
      "Epoch 14/30\n",
      "9/9 [==============================] - 5s 551ms/step - loss: 0.3380 - accuracy: 0.8831 - recall_7: 0.9384 - val_loss: 0.3805 - val_accuracy: 0.8552 - val_recall_7: 0.9742\n",
      "Epoch 15/30\n",
      "9/9 [==============================] - 5s 560ms/step - loss: 0.3374 - accuracy: 0.8819 - recall_7: 0.9429 - val_loss: 0.4223 - val_accuracy: 0.8121 - val_recall_7: 0.7819\n",
      "Epoch 16/30\n",
      "9/9 [==============================] - 5s 571ms/step - loss: 0.3618 - accuracy: 0.8577 - recall_7: 0.9235 - val_loss: 0.3621 - val_accuracy: 0.8562 - val_recall_7: 0.8645\n",
      "Epoch 17/30\n",
      "9/9 [==============================] - 5s 535ms/step - loss: 0.3417 - accuracy: 0.8723 - recall_7: 0.9206 - val_loss: 0.3344 - val_accuracy: 0.8773 - val_recall_7: 0.9523\n",
      "Epoch 18/30\n",
      "9/9 [==============================] - 5s 524ms/step - loss: 0.3351 - accuracy: 0.8785 - recall_7: 0.9271 - val_loss: 0.3404 - val_accuracy: 0.8715 - val_recall_7: 0.9445\n",
      "Epoch 19/30\n",
      "9/9 [==============================] - 5s 550ms/step - loss: 0.3123 - accuracy: 0.8907 - recall_7: 0.9429 - val_loss: 0.3347 - val_accuracy: 0.8591 - val_recall_7: 0.8903\n",
      "Epoch 20/30\n",
      "9/9 [==============================] - 5s 528ms/step - loss: 0.3018 - accuracy: 0.8972 - recall_7: 0.9384 - val_loss: 0.3275 - val_accuracy: 0.8667 - val_recall_7: 0.9174\n",
      "Epoch 21/30\n",
      "9/9 [==============================] - 5s 533ms/step - loss: 0.2908 - accuracy: 0.8991 - recall_7: 0.9397 - val_loss: 0.3163 - val_accuracy: 0.8734 - val_recall_7: 0.9239\n",
      "Epoch 22/30\n",
      "9/9 [==============================] - 5s 529ms/step - loss: 0.2903 - accuracy: 0.9006 - recall_7: 0.9416 - val_loss: 0.3158 - val_accuracy: 0.8648 - val_recall_7: 0.9032\n",
      "Epoch 23/30\n",
      "9/9 [==============================] - 5s 523ms/step - loss: 0.2863 - accuracy: 0.9003 - recall_7: 0.9400 - val_loss: 0.3086 - val_accuracy: 0.8725 - val_recall_7: 0.9213\n",
      "Epoch 24/30\n",
      "9/9 [==============================] - 5s 548ms/step - loss: 0.2738 - accuracy: 0.9051 - recall_7: 0.9461 - val_loss: 0.3697 - val_accuracy: 0.8399 - val_recall_7: 0.8142\n",
      "Epoch 25/30\n",
      "9/9 [==============================] - 5s 501ms/step - loss: 0.2951 - accuracy: 0.8907 - recall_7: 0.9326 - val_loss: 0.3306 - val_accuracy: 0.8543 - val_recall_7: 0.8529\n",
      "Epoch 26/30\n",
      "9/9 [==============================] - 5s 533ms/step - loss: 0.2786 - accuracy: 0.9056 - recall_7: 0.9348 - val_loss: 0.3010 - val_accuracy: 0.8792 - val_recall_7: 0.9329\n",
      "Epoch 27/30\n",
      "9/9 [==============================] - 5s 525ms/step - loss: 0.2723 - accuracy: 0.9032 - recall_7: 0.9361 - val_loss: 0.2977 - val_accuracy: 0.8782 - val_recall_7: 0.9290\n",
      "Epoch 28/30\n",
      "9/9 [==============================] - 5s 541ms/step - loss: 0.2729 - accuracy: 0.9041 - recall_7: 0.9397 - val_loss: 0.3137 - val_accuracy: 0.8802 - val_recall_7: 0.9626\n",
      "Epoch 29/30\n",
      "9/9 [==============================] - 5s 517ms/step - loss: 0.2640 - accuracy: 0.9049 - recall_7: 0.9413 - val_loss: 0.3003 - val_accuracy: 0.8725 - val_recall_7: 0.9019\n",
      "Epoch 30/30\n",
      "9/9 [==============================] - 5s 518ms/step - loss: 0.2615 - accuracy: 0.9056 - recall_7: 0.9419 - val_loss: 0.3172 - val_accuracy: 0.8639 - val_recall_7: 0.8568\n"
     ]
    },
    {
     "data": {
      "text/plain": [
       "<tensorflow.python.keras.callbacks.History at 0x222c7176910>"
      ]
     },
     "execution_count": 52,
     "metadata": {},
     "output_type": "execute_result"
    }
   ],
   "source": [
    "sixth_cnn.fit(train_images, train_labels, epochs=30, batch_size=500, validation_data=(val_images, val_labels))"
   ]
  },
  {
   "cell_type": "code",
   "execution_count": 55,
   "id": "0faaf9b2",
   "metadata": {},
   "outputs": [
    {
     "name": "stdout",
     "output_type": "stream",
     "text": [
      "131/131 [==============================] - 1s 6ms/step - loss: 0.1224 - accuracy: 0.9691 - recall_3: 0.9803\n"
     ]
    },
    {
     "data": {
      "text/plain": [
       "[0.12237749248743057, 0.9690870046615601, 0.9803225994110107]"
      ]
     },
     "execution_count": 55,
     "metadata": {},
     "output_type": "execute_result"
    }
   ],
   "source": [
    "sixth_cnn.evaluate(train_images, train_labels)"
   ]
  },
  {
   "cell_type": "code",
   "execution_count": 56,
   "id": "6ecd8f2c",
   "metadata": {},
   "outputs": [
    {
     "name": "stdout",
     "output_type": "stream",
     "text": [
      "33/33 [==============================] - 0s 7ms/step - loss: 0.2091 - accuracy: 0.9243 - recall_3: 0.9342\n"
     ]
    },
    {
     "data": {
      "text/plain": [
       "[0.2091488540172577, 0.9242569804191589, 0.9341935515403748]"
      ]
     },
     "execution_count": 56,
     "metadata": {},
     "output_type": "execute_result"
    }
   ],
   "source": [
    "sixth_cnn.evaluate(val_images, val_labels)"
   ]
  },
  {
   "cell_type": "code",
   "execution_count": 63,
   "id": "870a1938",
   "metadata": {},
   "outputs": [
    {
     "name": "stdout",
     "output_type": "stream",
     "text": [
      "131/131 [==============================] - 2s 12ms/step - loss: 0.1187 - accuracy: 0.9739 - recall_4: 0.9887\n"
     ]
    },
    {
     "data": {
      "text/plain": [
       "[0.11865545809268951, 0.9738796949386597, 0.9887096881866455]"
      ]
     },
     "execution_count": 63,
     "metadata": {},
     "output_type": "execute_result"
    }
   ],
   "source": [
    "sixth_cnn.evaluate(train_images, train_labels)"
   ]
  },
  {
   "cell_type": "code",
   "execution_count": 62,
   "id": "062b4a3a",
   "metadata": {
    "scrolled": true
   },
   "outputs": [
    {
     "name": "stdout",
     "output_type": "stream",
     "text": [
      "33/33 [==============================] - 0s 12ms/step - loss: 0.2018 - accuracy: 0.9367 - recall_4: 0.9561\n"
     ]
    },
    {
     "data": {
      "text/plain": [
       "[0.2017716020345688, 0.9367210268974304, 0.9561290144920349]"
      ]
     },
     "execution_count": 62,
     "metadata": {},
     "output_type": "execute_result"
    }
   ],
   "source": [
    "sixth_cnn.evaluate(val_images, val_labels)"
   ]
  },
  {
   "cell_type": "code",
   "execution_count": 73,
   "id": "3df6cffe",
   "metadata": {},
   "outputs": [],
   "source": [
    "seventh_cnn = models.Sequential()\n",
    "\n",
    "seventh_cnn.add(layers.Conv2D(filters=64, kernel_size=(3,3), padding='same', activation='relu', \n",
    "          input_shape=(64, 64, 1)))\n",
    "seventh_cnn.add(layers.MaxPooling2D(pool_size=(2,2)))\n",
    "seventh_cnn.add(layers.Conv2D(filters=128, kernel_size=(3,3), padding='same', activation='relu', \n",
    "                              kernel_regularizer= l2(l=0.01)))\n",
    "seventh_cnn.add(layers.MaxPooling2D(pool_size=(2,2)))\n",
    "seventh_cnn.add(layers.Conv2D(filters=128, kernel_size=(3,3), padding='same', activation='relu', \n",
    "                              kernel_regularizer= l2(l=0.1)))\n",
    "seventh_cnn.add(layers.MaxPooling2D(pool_size=(2,2)))\n",
    "#two dense layers\n",
    "seventh_cnn.add(layers.Flatten())\n",
    "seventh_cnn.add(layers.Dense(64, activation='relu'))\n",
    "seventh_cnn.add(layers.Dropout(0.5))\n",
    "seventh_cnn.add(layers.Dense(64, activation='relu'))\n",
    "#output layer\n",
    "seventh_cnn.add(layers.Dense(1, activation='sigmoid'))"
   ]
  },
  {
   "cell_type": "code",
   "execution_count": 74,
   "id": "dddd6ed5",
   "metadata": {},
   "outputs": [
    {
     "name": "stdout",
     "output_type": "stream",
     "text": [
      "Model: \"sequential_10\"\n",
      "_________________________________________________________________\n",
      "Layer (type)                 Output Shape              Param #   \n",
      "=================================================================\n",
      "conv2d_28 (Conv2D)           (None, 64, 64, 64)        640       \n",
      "_________________________________________________________________\n",
      "max_pooling2d_28 (MaxPooling (None, 32, 32, 64)        0         \n",
      "_________________________________________________________________\n",
      "conv2d_29 (Conv2D)           (None, 32, 32, 128)       73856     \n",
      "_________________________________________________________________\n",
      "max_pooling2d_29 (MaxPooling (None, 16, 16, 128)       0         \n",
      "_________________________________________________________________\n",
      "conv2d_30 (Conv2D)           (None, 16, 16, 128)       147584    \n",
      "_________________________________________________________________\n",
      "max_pooling2d_30 (MaxPooling (None, 8, 8, 128)         0         \n",
      "_________________________________________________________________\n",
      "flatten_10 (Flatten)         (None, 8192)              0         \n",
      "_________________________________________________________________\n",
      "dense_30 (Dense)             (None, 64)                524352    \n",
      "_________________________________________________________________\n",
      "dropout_10 (Dropout)         (None, 64)                0         \n",
      "_________________________________________________________________\n",
      "dense_31 (Dense)             (None, 64)                4160      \n",
      "_________________________________________________________________\n",
      "dense_32 (Dense)             (None, 1)                 65        \n",
      "=================================================================\n",
      "Total params: 750,657\n",
      "Trainable params: 750,657\n",
      "Non-trainable params: 0\n",
      "_________________________________________________________________\n"
     ]
    }
   ],
   "source": [
    "seventh_cnn.summary()"
   ]
  },
  {
   "cell_type": "code",
   "execution_count": 75,
   "id": "f2a8456c",
   "metadata": {},
   "outputs": [],
   "source": [
    "seventh_cnn.compile(optimizer='adam',\n",
    "                  loss='binary_crossentropy',\n",
    "                  metrics=['accuracy', tf.keras.metrics.Recall()])"
   ]
  },
  {
   "cell_type": "code",
   "execution_count": 79,
   "id": "8dec43ca",
   "metadata": {},
   "outputs": [
    {
     "name": "stdout",
     "output_type": "stream",
     "text": [
      "Epoch 1/50\n",
      "5/5 [==============================] - 7s 1s/step - loss: 0.2139 - accuracy: 0.9410 - recall_11: 0.9581 - val_loss: 0.2556 - val_accuracy: 0.9118 - val_recall_11: 0.9574\n",
      "Epoch 2/50\n",
      "5/5 [==============================] - 7s 1s/step - loss: 0.2152 - accuracy: 0.9396 - recall_11: 0.9558 - val_loss: 0.2842 - val_accuracy: 0.8773 - val_recall_11: 0.8542\n",
      "Epoch 3/50\n",
      "5/5 [==============================] - 7s 1s/step - loss: 0.2377 - accuracy: 0.9276 - recall_11: 0.9374 - val_loss: 0.2955 - val_accuracy: 0.8734 - val_recall_11: 0.8477\n",
      "Epoch 4/50\n",
      "5/5 [==============================] - 7s 1s/step - loss: 0.2421 - accuracy: 0.9176 - recall_11: 0.9284 - val_loss: 0.3088 - val_accuracy: 0.8610 - val_recall_11: 0.8245\n",
      "Epoch 5/50\n",
      "5/5 [==============================] - 7s 1s/step - loss: 0.2553 - accuracy: 0.9133 - recall_11: 0.9087 - val_loss: 0.2828 - val_accuracy: 0.8955 - val_recall_11: 0.9419\n",
      "Epoch 6/50\n",
      "5/5 [==============================] - 7s 1s/step - loss: 0.2362 - accuracy: 0.9269 - recall_11: 0.9323 - val_loss: 0.2729 - val_accuracy: 0.9032 - val_recall_11: 0.9445\n",
      "Epoch 7/50\n",
      "5/5 [==============================] - 7s 1s/step - loss: 0.2314 - accuracy: 0.9303 - recall_11: 0.9603 - val_loss: 0.2715 - val_accuracy: 0.8965 - val_recall_11: 0.8942\n",
      "Epoch 8/50\n",
      "5/5 [==============================] - 7s 1s/step - loss: 0.2266 - accuracy: 0.9329 - recall_11: 0.9497 - val_loss: 0.2533 - val_accuracy: 0.9070 - val_recall_11: 0.9303\n",
      "Epoch 9/50\n",
      "5/5 [==============================] - 7s 1s/step - loss: 0.2360 - accuracy: 0.9360 - recall_11: 0.9552 - val_loss: 0.2736 - val_accuracy: 0.8945 - val_recall_11: 0.8890\n",
      "Epoch 10/50\n",
      "5/5 [==============================] - 7s 1s/step - loss: 0.2273 - accuracy: 0.9312 - recall_11: 0.9406 - val_loss: 0.2819 - val_accuracy: 0.9012 - val_recall_11: 0.9329\n",
      "Epoch 11/50\n",
      "5/5 [==============================] - 7s 1s/step - loss: 0.2328 - accuracy: 0.9298 - recall_11: 0.9403 - val_loss: 0.2792 - val_accuracy: 0.8945 - val_recall_11: 0.8787\n",
      "Epoch 12/50\n",
      "5/5 [==============================] - 7s 1s/step - loss: 0.2276 - accuracy: 0.9295 - recall_11: 0.9452 - val_loss: 0.2612 - val_accuracy: 0.9003 - val_recall_11: 0.9135\n",
      "Epoch 13/50\n",
      "5/5 [==============================] - 7s 1s/step - loss: 0.2095 - accuracy: 0.9418 - recall_11: 0.9577 - val_loss: 0.2575 - val_accuracy: 0.8984 - val_recall_11: 0.9135\n",
      "Epoch 14/50\n",
      "5/5 [==============================] - 7s 1s/step - loss: 0.2134 - accuracy: 0.9415 - recall_11: 0.9529 - val_loss: 0.2533 - val_accuracy: 0.9060 - val_recall_11: 0.9290\n",
      "Epoch 15/50\n",
      "5/5 [==============================] - 7s 1s/step - loss: 0.2021 - accuracy: 0.9434 - recall_11: 0.9555 - val_loss: 0.2503 - val_accuracy: 0.9051 - val_recall_11: 0.9174\n",
      "Epoch 16/50\n",
      "5/5 [==============================] - 7s 1s/step - loss: 0.2060 - accuracy: 0.9401 - recall_11: 0.9532 - val_loss: 0.2499 - val_accuracy: 0.9070 - val_recall_11: 0.9148\n",
      "Epoch 17/50\n",
      "5/5 [==============================] - 7s 1s/step - loss: 0.1992 - accuracy: 0.9442 - recall_11: 0.9584 - val_loss: 0.2541 - val_accuracy: 0.9051 - val_recall_11: 0.9006\n",
      "Epoch 18/50\n",
      "5/5 [==============================] - 7s 1s/step - loss: 0.2064 - accuracy: 0.9454 - recall_11: 0.9561 - val_loss: 0.2477 - val_accuracy: 0.9041 - val_recall_11: 0.9084\n",
      "Epoch 19/50\n",
      "5/5 [==============================] - 7s 1s/step - loss: 0.1986 - accuracy: 0.9430 - recall_11: 0.9584 - val_loss: 0.2713 - val_accuracy: 0.8859 - val_recall_11: 0.8658\n",
      "Epoch 20/50\n",
      "5/5 [==============================] - 7s 1s/step - loss: 0.2056 - accuracy: 0.9403 - recall_11: 0.9497 - val_loss: 0.2444 - val_accuracy: 0.9080 - val_recall_11: 0.9110\n",
      "Epoch 21/50\n",
      "5/5 [==============================] - 7s 1s/step - loss: 0.1963 - accuracy: 0.9437 - recall_11: 0.9532 - val_loss: 0.2487 - val_accuracy: 0.8974 - val_recall_11: 0.9032\n",
      "Epoch 22/50\n",
      "5/5 [==============================] - 7s 1s/step - loss: 0.2054 - accuracy: 0.9396 - recall_11: 0.9461 - val_loss: 0.2441 - val_accuracy: 0.9166 - val_recall_11: 0.9523\n",
      "Epoch 23/50\n",
      "5/5 [==============================] - 7s 1s/step - loss: 0.1922 - accuracy: 0.9516 - recall_11: 0.9616 - val_loss: 0.2443 - val_accuracy: 0.9156 - val_recall_11: 0.9187\n",
      "Epoch 24/50\n",
      "5/5 [==============================] - 7s 1s/step - loss: 0.2025 - accuracy: 0.9437 - recall_11: 0.9558 - val_loss: 0.2438 - val_accuracy: 0.9108 - val_recall_11: 0.9226\n",
      "Epoch 25/50\n",
      "5/5 [==============================] - 7s 1s/step - loss: 0.1917 - accuracy: 0.9463 - recall_11: 0.9539 - val_loss: 0.2397 - val_accuracy: 0.9166 - val_recall_11: 0.9471\n",
      "Epoch 26/50\n",
      "5/5 [==============================] - 7s 1s/step - loss: 0.1871 - accuracy: 0.9461 - recall_11: 0.9577 - val_loss: 0.2501 - val_accuracy: 0.9099 - val_recall_11: 0.9471\n",
      "Epoch 27/50\n",
      "5/5 [==============================] - 7s 1s/step - loss: 0.1924 - accuracy: 0.9458 - recall_11: 0.9545 - val_loss: 0.2553 - val_accuracy: 0.9099 - val_recall_11: 0.9574\n",
      "Epoch 28/50\n",
      "5/5 [==============================] - 7s 1s/step - loss: 0.1897 - accuracy: 0.9470 - recall_11: 0.9568 - val_loss: 0.2698 - val_accuracy: 0.9051 - val_recall_11: 0.9587\n",
      "Epoch 29/50\n",
      "5/5 [==============================] - 7s 1s/step - loss: 0.1982 - accuracy: 0.9391 - recall_11: 0.9474 - val_loss: 0.2916 - val_accuracy: 0.9051 - val_recall_11: 0.9716\n",
      "Epoch 30/50\n",
      "5/5 [==============================] - 7s 1s/step - loss: 0.2019 - accuracy: 0.9403 - recall_11: 0.9506 - val_loss: 0.2685 - val_accuracy: 0.9108 - val_recall_11: 0.9729\n",
      "Epoch 31/50\n",
      "5/5 [==============================] - 7s 1s/step - loss: 0.2016 - accuracy: 0.9351 - recall_11: 0.9513 - val_loss: 0.2664 - val_accuracy: 0.9089 - val_recall_11: 0.9587\n",
      "Epoch 32/50\n",
      "5/5 [==============================] - 7s 1s/step - loss: 0.1984 - accuracy: 0.9439 - recall_11: 0.9619 - val_loss: 0.2496 - val_accuracy: 0.9041 - val_recall_11: 0.8968\n",
      "Epoch 33/50\n",
      "5/5 [==============================] - 7s 1s/step - loss: 0.1924 - accuracy: 0.9432 - recall_11: 0.9587 - val_loss: 0.2565 - val_accuracy: 0.9032 - val_recall_11: 0.8890\n",
      "Epoch 34/50\n",
      "5/5 [==============================] - 7s 1s/step - loss: 0.1961 - accuracy: 0.9418 - recall_11: 0.9513 - val_loss: 0.2447 - val_accuracy: 0.9041 - val_recall_11: 0.9019\n",
      "Epoch 35/50\n",
      "5/5 [==============================] - 7s 1s/step - loss: 0.1843 - accuracy: 0.9466 - recall_11: 0.9500 - val_loss: 0.2353 - val_accuracy: 0.9166 - val_recall_11: 0.9471\n",
      "Epoch 36/50\n",
      "5/5 [==============================] - 7s 1s/step - loss: 0.1834 - accuracy: 0.9497 - recall_11: 0.9552 - val_loss: 0.2565 - val_accuracy: 0.9022 - val_recall_11: 0.9458\n",
      "Epoch 37/50\n",
      "5/5 [==============================] - 7s 1s/step - loss: 0.1869 - accuracy: 0.9466 - recall_11: 0.9545 - val_loss: 0.2415 - val_accuracy: 0.9147 - val_recall_11: 0.9432\n",
      "Epoch 38/50\n",
      "5/5 [==============================] - 7s 1s/step - loss: 0.1799 - accuracy: 0.9528 - recall_11: 0.9610 - val_loss: 0.2331 - val_accuracy: 0.9166 - val_recall_11: 0.9458\n",
      "Epoch 39/50\n",
      "5/5 [==============================] - 7s 1s/step - loss: 0.1760 - accuracy: 0.9535 - recall_11: 0.9613 - val_loss: 0.2420 - val_accuracy: 0.9108 - val_recall_11: 0.9161\n",
      "Epoch 40/50\n",
      "5/5 [==============================] - 7s 1s/step - loss: 0.1769 - accuracy: 0.9535 - recall_11: 0.9610 - val_loss: 0.2307 - val_accuracy: 0.9195 - val_recall_11: 0.9432\n",
      "Epoch 41/50\n",
      "5/5 [==============================] - 7s 1s/step - loss: 0.1725 - accuracy: 0.9559 - recall_11: 0.9639 - val_loss: 0.2515 - val_accuracy: 0.9175 - val_recall_11: 0.9574\n",
      "Epoch 42/50\n",
      "5/5 [==============================] - 7s 1s/step - loss: 0.1737 - accuracy: 0.9499 - recall_11: 0.9587 - val_loss: 0.2304 - val_accuracy: 0.9166 - val_recall_11: 0.9342\n",
      "Epoch 43/50\n",
      "5/5 [==============================] - 7s 1s/step - loss: 0.1776 - accuracy: 0.9518 - recall_11: 0.9616 - val_loss: 0.2354 - val_accuracy: 0.9118 - val_recall_11: 0.9381\n",
      "Epoch 44/50\n",
      "5/5 [==============================] - 7s 1s/step - loss: 0.1740 - accuracy: 0.9518 - recall_11: 0.9606 - val_loss: 0.2358 - val_accuracy: 0.9156 - val_recall_11: 0.9239\n",
      "Epoch 45/50\n",
      "5/5 [==============================] - 7s 1s/step - loss: 0.1820 - accuracy: 0.9463 - recall_11: 0.9497 - val_loss: 0.2305 - val_accuracy: 0.9185 - val_recall_11: 0.9342\n",
      "Epoch 46/50\n"
     ]
    },
    {
     "name": "stdout",
     "output_type": "stream",
     "text": [
      "5/5 [==============================] - 7s 1s/step - loss: 0.1786 - accuracy: 0.9499 - recall_11: 0.9571 - val_loss: 0.2655 - val_accuracy: 0.9089 - val_recall_11: 0.9613\n",
      "Epoch 47/50\n",
      "5/5 [==============================] - 7s 1s/step - loss: 0.1750 - accuracy: 0.9514 - recall_11: 0.9606 - val_loss: 0.2404 - val_accuracy: 0.9147 - val_recall_11: 0.9419\n",
      "Epoch 48/50\n",
      "5/5 [==============================] - 7s 1s/step - loss: 0.1676 - accuracy: 0.9554 - recall_11: 0.9632 - val_loss: 0.2420 - val_accuracy: 0.9185 - val_recall_11: 0.9523\n",
      "Epoch 49/50\n",
      "5/5 [==============================] - 7s 1s/step - loss: 0.1652 - accuracy: 0.9545 - recall_11: 0.9600 - val_loss: 0.2648 - val_accuracy: 0.9099 - val_recall_11: 0.9639\n",
      "Epoch 50/50\n",
      "5/5 [==============================] - 7s 1s/step - loss: 0.1798 - accuracy: 0.9454 - recall_11: 0.9542 - val_loss: 0.2380 - val_accuracy: 0.9137 - val_recall_11: 0.9239\n"
     ]
    },
    {
     "data": {
      "text/plain": [
       "<tensorflow.python.keras.callbacks.History at 0x22358a65310>"
      ]
     },
     "execution_count": 79,
     "metadata": {},
     "output_type": "execute_result"
    }
   ],
   "source": [
    "seventh_cnn.fit(train_images, train_labels, epochs=50, batch_size=1000, validation_data=(val_images, val_labels))"
   ]
  },
  {
   "cell_type": "code",
   "execution_count": 69,
   "id": "b18946d4",
   "metadata": {},
   "outputs": [
    {
     "name": "stdout",
     "output_type": "stream",
     "text": [
      "131/131 [==============================] - 2s 18ms/step - loss: 0.2355 - accuracy: 0.9156 - recall_10: 0.9784\n"
     ]
    },
    {
     "data": {
      "text/plain": [
       "[0.23546072840690613, 0.9156482219696045, 0.9783871173858643]"
      ]
     },
     "execution_count": 69,
     "metadata": {},
     "output_type": "execute_result"
    }
   ],
   "source": [
    "seventh_cnn.evaluate(train_images, train_labels)"
   ]
  },
  {
   "cell_type": "code",
   "execution_count": 71,
   "id": "d58e3f8d",
   "metadata": {},
   "outputs": [
    {
     "name": "stdout",
     "output_type": "stream",
     "text": [
      "20/20 [==============================] - 0s 15ms/step - loss: 0.4381 - accuracy: 0.8413 - recall_10: 0.9744\n"
     ]
    },
    {
     "data": {
      "text/plain": [
       "[0.4381282925605774, 0.8413461446762085, 0.9743589758872986]"
      ]
     },
     "execution_count": 71,
     "metadata": {},
     "output_type": "execute_result"
    }
   ],
   "source": [
    "seventh_cnn.evaluate(val_images, val_labels)"
   ]
  },
  {
   "cell_type": "code",
   "execution_count": 95,
   "id": "ee3c02d3",
   "metadata": {},
   "outputs": [],
   "source": [
    "eigth_cnn = models.Sequential()\n",
    "\n",
    "eigth_cnn.add(layers.Conv2D(filters=32, kernel_size=(3,3), padding='same', activation='relu', \n",
    "          input_shape=(64, 64, 1)))\n",
    "eigth_cnn.add(layers.MaxPooling2D(pool_size=(2,2)))\n",
    "eigth_cnn.add(layers.Conv2D(filters=64, kernel_size=(3,3), padding='same', activation='relu'))\n",
    "eigth_cnn.add(layers.MaxPooling2D(pool_size=(2,2)))\n",
    "eigth_cnn.add(layers.Conv2D(filters=64, kernel_size=(3,3), padding='same', activation='relu'))\n",
    "eigth_cnn.add(layers.MaxPooling2D(pool_size=(2,2)))\n",
    "eigth_cnn.add(layers.Conv2D(filters=64, kernel_size=(3,3), padding='same', activation='relu'))\n",
    "eigth_cnn.add(layers.MaxPooling2D(pool_size=(2,2)))\n",
    "#two dense layers\n",
    "eigth_cnn.add(layers.Flatten())\n",
    "eigth_cnn.add(layers.Dense(64, activation='relu', kernel_regularizer= l2(l=0.1)))\n",
    "eigth_cnn.add(layers.Dropout(0.25))\n",
    "eigth_cnn.add(layers.Dense(64, activation='relu', kernel_regularizer= l2(l=0.1)))\n",
    "#output layer\n",
    "eigth_cnn.add(layers.Dense(1, activation='sigmoid'))"
   ]
  },
  {
   "cell_type": "code",
   "execution_count": 96,
   "id": "f70b9d43",
   "metadata": {},
   "outputs": [
    {
     "name": "stdout",
     "output_type": "stream",
     "text": [
      "Model: \"sequential_16\"\n",
      "_________________________________________________________________\n",
      "Layer (type)                 Output Shape              Param #   \n",
      "=================================================================\n",
      "conv2d_43 (Conv2D)           (None, 64, 64, 32)        320       \n",
      "_________________________________________________________________\n",
      "max_pooling2d_43 (MaxPooling (None, 32, 32, 32)        0         \n",
      "_________________________________________________________________\n",
      "conv2d_44 (Conv2D)           (None, 32, 32, 64)        18496     \n",
      "_________________________________________________________________\n",
      "max_pooling2d_44 (MaxPooling (None, 16, 16, 64)        0         \n",
      "_________________________________________________________________\n",
      "conv2d_45 (Conv2D)           (None, 16, 16, 64)        36928     \n",
      "_________________________________________________________________\n",
      "max_pooling2d_45 (MaxPooling (None, 8, 8, 64)          0         \n",
      "_________________________________________________________________\n",
      "conv2d_46 (Conv2D)           (None, 8, 8, 64)          36928     \n",
      "_________________________________________________________________\n",
      "max_pooling2d_46 (MaxPooling (None, 4, 4, 64)          0         \n",
      "_________________________________________________________________\n",
      "flatten_14 (Flatten)         (None, 1024)              0         \n",
      "_________________________________________________________________\n",
      "dense_42 (Dense)             (None, 64)                65600     \n",
      "_________________________________________________________________\n",
      "dropout_14 (Dropout)         (None, 64)                0         \n",
      "_________________________________________________________________\n",
      "dense_43 (Dense)             (None, 64)                4160      \n",
      "_________________________________________________________________\n",
      "dense_44 (Dense)             (None, 1)                 65        \n",
      "=================================================================\n",
      "Total params: 162,497\n",
      "Trainable params: 162,497\n",
      "Non-trainable params: 0\n",
      "_________________________________________________________________\n"
     ]
    }
   ],
   "source": [
    "eigth_cnn.summary()"
   ]
  },
  {
   "cell_type": "code",
   "execution_count": 97,
   "id": "2d7c0fb3",
   "metadata": {},
   "outputs": [],
   "source": [
    "eigth_cnn.compile(optimizer='adam',\n",
    "                  loss='binary_crossentropy',\n",
    "                  metrics=['accuracy', tf.keras.metrics.Recall()])"
   ]
  },
  {
   "cell_type": "code",
   "execution_count": 98,
   "id": "4d1c26dc",
   "metadata": {},
   "outputs": [
    {
     "name": "stdout",
     "output_type": "stream",
     "text": [
      "Epoch 1/50\n",
      "84/84 [==============================] - 9s 95ms/step - loss: 7.2960 - accuracy: 0.7364 - recall_16: 0.9871 - val_loss: 2.4240 - val_accuracy: 0.7430 - val_recall_16: 1.0000\n",
      "Epoch 2/50\n",
      "84/84 [==============================] - 9s 104ms/step - loss: 1.5390 - accuracy: 0.7429 - recall_16: 1.0000 - val_loss: 0.9629 - val_accuracy: 0.7430 - val_recall_16: 1.0000\n",
      "Epoch 3/50\n",
      "84/84 [==============================] - 9s 104ms/step - loss: 0.7272 - accuracy: 0.7510 - recall_16: 0.9577 - val_loss: 0.6128 - val_accuracy: 0.7517 - val_recall_16: 0.9923\n",
      "Epoch 4/50\n",
      "84/84 [==============================] - 8s 101ms/step - loss: 0.5335 - accuracy: 0.7649 - recall_16: 0.8932 - val_loss: 0.5717 - val_accuracy: 0.7478 - val_recall_16: 1.0000\n",
      "Epoch 5/50\n",
      "84/84 [==============================] - 8s 93ms/step - loss: 0.4503 - accuracy: 0.7867 - recall_16: 0.9119 - val_loss: 0.4236 - val_accuracy: 0.8265 - val_recall_16: 0.9135\n",
      "Epoch 6/50\n",
      "84/84 [==============================] - 9s 102ms/step - loss: 0.3837 - accuracy: 0.8483 - recall_16: 0.9155 - val_loss: 0.3653 - val_accuracy: 0.8591 - val_recall_16: 0.8723\n",
      "Epoch 7/50\n",
      "84/84 [==============================] - 8s 95ms/step - loss: 0.3281 - accuracy: 0.8756 - recall_16: 0.9306 - val_loss: 0.3366 - val_accuracy: 0.8744 - val_recall_16: 0.8852\n",
      "Epoch 8/50\n",
      "84/84 [==============================] - 7s 89ms/step - loss: 0.2976 - accuracy: 0.8950 - recall_16: 0.9358 - val_loss: 0.3385 - val_accuracy: 0.8629 - val_recall_16: 0.8413\n",
      "Epoch 9/50\n",
      "84/84 [==============================] - 8s 91ms/step - loss: 0.2814 - accuracy: 0.8996 - recall_16: 0.9381 - val_loss: 0.3210 - val_accuracy: 0.8706 - val_recall_16: 0.9639\n",
      "Epoch 10/50\n",
      "84/84 [==============================] - 8s 94ms/step - loss: 0.2765 - accuracy: 0.9046 - recall_16: 0.9423 - val_loss: 0.3408 - val_accuracy: 0.8619 - val_recall_16: 0.8284\n",
      "Epoch 11/50\n",
      "84/84 [==============================] - 8s 95ms/step - loss: 0.2582 - accuracy: 0.9145 - recall_16: 0.9439 - val_loss: 0.3658 - val_accuracy: 0.8485 - val_recall_16: 0.8026\n",
      "Epoch 12/50\n",
      "84/84 [==============================] - 8s 93ms/step - loss: 0.2469 - accuracy: 0.9164 - recall_16: 0.9423 - val_loss: 0.2496 - val_accuracy: 0.9118 - val_recall_16: 0.9161\n",
      "Epoch 13/50\n",
      "84/84 [==============================] - 8s 93ms/step - loss: 0.2338 - accuracy: 0.9250 - recall_16: 0.9526 - val_loss: 0.4202 - val_accuracy: 0.8284 - val_recall_16: 0.7729\n",
      "Epoch 14/50\n",
      "84/84 [==============================] - 8s 95ms/step - loss: 0.2306 - accuracy: 0.9221 - recall_16: 0.9477 - val_loss: 0.3349 - val_accuracy: 0.8591 - val_recall_16: 0.8155\n",
      "Epoch 15/50\n",
      "84/84 [==============================] - 8s 94ms/step - loss: 0.2456 - accuracy: 0.9192 - recall_16: 0.9500 - val_loss: 0.3014 - val_accuracy: 0.8734 - val_recall_16: 0.8465\n",
      "Epoch 16/50\n",
      "84/84 [==============================] - 8s 91ms/step - loss: 0.2145 - accuracy: 0.9319 - recall_16: 0.9542 - val_loss: 0.3967 - val_accuracy: 0.8408 - val_recall_16: 0.7884\n",
      "Epoch 17/50\n",
      "84/84 [==============================] - 8s 92ms/step - loss: 0.2168 - accuracy: 0.9327 - recall_16: 0.9539 - val_loss: 0.2280 - val_accuracy: 0.9195 - val_recall_16: 0.9329\n",
      "Epoch 18/50\n",
      "84/84 [==============================] - 8s 93ms/step - loss: 0.2061 - accuracy: 0.9389 - recall_16: 0.9581 - val_loss: 0.2229 - val_accuracy: 0.9214 - val_recall_16: 0.9484\n",
      "Epoch 19/50\n",
      "84/84 [==============================] - 8s 93ms/step - loss: 0.2143 - accuracy: 0.9324 - recall_16: 0.9519 - val_loss: 0.2867 - val_accuracy: 0.9022 - val_recall_16: 0.9639\n",
      "Epoch 20/50\n",
      "84/84 [==============================] - 8s 92ms/step - loss: 0.2088 - accuracy: 0.9372 - recall_16: 0.9568 - val_loss: 0.2451 - val_accuracy: 0.9166 - val_recall_16: 0.9523\n",
      "Epoch 21/50\n",
      "84/84 [==============================] - 8s 92ms/step - loss: 0.1912 - accuracy: 0.9454 - recall_16: 0.9594 - val_loss: 0.2194 - val_accuracy: 0.9233 - val_recall_16: 0.9355\n",
      "Epoch 22/50\n",
      "84/84 [==============================] - 8s 92ms/step - loss: 0.1964 - accuracy: 0.9375 - recall_16: 0.9571 - val_loss: 0.3070 - val_accuracy: 0.8888 - val_recall_16: 0.8568\n",
      "Epoch 23/50\n",
      "84/84 [==============================] - 8s 92ms/step - loss: 0.2065 - accuracy: 0.9363 - recall_16: 0.9565 - val_loss: 0.3761 - val_accuracy: 0.8955 - val_recall_16: 0.9897\n",
      "Epoch 24/50\n",
      "84/84 [==============================] - 8s 91ms/step - loss: 0.1945 - accuracy: 0.9456 - recall_16: 0.9594 - val_loss: 0.2779 - val_accuracy: 0.9041 - val_recall_16: 0.9871\n",
      "Epoch 25/50\n",
      "84/84 [==============================] - 8s 92ms/step - loss: 0.1860 - accuracy: 0.9451 - recall_16: 0.9613 - val_loss: 0.2177 - val_accuracy: 0.9243 - val_recall_16: 0.9394\n",
      "Epoch 26/50\n",
      "84/84 [==============================] - 8s 92ms/step - loss: 0.1648 - accuracy: 0.9535 - recall_16: 0.9697 - val_loss: 0.2401 - val_accuracy: 0.9195 - val_recall_16: 0.9097\n",
      "Epoch 27/50\n",
      "84/84 [==============================] - 8s 94ms/step - loss: 0.1740 - accuracy: 0.9487 - recall_16: 0.9661 - val_loss: 0.2412 - val_accuracy: 0.9156 - val_recall_16: 0.9097\n",
      "Epoch 28/50\n",
      "84/84 [==============================] - 8s 93ms/step - loss: 0.1646 - accuracy: 0.9552 - recall_16: 0.9694 - val_loss: 0.2059 - val_accuracy: 0.9300 - val_recall_16: 0.9458\n",
      "Epoch 29/50\n",
      "84/84 [==============================] - 8s 92ms/step - loss: 0.1643 - accuracy: 0.9557 - recall_16: 0.9706 - val_loss: 0.2103 - val_accuracy: 0.9348 - val_recall_16: 0.9394\n",
      "Epoch 30/50\n",
      "84/84 [==============================] - 8s 91ms/step - loss: 0.1750 - accuracy: 0.9511 - recall_16: 0.9665 - val_loss: 0.2451 - val_accuracy: 0.9185 - val_recall_16: 0.9213\n",
      "Epoch 31/50\n",
      "84/84 [==============================] - 8s 91ms/step - loss: 0.1520 - accuracy: 0.9631 - recall_16: 0.9742 - val_loss: 0.1981 - val_accuracy: 0.9377 - val_recall_16: 0.9355\n",
      "Epoch 32/50\n",
      "84/84 [==============================] - 8s 92ms/step - loss: 0.1605 - accuracy: 0.9547 - recall_16: 0.9668 - val_loss: 0.2276 - val_accuracy: 0.9223 - val_recall_16: 0.9239\n",
      "Epoch 33/50\n",
      "84/84 [==============================] - 8s 91ms/step - loss: 0.1701 - accuracy: 0.9559 - recall_16: 0.9703 - val_loss: 0.2126 - val_accuracy: 0.9338 - val_recall_16: 0.9535\n",
      "Epoch 34/50\n",
      "84/84 [==============================] - 8s 93ms/step - loss: 0.1573 - accuracy: 0.9573 - recall_16: 0.9713 - val_loss: 0.2349 - val_accuracy: 0.9175 - val_recall_16: 0.9652\n",
      "Epoch 35/50\n",
      "84/84 [==============================] - 8s 93ms/step - loss: 0.1429 - accuracy: 0.9667 - recall_16: 0.9758 - val_loss: 0.2012 - val_accuracy: 0.9348 - val_recall_16: 0.9677\n",
      "Epoch 36/50\n",
      "84/84 [==============================] - 8s 94ms/step - loss: 0.1369 - accuracy: 0.9669 - recall_16: 0.9777 - val_loss: 0.2076 - val_accuracy: 0.9310 - val_recall_16: 0.9355\n",
      "Epoch 37/50\n",
      "84/84 [==============================] - 8s 92ms/step - loss: 0.1437 - accuracy: 0.9648 - recall_16: 0.9748 - val_loss: 0.2232 - val_accuracy: 0.9338 - val_recall_16: 0.9419\n",
      "Epoch 38/50\n",
      "84/84 [==============================] - 8s 93ms/step - loss: 0.1525 - accuracy: 0.9585 - recall_16: 0.9713 - val_loss: 0.2356 - val_accuracy: 0.9252 - val_recall_16: 0.9226\n",
      "Epoch 39/50\n",
      "84/84 [==============================] - 8s 92ms/step - loss: 0.1311 - accuracy: 0.9684 - recall_16: 0.9761 - val_loss: 0.1970 - val_accuracy: 0.9348 - val_recall_16: 0.9329\n",
      "Epoch 40/50\n",
      "84/84 [==============================] - 8s 93ms/step - loss: 0.1274 - accuracy: 0.9705 - recall_16: 0.9781 - val_loss: 0.2019 - val_accuracy: 0.9396 - val_recall_16: 0.9432\n",
      "Epoch 41/50\n",
      "84/84 [==============================] - 8s 93ms/step - loss: 0.1334 - accuracy: 0.9669 - recall_16: 0.9771 - val_loss: 0.2139 - val_accuracy: 0.9396 - val_recall_16: 0.9639\n",
      "Epoch 42/50\n",
      "84/84 [==============================] - 8s 94ms/step - loss: 0.1280 - accuracy: 0.9710 - recall_16: 0.9794 - val_loss: 0.2352 - val_accuracy: 0.9281 - val_recall_16: 0.9226\n",
      "Epoch 43/50\n",
      "84/84 [==============================] - 8s 93ms/step - loss: 0.1262 - accuracy: 0.9698 - recall_16: 0.9790 - val_loss: 0.1915 - val_accuracy: 0.9434 - val_recall_16: 0.9548\n",
      "Epoch 44/50\n",
      "84/84 [==============================] - 8s 94ms/step - loss: 0.1143 - accuracy: 0.9777 - recall_16: 0.9845 - val_loss: 0.2278 - val_accuracy: 0.9329 - val_recall_16: 0.9213\n",
      "Epoch 45/50\n",
      "84/84 [==============================] - 8s 94ms/step - loss: 0.1136 - accuracy: 0.9775 - recall_16: 0.9842 - val_loss: 0.2376 - val_accuracy: 0.9319 - val_recall_16: 0.9677\n",
      "Epoch 46/50\n",
      "84/84 [==============================] - 8s 93ms/step - loss: 0.1099 - accuracy: 0.9772 - recall_16: 0.9839 - val_loss: 0.2171 - val_accuracy: 0.9300 - val_recall_16: 0.9290\n",
      "Epoch 47/50\n",
      "84/84 [==============================] - 8s 93ms/step - loss: 0.1155 - accuracy: 0.9744 - recall_16: 0.9806 - val_loss: 0.2992 - val_accuracy: 0.9166 - val_recall_16: 0.9845\n",
      "Epoch 48/50\n",
      "84/84 [==============================] - 8s 94ms/step - loss: 0.1167 - accuracy: 0.9751 - recall_16: 0.9829 - val_loss: 0.2067 - val_accuracy: 0.9377 - val_recall_16: 0.9626\n",
      "Epoch 49/50\n",
      "84/84 [==============================] - 8s 92ms/step - loss: 0.1123 - accuracy: 0.9801 - recall_16: 0.9835 - val_loss: 0.2195 - val_accuracy: 0.9367 - val_recall_16: 0.9394\n",
      "Epoch 50/50\n",
      "84/84 [==============================] - 8s 93ms/step - loss: 0.0974 - accuracy: 0.9815 - recall_16: 0.9861 - val_loss: 0.2381 - val_accuracy: 0.9300 - val_recall_16: 0.9226\n"
     ]
    },
    {
     "data": {
      "text/plain": [
       "<tensorflow.python.keras.callbacks.History at 0x2246650fa60>"
      ]
     },
     "execution_count": 98,
     "metadata": {},
     "output_type": "execute_result"
    }
   ],
   "source": [
    "eigth_cnn.fit(train_images, train_labels, epochs=50, batch_size=50, validation_data=(val_images, val_labels))"
   ]
  },
  {
   "cell_type": "code",
   "execution_count": null,
   "id": "03bc44da",
   "metadata": {},
   "outputs": [],
   "source": []
  }
 ],
 "metadata": {
  "kernelspec": {
   "display_name": "Python (tensor_lecture)",
   "language": "python",
   "name": "tensor_lecture"
  },
  "language_info": {
   "codemirror_mode": {
    "name": "ipython",
    "version": 3
   },
   "file_extension": ".py",
   "mimetype": "text/x-python",
   "name": "python",
   "nbconvert_exporter": "python",
   "pygments_lexer": "ipython3",
   "version": "3.9.12"
  }
 },
 "nbformat": 4,
 "nbformat_minor": 5
}
